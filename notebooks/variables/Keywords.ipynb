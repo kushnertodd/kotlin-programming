{
 "cells": [
  {
   "cell_type": "markdown",
   "id": "9b10ade6",
   "metadata": {},
   "source": [
    "# Keywords\n",
    "Kotlin statements use a number of special names that cannot be used for variable names.\n",
    "```\n",
    "as          break       class     continue    do\n",
    "else        false       for       fun         if\n",
    "interface   is          null      object      package\n",
    "return      super       this      throw       true\n",
    "try         typealias   typeof    val         var\n",
    "when        while\n",
    "\n",
    "```\n",
    "\n",
    "Kotlin statements also have a number of special names that can be used as variables in some contexts. \n",
    "For clarity they are likely best not used as variable names.\n",
    "```\n",
    "abstract    actual      annotation    by            catch\n",
    "companion   const       constructor   crossinline   data\n",
    "delegate    dynamic     enum          expect        external\n",
    "field       file        final         finally       get\n",
    "import      infix       init          inline        inner\n",
    "internal    it          lateinit      noinline      open\n",
    "operator    out         override      param         private\n",
    "property    protected   public        receiver      reified\n",
    "sealed      set         setparam      suspend       tailrec\n",
    "value       vararg      where\n",
    "```\n",
    "\n",
    "\n",
    "\n"
   ]
  }
 ],
 "metadata": {
  "kernelspec": {
   "display_name": "Kotlin",
   "language": "kotlin",
   "name": "kotlin"
  },
  "language_info": {
   "codemirror_mode": "text/x-kotlin",
   "file_extension": ".kt",
   "mimetype": "text/x-kotlin",
   "name": "kotlin",
   "nbconvert_exporter": "",
   "pygments_lexer": "kotlin",
   "version": "1.8.20"
  }
 },
 "nbformat": 4,
 "nbformat_minor": 5
}
