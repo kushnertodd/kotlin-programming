{
 "cells": [
  {
   "cell_type": "markdown",
   "id": "10643dc1",
   "metadata": {},
   "source": [
    "# Variables and types\n",
    "\n",
    "[`val` variables](#val-variables)  \n",
    "[`val` variables](#var-variables)  \n",
    "[`null` value](#null-value)  \n",
    "\n",
    "*Variables* are symbols for values in a program.\n",
    "Initially variables have no value. \n",
    "\n",
    "\n",
    "\n",
    "\n"
   ]
  },
  {
   "cell_type": "markdown",
   "id": "7b1d68e5",
   "metadata": {},
   "source": [
    "<a id=\"val-variables\"></a>\n",
    "## `val` variables\n",
    "`val` variables, like variables in [mathematics](../mathematical-basics/Algebra.ipynb/#Variables), are symbols for one unchanging, or *immutable*, value. "
   ]
  },
  {
   "cell_type": "markdown",
   "id": "d5f7c60c",
   "metadata": {},
   "source": [
    "<a id=\"var-variables\"></a>\n",
    "## `var` variables\n",
    "Unlike `val` variables, `var` variables can change value as a program runs, i.e., are *mutable*."
   ]
  },
  {
   "cell_type": "markdown",
   "id": "f38ee762",
   "metadata": {},
   "source": [
    "<a id=\"variable-types\"></a>\n",
    "## Variable types\n",
    "Unlike `val` variables, `var` variables can change value as a program runs, i.e., are *mutable*"
   ]
  },
  {
   "cell_type": "markdown",
   "id": "a68d2439",
   "metadata": {},
   "source": [
    "### Int\n",
    "### Float and Double\n",
    "### Boolean\n",
    "### String"
   ]
  },
  {
   "cell_type": "markdown",
   "id": "0b91ed36",
   "metadata": {},
   "source": [
    "### Type inference"
   ]
  },
  {
   "cell_type": "markdown",
   "id": "61fa3d88",
   "metadata": {},
   "source": [
    "<a id=\"variable-names\"></a>\n",
    "## Variable names\n",
    "Unlike `val` variables, `var` variables can change value as a program runs, i.e., are *mutable*\n",
    "### Keywords"
   ]
  },
  {
   "cell_type": "markdown",
   "id": "5bbce766",
   "metadata": {},
   "source": [
    "<a id=\"namespaces\"></a>\n",
    "## Namespaces\n",
    "Unlike `val` variables, `var` variables can change value as a program runs, i.e., are *mutable*"
   ]
  },
  {
   "cell_type": "markdown",
   "id": "9717d7b4",
   "metadata": {},
   "source": [
    "### Packages"
   ]
  },
  {
   "cell_type": "markdown",
   "id": "c75a9393",
   "metadata": {},
   "source": [
    "### Blocks"
   ]
  }
 ],
 "metadata": {
  "kernelspec": {
   "display_name": "Kotlin",
   "language": "kotlin",
   "name": "kotlin"
  },
  "language_info": {
   "codemirror_mode": "text/x-kotlin",
   "file_extension": ".kt",
   "mimetype": "text/x-kotlin",
   "name": "kotlin",
   "nbconvert_exporter": "",
   "pygments_lexer": "kotlin",
   "version": "1.8.20"
  }
 },
 "nbformat": 4,
 "nbformat_minor": 5
}
