{
 "cells": [
  {
   "cell_type": "markdown",
   "id": "10643dc1",
   "metadata": {},
   "source": [
    "# Variables and types\n",
    "\n",
    "[`val` variables](#val-variables)  \n",
    "[`val` variables](#var-variables)  \n",
    "[`null` value](#null-value)  \n",
    "\n",
    "*Variables* are symbols for values in a program.\n",
    "Initially variables have no value. \n",
    "\n",
    "<a id=\"val-variables\"></a>\n",
    "## `val` variables\n",
    "`val` variables, like variables in [mathematics](../mathematical-basics/Algebra.ipynb/#Variables), are symbols for one unchanging, or *immutable*, value. \n",
    "\n",
    "<a id=\"var-variables\"></a>\n",
    "## `var` variables\n",
    "Unlike `val` variables, `var` variables can change value as a program runs, i.e., are *mutable*.\n",
    "\n",
    "<a id=\"null-value\"></a>\n",
    "## `null` value\n",
    "The `null` value is used when the value for a variable is unknown.\n",
    "There are problems when those variables are used in expressions, \n",
    "but Kotlin "
   ]
  },
  {
   "cell_type": "code",
   "execution_count": null,
   "id": "1f54fc80",
   "metadata": {},
   "outputs": [],
   "source": []
  }
 ],
 "metadata": {
  "kernelspec": {
   "display_name": "Kotlin",
   "language": "kotlin",
   "name": "kotlin"
  },
  "language_info": {
   "codemirror_mode": "text/x-kotlin",
   "file_extension": ".kt",
   "mimetype": "text/x-kotlin",
   "name": "kotlin",
   "nbconvert_exporter": "",
   "pygments_lexer": "kotlin",
   "version": "1.8.20"
  }
 },
 "nbformat": 4,
 "nbformat_minor": 5
}
