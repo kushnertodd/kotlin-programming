{
 "cells": [
  {
   "cell_type": "markdown",
   "id": "10643dc1",
   "metadata": {},
   "source": [
    "# Variables and types\n",
    "\n",
    "[`val` variables](#val-variables)  \n",
    "[`var` variables](#var-variables)  \n",
    "[Variable types](#variable-types)  \n",
    "[Type inference](#type-inference)  \n",
    "[Variable names](#variable-names)  \n",
    "[Namespaces](#namespaces)  \n",
    "\n",
    "*Variables* are symbols for values in a program."
   ]
  },
  {
   "cell_type": "markdown",
   "id": "7b1d68e5",
   "metadata": {},
   "source": [
    "<a id=\"val-variables\"></a>\n",
    "## `val` variables\n",
    "`val` variables, like variables in [mathematics](../mathematical-basics/Algebra.ipynb/#Variables), are symbols for one unchanging, or *immutable*, value. "
   ]
  },
  {
   "cell_type": "code",
   "execution_count": 14,
   "id": "ecf972fa",
   "metadata": {
    "collapsed": true
   },
   "outputs": [
    {
     "name": "stdout",
     "output_type": "stream",
     "text": [
      "x 1, y string\r\n"
     ]
    }
   ],
   "source": [
    "val x : Int = 1\n",
    "val y : String = \"string\"\n",
    "println(\"x $x y $y\")"
   ]
  },
  {
   "cell_type": "markdown",
   "id": "097f1580",
   "metadata": {},
   "source": [
    "A `val` variable must be given a value before it can be used. \n",
    "This gives an error."
   ]
  },
  {
   "cell_type": "code",
   "execution_count": 12,
   "id": "4040a7df",
   "metadata": {
    "collapsed": true
   },
   "outputs": [
    {
     "name": "stderr",
     "output_type": "stream",
     "text": [
      "Line_299.jupyter.kts (1:1 - 6) Property must be initialized or be abstract"
     ]
    }
   ],
   "source": [
    "val x : Int"
   ]
  },
  {
   "cell_type": "markdown",
   "id": "e78089aa",
   "metadata": {},
   "source": [
    "A `val` variable cannot be changed.\n",
    "This gives and error."
   ]
  },
  {
   "cell_type": "code",
   "execution_count": 8,
   "id": "867229c2",
   "metadata": {
    "collapsed": true
   },
   "outputs": [
    {
     "name": "stderr",
     "output_type": "stream",
     "text": [
      "Line_250.jupyter.kts (2:1 - 2) Val cannot be reassigned"
     ]
    }
   ],
   "source": [
    "val x = 1\n",
    "x = 2"
   ]
  },
  {
   "cell_type": "markdown",
   "id": "d5f7c60c",
   "metadata": {},
   "source": [
    "<a id=\"var-variables\"></a>\n",
    "## `var` variables\n",
    "Unlike `val` variables, `var` variables can change value as a program runs, i.e., are *mutable*."
   ]
  },
  {
   "cell_type": "code",
   "execution_count": 17,
   "id": "9f497209",
   "metadata": {
    "collapsed": true
   },
   "outputs": [
    {
     "name": "stdout",
     "output_type": "stream",
     "text": [
      "x 1, y string\r\n",
      "x 3, y new string\r\n"
     ]
    }
   ],
   "source": [
    "var x : Int = 1\n",
    "var y : String = \"string\"\n",
    "println(\"x $x y $y\")\n",
    "x = 3\n",
    "y = \"new string\"\n",
    "println(\"x $x y $y\")"
   ]
  },
  {
   "cell_type": "markdown",
   "id": "dbcacbe0",
   "metadata": {},
   "source": [
    "Like `val` variables, `var` variables must be given a value before it can be used. \n",
    "This gives an error."
   ]
  },
  {
   "cell_type": "code",
   "execution_count": 16,
   "id": "64b11eb8",
   "metadata": {
    "collapsed": true
   },
   "outputs": [
    {
     "name": "stderr",
     "output_type": "stream",
     "text": [
      "Line_392.jupyter.kts (1:1 - 12) Property must be initialized or be abstract"
     ]
    }
   ],
   "source": [
    "var x : Int"
   ]
  },
  {
   "cell_type": "markdown",
   "id": "f38ee762",
   "metadata": {},
   "source": [
    "<a id=\"variable-types\"></a>\n",
    "## Variable types\n",
    "Above, `val` variables and `var` variables were given a *type*, `Int` or `String`.\n",
    "All variables have some type."
   ]
  },
  {
   "cell_type": "markdown",
   "id": "9ad5d479",
   "metadata": {},
   "source": [
    "### Numbers\n",
    "[Number](../mathematical-basics) types include\n",
    "- `Int` is an integer type.\n",
    "- `Float` is a real type. `Float` values are indicated by adding 'F' after a number with a fraction.\n",
    "- `Double` is a real type. `Double` values have a fraction but nothing after the last digit."
   ]
  },
  {
   "cell_type": "code",
   "execution_count": 20,
   "id": "ac30321c",
   "metadata": {},
   "outputs": [
    {
     "name": "stdout",
     "output_type": "stream",
     "text": [
      "x 1, y 2.0, z 3.0\r\n"
     ]
    }
   ],
   "source": [
    "val x = 1\n",
    "val y = 2.0F\n",
    "val z = 3.0\n",
    "println(\"x $x y $y z $z\")"
   ]
  },
  {
   "cell_type": "markdown",
   "id": "49fe243d",
   "metadata": {},
   "source": [
    "### Boolean\n",
    "`Boolean` is a type that indicates whether something is true or false. \n",
    "It has only the values `true` and `false`."
   ]
  },
  {
   "cell_type": "code",
   "execution_count": null,
   "id": "a070f8d0",
   "metadata": {},
   "outputs": [],
   "source": [
    "val x = true\n",
    "val y = false\n",
    "println(\"x $x y $y z $z\")"
   ]
  },
  {
   "cell_type": "markdown",
   "id": "d46c0ead",
   "metadata": {},
   "source": [
    "### String\n",
    "`String` is a type that contains text."
   ]
  },
  {
   "cell_type": "code",
   "execution_count": null,
   "id": "e30b93b8",
   "metadata": {},
   "outputs": [],
   "source": [
    "val x = \"string\"\n",
    "println(\"x $x\")"
   ]
  },
  {
   "cell_type": "markdown",
   "id": "0b91ed36",
   "metadata": {},
   "source": [
    "<a id=\"type-inference\"></a>\n",
    "## Type inference"
   ]
  },
  {
   "cell_type": "markdown",
   "id": "61fa3d88",
   "metadata": {},
   "source": [
    "<a id=\"variable-names\"></a>\n",
    "## Variable names\n",
    "Unlike `val` variables, `var` variables can change value as a program runs, i.e., are *mutable*\n",
    "### Keywords"
   ]
  },
  {
   "cell_type": "markdown",
   "id": "5bbce766",
   "metadata": {},
   "source": [
    "<a id=\"namespaces\"></a>\n",
    "## Namespaces\n",
    "Unlike `val` variables, `var` variables can change value as a program runs, i.e., are *mutable*"
   ]
  },
  {
   "cell_type": "markdown",
   "id": "9717d7b4",
   "metadata": {},
   "source": [
    "### Packages"
   ]
  },
  {
   "cell_type": "markdown",
   "id": "c75a9393",
   "metadata": {},
   "source": [
    "### Blocks"
   ]
  }
 ],
 "metadata": {
  "kernelspec": {
   "display_name": "Kotlin",
   "language": "kotlin",
   "name": "kotlin"
  },
  "language_info": {
   "codemirror_mode": "text/x-kotlin",
   "file_extension": ".kt",
   "mimetype": "text/x-kotlin",
   "name": "kotlin",
   "nbconvert_exporter": "",
   "pygments_lexer": "kotlin",
   "version": "1.8.20"
  }
 },
 "nbformat": 4,
 "nbformat_minor": 5
}
