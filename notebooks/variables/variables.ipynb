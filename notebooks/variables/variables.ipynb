{
 "cells": [
  {
   "cell_type": "markdown",
   "id": "10643dc1",
   "metadata": {},
   "source": [
    "# Variables\n",
    "\n",
    "[`val` variables](#val-variables)  \n",
    "[`var` variables](#var-variables)  \n",
    "[Variable types](#variable-types)  \n",
    "[Type inference](#type-inference)  \n",
    "[Variable names](#variable-names)  \n",
    "[Namespaces](#namespaces)  \n"
   ]
  },
  {
   "cell_type": "markdown",
   "id": "27a331ac",
   "metadata": {},
   "source": [
    "*Variables* are locations where values are stored. \n",
    "The *compiler* is the program that is responsible for taking variable definitions and translating them to storage locations containing values. \n",
    "The compiler is also responsible for ensuring that variables of a given [*type*](#variable-types) are used appropriately in a place where that type is expected.\n",
    "The compiler also verifies that various rules regarding the text of the program are followed."
   ]
  },
  {
   "cell_type": "markdown",
   "id": "7b1d68e5",
   "metadata": {},
   "source": [
    "<a id=\"val-variables\"></a>\n",
    "## `val` variables\n",
    "`val` variables, like variables in [mathematics](../mathematical-basics/Algebra.ipynb/#Variables), are symbols for one unchanging, or *immutable*, value. \n",
    "When `val` introduces a variable into a program, we say it is *declared*.\n",
    "It may be given a value only once.\n",
    "We say it is *initialized* with a value."
   ]
  },
  {
   "cell_type": "code",
   "execution_count": 1,
   "id": "ecf972fa",
   "metadata": {
    "collapsed": true
   },
   "outputs": [
    {
     "name": "stdout",
     "output_type": "stream",
     "text": [
      "5\r\n",
      "text\r\n"
     ]
    }
   ],
   "source": [
    "val x : Int = 5\n",
    "val y : String = \"text\"\n",
    "println(x)\n",
    "println(y)"
   ]
  },
  {
   "cell_type": "markdown",
   "id": "51128993",
   "metadata": {},
   "source": [
    "A variable is a location where values are stored.\n",
    "Here the variable `x` stores the value 5.\n",
    "![image](variable1.jpg)"
   ]
  },
  {
   "cell_type": "markdown",
   "id": "097f1580",
   "metadata": {},
   "source": [
    "A `val` variable must be initialized before it can be used. \n",
    "This gives an error."
   ]
  },
  {
   "cell_type": "code",
   "execution_count": 2,
   "id": "4040a7df",
   "metadata": {
    "collapsed": true
   },
   "outputs": [
    {
     "name": "stderr",
     "output_type": "stream",
     "text": [
      "Line_1.jupyter.kts (1:1 - 12) Property must be initialized or be abstract\n",
      "Line_1.jupyter.kts (2:13 - 14) Variable 'x' must be initialized"
     ]
    }
   ],
   "source": [
    "// gives a \"Property must be initialized or be abstract\" error\n",
    "val x : Int\n",
    "println(x)"
   ]
  },
  {
   "cell_type": "markdown",
   "id": "e78089aa",
   "metadata": {},
   "source": [
    "Once assigned, a `val` variable cannot be changed.\n",
    "This gives an error."
   ]
  },
  {
   "cell_type": "code",
   "execution_count": 3,
   "id": "867229c2",
   "metadata": {
    "collapsed": true
   },
   "outputs": [
    {
     "name": "stderr",
     "output_type": "stream",
     "text": [
      "Line_36.jupyter.kts (2:1 - 2) Val cannot be reassigned"
     ]
    }
   ],
   "source": [
    "// gives a \"Val cannot be reassigned\" error\n",
    "val x : Int = 5\n",
    "x = 2"
   ]
  },
  {
   "cell_type": "markdown",
   "id": "d5f7c60c",
   "metadata": {},
   "source": [
    "<a id=\"var-variables\"></a>\n",
    "## `var` variables\n",
    "`var` also declares a variable in a program.\n",
    "Unlike `val` variables, `var` variables can change value as a program runs, i.e., are *mutable*.\n",
    "A `var` variable may be assigned many times."
   ]
  },
  {
   "cell_type": "code",
   "execution_count": 2,
   "id": "9f497209",
   "metadata": {
    "collapsed": true
   },
   "outputs": [
    {
     "name": "stdout",
     "output_type": "stream",
     "text": [
      "5\r\n",
      "7\r\n"
     ]
    }
   ],
   "source": [
    "var x : Int = 5\n",
    "println(x)\n",
    "x = 7\n",
    "println(x)"
   ]
  },
  {
   "cell_type": "markdown",
   "id": "1ead2244",
   "metadata": {},
   "source": [
    "This is the result of replacing the value of `x` with 7.\n",
    "![variable2.jpg](variable2.jpg)"
   ]
  },
  {
   "cell_type": "markdown",
   "id": "dbcacbe0",
   "metadata": {},
   "source": [
    "Like `val` variables, `var` variables must be given a value before it can be used. \n",
    "This gives an error."
   ]
  },
  {
   "cell_type": "code",
   "execution_count": 4,
   "id": "64b11eb8",
   "metadata": {
    "collapsed": true
   },
   "outputs": [
    {
     "name": "stderr",
     "output_type": "stream",
     "text": [
      "Line_91.jupyter.kts (1:1 - 12) Property must be initialized or be abstract"
     ]
    }
   ],
   "source": [
    "// gives a \"Property must be initialized or be abstract\" error\n",
    "var x : Int"
   ]
  },
  {
   "cell_type": "markdown",
   "id": "fe2e5204",
   "metadata": {},
   "source": [
    "The variable does not need to be initialized immediately, though.\n",
    "It just needs to be assigned before it is used."
   ]
  },
  {
   "cell_type": "code",
   "execution_count": 51,
   "id": "2fc6feba",
   "metadata": {
    "collapsed": true
   },
   "outputs": [
    {
     "name": "stdout",
     "output_type": "stream",
     "text": [
      "x 2\r\n"
     ]
    }
   ],
   "source": [
    "var x : Int\n",
    "x = 5\n",
    "println(x)"
   ]
  },
  {
   "cell_type": "markdown",
   "id": "f136757e",
   "metadata": {},
   "source": [
    "If a variable value need not change, prefer declaring it using `val`.\n",
    "It gives a measure of safety preventing the variable from being reassigned unexpectedly."
   ]
  },
  {
   "cell_type": "markdown",
   "id": "f38ee762",
   "metadata": {},
   "source": [
    "<a id=\"variable-types\"></a>\n",
    "## Variable types\n",
    "Above, `val` variables and `var` variables were given a [*data type*](../data/data.ipynb), `Int` or `String`.\n",
    "All variables have some type when they are declared.\n",
    "These are basic, or *primitive*, types.\n",
    "*Literals* are constant values of a given type.\n",
    "Type |Description |Literal examples\n",
    ":- |:-|:-\n",
    "Numbers |Integer or real values |integer `1`, real `2.0F`, `3.0`\n",
    "Boolean |Truth value |`true`, `false`\n",
    "String |Text |`\"hello\"`\n"
   ]
  },
  {
   "cell_type": "markdown",
   "id": "9ad5d479",
   "metadata": {},
   "source": [
    "### Numbers\n",
    "Number types include\n",
    "- `Int` is an integer type.\n",
    "- `Float` is a real type. `Float` values are indicated by adding `F` after a number with a fraction.\n",
    "- `Double` is a real type. `Double` values have a fraction but nothing after the last digit."
   ]
  },
  {
   "cell_type": "code",
   "execution_count": 5,
   "id": "ac30321c",
   "metadata": {
    "collapsed": true
   },
   "outputs": [
    {
     "name": "stdout",
     "output_type": "stream",
     "text": [
      "1\r\n",
      "2.0\r\n",
      "3.0\r\n"
     ]
    }
   ],
   "source": [
    "val x = 1\n",
    "val y = 2.0F\n",
    "val z = 3.0\n",
    "println(x)\n",
    "println(y)\n",
    "println(z)"
   ]
  },
  {
   "cell_type": "markdown",
   "id": "49fe243d",
   "metadata": {},
   "source": [
    "### Boolean\n",
    "`Boolean` is a type that indicates whether something is true or false. \n",
    "It has only the values `true` and `false`."
   ]
  },
  {
   "cell_type": "code",
   "execution_count": 22,
   "id": "a070f8d0",
   "metadata": {
    "collapsed": true
   },
   "outputs": [
    {
     "name": "stdout",
     "output_type": "stream",
     "text": [
      "x true y false\r\n"
     ]
    }
   ],
   "source": [
    "val x = true\n",
    "val y = false\n",
    "println(x)\n",
    "println(y)"
   ]
  },
  {
   "cell_type": "markdown",
   "id": "d46c0ead",
   "metadata": {},
   "source": [
    "### String\n",
    "`String` is a type that contains text."
   ]
  },
  {
   "cell_type": "code",
   "execution_count": 23,
   "id": "e30b93b8",
   "metadata": {
    "collapsed": true
   },
   "outputs": [
    {
     "name": "stdout",
     "output_type": "stream",
     "text": [
      "x string\r\n"
     ]
    }
   ],
   "source": [
    "val x = \"hello\"\n",
    "println(x)"
   ]
  },
  {
   "cell_type": "markdown",
   "id": "0b91ed36",
   "metadata": {},
   "source": [
    "<a id=\"type-inference\"></a>\n",
    "## Type inference\n",
    "When variables are declared, they may be given a type by adding `: type` after the name."
   ]
  },
  {
   "cell_type": "code",
   "execution_count": null,
   "id": "3da4f15c",
   "metadata": {},
   "outputs": [],
   "source": [
    "val x : Int = 1\n",
    "val y : String = \"text\"\n",
    "println(x)\n",
    "println(y)"
   ]
  },
  {
   "cell_type": "markdown",
   "id": "859bea0c",
   "metadata": {},
   "source": [
    "The type of the variable need not be specified, the type of the value is evident.\n",
    "The type can be *inferred* from the type of the value assigned."
   ]
  },
  {
   "cell_type": "code",
   "execution_count": 25,
   "id": "846425ac",
   "metadata": {
    "collapsed": true
   },
   "outputs": [
    {
     "name": "stdout",
     "output_type": "stream",
     "text": [
      "x 1 y 1\r\n"
     ]
    }
   ],
   "source": [
    "val x = 1\n",
    "val y = \"text\"\n",
    "println(x)\n",
    "println(y)"
   ]
  },
  {
   "cell_type": "markdown",
   "id": "d77911f8",
   "metadata": {},
   "source": [
    "A variable value can be the value of another variable.\n",
    "In that case, the type is the type of the variable assigned."
   ]
  },
  {
   "cell_type": "code",
   "execution_count": null,
   "id": "cef6dced",
   "metadata": {},
   "outputs": [],
   "source": [
    "val x : Int = 1\n",
    "var y = x\n",
    "println(x)\n",
    "println(y)"
   ]
  },
  {
   "cell_type": "markdown",
   "id": "2af73708",
   "metadata": {},
   "source": [
    "In the example above where a `var` variable was not immediately assigned, it was necesary to specify the type so it was possible to know what type to expect. \n",
    "This gives an error."
   ]
  },
  {
   "cell_type": "code",
   "execution_count": 6,
   "id": "40b78723",
   "metadata": {
    "collapsed": true
   },
   "outputs": [
    {
     "name": "stderr",
     "output_type": "stream",
     "text": [
      "Line_218.jupyter.kts (2:5 - 15) Type mismatch: inferred type is String but Int was expected"
     ]
    }
   ],
   "source": [
    "// gives a \"Type mismatch: inferred type is String but Int was expected\" error\n",
    "var x : Int\n",
    "x = \"text\"\n",
    "println(x)"
   ]
  },
  {
   "cell_type": "markdown",
   "id": "61fa3d88",
   "metadata": {},
   "source": [
    "<a id=\"variable-names\"></a>\n",
    "## Variable names\n",
    "Variable names start with a lowercase letter, `a` to `z`, or an uppercase letter, `A` to `Z`, or `_`. They can have a `_`, letter, or number but no other punctuation inside. They can not have a number at the beginning. \n"
   ]
  },
  {
   "cell_type": "code",
   "execution_count": 7,
   "id": "55727ea0",
   "metadata": {
    "collapsed": true
   },
   "outputs": [
    {
     "name": "stdout",
     "output_type": "stream",
     "text": [
      "2\r\n",
      "3\r\n",
      "4\r\n"
     ]
    }
   ],
   "source": [
    "val x_ = 2\n",
    "val x_y = 3\n",
    "val _x = 4\n",
    "println(x_)\n",
    "println(x_y)\n",
    "println(_x)"
   ]
  },
  {
   "cell_type": "markdown",
   "id": "35cc7b16",
   "metadata": {},
   "source": [
    "Capitalization matters. Variable names are case sensitive."
   ]
  },
  {
   "cell_type": "code",
   "execution_count": 8,
   "id": "2947f572",
   "metadata": {
    "collapsed": true
   },
   "outputs": [
    {
     "name": "stdout",
     "output_type": "stream",
     "text": [
      "6\r\n",
      "5\r\n"
     ]
    }
   ],
   "source": [
    "val x_lower = 6\n",
    "val X_upper = 5\n",
    "println(x_lower)\n",
    "println(X_upper)"
   ]
  },
  {
   "cell_type": "markdown",
   "id": "0ea65f01",
   "metadata": {},
   "source": [
    "### Keywords\n",
    "\n",
    "There are a number of [*keywords*](./keywords.ipynb) that are used in statements.\n",
    "Some of these are cannot be used as variables names.\n",
    "Others are permitted as variable names but might best not used to avoid confusion."
   ]
  },
  {
   "cell_type": "code",
   "execution_count": 9,
   "id": "7061dc7f",
   "metadata": {
    "collapsed": true
   },
   "outputs": [
    {
     "name": "stderr",
     "output_type": "stream",
     "text": [
      "Line_344.jupyter.kts (1:5 - 7) Expecting property name or receiver type"
     ]
    }
   ],
   "source": [
    " // gives a \"Expecting property name or receiver type\" error (expected a valid variable name)\n",
    "val if = 3"
   ]
  },
  {
   "cell_type": "markdown",
   "id": "7c6ccaea",
   "metadata": {},
   "source": [
    "<a id=\"block\"></a>\n",
    "## Blocks\n",
    "*Blocks* include statements that access variables.\n",
    "A block has this format.\n",
    "\n",
    "```\n",
    "{\n",
    "    statement\n",
    "    statement\n",
    "    ...\n",
    "}\n",
    "```\n",
    "\n",
    "Blocks are used in a number situations.\n",
    "- [`if` statements](../logic-and-control/logic-and-control.ipynb#for-loop), \n",
    "- [`when` statements](../logic-and-control/logic-and-control.ipynb#for-loop), \n",
    "- [`for` loops](../logic-and-control/logic-and-control.ipynb#for-loop), \n",
    "- [`while` loops](../logic-and-control/logic-and-control.ipynb#while-loop), \n",
    "- [`do-while` loops](../logic-and-control/logic-and-control.ipynb#do-while)\n",
    "- [functions](../functions/functions.ipynb)\n",
    "- [interfaces](../data/data.ipynb#interfaces)\n",
    "- [classes](../data/data.ipynb#classes)."
   ]
  },
  {
   "cell_type": "markdown",
   "id": "40fa4c52",
   "metadata": {},
   "source": [
    "<a id=\"variable-scope\"></a>\n",
    "### Variable scope\n",
    "Blocks limit how variables are used.\n",
    "Variables declared within a block are said to be defined in the *scope* of the block.\n",
    "Variable names must be unique within a scope, so they are also called *identifiers*.\n",
    "Declaring two variables with the same name in the same scope causes an error."
   ]
  },
  {
   "cell_type": "code",
   "execution_count": 2,
   "id": "6822b7c9",
   "metadata": {
    "collapsed": true
   },
   "outputs": [
    {
     "name": "stderr",
     "output_type": "stream",
     "text": [
      "Line_48.jupyter.kts (3:9 - 10) Overload resolution ambiguity: \n",
      "public final val x: Int defined in Line_48_jupyter\n",
      "public final val x: String defined in Line_48_jupyter"
     ]
    }
   ],
   "source": [
    "// Gives an \"Operload resolution ambiguity\" (unclear which variable to use)\n",
    "val x : Int = 1\n",
    "val x : String = \"text\"\n",
    "println(x)"
   ]
  },
  {
   "cell_type": "markdown",
   "id": "159bffe2",
   "metadata": {},
   "source": [
    "Variables previously declared in outside blocks are available to use inside a block."
   ]
  },
  {
   "cell_type": "code",
   "execution_count": 14,
   "id": "07349839",
   "metadata": {
    "collapsed": true
   },
   "outputs": [
    {
     "name": "stdout",
     "output_type": "stream",
     "text": [
      "y outside the block is 5\r\n"
     ]
    }
   ],
   "source": [
    "val x = 1\n",
    "var y = 4\n",
    "if (x == 1)\n",
    "{\n",
    "    y = 5\n",
    "}\n",
    "println(y)"
   ]
  },
  {
   "cell_type": "markdown",
   "id": "ce7ebbb3",
   "metadata": {},
   "source": [
    "When a variable inside the block has the same name as an accessible variable declared in an outside block,\n",
    "it does not conflict.\n",
    "We say that the variable inside the block *shadows* the variable outside the block.\n",
    "In this example, the variable `x` inside the block prevents access to the variable `x` outside the block."
   ]
  },
  {
   "cell_type": "code",
   "execution_count": 10,
   "id": "adbfedc3",
   "metadata": {
    "collapsed": true
   },
   "outputs": [
    {
     "name": "stdout",
     "output_type": "stream",
     "text": [
      "2\r\n",
      "1\r\n"
     ]
    }
   ],
   "source": [
    "val x = 1\n",
    "if (x == 1)\n",
    "{\n",
    "    val x = 2\n",
    "    println(x)\n",
    "}\n",
    "println(x)"
   ]
  },
  {
   "cell_type": "markdown",
   "id": "a0ce811c",
   "metadata": {},
   "source": [
    "## Operator shortcuts\n",
    "Variable assignments include shortcuts for commonly performed functions.\n",
    "This form of an assignment statement commonly occurs.\n",
    "\n",
    "`x = x + value`\n",
    "\n",
    "This is a short form for that.\n",
    "\n",
    "`x += value`\n",
    "\n",
    "Each operator has a shortcut version.\n",
    "\n",
    "long form|shortcut\n",
    ":-|:-\n",
    "`x = x + value`|`x += value`\n",
    "`x = x - value`|`x -= value`\n",
    "`x = x * value`|`x *= value`\n",
    "`x = x / value`|`x /= value`\n",
    "`x = x % value`|`x %= value`"
   ]
  },
  {
   "cell_type": "code",
   "execution_count": 1,
   "id": "6b360bed",
   "metadata": {
    "collapsed": true
   },
   "outputs": [
    {
     "name": "stdout",
     "output_type": "stream",
     "text": [
      "5\r\n",
      "5\r\n"
     ]
    }
   ],
   "source": [
    "var x = 2\n",
    "x = x + 3\n",
    "println(x)\n",
    "var y = 2\n",
    "y += 3\n",
    "println(y)"
   ]
  }
 ],
 "metadata": {
  "kernelspec": {
   "display_name": "Kotlin",
   "language": "kotlin",
   "name": "kotlin"
  },
  "language_info": {
   "codemirror_mode": "text/x-kotlin",
   "file_extension": ".kt",
   "mimetype": "text/x-kotlin",
   "name": "kotlin",
   "nbconvert_exporter": "",
   "pygments_lexer": "kotlin",
   "version": "1.8.20"
  }
 },
 "nbformat": 4,
 "nbformat_minor": 5
}
