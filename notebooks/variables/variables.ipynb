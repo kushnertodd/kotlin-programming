{
 "cells": [
  {
   "cell_type": "markdown",
   "id": "10643dc1",
   "metadata": {},
   "source": [
    "# Variables\n",
    "\n",
    "[`val` variables](#val-variables)  \n",
    "[`var` variables](#var-variables)  \n",
    "[Variable types](#variable-types)  \n",
    "[Type inference](#type-inference)  \n",
    "[Variable names](#variable-names)  \n",
    "[Namespaces](#namespaces)  \n"
   ]
  },
  {
   "cell_type": "markdown",
   "id": "7b1d68e5",
   "metadata": {},
   "source": [
    "<a id=\"val-variables\"></a>\n",
    "## `val` variables\n",
    "`val` variables, like variables in [mathematics](../mathematical-basics/Algebra.ipynb/#Variables), are symbols for one unchanging, or *immutable*, value. \n",
    "When `val` introduces a variable into a program, we say it is *declared*.\n",
    "It may be given a value only once.\n",
    "We say it is *initialized* with a value."
   ]
  },
  {
   "cell_type": "code",
   "execution_count": 14,
   "id": "ecf972fa",
   "metadata": {
    "collapsed": true
   },
   "outputs": [
    {
     "name": "stdout",
     "output_type": "stream",
     "text": [
      "x 1, y string\r\n"
     ]
    }
   ],
   "source": [
    "val x : Int = 5\n",
    "val y : String = \"a string\"\n",
    "println(\"x $x y $y\")"
   ]
  },
  {
   "cell_type": "markdown",
   "id": "51128993",
   "metadata": {},
   "source": [
    "A variable is a location where values are stored.\n",
    "Here the variable `x` stores the value 5.\n",
    "![image](variable1.jpg)"
   ]
  },
  {
   "cell_type": "markdown",
   "id": "097f1580",
   "metadata": {},
   "source": [
    "A `val` variable must be initialized before it can be used. \n",
    "This gives an error."
   ]
  },
  {
   "cell_type": "code",
   "execution_count": 43,
   "id": "4040a7df",
   "metadata": {
    "collapsed": true
   },
   "outputs": [
    {
     "name": "stderr",
     "output_type": "stream",
     "text": [
      "Line_1169.jupyter.kts (1:1 - 12) Property must be initialized or be abstract\n",
      "Line_1169.jupyter.kts (2:13 - 14) Variable 'x' must be initialized"
     ]
    }
   ],
   "source": [
    "val x : Int\n",
    "println(\"x $x\")"
   ]
  },
  {
   "cell_type": "markdown",
   "id": "e78089aa",
   "metadata": {},
   "source": [
    "Once assigned, a `val` variable cannot be changed.\n",
    "This gives an error."
   ]
  },
  {
   "cell_type": "code",
   "execution_count": 44,
   "id": "867229c2",
   "metadata": {
    "collapsed": true
   },
   "outputs": [
    {
     "name": "stderr",
     "output_type": "stream",
     "text": [
      "Line_1170.jupyter.kts (2:1 - 2) Val cannot be reassigned"
     ]
    }
   ],
   "source": [
    "val x : Int = 5\n",
    "x = 2"
   ]
  },
  {
   "cell_type": "markdown",
   "id": "d5f7c60c",
   "metadata": {},
   "source": [
    "<a id=\"var-variables\"></a>\n",
    "## `var` variables\n",
    "`var` also declares a variable in a program.\n",
    "Unlike `val` variables, `var` variables can change value as a program runs, i.e., are *mutable*.\n",
    "A `var` variable may be assigned many times."
   ]
  },
  {
   "cell_type": "code",
   "execution_count": 45,
   "id": "9f497209",
   "metadata": {},
   "outputs": [
    {
     "name": "stdout",
     "output_type": "stream",
     "text": [
      "x 5\r\n",
      "x 7\r\n"
     ]
    }
   ],
   "source": [
    "var x : Int = 5\n",
    "println(\"x $x\")\n",
    "x = 7\n",
    "println(\"x $x\")"
   ]
  },
  {
   "cell_type": "markdown",
   "id": "1ead2244",
   "metadata": {},
   "source": [
    "This is the result of replacing the value of `x` with 7.\n",
    "![variable2.jpg](variable2.jpg)"
   ]
  },
  {
   "cell_type": "markdown",
   "id": "dbcacbe0",
   "metadata": {},
   "source": [
    "Like `val` variables, `var` variables must be given a value before it can be used. \n",
    "This gives an error."
   ]
  },
  {
   "cell_type": "code",
   "execution_count": 49,
   "id": "64b11eb8",
   "metadata": {
    "collapsed": true
   },
   "outputs": [
    {
     "name": "stderr",
     "output_type": "stream",
     "text": [
      "Line_1175.jupyter.kts (1:1 - 12) Property must be initialized or be abstract"
     ]
    }
   ],
   "source": [
    "var x : Int"
   ]
  },
  {
   "cell_type": "markdown",
   "id": "fe2e5204",
   "metadata": {},
   "source": [
    "The variable does not need to be initialized immediately, though.\n",
    "It just needs to be assigned before it is used."
   ]
  },
  {
   "cell_type": "code",
   "execution_count": 51,
   "id": "2fc6feba",
   "metadata": {
    "collapsed": true
   },
   "outputs": [
    {
     "name": "stdout",
     "output_type": "stream",
     "text": [
      "x 2\r\n"
     ]
    }
   ],
   "source": [
    "var x : Int\n",
    "x = 5\n",
    "println(\"x $x\")"
   ]
  },
  {
   "cell_type": "markdown",
   "id": "f136757e",
   "metadata": {},
   "source": [
    "If a variable value need not change, prefer declaring it using `val`.\n",
    "It gives a measure of safety preventing the variable from being reassigned unexpectedly."
   ]
  },
  {
   "cell_type": "markdown",
   "id": "f38ee762",
   "metadata": {},
   "source": [
    "<a id=\"variable-types\"></a>\n",
    "## Variable types\n",
    "Above, `val` variables and `var` variables were given a [*data type*](../data/Data-types.ipynb), `Int` or `String`.\n",
    "All variables have some type when they are declared.\n",
    "These are basic, or *primitive*, types.\n",
    "*Literals* are constant values of a given type.\n",
    "Type |Description |Literal examples\n",
    ":- |:-|:-\n",
    "Numbers |Integer or real values |integer `1`, real `2.0F`, `3.0`\n",
    "Boolean |Whether something is true |`true`, `false`\n",
    "String |Text |`\"hello\"`\n"
   ]
  },
  {
   "cell_type": "markdown",
   "id": "9ad5d479",
   "metadata": {},
   "source": [
    "### Numbers\n",
    "Number types include\n",
    "- `Int` is an integer type.\n",
    "- `Float` is a real type. `Float` values are indicated by adding `F` after a number with a fraction.\n",
    "- `Double` is a real type. `Double` values have a fraction but nothing after the last digit."
   ]
  },
  {
   "cell_type": "code",
   "execution_count": 20,
   "id": "ac30321c",
   "metadata": {
    "collapsed": true
   },
   "outputs": [
    {
     "name": "stdout",
     "output_type": "stream",
     "text": [
      "x 1, y 2.0, z 3.0\r\n"
     ]
    }
   ],
   "source": [
    "val x = 1\n",
    "val y = 2.0F\n",
    "val z = 3.0\n",
    "println(\"x $x y $y z $z\")"
   ]
  },
  {
   "cell_type": "markdown",
   "id": "49fe243d",
   "metadata": {},
   "source": [
    "### Boolean\n",
    "`Boolean` is a type that indicates whether something is true or false. \n",
    "It has only the values `true` and `false`."
   ]
  },
  {
   "cell_type": "code",
   "execution_count": 22,
   "id": "a070f8d0",
   "metadata": {
    "collapsed": true
   },
   "outputs": [
    {
     "name": "stdout",
     "output_type": "stream",
     "text": [
      "x true y false\r\n"
     ]
    }
   ],
   "source": [
    "val x = true\n",
    "val y = false\n",
    "println(\"x $x y $y\")"
   ]
  },
  {
   "cell_type": "markdown",
   "id": "d46c0ead",
   "metadata": {},
   "source": [
    "### String\n",
    "`String` is a type that contains text."
   ]
  },
  {
   "cell_type": "code",
   "execution_count": 23,
   "id": "e30b93b8",
   "metadata": {
    "collapsed": true
   },
   "outputs": [
    {
     "name": "stdout",
     "output_type": "stream",
     "text": [
      "x string\r\n"
     ]
    }
   ],
   "source": [
    "val x = \"hello\"\n",
    "println(\"x $x\")"
   ]
  },
  {
   "cell_type": "markdown",
   "id": "0b91ed36",
   "metadata": {},
   "source": [
    "<a id=\"type-inference\"></a>\n",
    "## Type inference\n",
    "When variables are declared, they may be given a type by adding `: type` after the name."
   ]
  },
  {
   "cell_type": "code",
   "execution_count": null,
   "id": "3da4f15c",
   "metadata": {},
   "outputs": [],
   "source": [
    "val x : Int = 1\n",
    "val y : String = \"a string\"\n",
    "println(\"x $x y $y\")"
   ]
  },
  {
   "cell_type": "markdown",
   "id": "859bea0c",
   "metadata": {},
   "source": [
    "The type of the variable need not be specified, the type of the value is evident.\n",
    "The type can be *inferred* from the type of the value assigned."
   ]
  },
  {
   "cell_type": "code",
   "execution_count": 25,
   "id": "846425ac",
   "metadata": {
    "collapsed": true
   },
   "outputs": [
    {
     "name": "stdout",
     "output_type": "stream",
     "text": [
      "x 1 y 1\r\n"
     ]
    }
   ],
   "source": [
    "val x = 1\n",
    "val y = \"a string\"\n",
    "println(\"x $x y $y\")"
   ]
  },
  {
   "cell_type": "markdown",
   "id": "d77911f8",
   "metadata": {},
   "source": [
    "A variable value can be the value of another variable.\n",
    "In that case, the type is the type of the variable assigned."
   ]
  },
  {
   "cell_type": "code",
   "execution_count": null,
   "id": "cef6dced",
   "metadata": {},
   "outputs": [],
   "source": [
    "val x : Int = 1\n",
    "var y = x\n",
    "println(\"x $x y $y\")"
   ]
  },
  {
   "cell_type": "markdown",
   "id": "2af73708",
   "metadata": {},
   "source": [
    "In the example above where a `var` variable was not immediately assigned, it was necesary to specify the type so it was possible to know what type to expect. \n",
    "This gives an error."
   ]
  },
  {
   "cell_type": "code",
   "execution_count": 52,
   "id": "40b78723",
   "metadata": {
    "collapsed": true
   },
   "outputs": [
    {
     "name": "stderr",
     "output_type": "stream",
     "text": [
      "Line_1178.jupyter.kts (2:5 - 6) The integer literal does not conform to the expected type String"
     ]
    }
   ],
   "source": [
    "var x : Int\n",
    "x = \"a string\"\n",
    "println(\"x $x\")"
   ]
  },
  {
   "cell_type": "markdown",
   "id": "61fa3d88",
   "metadata": {},
   "source": [
    "<a id=\"variable-names\"></a>\n",
    "## Variable names\n",
    "Variable names start with a lowercase letter, `a` to `z`, or an uppercase letter, `A` to `Z`, or `_`. They can have a `_`, letter, or number but no other punctuation inside. They can not have a number at the beginning. \n"
   ]
  },
  {
   "cell_type": "code",
   "execution_count": 2,
   "id": "55727ea0",
   "metadata": {
    "collapsed": true
   },
   "outputs": [
    {
     "name": "stdout",
     "output_type": "stream",
     "text": [
      "x 2 x_y 3 _x 2\r\n"
     ]
    }
   ],
   "source": [
    "val x = 2\n",
    "val x_y = 3\n",
    "val _x = 4\n",
    "println(\"x $x x_y $x_y _x $x\")"
   ]
  },
  {
   "cell_type": "markdown",
   "id": "35cc7b16",
   "metadata": {},
   "source": [
    "Capitalization matters, variable names are case sensitive."
   ]
  },
  {
   "cell_type": "code",
   "execution_count": 8,
   "id": "2947f572",
   "metadata": {
    "collapsed": true
   },
   "outputs": [
    {
     "name": "stdout",
     "output_type": "stream",
     "text": [
      "x_lower 6 X_upper 5\r\n"
     ]
    }
   ],
   "source": [
    "val x_lower = 6\n",
    "val X_upper = 5\n",
    "println(\"x_lower $x_lower X_upper $X_upper\")"
   ]
  },
  {
   "cell_type": "markdown",
   "id": "0ea65f01",
   "metadata": {},
   "source": [
    "### Keywords\n",
    "\n",
    "There are a number of [*keywords*](./Keywords.ipynb) that are used in statements.\n",
    "Some of these are cannot be used as variables names.\n",
    "Others are permitted as variable names but might best not be used to avoid confusion."
   ]
  },
  {
   "cell_type": "markdown",
   "id": "5bbce766",
   "metadata": {},
   "source": [
    "<a id=\"namespaces\"></a>\n",
    "## Namespaces\n",
    "Declaring two variables with the same name causes an error."
   ]
  },
  {
   "cell_type": "code",
   "execution_count": 28,
   "id": "239c8c3f",
   "metadata": {
    "collapsed": true
   },
   "outputs": [
    {
     "name": "stderr",
     "output_type": "stream",
     "text": [
      "Line_834.jupyter.kts (3:13 - 14) Overload resolution ambiguity: \n",
      "public final val x: Int defined in Line_834_jupyter\n",
      "public final val x: String defined in Line_834_jupyter"
     ]
    }
   ],
   "source": [
    "val x : Int = 1\n",
    "val x : String = \"a string\"\n",
    "println(\"x $x\")"
   ]
  },
  {
   "cell_type": "markdown",
   "id": "1d8b9ce9",
   "metadata": {},
   "source": [
    "*namespaces* allow the same name to be used in different parts of a program without conflict.\n",
    "\n",
    "this allows the same name to be used for different purposes elsewhere in the program\n",
    "and allows programmer working in different parts of the program to not worry about names causing conflict with each other.\n",
    "\n",
    "Variable names within a namespace must be unique, so they are also called *identifiers*.\n",
    "\n",
    "Names are also used for [*functions*](../functions/functions.ipynb) and [*classes*](../data-organization/data-organization.ipynb#classes).\n",
    "Sometimes names are intentionally reused, as in [function overloading](../functions/functions.ipynb#function-overloading).\n",
    "Otherwise, functions or classes with the same name will conflict.\n",
    "Variables, functions, and classes can use each other's names without conflict, though for clarity it may be best not to do so.\n",
    "\n",
    "Two namespaces in Kotlin are *blocks* and *packages*."
   ]
  },
  {
   "cell_type": "markdown",
   "id": "40fa4c52",
   "metadata": {},
   "source": [
    "### Blocks\n",
    "[Blocks](../functions/functions.ipynb#block) contain a sequence of statements between curly braces.\n",
    "[instruction control](../logic-and-control/logic-and-control.ipynb) statements, \n",
    "[functions](../functions/functions.ipynb), and [classes](../data-organization/data-organization.ipynb#classes) are all defined with blocks.\n",
    "Each of these are separate namespaces for names.\n",
    "Variables declared within a block are said to be defined in the *scope* of the block."
   ]
  },
  {
   "cell_type": "code",
   "execution_count": 15,
   "id": "adbfedc3",
   "metadata": {
    "collapsed": true
   },
   "outputs": [
    {
     "name": "stdout",
     "output_type": "stream",
     "text": [
      "x in the block is 2\r\n",
      "x outside the block is 1\r\n"
     ]
    }
   ],
   "source": [
    "val x = 1\n",
    "if (x == 1)\n",
    "{\n",
    "    val x = 2\n",
    "    println(\"x in the block is $x\")\n",
    "}\n",
    "println(\"x outside the block is $x\")"
   ]
  },
  {
   "cell_type": "markdown",
   "id": "9966a3f6",
   "metadata": {},
   "source": [
    "The variable `x` inside the block prevents access to the variable `x` outside the block.\n",
    "We say that the variable `x` inside the block *shadows* the variable `x` outside the block."
   ]
  },
  {
   "cell_type": "markdown",
   "id": "4cc00798",
   "metadata": {},
   "source": [
    "A variable declared outside the block that is not shadowed is still accessable inside the block."
   ]
  },
  {
   "cell_type": "code",
   "execution_count": 14,
   "id": "aeac3d7b",
   "metadata": {
    "collapsed": true
   },
   "outputs": [
    {
     "name": "stdout",
     "output_type": "stream",
     "text": [
      "y outside the block is 5\r\n"
     ]
    }
   ],
   "source": [
    "val x = 1\n",
    "var y = 4\n",
    "if (x == 1)\n",
    "{\n",
    "    y = 5\n",
    "}\n",
    "println(\"y outside the block is $y\")"
   ]
  },
  {
   "cell_type": "markdown",
   "id": "9717d7b4",
   "metadata": {},
   "source": [
    "### Packages\n",
    "Packages are a way to put all names in a file in one namespace, so that the same name can be used in different parts of the program without conflict.\n",
    "Packages are discussed in detail under [Program Organization](../program-organization/program-organization.ipynb#packages)."
   ]
  }
 ],
 "metadata": {
  "kernelspec": {
   "display_name": "Kotlin",
   "language": "kotlin",
   "name": "kotlin"
  },
  "language_info": {
   "codemirror_mode": "text/x-kotlin",
   "file_extension": ".kt",
   "mimetype": "text/x-kotlin",
   "name": "kotlin",
   "nbconvert_exporter": "",
   "pygments_lexer": "kotlin",
   "version": "1.8.20"
  }
 },
 "nbformat": 4,
 "nbformat_minor": 5
}
