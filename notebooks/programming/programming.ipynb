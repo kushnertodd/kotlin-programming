{
 "cells": [
  {
   "cell_type": "markdown",
   "id": "ba97eb3c",
   "metadata": {},
   "source": [
    "# Introduction to programming\n",
    "Computers use abstract measures and symbols from the physical world, or *data*, to solve problems.\n",
    "Data is stored mathematically, and understanding mathematics is critical to programming. \n",
    "Programs use instructions, or [algorithms](../algorithms/introduction-to-algorithms.ipynb), to incrementally transform data into problem solutions."
   ]
  },
  {
   "cell_type": "markdown",
   "id": "e9b8bfd9",
   "metadata": {},
   "source": [
    "\n",
    "<a id=\"computers\"></a>\n",
    "# Computers\n",
    "\n",
    "Computers are suited to solve problems can be abstracted to be represented mathematically by data, such as measures, counts, facts, or labels, provided a method can be created to sove problems using that data.\n",
    "*Programs* encode methods to solve problems.\n",
    "\n",
    "Computers process data exceptionally faster and more accurately than people.\n",
    "\n",
    "Certain problems are especially appropriate to solve using computers.\n",
    "\n",
    "## Finance \n",
    "\n",
    "Financial problems are are based on money, which is a mathematical abstraction of wealth.\n",
    "\n",
    "- Trillions of dollars of financial transactions occur each year with hardly a shred of paper exchanged.\n",
    "Much of the world's wealth exists only in computers.\n",
    "\n",
    "- Insurance largely involves statistical representations of risk.\n",
    "Accident data, lifespan measures based on health, and property loss are analyzed to estimate appropriate insurance costs.\n",
    "\n",
    "- Income and cost of living estimates are used to measure economic health.\n",
    "\n",
    "## Communications\n",
    "\n",
    "Phone, image, and Internet data are transferred constantly.\n",
    "Computers store and route information between destinations.\n",
    "Data communications has transformed life.\n"
   ]
  }
 ],
 "metadata": {
  "kernelspec": {
   "display_name": "Kotlin",
   "language": "kotlin",
   "name": "kotlin"
  },
  "language_info": {
   "codemirror_mode": "text/x-kotlin",
   "file_extension": ".kt",
   "mimetype": "text/x-kotlin",
   "name": "kotlin",
   "nbconvert_exporter": "",
   "pygments_lexer": "kotlin",
   "version": "1.8.20"
  }
 },
 "nbformat": 4,
 "nbformat_minor": 5
}
