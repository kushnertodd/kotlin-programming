{
 "cells": [
  {
   "cell_type": "markdown",
   "id": "ba97eb3c",
   "metadata": {},
   "source": [
    "# Introduction to programming\n",
    "Computers use abstract measures and symbols from the physical world, or [data](../data/introduction-to-data.ipynb), to solve problems.\n",
    "Data is stored mathematically, and understanding mathematics is critical to programming. \n",
    "Be prepared to learn or review [mathematical concepts](../mathematical-basics/mathematical-basics.ipynb) with which you are not completely comfortable.\n",
    "Programs use instructions, or [algorithms](../algorithms/introduction-to-algorithms.ipynb), to incrementally transform data in creating problem solutions."
   ]
  },
  {
   "cell_type": "code",
   "execution_count": null,
   "id": "e1416f65",
   "metadata": {},
   "outputs": [],
   "source": []
  }
 ],
 "metadata": {
  "kernelspec": {
   "display_name": "Kotlin",
   "language": "kotlin",
   "name": "kotlin"
  },
  "language_info": {
   "codemirror_mode": "text/x-kotlin",
   "file_extension": ".kt",
   "mimetype": "text/x-kotlin",
   "name": "kotlin",
   "nbconvert_exporter": "",
   "pygments_lexer": "kotlin",
   "version": "1.8.20"
  }
 },
 "nbformat": 4,
 "nbformat_minor": 5
}
