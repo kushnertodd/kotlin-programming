{
 "cells": [
  {
   "cell_type": "markdown",
   "id": "ba97eb3c",
   "metadata": {},
   "source": [
    "# Introduction to programming\n",
    "Computers use abstract measures and symbols from the physical world, or [data](../data/introduction-to-data.ipynb), to solve problems.\n",
    "Data is stored mathematically, and understanding mathematics is critical to programming. \n",
    "Be prepared to learn or review [mathematical concepts](../mathematical-basics/mathematical-basics.ipynb) with which you are not completely comfortable.\n",
    "Programs use instructions, or [algorithms](../algorithms/introduction-to-algorithms.ipynb), to incrementally transform data in creating problem solutions."
   ]
  },
  {
   "cell_type": "markdown",
   "id": "e9b8bfd9",
   "metadata": {},
   "source": [
    "## Computers\n",
    "Computers solve specific kinds of problems.\n",
    "They solve some problems in the real world,\n",
    "such as with manufacturing robots, self-driving cars, communicating with cell phones, smart appliances, and control of satellites.\n",
    "With other problems, computers come up with ways to solve problems but leave it to people to actually do the work.\n",
    "AI or the Internet, for example, produce information and send it in response to requests, but it is up to the reader to do anything with that information.\n",
    "In either case, computers use *symbols* to make decisions, such as numbers, facts, or measurements.\n",
    "Sometimes the symbols can be converted to electrical signals that can trigger a change in a machine but other times the symbols are just presented to someone to act on if they choose.\n",
    "\n",
    "Symbols are only created by humans, and mean nothing by themselves.\n",
    "Symbols have a meaning that must be agreed to by the person creating them and whoever sees them.\n",
    "Without such agreement, symbols mean nothing.\n",
    "Symbols simplified communication for people and allowed them to greatly advance by accomplishing tasks as groups.\n",
    "Signs, words, and signals are symbols.\n",
    "Numbers are also symbols: the number five means five things, without regard for the thing specified.\n",
    "\n",
    "Computers only use numbers internally, they can process any symbols that can be translated mathematically.\n",
    "They have specific mathematical operations to interpret the symbols and reason based on them.\n",
    "Programs, written by people, instruct computers to perform logic that implements these operations.\n",
    "Symbols processed by this logic are termed *data*.\n",
    "People may be able perform this logic to solve problems themselves.\n",
    "The advantage of computers, however, is that they can perform that logic at incredible speeds and accuracy beyond the capabilities of any person.\n",
    "\n"
   ]
  },
  {
   "cell_type": "code",
   "execution_count": null,
   "id": "1005597c",
   "metadata": {},
   "outputs": [],
   "source": []
  }
 ],
 "metadata": {
  "kernelspec": {
   "display_name": "Kotlin",
   "language": "kotlin",
   "name": "kotlin"
  },
  "language_info": {
   "codemirror_mode": "text/x-kotlin",
   "file_extension": ".kt",
   "mimetype": "text/x-kotlin",
   "name": "kotlin",
   "nbconvert_exporter": "",
   "pygments_lexer": "kotlin",
   "version": "1.8.20"
  }
 },
 "nbformat": 4,
 "nbformat_minor": 5
}
