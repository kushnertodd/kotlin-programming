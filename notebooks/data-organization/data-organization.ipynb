{
 "cells": [
  {
   "cell_type": "markdown",
   "id": "f088c3f5",
   "metadata": {},
   "source": [
    "# Data organization"
   ]
  },
  {
   "cell_type": "markdown",
   "id": "71991893",
   "metadata": {},
   "source": [
    "<a id=\"classes\"></a>\n",
    "## Classes\n",
    "- enums\n",
    "- properties\n",
    "- data classes\n",
    "- extension functions\n",
    "- encapsulation\n",
    "- objects\n"
   ]
  },
  {
   "cell_type": "code",
   "execution_count": null,
   "id": "c1285670",
   "metadata": {},
   "outputs": [],
   "source": []
  }
 ],
 "metadata": {
  "kernelspec": {
   "display_name": "Kotlin",
   "language": "kotlin",
   "name": "kotlin"
  },
  "language_info": {
   "codemirror_mode": "text/x-kotlin",
   "file_extension": ".kt",
   "mimetype": "text/x-kotlin",
   "name": "kotlin",
   "nbconvert_exporter": "",
   "pygments_lexer": "kotlin",
   "version": "1.8.20"
  }
 },
 "nbformat": 4,
 "nbformat_minor": 5
}
