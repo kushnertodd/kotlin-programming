{
 "cells": [
  {
   "cell_type": "markdown",
   "id": "f088c3f5",
   "metadata": {},
   "source": [
    "# Data organization"
   ]
  },
  {
   "cell_type": "markdown",
   "id": "e80d867d",
   "metadata": {},
   "source": [
    "## Collections\n",
    "\n",
    "[Lists](./lists.ipynb)  \n",
    "### sets\n",
    "[Maps](./maps.ipynb)  "
   ]
  },
  {
   "cell_type": "markdown",
   "id": "71991893",
   "metadata": {},
   "source": [
    "## Classes\n",
    "- enums\n",
    "- properties\n",
    "- data classes\n",
    "- extension functions\n",
    "- encapsulation\n"
   ]
  },
  {
   "cell_type": "code",
   "execution_count": null,
   "id": "c1285670",
   "metadata": {},
   "outputs": [],
   "source": []
  }
 ],
 "metadata": {
  "kernelspec": {
   "display_name": "Kotlin",
   "language": "kotlin",
   "name": "kotlin"
  },
  "language_info": {
   "codemirror_mode": "text/x-kotlin",
   "file_extension": ".kt",
   "mimetype": "text/x-kotlin",
   "name": "kotlin",
   "nbconvert_exporter": "",
   "pygments_lexer": "kotlin",
   "version": "1.8.20"
  }
 },
 "nbformat": 4,
 "nbformat_minor": 5
}
