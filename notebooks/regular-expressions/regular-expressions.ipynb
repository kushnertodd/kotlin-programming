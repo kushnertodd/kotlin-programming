{
 "cells": [
  {
   "cell_type": "markdown",
   "id": "d11f8b54-2ad1-4936-a57c-578f3ee4a5d9",
   "metadata": {},
   "source": [
    "<!-- \n",
    "https://betulnecanli.medium.com/regular-expressions-regex-in-kotlin-a2eaeb2cd113\n",
    "https://www.geeksforgeeks.org/kotlin-regular-expression/\n",
    "-->\n",
    "\n",
    "## Regular Expressions\n",
    "*Regular expressions* are *patterns* that match parts of strings. \n",
    "A regular expression can tell if a string matches a pattern."
   ]
  },
  {
   "cell_type": "markdown",
   "id": "d17453e7-c169-4e71-a596-cd66006ff9fe",
   "metadata": {},
   "source": [
    "A pattern is made of normal string keyboard characters and escape characters, but some characters and escape characters have special meaning in patterns. \n",
    "\n",
    "Regex|Meaning\n",
    ":-|:-\n",
    "`.`|Matches any single character.\n",
    "`?`|Matches the preceding element once or not at all.\n",
    "`+`|Matches the preceding element once or more times.\n",
    "`*`|Matches the preceding element zero or more times.\n",
    "`^`|Matches the starting position within the string.\n",
    "`$`|Matches the ending position within the string.\n",
    "`\\|`|Alternation operator.\n",
    "`[abc]`|Matches a or b, or c.\n",
    "`[a-c]`|Range; matches a or b, or c.\n",
    "`[^abc]`|Negation, matches everything except a, or b, or c.\n",
    "`\\s`|Matches white space character.\n",
    "`\\w`|Matches a word character; equivalent to [a-zA-Z_0–9]\n"
   ]
  },
  {
   "cell_type": "markdown",
   "id": "ad80a084",
   "metadata": {},
   "source": [
    "## `containsMatchIn ` function\n",
    "The `containsMatchIn` returns whether a pattern matches a string."
   ]
  },
  {
   "cell_type": "code",
   "execution_count": 11,
   "id": "3f7cb7ff",
   "metadata": {
    "collapsed": true
   },
   "outputs": [
    {
     "name": "stdout",
     "output_type": "stream",
     "text": [
      "true\r\n",
      "false\r\n"
     ]
    }
   ],
   "source": [
    "val pattern = Regex(\"^a\")\n",
    "println(pattern.containsMatchIn(\"abc\"))\n",
    "println(pattern.containsMatchIn(\"bac\"))"
   ]
  },
  {
   "cell_type": "markdown",
   "id": "bc5d00f6",
   "metadata": {},
   "source": [
    "## `find ` function\n",
    "The `find` returns the first match of the regular expression in the input string."
   ]
  },
  {
   "cell_type": "code",
   "execution_count": 16,
   "id": "bb0d5611-d034-42c7-ab57-7e658a92902f",
   "metadata": {
    "collapsed": true
   },
   "outputs": [
    {
     "name": "stdout",
     "output_type": "stream",
     "text": [
      "The\r\n"
     ]
    }
   ],
   "source": [
    "val pattern = \"\\\\w+\"\n",
    "val input = \"The quick brown fox\"\n",
    "val match = Regex(pattern).find(input)\n",
    "if (match != null)\n",
    "    println(match.value) // MatchResult(value=The, range=0..3)"
   ]
  },
  {
   "cell_type": "markdown",
   "id": "476b8701",
   "metadata": {},
   "source": [
    "## `findAll` function\n",
    "The `findAll` function returns all the matches of the regular expression in the input string. "
   ]
  },
  {
   "cell_type": "code",
   "execution_count": 18,
   "id": "4c8ab69d",
   "metadata": {
    "collapsed": true
   },
   "outputs": [
    {
     "name": "stdout",
     "output_type": "stream",
     "text": [
      "This\r\n",
      "island\r\n",
      "is\r\n",
      "beautiful\r\n"
     ]
    }
   ],
   "source": [
    "val pattern = \"\\\\w+\"\n",
    "val input = \"This island is beautiful\"\n",
    "val matches = Regex(pattern).findAll(input)\n",
    "for (match in matches) \n",
    "    println(match.value)\n",
    "// This\n",
    "// island\n",
    "// isv\n",
    "// beautiful"
   ]
  },
  {
   "cell_type": "markdown",
   "id": "d9a39b75",
   "metadata": {},
   "source": [
    "### `findNext` function\n",
    "The `findNext` function finds the next match after the given start index. "
   ]
  },
  {
   "cell_type": "code",
   "execution_count": 19,
   "id": "d712f2b6",
   "metadata": {
    "collapsed": true
   },
   "outputs": [
    {
     "name": "stdout",
     "output_type": "stream",
     "text": [
      "quick\r\n"
     ]
    }
   ],
   "source": [
    "val pattern = \"\\\\w+\"\n",
    "val input = \"The quick brown fox\"\n",
    "val match1 = Regex(pattern).find(input, 0)\n",
    "val match2 = match1?.next()\n",
    "if (match2 != null)\n",
    "    println(match2.value) // MatchResult(value=quick, range=4..9)"
   ]
  },
  {
   "cell_type": "markdown",
   "id": "bb19f4f3",
   "metadata": {},
   "source": [
    "### `groups` function\n",
    "The `groups` function  returns a map of all the named groups in the match. "
   ]
  },
  {
   "cell_type": "code",
   "execution_count": 8,
   "id": "dae30e09",
   "metadata": {
    "collapsed": true
   },
   "outputs": [
    {
     "name": "stdout",
     "output_type": "stream",
     "text": [
      "First Name: John, Last Name: Smith\r\n"
     ]
    }
   ],
   "source": [
    "\n",
    "val pattern = \"(?<first>\\\\w+) (?<last>\\\\w+)\"\n",
    "val input = \"John Smith\"\n",
    "val match = Regex(pattern).matchEntire(input)\n",
    "if (match != null) {\n",
    "    val groups = match.groups\n",
    "    println(\"First Name: ${groups[\"first\"]?.value}, Last Name: ${groups[\"last\"]?.value}\")\n",
    "    //First Name: John, Last Name: Smith\n",
    "}"
   ]
  },
  {
   "cell_type": "markdown",
   "id": "d6297cb4",
   "metadata": {},
   "source": [
    "## `groupValues` function\n",
    "The `groupValues` function returns all the captured groups in the match. For example:"
   ]
  },
  {
   "cell_type": "code",
   "execution_count": 6,
   "id": "3b606d86",
   "metadata": {
    "collapsed": true
   },
   "outputs": [
    {
     "name": "stdout",
     "output_type": "stream",
     "text": [
      "First Name: John, Last Name: Smith\r\n"
     ]
    }
   ],
   "source": [
    "val pattern = \"(\\\\w+) (\\\\w+)\"\n",
    "val input = \"John Smith\"\n",
    "val match = Regex(pattern).matchEntire(input)\n",
    "if (match != null) {\n",
    "    val (firstName, lastName) = match.destructured\n",
    "    println(\"First Name: $firstName, Last Name: $lastName\")\n",
    "    //First Name: John, Last Name: Smith\n",
    "}"
   ]
  },
  {
   "cell_type": "markdown",
   "id": "31bc55e8",
   "metadata": {},
   "source": [
    "## `matchEntire` function\n",
    "The `matchEntire` function returns the string if the regular expression matches the entire input string. "
   ]
  },
  {
   "cell_type": "code",
   "execution_count": 12,
   "id": "72835c8a",
   "metadata": {
    "collapsed": true
   },
   "outputs": [
    {
     "name": "stdout",
     "output_type": "stream",
     "text": [
      "geeks\r\n",
      "null\r\n",
      "geeks\r\n",
      "null\r\n"
     ]
    }
   ],
   "source": [
    "    var pattern = Regex(\"geeks?\")\n",
    "    println(pattern.matchEntire(\"geeks\")?.value)\n",
    "    println(pattern.matchEntire(\"geeeeeeeks\")?.value)\n",
    "    pattern = Regex(\"\"\"\\D+\"\"\")\n",
    "    println(pattern.matchEntire(\"geeks\")?.value)\n",
    "    println(pattern.matchEntire(\"geeks12345\")?.value)"
   ]
  },
  {
   "cell_type": "markdown",
   "id": "05f10001",
   "metadata": {},
   "source": [
    "## `matches` function\n",
    "The `matches` function returns true if the regular expression matches the entire input string. "
   ]
  },
  {
   "cell_type": "code",
   "execution_count": 1,
   "id": "a4f8690e",
   "metadata": {
    "collapsed": true
   },
   "outputs": [
    {
     "name": "stdout",
     "output_type": "stream",
     "text": [
      "true\r\n"
     ]
    }
   ],
   "source": [
    "val pattern = \"\\\\d{3}-\\\\d{2}-\\\\d{4}\"\n",
    "val input = \"457-87-5786\"\n",
    "val isMatch = Regex(pattern).matches(input)\n",
    "println(isMatch) // true"
   ]
  },
  {
   "cell_type": "markdown",
   "id": "f4f89abc",
   "metadata": {},
   "source": [
    "## `replace` function\n",
    "The `replace` replaces all occurrences of the regular expression in the input string with the specified replacement string."
   ]
  },
  {
   "cell_type": "code",
   "execution_count": 4,
   "id": "095e8afb",
   "metadata": {
    "collapsed": true
   },
   "outputs": [
    {
     "name": "stdout",
     "output_type": "stream",
     "text": [
      "* * * *\r\n"
     ]
    }
   ],
   "source": [
    "val pattern = \"\\\\w+\"\n",
    "val input = \"This island is beautiful\"\n",
    "val replaced = Regex(pattern).replace(input, \"*\")\n",
    "println(replaced) // \"* * * *\""
   ]
  },
  {
   "cell_type": "markdown",
   "id": "96fa9577",
   "metadata": {},
   "source": [
    "## `replaceFirst` function\n",
    "The `replaceFirst` function replaces the first occurrence of the regular expression in the input string with the specified replacement string."
   ]
  },
  {
   "cell_type": "code",
   "execution_count": 13,
   "id": "9f551d3a",
   "metadata": {
    "collapsed": true
   },
   "outputs": [
    {
     "name": "stdout",
     "output_type": "stream",
     "text": [
      "abcddddddxyz\r\n"
     ]
    }
   ],
   "source": [
    "val pattern4 = Regex(\"xyz\")\n",
    "println(pattern4.replaceFirst(\"xyzddddddxyz\", \"abc\"))"
   ]
  },
  {
   "cell_type": "markdown",
   "id": "226eac5b",
   "metadata": {},
   "source": [
    "## `split` function\n",
    "The `split` function splits the input string using the regular expression as a delimiter. "
   ]
  },
  {
   "cell_type": "code",
   "execution_count": 5,
   "id": "bcef1d4e",
   "metadata": {
    "collapsed": true
   },
   "outputs": [
    {
     "name": "stdout",
     "output_type": "stream",
     "text": [
      "[This, island, is, beautiful]\r\n"
     ]
    }
   ],
   "source": [
    "val pattern = \" \"\n",
    "val input = \"This island is beautiful\"\n",
    "val words = Regex(pattern).split(input)\n",
    "println(words) // \"[This, island, is, beautiful]\""
   ]
  },
  {
   "cell_type": "markdown",
   "id": "bcae96df",
   "metadata": {},
   "source": [
    "### `range` property\n",
    "The `range` property returns the range of the match in the input string."
   ]
  },
  {
   "cell_type": "code",
   "execution_count": 9,
   "id": "d32ed46a",
   "metadata": {
    "collapsed": true
   },
   "outputs": [
    {
     "name": "stdout",
     "output_type": "stream",
     "text": [
      "0..2\r\n"
     ]
    }
   ],
   "source": [
    "val pattern = \"\\\\w+\"\n",
    "val input = \"The quick brown fox\"\n",
    "val match = Regex(pattern).find(input)\n",
    "val range = match?.range\n",
    "println(range) // 0..3"
   ]
  },
  {
   "cell_type": "markdown",
   "id": "816b8df9",
   "metadata": {},
   "source": [
    "### `toPattern` function\n",
    "The `toPattern` function returns the pattern of the regular expression."
   ]
  },
  {
   "cell_type": "code",
   "execution_count": 20,
   "id": "1bf81e49",
   "metadata": {
    "collapsed": true
   },
   "outputs": [
    {
     "name": "stdout",
     "output_type": "stream",
     "text": [
      "\\w+\r\n"
     ]
    }
   ],
   "source": [
    "val pattern = \"\\\\w+\"\n",
    "val regex = Regex(pattern)\n",
    "val patternString = regex.toPattern()\n",
    "println(patternString) // \\w+"
   ]
  },
  {
   "cell_type": "markdown",
   "id": "8211d84f",
   "metadata": {},
   "source": [
    "### `value` property\n",
    "The `value` property returns the matched string. "
   ]
  },
  {
   "cell_type": "code",
   "execution_count": 10,
   "id": "f075ca7b",
   "metadata": {
    "collapsed": true
   },
   "outputs": [
    {
     "name": "stdout",
     "output_type": "stream",
     "text": [
      "The\r\n"
     ]
    }
   ],
   "source": [
    "val pattern = \"\\\\w+\"\n",
    "val input = \"The quick brown fox\"\n",
    "val match = Regex(pattern).find(input)\n",
    "val value = match?.value\n",
    "println(value) // The"
   ]
  },
  {
   "cell_type": "markdown",
   "id": "9cf5534b",
   "metadata": {},
   "source": [
    "### Quantifiers\n",
    "Quantifiers specify how many times a character or group should be repeated. For example, the `+` quantifier matches one or more occurrences of the preceding character or group, and the `*` quantifier matches zero or more occurrences."
   ]
  },
  {
   "cell_type": "code",
   "execution_count": 22,
   "id": "e3a33f6e",
   "metadata": {
    "collapsed": true
   },
   "outputs": [
    {
     "name": "stdout",
     "output_type": "stream",
     "text": [
      "The\r\n",
      "quick\r\n",
      "brown\r\n",
      "fox\r\n"
     ]
    }
   ],
   "source": [
    "val pattern = \"\\\\w+\"\n",
    "val input = \"The quick brown fox\"\n",
    "val matches = Regex(pattern).findAll(input)\n",
    "for (match in matches) {\n",
    "    println(match.value)\n",
    "}\n",
    "// The\n",
    "// quick\n",
    "// brown\n",
    "// fox"
   ]
  },
  {
   "cell_type": "markdown",
   "id": "82462f02",
   "metadata": {},
   "source": [
    "### Lookaround\n",
    "Lookarounds assert that a certain condition is true before or after the current position in the string, but without including the characters in the match. For example, the (`?=…`) is a positive lookahead that asserts that the characters following the current position match the pattern inside the lookahead, and the (`?!…`) is a negative lookahead that asserts that the characters following the current position do not match the pattern inside the lookahead. For example:"
   ]
  },
  {
   "cell_type": "code",
   "execution_count": 23,
   "id": "aceaf2da",
   "metadata": {
    "collapsed": true
   },
   "outputs": [
    {
     "name": "stdout",
     "output_type": "stream",
     "text": [
      "runn\r\n"
     ]
    }
   ],
   "source": [
    "val pattern = \"\\\\b\\\\w+(?=ing\\\\b)\"\n",
    "val input = \"I am running late\"\n",
    "val match = Regex(pattern).find(input)\n",
    "if (match != null)\n",
    "    println(match.value) // MatchResult(value=runn, range=3..7)"
   ]
  },
  {
   "cell_type": "markdown",
   "id": "56826309",
   "metadata": {},
   "source": [
    "### Groups\n",
    "Groups capture a specific part of the match. Groups are defined using parentheses (…). You can use the groupValues method to access the captured groups. For example:"
   ]
  },
  {
   "cell_type": "code",
   "execution_count": 24,
   "id": "3de0d64b",
   "metadata": {
    "collapsed": true
   },
   "outputs": [
    {
     "name": "stdout",
     "output_type": "stream",
     "text": [
      "First Name: John, Last Name: Smith\r\n"
     ]
    }
   ],
   "source": [
    "val pattern = \"(\\\\w+) (\\\\w+)\"\n",
    "val input = \"John Smith\"\n",
    "val match = Regex(pattern).matchEntire(input)\n",
    "if (match != null) {\n",
    "    val (firstName, lastName) = match.destructured\n",
    "    println(\"First Name: $firstName, Last Name: $lastName\")\n",
    "    //First Name: John, Last Name: Smith\n",
    "}"
   ]
  },
  {
   "cell_type": "markdown",
   "id": "eddce42d",
   "metadata": {},
   "source": [
    "### Alternation\n",
    "Alternation matchs one of several alternative patterns. Alternation is defined using the `|` character. For example:"
   ]
  },
  {
   "cell_type": "code",
   "execution_count": 26,
   "id": "895e6331",
   "metadata": {
    "collapsed": true
   },
   "outputs": [
    {
     "name": "stdout",
     "output_type": "stream",
     "text": [
      "cat\r\n",
      "dog\r\n"
     ]
    }
   ],
   "source": [
    "val pattern = \"cat|dog\"\n",
    "val input = \"I have a cat and a dog.\"\n",
    "val matches = Regex(pattern).findAll(input)\n",
    "for (match in matches) {\n",
    "    println(match.value)\n",
    "}\n",
    "// cat\n",
    "// dog"
   ]
  }
 ],
 "metadata": {
  "kernelspec": {
   "display_name": "Kotlin",
   "language": "kotlin",
   "name": "kotlin"
  },
  "language_info": {
   "codemirror_mode": "text/x-kotlin",
   "file_extension": ".kt",
   "mimetype": "text/x-kotlin",
   "name": "kotlin",
   "nbconvert_exporter": "",
   "pygments_lexer": "kotlin",
   "version": "1.8.20"
  }
 },
 "nbformat": 4,
 "nbformat_minor": 5
}
