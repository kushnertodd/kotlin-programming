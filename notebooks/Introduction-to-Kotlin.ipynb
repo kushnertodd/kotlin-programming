{
 "cells": [
  {
   "cell_type": "markdown",
   "id": "040b9046",
   "metadata": {},
   "source": [
    "# Kotlin Programming\n",
    "This is an introduction to Kotlin programming.\n",
    "\n",
    "[Mathematical basics](mathematical-basics/mathematical-basics.ipynb)  \n",
    "[Introduction to programming](programming/programming.ipynb)  \n",
    "[Using Jupyter](jupyter/Jupyter.ipynb)   \n",
    "[Variables and types](variables/variables.ipynb)  \n",
    "[Data types](data/Data-types.ipynb)  \n",
    "[Functions](functions/functions.ipynb)  \n",
    "[Program organization](program-organization/program-organization.ipynb)  \n",
    "[Programming logic and control](logic-and-control/logic-and-control.ipynb)  \n",
    "[Data organization](data-organization/data-organization.ipynb)  \n",
    "[Regular expressions](regular-expressions/regular-expressions.ipynb)  \n",
    "[Data input and output](input-output/input-output.ipynb)  \n",
    "[Program environment](program-environment/program-environment.ipynb)  \n",
    "[Libraries](libraries/libraries.ipynb)  \n"
   ]
  },
  {
   "cell_type": "code",
   "execution_count": null,
   "id": "f035bdb6",
   "metadata": {},
   "outputs": [],
   "source": []
  }
 ],
 "metadata": {
  "kernelspec": {
   "display_name": "Python 3 (ipykernel)",
   "language": "python",
   "name": "python3"
  },
  "language_info": {
   "codemirror_mode": {
    "name": "ipython",
    "version": 3
   },
   "file_extension": ".py",
   "mimetype": "text/x-python",
   "name": "python",
   "nbconvert_exporter": "python",
   "pygments_lexer": "ipython3",
   "version": "3.11.5"
  }
 },
 "nbformat": 4,
 "nbformat_minor": 5
}
