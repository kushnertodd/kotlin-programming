{
 "cells": [
  {
   "cell_type": "markdown",
   "id": "040b9046",
   "metadata": {},
   "source": [
    "# Kotlin Programming\n",
    "This Jupyter notebook provides an introduction to using Kotlin programming\n",
    "## Introduction to programming\n",
    "Why we use [computers and programming](programming/Introduction-to-programming.ipynb) to solve problems.\n",
    "## Using Jupyter\n",
    "How to use [Jupyter notebooks](https://www.kodeco.com/27470305-create-your-own-kotlin-playground-and-get-a-data-science-head-start-with-jupyter-notebook). \n",
    "## Writing and running programs \n",
    "## Data values, types, and operations\n",
    "## Data input and output \n",
    "## Programming logic and control\n",
    "## Functions\n",
    "## Data organization\n",
    "## Program environment \n",
    "## Libraries\n",
    "## Summary"
   ]
  },
  {
   "cell_type": "code",
   "execution_count": null,
   "id": "f035bdb6",
   "metadata": {},
   "outputs": [],
   "source": []
  }
 ],
 "metadata": {
  "kernelspec": {
   "display_name": "Python 3 (ipykernel)",
   "language": "python",
   "name": "python3"
  },
  "language_info": {
   "codemirror_mode": {
    "name": "ipython",
    "version": 3
   },
   "file_extension": ".py",
   "mimetype": "text/x-python",
   "name": "python",
   "nbconvert_exporter": "python",
   "pygments_lexer": "ipython3",
   "version": "3.11.5"
  }
 },
 "nbformat": 4,
 "nbformat_minor": 5
}
