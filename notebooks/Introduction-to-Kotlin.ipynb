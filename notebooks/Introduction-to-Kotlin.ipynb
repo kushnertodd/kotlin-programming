{
 "cells": [
  {
   "cell_type": "markdown",
   "id": "b6cf51e2",
   "metadata": {},
   "source": [
    "# Kotlin Programming\n",
    "This is an introduction to *Kotlin* programming.\n",
    "Kotlin is an open source programming language that had been developed since 2011 and was released in 2016. It became officially supported and widely available on Android in 2017. In 2019 it was promoted by Google to the primary language for \"native\" Android development, replacing Java. Since then, Kotlin's popularity on Android has been rising.\n",
    "\n",
    "These are advantages of Kotlin over other programming languages.\n",
    "\n",
    "- It is expressive and concise. It reduces the amount of redundant code that would be required using other programming languages and increases your productivity.\n",
    "- It produces safer code. It has many language features that prevent common programming mistakes and handles tasks unrelated to actual programming such as memory management.\n",
    "- It is interoperable with existing languages like Java, making the functionality of Java libraries available to you.\n",
    "- It provides concurrency constructs for real time programming, such as on Android, to allow code to perform many tasks simultaneously without having to manage these tasks yourself.\n",
    "\n",
    "This introduction is designed for someone without requiring a background in programming.\n",
    "As such, it provides much of the mathematical background required for programming.\n",
    "The course uses [*Jupyter*](https://jupyter.org), which is an interactive environment that intermixes documentation with the ability to run program code, which allows learning how the language works while practicing programming at the same time.\n",
    "\n",
    "These are the topics of the course\n",
    "\n",
    "[Mathematical basics](mathematical-basics/mathematical-basics.ipynb)  \n",
    "[Using Jupyter](jupyter/Jupyter.ipynb)   \n",
    "[Variables](variables/variables.ipynb)  \n",
    "[Functions](functions/functions.ipynb)  \n",
    "[Lambdas](functions/lambdas.ipynb)  \n",
    "[Logic and control](logic-and-control/logic-and-control.ipynb)  \n",
    "[Data types](data/data-types.ipynb)  \n",
    "[Nullability](functions/nullability.ipynb)  \n",
    "[Regular expressions](regular-expressions/regular-expressions.ipynb)  \n",
    "[Program organization](program-organization/program-organization.ipynb)  \n",
    "<!--  \n",
    "[Data input and output](input-output/input-output.ipynb)  \n",
    "-->"
   ]
  }
 ],
 "metadata": {
  "kernelspec": {
   "display_name": "Python 3 (ipykernel)",
   "language": "python",
   "name": "python3"
  },
  "language_info": {
   "codemirror_mode": {
    "name": "ipython",
    "version": 3
   },
   "file_extension": ".py",
   "mimetype": "text/x-python",
   "name": "python",
   "nbconvert_exporter": "python",
   "pygments_lexer": "ipython3",
   "version": "3.11.5"
  }
 },
 "nbformat": 4,
 "nbformat_minor": 5
}
