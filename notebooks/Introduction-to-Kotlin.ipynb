{
 "cells": [
  {
   "cell_type": "markdown",
   "id": "040b9046",
   "metadata": {},
   "source": [
    "# Kotlin Programming\n",
    "This Jupyter notebook provides an introduction to using Kotlin programming\n",
    "[Mathematical basics](mathematical-basics/mathematical-basics.ipynb)  \n",
    "[Introduction to programming](programming/Introduction-to-programming.ipynb)  \n",
    "[Using Jupyter](https://www.kodeco.com/27470305-create-your-own-kotlin-playground-and-get-a-data-science-head-start-with-jupyter-notebook)   \n",
    "[Variables and types](variables/Introduction-to-variables.ipynb)  \n",
    "[Programming logic and control](logic-and-control/Introduction-to-logic-and-control.ipynb)  \n",
    "[Data input and output](input-output/Introduction-to-input-output.ipynb)  \n",
    "[Functions and program organization](functions-and-modularity/Introduction-to-functions-and-modularity.ipynb)  \n",
    "[Data organization](data-organization/Introduction-to-data-organization.ipynb)  \n",
    "[Libraries](libraries/Introduction-to-libraries.ipynb)  \n",
    "[Program environment ](program-environment/Introduction-to-program-environment.ipynb)  \n"
   ]
  },
  {
   "cell_type": "code",
   "execution_count": null,
   "id": "f035bdb6",
   "metadata": {},
   "outputs": [],
   "source": []
  }
 ],
 "metadata": {
  "kernelspec": {
   "display_name": "Python 3 (ipykernel)",
   "language": "python",
   "name": "python3"
  },
  "language_info": {
   "codemirror_mode": {
    "name": "ipython",
    "version": 3
   },
   "file_extension": ".py",
   "mimetype": "text/x-python",
   "name": "python",
   "nbconvert_exporter": "python",
   "pygments_lexer": "ipython3",
   "version": "3.11.5"
  }
 },
 "nbformat": 4,
 "nbformat_minor": 5
}
