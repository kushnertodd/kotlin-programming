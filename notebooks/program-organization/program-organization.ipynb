{
 "cells": [
  {
   "cell_type": "markdown",
   "id": "5f9edf66",
   "metadata": {},
   "source": [
    "# Program organization"
   ]
  },
  {
   "cell_type": "markdown",
   "id": "55a50d0e",
   "metadata": {},
   "source": [
    "<a id=\"namespaces\"></a>\n",
    "## Namespaces\n",
    "*Namespaces* allow the same name to be used in different parts of a program without conflict.\n",
    "\n",
    "this allows the same name to be used for different purposes elsewhere in the program\n",
    "and allows programmer working in different parts of the program to not worry about names causing conflict with each other.\n",
    "\n",
    "Names are also used for [*functions*](../functions/functions.ipynb) and [*classes*](../data/data.ipynb#classes).\n",
    "Sometimes names are intentionally reused, as in [function overloading](../functions/functions.ipynb#function-overloading).\n",
    "Otherwise, functions or classes with the same name will conflict.\n",
    "Variables, functions, and classes can use each other's names without conflict, though for clarity it may be best not to do so.\n",
    "\n",
    "<a id=\"packages\"></a>\n",
    "### Packages\n",
    "Packages are a way to put all names in a file in one namespace, so that the same name can be used in different parts of the program without conflict.\n",
    "The `package` statement at the start of a file creates a package namespace for all names defined in that file.\n",
    "```\n",
    "package package1\n",
    "val x = 2\n",
    "println(\"x $x \")\n",
    "```\n",
    "To use names from a package in a second file, an `import` statement at the top of the file \n",
    "```\n",
    "import package1.*\n",
    "val x = 2\n",
    "println(\"x $x package1.x ${package1.x}\")\n",
    "```\n",
    "Packages allow different parts of a program written separately to be used together without the same name causing conflicts."
   ]
  }
 ],
 "metadata": {
  "kernelspec": {
   "display_name": "Kotlin",
   "language": "kotlin",
   "name": "kotlin"
  },
  "language_info": {
   "codemirror_mode": "text/x-kotlin",
   "file_extension": ".kt",
   "mimetype": "text/x-kotlin",
   "name": "kotlin",
   "nbconvert_exporter": "",
   "pygments_lexer": "kotlin",
   "version": "1.8.20"
  }
 },
 "nbformat": 4,
 "nbformat_minor": 5
}
