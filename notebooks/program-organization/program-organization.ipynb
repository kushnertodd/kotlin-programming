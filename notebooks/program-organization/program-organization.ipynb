{
 "cells": [
  {
   "cell_type": "markdown",
   "id": "5f9edf66",
   "metadata": {},
   "source": [
    "# Program organization"
   ]
  },
  {
   "cell_type": "markdown",
   "id": "55a50d0e",
   "metadata": {},
   "source": [
    "### Imports\n",
    "<a id=\"packages\"></a>\n",
    "### Packages\n",
    "### Modules"
   ]
  },
  {
   "cell_type": "code",
   "execution_count": null,
   "id": "8f8dc6f6",
   "metadata": {},
   "outputs": [],
   "source": []
  }
 ],
 "metadata": {
  "kernelspec": {
   "display_name": "Kotlin",
   "language": "kotlin",
   "name": "kotlin"
  },
  "language_info": {
   "codemirror_mode": "text/x-kotlin",
   "file_extension": ".kt",
   "mimetype": "text/x-kotlin",
   "name": "kotlin",
   "nbconvert_exporter": "",
   "pygments_lexer": "kotlin",
   "version": "1.8.20"
  }
 },
 "nbformat": 4,
 "nbformat_minor": 5
}
