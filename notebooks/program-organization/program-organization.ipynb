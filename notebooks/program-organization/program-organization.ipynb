{
 "cells": [
  {
   "cell_type": "markdown",
   "id": "5f9edf66",
   "metadata": {},
   "source": [
    "# Program organization"
   ]
  },
  {
   "cell_type": "markdown",
   "id": "55a50d0e",
   "metadata": {},
   "source": [
    "\n",
    "<a id=\"packages\"></a>\n",
    "### Packages\n",
    "The `package` statement at the start of a file creates a package namespace for all names defined in that file.\n",
    "```\n",
    "package package1\n",
    "val x = 2\n",
    "println(\"x $x \")\n",
    "```\n",
    "To use names from a package in a second file, an `import` statement at the top of the file \n",
    "```\n",
    "import package1.*\n",
    "val x = 2\n",
    "println(\"x $x package1.x ${package1.x}\")\n",
    "```\n",
    "Packages allow different parts of a program written separately to be used together without the same name causing conflicts."
   ]
  },
  {
   "cell_type": "markdown",
   "id": "d39327f0",
   "metadata": {},
   "source": [
    "### Imports"
   ]
  },
  {
   "cell_type": "markdown",
   "id": "15593566",
   "metadata": {},
   "source": [
    "### Modules"
   ]
  }
 ],
 "metadata": {
  "kernelspec": {
   "display_name": "Kotlin",
   "language": "kotlin",
   "name": "kotlin"
  },
  "language_info": {
   "codemirror_mode": "text/x-kotlin",
   "file_extension": ".kt",
   "mimetype": "text/x-kotlin",
   "name": "kotlin",
   "nbconvert_exporter": "",
   "pygments_lexer": "kotlin",
   "version": "1.8.20"
  }
 },
 "nbformat": 4,
 "nbformat_minor": 5
}
