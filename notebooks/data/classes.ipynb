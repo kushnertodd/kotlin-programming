{
 "cells": [
  {
   "cell_type": "markdown",
   "id": "a1b21b97",
   "metadata": {},
   "source": [
    "<!-- \n",
    "https://www.rubyguides.com/2018/06/why-do-we-create-classes/\n",
    "https://www.wikiwand.com/en/Encapsulation_(computer_science)\n",
    "https://www.ibm.com/docs/en/db2/10.1.0?topic=list-user-defined-types\n",
    "-->\n",
    "## Classes\n",
    "*Classes* bundles the data, or [*properties*](#properties), with the functions, or [*methods*](#methods), operating on those data.\n",
    "Classes are templates to create *objects*. \n",
    "It describes the data and methods, or *behavior*, of the objects created by the class.\n",
    "An object contains copies of the data included in the class, where the method code is shared by all objects.\n",
    "\n",
    "Classes are a *user-defined* data type because of its unique name and behavior given by its methods.\n",
    "Internally, it is built from built in primitive types and other user-defined types.\n",
    "\n",
    "The the declaration of a class can include the following items:\n",
    "- The [methods](./classes.ipynb#methods) and [properties](./classes.ipynb#properties) that it contains.\n",
    "- The base type it [inherits](./inheritance.ipynb) from.\n",
    "- The [interface(s)](./interfaces.ipynb) it implements.\n",
    "\n",
    "The purpose of classes is to reduce a program's complexity.\n",
    "It does so by *encapsulation*, or hiding details of how the methods and data interact within the class.\n",
    "It also restricts direct access to some of the object's components.\n",
    "Encapsulation makes code more reusable because  \n",
    "it prevents external code from being concerned with the implementation details of an object, and\n",
    "allows the contained methods and data to change internally without being visible to the outside code.\n",
    "\n",
    "It also encourages *decoupling*, which is removing unnecessary dependencies between blocks of code.\n",
    "\n"
   ]
  },
  {
   "cell_type": "markdown",
   "id": "3b625d9c",
   "metadata": {},
   "source": [
    "<a id=\"methods\"></a>\n",
    "### Methods\n",
    "Methods are declared inside classes with `fun`, as for functions.\n",
    "Methods are described as *behaviors* of the class.\n",
    "Methods have access to all methods and [properties](#properties) of the class.\n",
    "The method may use any properties  as it would any of the parameters.\n",
    "\n",
    "This is an example of a class with a method `fullName`."
   ]
  },
  {
   "cell_type": "code",
   "execution_count": 1,
   "id": "d9ee44da",
   "metadata": {
    "collapsed": true
   },
   "outputs": [
    {
     "name": "stdout",
     "output_type": "stream",
     "text": [
      "Shakespeare, William\r\n"
     ]
    }
   ],
   "source": [
    "class Person(val firstName : String, val lastName : String) {\n",
    "    fun fullName() = lastName + \", \" + firstName\n",
    "}\n",
    "\n",
    "val person = Person(\"William\", \"Shakespeare\")\n",
    "println(person.fullName())"
   ]
  },
  {
   "cell_type": "markdown",
   "id": "bc4a1335",
   "metadata": {},
   "source": [
    "These are the components of the class `Person` definition.\n",
    "- The *constructor* of class `Person` is\n",
    "\n",
    "`class Person(val firstName : String, val lastName : String)`\n",
    "\n",
    "It creates an *object* of type `Person` with two properties.\n",
    "- `firstName` is the person's first name\n",
    "- `lastName` is the person's last name\n",
    "- They are declared with `val` and are read-only.\n",
    "\n",
    "Modifiable properties can be declared with `var`.\n",
    "\n",
    "Person also contains one method.\n",
    "- `fullName()` returns the person's first and last name\n",
    "- The method `fullName()` is called with its name after a `Person` object followed by `.`"
   ]
  },
  {
   "cell_type": "markdown",
   "id": "53afc03a",
   "metadata": {},
   "source": [
    "<a id=\"properties\"></a>\n",
    "### Properties\n",
    "Properties are characteristics of a class.\n",
    "A `Person`'s full name can be viewed as equal an attribute as their first or last name.\n",
    "This example shows  `fullName` as a property instead of being returned by a method."
   ]
  },
  {
   "cell_type": "code",
   "execution_count": 4,
   "id": "32487280",
   "metadata": {
    "collapsed": true
   },
   "outputs": [
    {
     "name": "stdout",
     "output_type": "stream",
     "text": [
      "Shakespeare, Anne\r\n"
     ]
    }
   ],
   "source": [
    "class Person(val firstName : String, val lastName : String) {\n",
    "    val fullName = lastName + \", \" + firstName\n",
    "}\n",
    "\n",
    "fun marriedName(husband : Person, wife : Person) =\n",
    "    Person(wife.firstName, husband.lastName).fullName\n",
    "\n",
    "println(marriedName(Person(\"William\", \"Shakespeare\"), Person(\"Anne\", \"Hathaway\")))"
   ]
  },
  {
   "cell_type": "markdown",
   "id": "adbd9cf5",
   "metadata": {},
   "source": [
    "### Property accessors\n",
    "When a property is read or set, a property *accessor* is called under the covers. When `fullName` is changed from a method to a property in this example, this code is automatically generated.\n",
    "- `get()`, indented on the next line, is a *getter* for `fullName`.\n",
    "- `field` represents *backing field* storing the property, and is returned by `get`."
   ]
  },
  {
   "cell_type": "code",
   "execution_count": 6,
   "id": "80a4cef8",
   "metadata": {
    "collapsed": true
   },
   "outputs": [
    {
     "name": "stdout",
     "output_type": "stream",
     "text": [
      "Shakespeare, Anne\r\n"
     ]
    }
   ],
   "source": [
    "class Person(val firstName : String, val lastName : String) {\n",
    "    val fullName = lastName + \", \" + firstName\n",
    "        get() = field\n",
    "}\n",
    "\n",
    "fun marriedName(husband : Person, wife : Person) =\n",
    "    Person(wife.firstName, husband.lastName).fullName\n",
    "\n",
    "println(marriedName(Person(\"William\", \"Shakespeare\"), Person(\"Anne\", \"Hathaway\")))"
   ]
  },
  {
   "cell_type": "markdown",
   "id": "980c27f2",
   "metadata": {},
   "source": [
    "Properties can be modifiable.\n",
    "When a property is declared with `var`, a *setter* `set(value)` is also generated for modifying the field."
   ]
  },
  {
   "cell_type": "code",
   "execution_count": 5,
   "id": "3cc7d4e4",
   "metadata": {
    "collapsed": true
   },
   "outputs": [
    {
     "name": "stdout",
     "output_type": "stream",
     "text": [
      "Shakespeare, Anne\r\n"
     ]
    }
   ],
   "source": [
    "class Person(val firstName : String, val lastName : String) {\n",
    "    var fullName = lastName + \", \" + firstName\n",
    "        get() = field\n",
    "        set(value) { field = value }\n",
    "}\n",
    "\n",
    "fun marriedName(husband : Person, wife : Person) =\n",
    "    Person(wife.firstName, husband.lastName).fullName\n",
    "\n",
    "println(marriedName(Person(\"William\", \"Shakespeare\"), Person(\"Anne\", \"Hathaway\")))"
   ]
  },
  {
   "cell_type": "markdown",
   "id": "3a1bccd1",
   "metadata": {},
   "source": [
    "### Custom accessors\n",
    "A property can be accessed with a *custom accessor*.\n",
    "`fullName` always has the value `lastName + \", \" + firstName`.\n",
    "It does not need a backing field, `get()` can return that value created from the other properties.\n",
    "When `get()` is used as a custom accessor, no backing field is needed and is not generated."
   ]
  },
  {
   "cell_type": "code",
   "execution_count": 8,
   "id": "99f45048",
   "metadata": {
    "collapsed": true
   },
   "outputs": [
    {
     "name": "stdout",
     "output_type": "stream",
     "text": [
      "Shakespeare, Anne\r\n"
     ]
    }
   ],
   "source": [
    "class Person(val firstName : String, val lastName : String) {\n",
    "    val fullName : String\n",
    "        get() = lastName + \", \" + firstName\n",
    "}\n",
    "\n",
    "fun marriedName(husband : Person, wife : Person) =\n",
    "    Person(wife.firstName, husband.lastName).fullName\n",
    "\n",
    "println(marriedName(Person(\"William\", \"Shakespeare\"), Person(\"Anne\", \"Hathaway\")))"
   ]
  },
  {
   "cell_type": "markdown",
   "id": "74ec0117",
   "metadata": {},
   "source": [
    "### Custom setters\n",
    "A modifiable property can also have a custom `set` method.\n",
    "In this example, the `Circle` class defines a radius and circumference.\n",
    "There is no need to create an backing field for both, because they are dependent on each other. \n",
    "This is a definition of a `Circle` class with customer accessors."
   ]
  },
  {
   "cell_type": "code",
   "execution_count": 3,
   "id": "96da4fe3",
   "metadata": {
    "collapsed": true
   },
   "outputs": [
    {
     "name": "stdout",
     "output_type": "stream",
     "text": [
      "4.0\r\n",
      "25.1328\r\n",
      "2.3077412783295137\r\n",
      "14.5\r\n"
     ]
    }
   ],
   "source": [
    "val PI = 3.1416\n",
    "class Circle(var radius : Double) {\n",
    "    var circumference : Double\n",
    "        get() = radius * 2 * PI \n",
    "        set(value) { radius = value / (2 * PI) }\n",
    "}\n",
    "val circle = Circle(4.0)\n",
    "println(circle.radius)\n",
    "println(circle.circumference)\n",
    "circle.circumference = 14.5\n",
    "println(circle.radius)\n",
    "println(circle.circumference)"
   ]
  },
  {
   "cell_type": "markdown",
   "id": "69f497a7",
   "metadata": {},
   "source": [
    "### Constructors"
   ]
  },
  {
   "cell_type": "markdown",
   "id": "ca0e0d80",
   "metadata": {},
   "source": [
    "The definition of a class *constructs* a class with the specified properties.\n",
    "The class definition is called the *primary constructor*.\n",
    "\n",
    "`class` *class*`(` *properties* `)`\n",
    "\n",
    "Classes can have additional or *secondary* constructors, that construct the class in different ways.\n",
    "This is an example of a class with multiple constructors."
   ]
  },
  {
   "cell_type": "code",
   "execution_count": 1,
   "id": "e17651a9",
   "metadata": {
    "collapsed": true
   },
   "outputs": [
    {
     "name": "stdout",
     "output_type": "stream",
     "text": [
      "4.0\r\n",
      "25.132741228718345\r\n",
      "4.0\r\n",
      "25.132741228718345\r\n"
     ]
    }
   ],
   "source": [
    "class Circle(var radius : Double, var circumference : Double) {\n",
    "    constructor(radius : Double) : this(radius, radius * 2 * PI ) \n",
    "}\n",
    "val circle1 = Circle(4.0, 8.0 * PI)\n",
    "println(circle1.radius)\n",
    "println(circle1.circumference)\n",
    "val circle2 = Circle(4.0)\n",
    "println(circle2.radius)\n",
    "println(circle2.circumference)"
   ]
  },
  {
   "cell_type": "markdown",
   "id": "6fc1cdf7",
   "metadata": {},
   "source": [
    "### Operator overloading\n",
    "Primitive types support a range of built in operators.\n",
    "The same operators can be enabled for user defined classes.\n",
    "To overload the `+` operator for a class, define a method like this.\n",
    "- Declare a method `plus` starting with `operator`\n",
    "- The parameter is of the time to be added\n",
    "- Return an object of the same class, either the same object using `this` or a copy of the object\n",
    "\n",
    "This is an example of creating a `+` operator for a class."
   ]
  },
  {
   "cell_type": "code",
   "execution_count": 8,
   "id": "03809d99",
   "metadata": {
    "collapsed": true
   },
   "outputs": [
    {
     "name": "stdout",
     "output_type": "stream",
     "text": [
      "Shakespeare, William\r\n",
      "Shakespeare, John\r\n"
     ]
    }
   ],
   "source": [
    "class Person(val firstName : String, val lastName : String) {\n",
    "    val fullName\n",
    "        get() = lastName + \", \" + firstName\n",
    "}\n",
    "class Family() {\n",
    "    var members = listOf<Person>()\n",
    "    operator fun plus(other : Person) : Family {\n",
    "        members += other\n",
    "        return this\n",
    "    }\n",
    "    fun show() {\n",
    "        for (member in members)\n",
    "            println(member.fullName)\n",
    "    }\n",
    "}\n",
    "val william = Person(\"William\", \"Shakespeare\")\n",
    "val father = Person(\"John\", \"Shakespeare\")\n",
    "var shakespeares = Family()\n",
    "shakespeares += william\n",
    "shakespeares += father\n",
    "shakespeares.show()"
   ]
  },
  {
   "cell_type": "markdown",
   "id": "d06fc753",
   "metadata": {},
   "source": [
    "These are the operators that can be overloaded and the method to define. \n",
    "\n",
    "Operator|Function\n",
    ":-|:-\n",
    "a * b|times\n",
    "a / b|div\n",
    "a % b|mod\n",
    "a + b|plus\n",
    "a - b|minus\n"
   ]
  }
 ],
 "metadata": {
  "kernelspec": {
   "display_name": "Kotlin",
   "language": "kotlin",
   "name": "kotlin"
  },
  "language_info": {
   "codemirror_mode": "text/x-kotlin",
   "file_extension": ".kt",
   "mimetype": "text/x-kotlin",
   "name": "kotlin",
   "nbconvert_exporter": "",
   "pygments_lexer": "kotlin",
   "version": "1.8.20"
  }
 },
 "nbformat": 4,
 "nbformat_minor": 5
}
