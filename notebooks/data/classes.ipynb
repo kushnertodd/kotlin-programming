{
 "cells": [
  {
   "cell_type": "markdown",
   "id": "a1b21b97",
   "metadata": {},
   "source": [
    "<a id=\"classes\"></a>\n",
    "<!--\n",
    "https://www.rubyguides.com/2018/06/why-do-we-create-classes/\n",
    "-->\n",
    "## Classes\n",
    "*Classes* are representations of data, or [*properties*](#properties), and functions, or [*methods*](#methods), that apply to that data.\n",
    "The purpose of classes is to reduce a program's complexity.\n",
    "It does so by hiding details of how the functions and data interact within the class.\n",
    "This provides *encapsulation* of the data, \n",
    "which make code more reusable because the methods and data can change internally without affecting the programs using them.\n",
    "\n",
    "Classes are templates for *objects*. \n",
    "An object contains copies of the data included in the class, where the method code is shared by all objects.\n",
    "As programs use objects, the contained data can change without being visible to the outside code.\n",
    "\n",
    "Classes are also data *types* because the class names are unique and functions can restrict parameters to be of  given classes and primitives types.\n",
    "\n",
    "This is an example of a class."
   ]
  },
  {
   "cell_type": "code",
   "execution_count": 3,
   "id": "d9ee44da",
   "metadata": {
    "collapsed": true
   },
   "outputs": [
    {
     "name": "stdout",
     "output_type": "stream",
     "text": [
      "Shakespeare, William\r\n"
     ]
    }
   ],
   "source": [
    "class Person(val firstName : String, val lastName : String) {\n",
    "    fun fullName() = \"$lastName, $firstName\"\n",
    "}\n",
    "\n",
    "val person = Person(\"William\", \"Shakespeare\")\n",
    "println(person.fullName())"
   ]
  },
  {
   "cell_type": "markdown",
   "id": "bc4a1335",
   "metadata": {},
   "source": [
    "These are the components of the class `Person` definition.\n",
    "- The *constructor* of class `Person` is\n",
    "\n",
    "`class Person(val firstName : String, val lastName : String)`\n",
    "\n",
    "It creates an *object* of type `Person` with two properties.\n",
    "- `firstName` is the person's first name\n",
    "- `lastName` is the person's last name\n",
    "\n",
    "Person also contains one method.\n",
    "- `fullName()` returns the person's first and last name\n",
    "- The method `fullName()` is called after a `Person` object followed by `.`\n",
    "\n",
    "The details of how the name are stored is not important for the purpose of using the class.\n",
    "\n",
    "This is an alternate definition of `Person`."
   ]
  },
  {
   "cell_type": "code",
   "execution_count": 4,
   "id": "585469d3",
   "metadata": {
    "collapsed": true
   },
   "outputs": [
    {
     "name": "stdout",
     "output_type": "stream",
     "text": [
      "Shakespeare, William\r\n"
     ]
    }
   ],
   "source": [
    "class Person(val firstName : String, val lastName : String) {\n",
    "    val lastFirstName = \"$lastName, $firstName\"\n",
    "    fun fullName() = lastFirstName\n",
    "}\n",
    "\n",
    "println(Person(\"William\", \"Shakespeare\").fullName())"
   ]
  },
  {
   "cell_type": "markdown",
   "id": "892b3b5f",
   "metadata": {},
   "source": [
    "The internal `Person` properties have changed. \n",
    "- `lastFirstName` is another property computed from the properties of the constructor.\n",
    "\n",
    "That `Person` internally stores the full name as a separate property is not important to the user of a `Person`.\n",
    "This allows the internal logic to change without changing the way a `Person` is used.\n",
    "\n",
    "A `Person` type allows functions to specity the types of arguments."
   ]
  },
  {
   "cell_type": "code",
   "execution_count": 7,
   "id": "2ff0ae10",
   "metadata": {
    "collapsed": true
   },
   "outputs": [
    {
     "name": "stdout",
     "output_type": "stream",
     "text": [
      "Shakespeare, Anne\r\n"
     ]
    }
   ],
   "source": [
    "class Person(val firstName : String, val lastName : String) {\n",
    "    fun fullName() = \"$lastName, $firstName\"\n",
    "}\n",
    "\n",
    "fun marriedName(husband : Person, wife : Person) =\n",
    "    Person(wife.firstName, husband.lastName).fullName()\n",
    "\n",
    "println(marriedName(Person(\"William\", \"Shakespeare\"), Person(\"Anne\", \"Hathaway\")))"
   ]
  },
  {
   "cell_type": "markdown",
   "id": "53afc03a",
   "metadata": {},
   "source": [
    "<a id=\"properties\"></a>\n",
    "### Properties\n",
    "Properties are characteristics of a class.\n",
    "A `Person`'s full name can be viewed as equal an attribute as their first or last name.\n",
    "This example shows  `fullName` as a property instead of being returned by a method."
   ]
  },
  {
   "cell_type": "code",
   "execution_count": 8,
   "id": "99f45048",
   "metadata": {
    "collapsed": true
   },
   "outputs": [
    {
     "name": "stdout",
     "output_type": "stream",
     "text": [
      "Shakespeare, Anne\r\n"
     ]
    }
   ],
   "source": [
    "class Person(val firstName : String, val lastName : String) {\n",
    "    val fullName : String\n",
    "        get() = \"$lastName, $firstName\"\n",
    "}\n",
    "\n",
    "fun marriedName(husband : Person, wife : Person) =\n",
    "    Person(wife.firstName, husband.lastName).fullName\n",
    "\n",
    "println(marriedName(Person(\"William\", \"Shakespeare\"), Person(\"Anne\", \"Hathaway\")))"
   ]
  },
  {
   "cell_type": "markdown",
   "id": "50c1ee9b",
   "metadata": {},
   "source": [
    "`fullName` is changed from a method to a property by this declaration\n",
    "```\n",
    "    val fullName : String\n",
    "        get() = \"$lastName, $firstName\"\n",
    "```\n",
    "- `val fullName : String` declares `fullName` to be a string property.\n",
    "- `get()`, indented on the next line, is a *custom accessor*, allowing `fullName` to be accessed as a property while actually using a method to return it.\n",
    "- `fullName` is not stored in an attribute variable, `get()` is called every time the property is accessed."
   ]
  },
  {
   "cell_type": "markdown",
   "id": "73297ba6",
   "metadata": {},
   "source": [
    "<a id=\"methods\"></a>\n",
    "### Methods\n",
    "Methods are declared inside classes with `fun`, as for functions.\n",
    "Methods have access to all properties of the class and may be used as it would any of the parameters.\n"
   ]
  },
  {
   "cell_type": "markdown",
   "id": "de589fe6",
   "metadata": {},
   "source": [
    "<a id=\"enums\"></a>\n",
    "## Enums"
   ]
  },
  {
   "cell_type": "markdown",
   "id": "dec70ef6",
   "metadata": {},
   "source": [
    "<a id=\"interfaces\"></a>\n",
    "## Interfaces"
   ]
  },
  {
   "cell_type": "markdown",
   "id": "ba9e6283",
   "metadata": {},
   "source": [
    "<a id=\"extension-functions\"></a>\n",
    "## Extension functions"
   ]
  },
  {
   "cell_type": "markdown",
   "id": "b2d0b9d5",
   "metadata": {},
   "source": [
    "<a id=\"data-classes\"></a>\n",
    "## Data classes"
   ]
  },
  {
   "cell_type": "markdown",
   "id": "f6610ee0",
   "metadata": {},
   "source": [
    "<a id=\"mutable-properties\"></a>\n",
    "## Mutable properties\n",
    "`firstName` and `lastName` are *read only* properties, because they are declared with `val`.\n",
    "Properties can declared modifiable, or mutable using `var` instead.\n",
    "This is an example of a mutable property."
   ]
  },
  {
   "cell_type": "code",
   "execution_count": 9,
   "id": "26c670f7",
   "metadata": {},
   "outputs": [
    {
     "name": "stdout",
     "output_type": "stream",
     "text": [
      "Hathaway, Anne\r\n",
      "Shakespeare, Anne\r\n"
     ]
    }
   ],
   "source": [
    "class Person(var firstName : String, var lastName : String) {\n",
    "    fun fullName() = \"$lastName, $firstName\"\n",
    "}\n",
    "\n",
    "val anne = Person(\"Anne\", \"Hathaway\")\n",
    "println(anne.fullName())\n",
    "anne.lastName = \"Shakespeare\"\n",
    "println(anne.fullName())"
   ]
  },
  {
   "cell_type": "markdown",
   "id": "fc81c675",
   "metadata": {},
   "source": [
    "A mutable property can have a modifying accessor if more than just changing the value of the property is required.\n",
    "This is an example where changing a property must have some other action taken. "
   ]
  },
  {
   "cell_type": "code",
   "execution_count": 51,
   "id": "e02e4477",
   "metadata": {
    "collapsed": true
   },
   "outputs": [
    {
     "name": "stdout",
     "output_type": "stream",
     "text": [
      "Hathaway, Anne\r\n",
      "Shakespeare, Anne\r\n"
     ]
    }
   ],
   "source": [
    "class Person(startFirstName : String, startLastName : String) {\n",
    "    var firstName = startFirstName\n",
    "        set(newFirstName : String) {\n",
    "            field = newFirstName\n",
    "            fullName = \"$lastName, $firstName\"\n",
    "        }\n",
    "    var lastName = startLastName\n",
    "        set(newLastName : String) {\n",
    "            field = newLastName\n",
    "            fullName = \"$lastName, $firstName\"\n",
    "        }\n",
    "    var fullName = \"$lastName, $firstName\"\n",
    "}\n",
    "\n",
    "val anne = Person(\"Anne\", \"Hathaway\")\n",
    "println(anne.fullName)\n",
    "anne.lastName = \"Shakespeare\"\n",
    "println(anne.fullName)"
   ]
  }
 ],
 "metadata": {
  "kernelspec": {
   "display_name": "Kotlin",
   "language": "kotlin",
   "name": "kotlin"
  },
  "language_info": {
   "codemirror_mode": "text/x-kotlin",
   "file_extension": ".kt",
   "mimetype": "text/x-kotlin",
   "name": "kotlin",
   "nbconvert_exporter": "",
   "pygments_lexer": "kotlin",
   "version": "1.8.20"
  }
 },
 "nbformat": 4,
 "nbformat_minor": 5
}
