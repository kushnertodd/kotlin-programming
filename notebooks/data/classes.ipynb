{
 "cells": [
  {
   "cell_type": "markdown",
   "id": "a1b21b97",
   "metadata": {},
   "source": [
    "<!--\n",
    "https://www.rubyguides.com/2018/06/why-do-we-create-classes/\n",
    "https://www.wikiwand.com/en/Encapsulation_(computer_science)\n",
    "-->\n",
    "## Classes\n",
    "*Classes* are representations of data, or [*properties*](#properties), and functions, or [*methods*](#methods), that apply to that data.\n",
    "The purpose of classes is to reduce a program's complexity.\n",
    "It does so by hiding details of how the functions and data interact within the class.\n",
    "This provides *encapsulation* of the data, \n",
    "which make code more reusable because the methods and data can change internally without affecting the programs using them.\n",
    "\n",
    "An inherited class is called a subclass of its parent class or super class. The term \"inheritance\" is loosely used for both class-based and prototype-based programming, but in narrow use the term is reserved for class-based programming (one class inherits from another), with the corresponding technique in prototype-based programming being instead called delegation (one object delegates to another). \n",
    "\n",
    "In object-oriented programming, inheritance is the mechanism of basing an object or class upon another object (prototype-based inheritance) or class (class-based inheritance), retaining similar implementation. Also defined as deriving new classes (sub classes) from existing ones such as super class or base class and then forming them into a hierarchy of classes. In most class-based object-oriented languages like C++, an object created through inheritance, a \"child object\", acquires all the properties and behaviors of the \"parent object\", with the exception of: constructors, destructors, overloaded operators and friend functions of the base class.\n",
    "\n",
    "An inherited class is called a subclass of its parent class or super class. The term \"inheritance\" is loosely used for both class-based and prototype-based programming, but in narrow use the term is reserved for class-based programming (one class inherits from another), with the corresponding technique in prototype-based programming being instead called delegation (one object delegates to another). Class-modifying inheritance patterns can be pre-defined according to simple network interface parameters such that inter-language compatibility is preserved.\n",
    "\n",
    "Inheritance allows programmers to create classes that are built upon existing classes, to specify a new implementation while maintaining the same behaviors (realizing an interface), to reuse code and to independently extend original software via public classes and interfaces. \n",
    "\n",
    "Classes are templates for *objects*. \n",
    "An object contains copies of the data included in the class, where the method code is shared by all objects.\n",
    "As programs use objects, the contained data can change without being visible to the outside code.\n",
    "\n",
    "Classes are also data *types* because the class names are unique and functions can restrict parameters to be of  given classes and primitives types.\n",
    "\n",
    "In software systems, encapsulation refers to the bundling of data with the mechanisms or methods that operate on the data. It may also refer to the limiting of direct access to some of that data, such as an object's components. Essentially, encapsulation prevents external code from being concerned with the internal workings of an object.\n",
    "\n",
    "Encapsulation allows developers to present a consistent interface that is independent of its internal implementation. As one example, encapsulation can be used to hide the values or state of a structured data object inside a class, preventing direct access to them by clients in a way that could expose hidden implementation details or violate state invariance maintained by the methods.\n",
    "\n",
    "It also encourages programmers to put all the code that is concerned with a certain set of data in the same class, which organizes it for easy comprehension by other programmers. Encapsulation is a technique that encourages decoupling.\n",
    "\n",
    "A language mechanism for restricting direct access to some of the object's components.\n",
    "A language construct that facilitates the bundling of data with the methods (or other functions) operating on those data.\n",
    "\n",
    "\n",
    "\n",
    "In programming language theory and type theory, polymorphism is the use of a single symbol to represent multiple different types.\n",
    "\n",
    "In object-oriented programming, polymorphism is the provision of a single interface to entities of different types \n",
    "\n",
    "This is an example of a class."
   ]
  },
  {
   "cell_type": "code",
   "execution_count": 3,
   "id": "d9ee44da",
   "metadata": {
    "collapsed": true
   },
   "outputs": [
    {
     "name": "stdout",
     "output_type": "stream",
     "text": [
      "Shakespeare, William\r\n"
     ]
    }
   ],
   "source": [
    "class Person(val firstName : String, val lastName : String) {\n",
    "    fun fullName() = \"$lastName, $firstName\"\n",
    "}\n",
    "\n",
    "val person = Person(\"William\", \"Shakespeare\")\n",
    "println(person.fullName())"
   ]
  },
  {
   "cell_type": "markdown",
   "id": "bc4a1335",
   "metadata": {},
   "source": [
    "These are the components of the class `Person` definition.\n",
    "- The *constructor* of class `Person` is\n",
    "\n",
    "`class Person(val firstName : String, val lastName : String)`\n",
    "\n",
    "It creates an *object* of type `Person` with two properties.\n",
    "- `firstName` is the person's first name\n",
    "- `lastName` is the person's last name\n",
    "\n",
    "Person also contains one method.\n",
    "- `fullName()` returns the person's first and last name\n",
    "- The method `fullName()` is called after a `Person` object followed by `.`\n",
    "\n",
    "The details of how the name are stored is not important for the purpose of using the class.\n",
    "\n",
    "This is an alternate definition of `Person`."
   ]
  },
  {
   "cell_type": "code",
   "execution_count": 4,
   "id": "585469d3",
   "metadata": {
    "collapsed": true
   },
   "outputs": [
    {
     "name": "stdout",
     "output_type": "stream",
     "text": [
      "Shakespeare, William\r\n"
     ]
    }
   ],
   "source": [
    "class Person(val firstName : String, val lastName : String) {\n",
    "    val lastFirstName = \"$lastName, $firstName\"\n",
    "    fun fullName() = lastFirstName\n",
    "}\n",
    "\n",
    "println(Person(\"William\", \"Shakespeare\").fullName())"
   ]
  },
  {
   "cell_type": "markdown",
   "id": "892b3b5f",
   "metadata": {},
   "source": [
    "The internal `Person` properties have changed. \n",
    "- `lastFirstName` is another property computed from the properties of the constructor.\n",
    "\n",
    "That `Person` internally stores the full name as a separate property is not important to the user of a `Person`.\n",
    "This allows the internal logic to change without changing the way a `Person` is used.\n",
    "\n",
    "A `Person` type allows functions to specity the types of arguments."
   ]
  },
  {
   "cell_type": "code",
   "execution_count": 7,
   "id": "2ff0ae10",
   "metadata": {
    "collapsed": true
   },
   "outputs": [
    {
     "name": "stdout",
     "output_type": "stream",
     "text": [
      "Shakespeare, Anne\r\n"
     ]
    }
   ],
   "source": [
    "class Person(val firstName : String, val lastName : String) {\n",
    "    fun fullName() = \"$lastName, $firstName\"\n",
    "}\n",
    "\n",
    "fun marriedName(husband : Person, wife : Person) =\n",
    "    Person(wife.firstName, husband.lastName).fullName()\n",
    "\n",
    "println(marriedName(Person(\"William\", \"Shakespeare\"), Person(\"Anne\", \"Hathaway\")))"
   ]
  },
  {
   "cell_type": "markdown",
   "id": "53afc03a",
   "metadata": {},
   "source": [
    "<a id=\"properties\"></a>\n",
    "### Properties\n",
    "Properties are characteristics of a class.\n",
    "A `Person`'s full name can be viewed as equal an attribute as their first or last name.\n",
    "This example shows  `fullName` as a property instead of being returned by a method."
   ]
  },
  {
   "cell_type": "code",
   "execution_count": 8,
   "id": "99f45048",
   "metadata": {
    "collapsed": true
   },
   "outputs": [
    {
     "name": "stdout",
     "output_type": "stream",
     "text": [
      "Shakespeare, Anne\r\n"
     ]
    }
   ],
   "source": [
    "class Person(val firstName : String, val lastName : String) {\n",
    "    val fullName : String\n",
    "        get() = \"$lastName, $firstName\"\n",
    "}\n",
    "\n",
    "fun marriedName(husband : Person, wife : Person) =\n",
    "    Person(wife.firstName, husband.lastName).fullName\n",
    "\n",
    "println(marriedName(Person(\"William\", \"Shakespeare\"), Person(\"Anne\", \"Hathaway\")))"
   ]
  },
  {
   "cell_type": "markdown",
   "id": "50c1ee9b",
   "metadata": {},
   "source": [
    "`fullName` is changed from a method to a property by this declaration\n",
    "```\n",
    "    val fullName : String\n",
    "        get() = \"$lastName, $firstName\"\n",
    "```\n",
    "- `val fullName : String` declares `fullName` to be a string property.\n",
    "- `get()`, indented on the next line, is a *custom accessor*, allowing `fullName` to be accessed as a property while actually using a method to return it.\n",
    "- `fullName` is not stored in an attribute variable, `get()` is called every time the property is accessed."
   ]
  },
  {
   "cell_type": "markdown",
   "id": "73297ba6",
   "metadata": {},
   "source": [
    "<a id=\"methods\"></a>\n",
    "### Methods\n",
    "Methods are declared inside classes with `fun`, as for functions.\n",
    "Methods have access to all properties of the class and may be used as it would any of the parameters.\n",
    "The function `marriedName` can be implemented as a method of `Person`.\n",
    "\n",
    "In computer science, a type signature or type annotation defines the inputs and outputs for a function, subroutine or method. A type signature includes the number, types, and order of the arguments required by a function. A type signature is typically used during overload resolution for choosing the correct definition of a function to be called among many overloaded forms."
   ]
  },
  {
   "cell_type": "code",
   "execution_count": 15,
   "id": "96e319dc",
   "metadata": {
    "collapsed": true
   },
   "outputs": [
    {
     "name": "stdout",
     "output_type": "stream",
     "text": [
      "Shakespeare, Anne\r\n"
     ]
    }
   ],
   "source": [
    "class Person(val firstName : String, val lastName : String) {\n",
    "    val fullName : String\n",
    "        get() = \"$lastName, $firstName\"\n",
    "    fun marriedName(wife : Person) =\n",
    "        Person(wife.firstName, lastName).fullName\n",
    "}\n",
    "\n",
    "println(Person(\"William\", \"Shakespeare\").marriedName(Person(\"Anne\", \"Hathaway\")))"
   ]
  }
 ],
 "metadata": {
  "kernelspec": {
   "display_name": "Kotlin",
   "language": "kotlin",
   "name": "kotlin"
  },
  "language_info": {
   "codemirror_mode": "text/x-kotlin",
   "file_extension": ".kt",
   "mimetype": "text/x-kotlin",
   "name": "kotlin",
   "nbconvert_exporter": "",
   "pygments_lexer": "kotlin",
   "version": "1.8.20"
  }
 },
 "nbformat": 4,
 "nbformat_minor": 5
}
