{
 "cells": [
  {
   "cell_type": "markdown",
   "id": "a1b21b97",
   "metadata": {},
   "source": [
    "<a id=\"classes\"></a>\n",
    "<!--\n",
    "https://www.rubyguides.com/2018/06/why-do-we-create-classes/\n",
    "-->\n",
    "## Classes\n",
    "*Classes* are representations of data, or [*properties*](#properties), and functions, or [*methods*](#methods), that apply to that data.\n",
    "The purpose of classes is to reduce a program's complexity.\n",
    "It does so by hiding details of how the functions and data interact within the class.\n",
    "This provides *encapsulation* of the data, \n",
    "which make code more reusable because the methods and data can change internally without affecting the programs using them.\n",
    "\n",
    "Classes are templates for *objects*. \n",
    "An object contains copies of the data included in the class, where the method code is shared by all objects.\n",
    "As programs use objects, the contained data can change without being visible to the outside code.\n",
    "\n",
    "Classes are also data *types* because the class names are unique and functions can restrict parameters to be of  given classes and primitives types.\n",
    "\n",
    "This is an example of a class."
   ]
  },
  {
   "cell_type": "code",
   "execution_count": 3,
   "id": "d9ee44da",
   "metadata": {
    "collapsed": true
   },
   "outputs": [
    {
     "name": "stdout",
     "output_type": "stream",
     "text": [
      "Shakespeare, William\r\n"
     ]
    }
   ],
   "source": [
    "class Person(val firstName : String, val lastName : String) {\n",
    "    fun fullName() = \"$lastName, $firstName\"\n",
    "}\n",
    "\n",
    "val person = Person(\"William\", \"Shakespeare\")\n",
    "println(person.fullName())"
   ]
  },
  {
   "cell_type": "markdown",
   "id": "bc4a1335",
   "metadata": {},
   "source": [
    "These are the components of the class `Person` definition.\n",
    "- The *constructor* of class `Person` is\n",
    "\n",
    "`class Person(val firstName : String, val lastName : String)`\n",
    "\n",
    "It creates an *object* of type `Person` with two properties.\n",
    "- `firstName` is the person's first name\n",
    "- `lastName` is the person's last name\n",
    "\n",
    "Person also contains one method.\n",
    "- `fullName()` returns the person's first and last name\n",
    "- The method `fullName()` is called after a `Person` object followed by `.`\n",
    "\n",
    "The details of how the name are stored is not important for the purpose of using the class.\n",
    "\n",
    "This is an alternate definition of `Person`."
   ]
  },
  {
   "cell_type": "code",
   "execution_count": 4,
   "id": "585469d3",
   "metadata": {
    "collapsed": true
   },
   "outputs": [
    {
     "name": "stdout",
     "output_type": "stream",
     "text": [
      "Shakespeare, William\r\n"
     ]
    }
   ],
   "source": [
    "class Person(val firstName : String, val lastName : String) {\n",
    "    val lastFirstName = \"$lastName, $firstName\"\n",
    "    fun fullName() = lastFirstName\n",
    "}\n",
    "\n",
    "println(Person(\"William\", \"Shakespeare\").fullName())"
   ]
  },
  {
   "cell_type": "markdown",
   "id": "892b3b5f",
   "metadata": {},
   "source": [
    "The internal `Person` properties have changed. \n",
    "- `lastFirstName` is another property computed from the properties of the constructor.\n",
    "\n",
    "That `Person` internally stores the full name as a separate property is not important to the user of a `Person`.\n",
    "This allows the internal logic to change without changing the way a `Person` is used.\n",
    "\n",
    "A `Person` type allows functions to specity the types of arguments."
   ]
  },
  {
   "cell_type": "code",
   "execution_count": 7,
   "id": "2ff0ae10",
   "metadata": {
    "collapsed": true
   },
   "outputs": [
    {
     "name": "stdout",
     "output_type": "stream",
     "text": [
      "Shakespeare, Anne\r\n"
     ]
    }
   ],
   "source": [
    "class Person(val firstName : String, val lastName : String) {\n",
    "    fun fullName() = \"$lastName, $firstName\"\n",
    "}\n",
    "\n",
    "fun marriedName(husband : Person, wife : Person) =\n",
    "    Person(wife.firstName, husband.lastName).fullName()\n",
    "\n",
    "println(marriedName(Person(\"William\", \"Shakespeare\"), Person(\"Anne\", \"Hathaway\")))"
   ]
  },
  {
   "cell_type": "markdown",
   "id": "53afc03a",
   "metadata": {},
   "source": [
    "<a id=\"properties\"></a>\n",
    "### Properties\n",
    "Properties are characteristics of a class.\n",
    "A `Person`'s full name can be viewed as equal an attribute as their first or last name.\n",
    "This example shows  `fullName` as a property instead of being returned by a method."
   ]
  },
  {
   "cell_type": "code",
   "execution_count": 8,
   "id": "99f45048",
   "metadata": {
    "collapsed": true
   },
   "outputs": [
    {
     "name": "stdout",
     "output_type": "stream",
     "text": [
      "Shakespeare, Anne\r\n"
     ]
    }
   ],
   "source": [
    "class Person(val firstName : String, val lastName : String) {\n",
    "    val fullName : String\n",
    "        get() = \"$lastName, $firstName\"\n",
    "}\n",
    "\n",
    "fun marriedName(husband : Person, wife : Person) =\n",
    "    Person(wife.firstName, husband.lastName).fullName\n",
    "\n",
    "println(marriedName(Person(\"William\", \"Shakespeare\"), Person(\"Anne\", \"Hathaway\")))"
   ]
  },
  {
   "cell_type": "markdown",
   "id": "50c1ee9b",
   "metadata": {},
   "source": [
    "`fullName` is changed from a method to a property by this declaration\n",
    "```\n",
    "    val fullName : String\n",
    "        get() = \"$lastName, $firstName\"\n",
    "```\n",
    "- `val fullName : String` declares `fullName` to be a string property.\n",
    "- `get()`, indented on the next line, is a *custom accessor*, allowing `fullName` to be accessed as a property while actually using a method to return it.\n",
    "- `fullName` is not stored in an attribute variable, `get()` is called every time the property is accessed."
   ]
  },
  {
   "cell_type": "markdown",
   "id": "73297ba6",
   "metadata": {},
   "source": [
    "<a id=\"methods\"></a>\n",
    "### Methods\n",
    "Methods are declared inside classes with `fun`, as for functions.\n",
    "Methods have access to all properties of the class and may be used as it would any of the parameters.\n"
   ]
  },
  {
   "cell_type": "markdown",
   "id": "de589fe6",
   "metadata": {},
   "source": [
    "<a id=\"enums\"></a>\n",
    "## Enum classes\n",
    "Some types are a fixed set of names, such as colors, months, or states.\n",
    "*Enum classes* are a set of named values where variables of that type can only have the value of one of those names.\n",
    "This is an example of an enum class."
   ]
  },
  {
   "cell_type": "code",
   "execution_count": 1,
   "id": "db447408",
   "metadata": {
    "collapsed": true
   },
   "outputs": [
    {
     "name": "stdout",
     "output_type": "stream",
     "text": [
      "APPLE\r\n"
     ]
    }
   ],
   "source": [
    "enum class Fruit {\n",
    "    APPLE, GRAPE, ORANGE, PEACH\n",
    "}\n",
    "val snack = Fruit.APPLE\n",
    "println(snack)"
   ]
  },
  {
   "cell_type": "markdown",
   "id": "a87d9995",
   "metadata": {},
   "source": [
    "Enums are useful in conjunction with `when` clauses where each branch is a different value of the enum."
   ]
  },
  {
   "cell_type": "code",
   "execution_count": 4,
   "id": "3e4d1228",
   "metadata": {
    "collapsed": true
   },
   "outputs": [
    {
     "name": "stdout",
     "output_type": "stream",
     "text": [
      "Apple\r\n"
     ]
    }
   ],
   "source": [
    "enum class Fruit {\n",
    "    APPLE, GRAPE, ORANGE, PEACH\n",
    "}\n",
    "\n",
    "fun fruitName(snack : Fruit) = \n",
    "when (snack) {\n",
    "    Fruit.APPLE -> \"Apple\"\n",
    "    Fruit.GRAPE -> \"Grape\"\n",
    "    Fruit.ORANGE -> \"Orange\"\n",
    "    Fruit.PEACH -> \"Peach\"\n",
    "}\n",
    "val snack = Fruit.APPLE\n",
    "println(fruitName(snack))"
   ]
  },
  {
   "cell_type": "markdown",
   "id": "3005dae9",
   "metadata": {},
   "source": [
    "When not all enum values are used in a branch, an `else` clause is required "
   ]
  },
  {
   "cell_type": "code",
   "execution_count": 5,
   "id": "847d4b54",
   "metadata": {
    "collapsed": true
   },
   "outputs": [
    {
     "name": "stdout",
     "output_type": "stream",
     "text": [
      "Red\r\n"
     ]
    }
   ],
   "source": [
    "enum class Fruit {\n",
    "    APPLE, GRAPE, ORANGE, PEACH\n",
    "}\n",
    "\n",
    "fun fruitColor(snack : Fruit) = \n",
    "when (snack) {\n",
    "    Fruit.APPLE -> \"Red\"\n",
    "    Fruit.GRAPE -> \"Purple\"\n",
    "    else -> \"Orange\"\n",
    "}\n",
    "val snack = Fruit.APPLE\n",
    "println(fruitColor(snack))"
   ]
  },
  {
   "cell_type": "markdown",
   "id": "089bf98e",
   "metadata": {},
   "source": [
    "<a id=\"data-classes\"></a>\n",
    "## Data classes\n",
    "*Data classes* are a restricted class where classes primarily only contain properties.\n",
    "Data classes provide some conveniences, such as that they can be compared with `==` and copied without defining extra methods, as would be required by standard classes."
   ]
  },
  {
   "cell_type": "code",
   "execution_count": 8,
   "id": "cca197aa",
   "metadata": {
    "collapsed": true
   },
   "outputs": [
    {
     "name": "stdout",
     "output_type": "stream",
     "text": [
      "William and father are different\r\n"
     ]
    }
   ],
   "source": [
    "data class Person(var firstName : String, var lastName : String)\n",
    "val william = Person(\"William\", \"Shakespeare\")\n",
    "val father = william.copy(firstName = \"John\")\n",
    "if (william != father)\n",
    "    println(\"William and father are different\")"
   ]
  },
  {
   "cell_type": "markdown",
   "id": "dec70ef6",
   "metadata": {},
   "source": [
    "<a id=\"interfaces\"></a>\n",
    "## Interfaces\n",
    "Interfaces ensure classes provide specified methods and properties.\n",
    "This is an example interface.\n",
    "A class is indicated to obey an interface by adding the interface name after a `:`,\n",
    "in which case it *implements* the interface.\n",
    "The class must implement every method specified in the interface,\n",
    "with `override` before the definition everywhere those methods are implemented."
   ]
  },
  {
   "cell_type": "code",
   "execution_count": 10,
   "id": "2845baf7",
   "metadata": {
    "collapsed": true
   },
   "outputs": [
    {
     "name": "stdout",
     "output_type": "stream",
     "text": [
      "Shakespeare, William\r\n"
     ]
    }
   ],
   "source": [
    "interface Printable {\n",
    "    fun show()\n",
    "}\n",
    "class Person(var firstName : String, var lastName : String) : Printable {\n",
    "    override fun show() = println(\"$lastName, $firstName\")\n",
    "}\n",
    "val william = Person(\"William\", \"Shakespeare\")\n",
    "william.show()"
   ]
  },
  {
   "cell_type": "markdown",
   "id": "ace2f700",
   "metadata": {},
   "source": [
    "Interfaces can include properties, in which case each property must be defined for the class and declared preceded with `override`."
   ]
  },
  {
   "cell_type": "code",
   "execution_count": 11,
   "id": "c69b53ce",
   "metadata": {
    "collapsed": true
   },
   "outputs": [
    {
     "name": "stdout",
     "output_type": "stream",
     "text": [
      "Shakespeare, William\r\n"
     ]
    }
   ],
   "source": [
    "interface Printable {\n",
    "    val fullName : String\n",
    "    fun show()\n",
    "}\n",
    "class Person(var firstName : String, var lastName : String) : Printable {\n",
    "    override val fullName = \"$lastName, $firstName\"\n",
    "    override fun show() = println(fullName)\n",
    "}\n",
    "val william = Person(\"William\", \"Shakespeare\")\n",
    "william.show()"
   ]
  },
  {
   "cell_type": "markdown",
   "id": "ba9e6283",
   "metadata": {},
   "source": [
    "<a id=\"extension-functions\"></a>\n",
    "## Extension functions\n",
    "*Extension functions* allow adding methods to existing classes.\n",
    "They can be defined for classes for which the definitions are not available, where additional methods cannot be defined for them.\n",
    "Extension functions are called as if they are methods of the class,\n",
    "though they have no access to the internal definition of the class.\n",
    "\n",
    "This is an extension function definition.\n",
    "\n",
    "`fun `*class*`.`*method*`(`*parameter*, *parameter*, $\\cdots$`) { ... }`\n",
    "\n",
    "The definition of the `String` class is not available outside of the standard library.\n",
    "This is an example of an extension function for `String`.\n",
    "`this` represents the value of the `String` object on which the extension function is called."
   ]
  },
  {
   "cell_type": "code",
   "execution_count": 14,
   "id": "cec25b8d",
   "metadata": {
    "collapsed": true
   },
   "outputs": [
    {
     "name": "stdout",
     "output_type": "stream",
     "text": [
      "again and again\r\n"
     ]
    }
   ],
   "source": [
    "fun String.double() = \"$this and $this\"\n",
    "println(\"again\".double())"
   ]
  },
  {
   "cell_type": "markdown",
   "id": "f6610ee0",
   "metadata": {},
   "source": [
    "<a id=\"mutable-properties\"></a>\n",
    "## Mutable properties\n",
    "`firstName` and `lastName` are *read only* properties, because they are declared with `val`.\n",
    "Properties can declared modifiable, or mutable using `var` instead.\n",
    "This is an example of a mutable property."
   ]
  },
  {
   "cell_type": "code",
   "execution_count": 9,
   "id": "26c670f7",
   "metadata": {},
   "outputs": [
    {
     "name": "stdout",
     "output_type": "stream",
     "text": [
      "Hathaway, Anne\r\n",
      "Shakespeare, Anne\r\n"
     ]
    }
   ],
   "source": [
    "class Person(var firstName : String, var lastName : String) {\n",
    "    fun fullName() = \"$lastName, $firstName\"\n",
    "}\n",
    "\n",
    "val anne = Person(\"Anne\", \"Hathaway\")\n",
    "println(anne.fullName())\n",
    "anne.lastName = \"Shakespeare\"\n",
    "println(anne.fullName())"
   ]
  },
  {
   "cell_type": "markdown",
   "id": "fc81c675",
   "metadata": {},
   "source": [
    "A mutable property can have a modifying accessor if more than just changing the value of the property is required.\n",
    "This is an example where changing a property must have some other action taken. \n",
    "`field` represents the field being modified."
   ]
  },
  {
   "cell_type": "code",
   "execution_count": 51,
   "id": "e02e4477",
   "metadata": {
    "collapsed": true
   },
   "outputs": [
    {
     "name": "stdout",
     "output_type": "stream",
     "text": [
      "Hathaway, Anne\r\n",
      "Shakespeare, Anne\r\n"
     ]
    }
   ],
   "source": [
    "class Person(startFirstName : String, startLastName : String) {\n",
    "    var firstName = startFirstName\n",
    "        set(newFirstName : String) {\n",
    "            field = newFirstName\n",
    "            fullName = \"$lastName, $firstName\"\n",
    "        }\n",
    "    var lastName = startLastName\n",
    "        set(newLastName : String) {\n",
    "            field = newLastName\n",
    "            fullName = \"$lastName, $firstName\"\n",
    "        }\n",
    "    var fullName = \"$lastName, $firstName\"\n",
    "}\n",
    "\n",
    "val anne = Person(\"Anne\", \"Hathaway\")\n",
    "println(anne.fullName)\n",
    "anne.lastName = \"Shakespeare\"\n",
    "println(anne.fullName)"
   ]
  }
 ],
 "metadata": {
  "kernelspec": {
   "display_name": "Kotlin",
   "language": "kotlin",
   "name": "kotlin"
  },
  "language_info": {
   "codemirror_mode": "text/x-kotlin",
   "file_extension": ".kt",
   "mimetype": "text/x-kotlin",
   "name": "kotlin",
   "nbconvert_exporter": "",
   "pygments_lexer": "kotlin",
   "version": "1.8.20"
  }
 },
 "nbformat": 4,
 "nbformat_minor": 5
}
