{
 "cells": [
  {
   "cell_type": "markdown",
   "id": "90f817c5",
   "metadata": {},
   "source": [
    "<!-- \n",
    "https://learn.microsoft.com/en-us/dotnet/csharp/fundamentals/object-oriented/inheritance\n",
    "https://www.wikiwand.com/en/Inheritance_(object-oriented_programming)\n",
    "https://docs.oracle.com/javase/tutorial/java/IandI/subclasses.html\n",
    "-->\n",
    "# Inheritance\n",
    "Inheritance  creates classes built upon existing classes.\n",
    "The new class, or *subclass* or *derived class*, inherits the methods and data from the existing class, or *superclass* or *base class*.\n",
    "We say the subclass *inherits* the properties and methods of the base class. \n",
    "The subclass can then extend the base class with additional properties and methods\n",
    "while maintaining the same behaviors.\n",
    "A derived class can have only one direct base class.\n",
    "\n",
    "When multiple classes inherit from a base class, and subclasses inherit from then, the form a *hierarchy* of classes.\n",
    "\n",
    "This is an example of a base and derived class."
   ]
  },
  {
   "cell_type": "code",
   "execution_count": 3,
   "id": "31c787ca",
   "metadata": {
    "collapsed": true
   },
   "outputs": [
    {
     "name": "stdout",
     "output_type": "stream",
     "text": [
      "20\r\n",
      "36\r\n"
     ]
    }
   ],
   "source": [
    "open class Rectangle(val height : Int, val width : Int) {\n",
    "    fun area() = height * width\n",
    "}\n",
    "\n",
    "class Square(side : Int) : Rectangle(side, side)\n",
    "    \n",
    "val rectangle = Rectangle(5, 4)\n",
    "println(rectangle.area())\n",
    "val square = Square(6)\n",
    "println(square.area())"
   ]
  },
  {
   "cell_type": "markdown",
   "id": "a6b21498",
   "metadata": {},
   "source": [
    "These are notes on this.\n",
    "- `Rectangle` is declared with `open` to allow classes to be derived from it\n",
    "- The `Square` definition is followed by `: Rectangle(side, side)` to show that it is a subclass of `Rectangle`\n",
    "- Constructors are not inherited by subclasses, but the constructor of the superclass can be invoked from the subclass.\n",
    "`Rectangle(side, side)` creates an instance of the superclass `Rectangle` with equal sides\n",
    "- In `Square(side : Int)`, `side` is declared without `val` or `var` because it is not a property of `Square`, it is just passed to the constructor for `Rectangle`"
   ]
  },
  {
   "cell_type": "markdown",
   "id": "299e8080",
   "metadata": {},
   "source": [
    "## Method overriding\n",
    "Method *overriding* allows specifying a method in a base class and providing a different implementation of that method in a subclass.\n",
    "This is an example."
   ]
  },
  {
   "cell_type": "code",
   "execution_count": 4,
   "id": "2dfefc39",
   "metadata": {
    "collapsed": true
   },
   "outputs": [
    {
     "name": "stdout",
     "output_type": "stream",
     "text": [
      "this rectangle's area is 20\r\n",
      "this square's area is 36\r\n"
     ]
    }
   ],
   "source": [
    "open class Rectangle(val height : Int, val width : Int) {\n",
    "    fun area() = height * width\n",
    "    open fun show() = println(\"this rectangle's area is ${area()}\")\n",
    "}\n",
    "\n",
    "class Square(side : Int) : Rectangle(side, side) {\n",
    "    override fun show() = println(\"this square's area is ${area()}\")\n",
    "}\n",
    "    \n",
    "val rectangle = Rectangle(5, 4)\n",
    "rectangle.show()\n",
    "val square = Square(6)\n",
    "square.show()"
   ]
  },
  {
   "cell_type": "markdown",
   "id": "425af5da",
   "metadata": {},
   "source": [
    "## Polymorphism\n",
    "Inheritance allows *polymorphism*, which allows using a single symbol to represent multiple different types.\n",
    "Polymorphism allows a variable typed with a base class to be assigned a subclass object.\n",
    "This allows a function with a parameter of a base class to perform the function on any derived class without defining a new function."
   ]
  },
  {
   "cell_type": "code",
   "execution_count": 5,
   "id": "002e7730",
   "metadata": {
    "collapsed": true
   },
   "outputs": [
    {
     "name": "stdout",
     "output_type": "stream",
     "text": [
      "this rectangle's area is 20\r\n",
      "this square's area is 36\r\n"
     ]
    }
   ],
   "source": [
    "fun printRectangle(rectangle : Rectangle) = rectangle.show()\n",
    "\n",
    "open class Rectangle(val height : Int, val width : Int) {\n",
    "    fun area() = height * width\n",
    "    open fun show() = println(\"this rectangle's area is ${area()}\")\n",
    "}\n",
    "\n",
    "class Square(side : Int) : Rectangle(side, side) {\n",
    "    override fun show() = println(\"this square's area is ${area()}\")\n",
    "}\n",
    "    \n",
    "val rectangle = Rectangle(5, 4)\n",
    "printRectangle(rectangle)\n",
    "val square = Square(6)\n",
    "printRectangle(square)"
   ]
  },
  {
   "cell_type": "markdown",
   "id": "005fc7d9",
   "metadata": {},
   "source": [
    "Polymorphism also permits creating a list of objects of a base class but including objects of a derived class."
   ]
  },
  {
   "cell_type": "code",
   "execution_count": 7,
   "id": "351b8a43",
   "metadata": {
    "collapsed": true
   },
   "outputs": [
    {
     "name": "stdout",
     "output_type": "stream",
     "text": [
      "this rectangle's area is 20\r\n",
      "this square's area is 36\r\n"
     ]
    }
   ],
   "source": [
    "fun printRectangle(rectangle : Rectangle) = rectangle.show()\n",
    "\n",
    "open class Rectangle(val height : Int, val width : Int) {\n",
    "    fun area() = height * width\n",
    "    open fun show() = println(\"this rectangle's area is ${area()}\")\n",
    "}\n",
    "\n",
    "class Square(side : Int) : Rectangle(side, side) {\n",
    "    override fun show() = println(\"this square's area is ${area()}\")\n",
    "}\n",
    "    \n",
    "val rectangles = listOf(Rectangle(5, 4), Square(6))\n",
    "for (rectangle in rectangles) printRectangle(rectangle)"
   ]
  },
  {
   "cell_type": "markdown",
   "id": "67d3e9cc",
   "metadata": {},
   "source": [
    "<!--\n",
    "https://www.wikiwand.com/en/Object_composition\n",
    "https://www.infoworld.com/article/3409071/java-challenger-7-debugging-java-inheritance.html\n",
    "https://www.digitalocean.com/community/tutorials/composition-vs-inheritance\n",
    "https://www.wikiwand.com/en/Composition_over_inheritance\n",
    "https://www.adservio.fr/post/composition-vs-inheritance\n",
    "## Composition\n",
    "\n",
    "we can use inheritance when we know there is an \"is a\" relationship between a child and its parent class.\n",
    "\n",
    "Composition over inheritance (or composite reuse principle) in object-oriented programming (OOP) is the principle that classes should favor polymorphic behavior and code reuse by their composition (by containing instances of other classes that implement the desired functionality) over inheritance from a base or parent class.\n",
    "\n",
    "Inheritance is contrasted with object composition, where one object contains another object (or objects of one class contain objects of another class); see composition over inheritance. Composition implements a has-a relationship, in contrast to the is-a relationship of subtyping.\n",
    "\n",
    "Classes and objects created through inheritance are tightly coupled because changing the parent or superclass in an inheritance relationship risks breaking your code. Classes and objects created through composition are loosely coupled, meaning that you can more easily change the component parts without breaking your code.\n",
    "\n",
    "In object-oriented programming, we can use composition in cases where one object \"has\" (or is part of) another object. \n",
    "\n",
    "multiple inheritance\n",
    "\n",
    "In object-oriented programming, inheritance, and composition are two fundamental techniques for creating complex software systems. Inheritance is the mechanism by which a new class is derived from an existing class, inheriting all of its properties and methods. Composition, on the other hand, is the technique of building complex objects by combining simpler objects, rather than inheriting from a base class. \n",
    "\n",
    "The difference between inheritance and composition is that classes and objects in inheritance code are tightly coupled, meaning that they should not be changed because changing the parent or superclass risks changing the sub-class, or child class, thus breaking your code.\n",
    "\n",
    "In composition, on the other hand, classes and objects are loosely coupled, meaning you can more easily switch up these components without breaking the code.\n",
    "\n",
    "This tends to make the composition more flexible, so many developers believe it to be superior to inheritance - but this is oversimplifying the matter.\n",
    "Because loosely coupled code offers more flexibility, many developers have learned that composition is a better technique than inheritance, but the truth is more complex. \n",
    "\n",
    "One of the primary advantages of composition over inheritance is that it provides greater flexibility in designing and implementing software systems. With composition, we can create complex objects by combining simple objects in different ways, depending on our needs. This means that we can build more modular and reusable code that can adapt to different requirements without the need for extensive modification.\n",
    "\n",
    "In this way, we can create a more flexible and modular design that allows us to create new combinations of behaviors without the need for extensive modification.\n",
    "\n",
    "Composition over inheritance (or composite reuse principle) in object-oriented programming (OOP) is the principle that classes should favor polymorphic behavior and code reuse by their composition (by containing instances of other classes that implement the desired functionality) over inheritance from a base or parent class. Ideally all reuse can be achieved by assembling existing components, but in practice inheritance is often needed to make new ones. Therefore inheritance and object composition typically work hand-in-hand, as discussed in the book Design Patterns (1994).\n",
    "\n",
    "An implementation of composition over inheritance typically begins with the creation of various interfaces representing the behaviors that the system must exhibit. Interfaces can facilitate polymorphic behavior. Classes implementing the identified interfaces are built and added to business domain classes as needed. Thus, system behaviors are realized without inheritance.\n",
    "\n",
    "object composition and object aggregation are closely related ways to combine objects or data types into more complex ones.\n",
    "\n",
    "Object composition is about combining objects within compound objects, and at the same time, ensuring the encapsulation of each object by using their well-defined interface without visibility of their internals\n",
    "-->\n"
   ]
  }
 ],
 "metadata": {
  "kernelspec": {
   "display_name": "Kotlin",
   "language": "kotlin",
   "name": "kotlin"
  },
  "language_info": {
   "codemirror_mode": "text/x-kotlin",
   "file_extension": ".kt",
   "mimetype": "text/x-kotlin",
   "name": "kotlin",
   "nbconvert_exporter": "",
   "pygments_lexer": "kotlin",
   "version": "1.8.20"
  }
 },
 "nbformat": 4,
 "nbformat_minor": 5
}
