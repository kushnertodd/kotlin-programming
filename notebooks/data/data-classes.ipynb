{
 "cells": [
  {
   "cell_type": "markdown",
   "id": "089bf98e",
   "metadata": {},
   "source": [
    "<a id=\"data-classes\"></a>\n",
    "## Data classes\n",
    "*Data classes* are a restricted class that primarily contain only properties.\n",
    "Data classes provide some conveniences, such as that they can be compared with `==` and copied without defining extra methods, as would be required by standard classes."
   ]
  },
  {
   "cell_type": "code",
   "execution_count": 8,
   "id": "cca197aa",
   "metadata": {
    "collapsed": true
   },
   "outputs": [
    {
     "name": "stdout",
     "output_type": "stream",
     "text": [
      "William and father are different\r\n"
     ]
    }
   ],
   "source": [
    "data class Person(var firstName : String, var lastName : String)\n",
    "val william = Person(\"William\", \"Shakespeare\")\n",
    "println(william)\n",
    "val father = william.copy(firstName = \"John\")\n",
    "println(father)\n",
    "if (william != father)\n",
    "    println(\"William and father are different\")"
   ]
  }
 ],
 "metadata": {
  "kernelspec": {
   "display_name": "Kotlin",
   "language": "kotlin",
   "name": "kotlin"
  },
  "language_info": {
   "codemirror_mode": "text/x-kotlin",
   "file_extension": ".kt",
   "mimetype": "text/x-kotlin",
   "name": "kotlin",
   "nbconvert_exporter": "",
   "pygments_lexer": "kotlin",
   "version": "1.8.20"
  }
 },
 "nbformat": 4,
 "nbformat_minor": 5
}
