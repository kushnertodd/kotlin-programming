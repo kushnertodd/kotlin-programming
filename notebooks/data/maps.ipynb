{
 "cells": [
  {
   "cell_type": "markdown",
   "id": "14b4611e",
   "metadata": {},
   "source": [
    "# Maps\n",
    "<!-- \n",
    "https://kotlinlang.org/docs/map-operations.html\n",
    "https://www.tutorialspoint.com/kotlin/kotlin_maps.htm\n",
    "https://kotlinlang.org/api/latest/jvm/stdlib/kotlin.collections/-map/\n",
    "https://www.baeldung.com/kotlin/maps\n",
    "https://www.geeksforgeeks.org/kotlin-map-mapof/\n",
    "-->\n",
    "*Maps* are ordered collections of values of any type. \n",
    "They are similar to mathematical [maps](../mathematical-basics/Functions.ipynb#mapping)."
   ]
  },
  {
   "cell_type": "markdown",
   "id": "add428fb",
   "metadata": {},
   "source": [
    "## Creating maps\n",
    "[*Maps*](../mathematical-basics/Functions.ipynb#mapping) are read-only ordered collections that associate one set of objects with objects in a different set.\n",
    "Objects in each set can be any type.\n",
    "\n",
    "Maps are *immutable* by default."
   ]
  },
  {
   "cell_type": "markdown",
   "id": "56bf85d7",
   "metadata": {},
   "source": [
    "<!-- \n",
    "https://kotlinlang.org/api/latest/jvm/stdlib/kotlin/-pair/\n",
    "https://www.baeldung.com/kotlin/pair-class\n",
    "https://www.geeksforgeeks.org/pair-in-kotlin/\n",
    "https://www.tutorialspoint.com/kotlin/kotlin_maps.htm\n",
    "-->\n",
    "<a id=\"pairs\"></a>\n",
    "### Pairs\n",
    "Pairs contain two values of any type.\n",
    "They can be used to create maps.\n",
    "#### `first` property\n",
    "The `first` function returns the first value of the pair.\n",
    "#### `second` property\n",
    "The `second` function returns the second value of the pair.\n",
    "#### `toList` function\n",
    "Converts this pair into a list."
   ]
  },
  {
   "cell_type": "code",
   "execution_count": null,
   "id": "e5e4265f",
   "metadata": {},
   "outputs": [],
   "source": [
    "val thePair1 = Pair(1, \"x\")\n",
    "println(thePair1.first) \n",
    "println(thePair1.second)\n",
    "val thePair2 = 1 to \"x\"\n",
    "println(thePair2.first) \n",
    "println(thePair2.second)"
   ]
  },
  {
   "cell_type": "markdown",
   "id": "6e4e39e9",
   "metadata": {},
   "source": [
    "### `mapOf` function\n",
    "The `mapOf` function creates a read-only map from a collection of values.\n",
    "The types of all the values need not be the same.\n",
    "There are multiple ways to construct maps.\n",
    "This is a way to constract maps using pairs."
   ]
  },
  {
   "cell_type": "code",
   "execution_count": 2,
   "id": "21bdcbfe",
   "metadata": {
    "collapsed": true
   },
   "outputs": [
    {
     "name": "stdout",
     "output_type": "stream",
     "text": [
      "{one=1, two=2}\r\n"
     ]
    }
   ],
   "source": [
    "val theMap = mapOf(Pair(\"one\", 1), Pair(\"two\", 2))\n",
    "println(theMap)"
   ]
  },
  {
   "cell_type": "markdown",
   "id": "cf9032bd",
   "metadata": {},
   "source": [
    "Another way to construct maps is using pair created using the `to` function."
   ]
  },
  {
   "cell_type": "code",
   "execution_count": 1,
   "id": "5f1d7ef3",
   "metadata": {
    "collapsed": true
   },
   "outputs": [
    {
     "name": "stdout",
     "output_type": "stream",
     "text": [
      "{one=1, two=2}\r\n"
     ]
    }
   ],
   "source": [
    "val theMap = mapOf(\"one\" to 1, \"two\" to 2)\n",
    "println(theMap)"
   ]
  },
  {
   "cell_type": "markdown",
   "id": "3a30769c",
   "metadata": {},
   "source": [
    "Note that if two pairs with the same key are added, the key has the value of the second pair."
   ]
  },
  {
   "cell_type": "code",
   "execution_count": 12,
   "id": "bfbabc1b",
   "metadata": {
    "collapsed": true
   },
   "outputs": [
    {
     "name": "stdout",
     "output_type": "stream",
     "text": [
      "{one=3, two=2}\r\n"
     ]
    }
   ],
   "source": [
    "val theMap = mapOf(\"one\" to 1, \"two\" to 2, \"one\" to 3)\n",
    "println(theMap)"
   ]
  },
  {
   "cell_type": "markdown",
   "id": "faeba153",
   "metadata": {},
   "source": [
    "This is an illustration of the structure of that map.\n",
    "Each element is at a given position, numbered starting at 0.\n",
    "<img src=\"maps-map1.jpg\" width=\"300\" height=\"150\"/>"
   ]
  },
  {
   "cell_type": "markdown",
   "id": "64d232e3",
   "metadata": {},
   "source": [
    "### `+` element operator\n",
    "The `+` operator adds elements to a map or a map to a map. \n",
    "Note that an entry with the same key in the map replaces the value for that key."
   ]
  },
  {
   "cell_type": "code",
   "execution_count": 2,
   "id": "933ac6c0",
   "metadata": {
    "collapsed": true
   },
   "outputs": [
    {
     "name": "stdout",
     "output_type": "stream",
     "text": [
      "{one=1, two=2, three=3, four=4}\r\n",
      "{one=1, two=4, three=3}\r\n"
     ]
    }
   ],
   "source": [
    "val theMap = mapOf(\"one\" to 1, \"two\" to 2, \"three\" to 3)\n",
    "val result_add = theMap + mapOf(\"four\" to 4)\n",
    "println(result_add)\n",
    "val result_replace = theMap +  mapOf(\"two\" to 4)\n",
    "println(result_replace)"
   ]
  },
  {
   "cell_type": "markdown",
   "id": "84e63c57",
   "metadata": {},
   "source": [
    "### `-` key operator\n",
    "The `-` operator removes an entries to a map corresponding to a list of keys. \n",
    "This does nothing if the key is not in the map."
   ]
  },
  {
   "cell_type": "code",
   "execution_count": 50,
   "id": "f766ddd1",
   "metadata": {
    "collapsed": true
   },
   "outputs": [
    {
     "name": "stdout",
     "output_type": "stream",
     "text": [
      "{one=1}\r\n"
     ]
    }
   ],
   "source": [
    "val theMap = mapOf(\"one\" to 1, \"two\" to 2, \"three\" to 3)\n",
    "val list_remove = listOf(\"two\", \"three\", \"four\")\n",
    "val result_remove = theMap - list_remove\n",
    "println(result_remove)"
   ]
  },
  {
   "cell_type": "markdown",
   "id": "6e9272de",
   "metadata": {},
   "source": [
    "### `+`  operator\n",
    "The `+` operators adds an Pair entry into a map. "
   ]
  },
  {
   "cell_type": "code",
   "execution_count": 53,
   "id": "5c1168e3",
   "metadata": {
    "collapsed": true
   },
   "outputs": [
    {
     "name": "stdout",
     "output_type": "stream",
     "text": [
      "{one=1, two=2, three=3, four=4, five=5}\r\n"
     ]
    }
   ],
   "source": [
    "val firstMap = mapOf(\"one\" to 1, \"two\" to 2, \"three\" to 3)\n",
    "val secondMap = mapOf(\"two\" to 2, \"three\" to 3, \"four\" to 4, \"five\" to 5)\n",
    "val resultMap = firstMap + secondMap\n",
    "\n",
    "println(resultMap)"
   ]
  },
  {
   "cell_type": "markdown",
   "id": "fd514151",
   "metadata": {},
   "source": [
    "## Accessing maps\n",
    "These are functions to access portions of a map.\n",
    "The first element is at position 0 rather than 1."
   ]
  },
  {
   "cell_type": "markdown",
   "id": "7f44c9e4",
   "metadata": {},
   "source": [
    "### Accessing maps by key\n",
    "Maps can be accessed by a key.\n",
    "Elements of maps can be accessed by key using square brackets `[` and `]`."
   ]
  },
  {
   "cell_type": "code",
   "execution_count": 18,
   "id": "befc063f",
   "metadata": {
    "collapsed": true
   },
   "outputs": [
    {
     "name": "stdout",
     "output_type": "stream",
     "text": [
      "1\r\n",
      "2\r\n"
     ]
    }
   ],
   "source": [
    "val theMap = mapOf(\"one\" to 1, \"two\" to 2, \"four\" to 4, \"five\" to 5)\n",
    "println(theMap[\"one\"])\n",
    "println(theMap[\"two\"])"
   ]
  },
  {
   "cell_type": "markdown",
   "id": "87f7fc94",
   "metadata": {},
   "source": [
    "### `entries` property\n",
    "The `entries` property returns a set of all pairs in a map."
   ]
  },
  {
   "cell_type": "code",
   "execution_count": 11,
   "id": "00065fd0",
   "metadata": {
    "collapsed": true
   },
   "outputs": [
    {
     "name": "stdout",
     "output_type": "stream",
     "text": [
      "[one=1, two=2, three=3, four=4]\r\n"
     ]
    }
   ],
   "source": [
    "val theMap = mapOf(\"one\" to 1, \"two\" to 2, \"three\" to 3, \"four\" to 4)\n",
    "println(theMap.entries)"
   ]
  },
  {
   "cell_type": "markdown",
   "id": "70757d42",
   "metadata": {},
   "source": [
    "### `get` function\n",
    "The `get` function also returns the elements of a map by key."
   ]
  },
  {
   "cell_type": "code",
   "execution_count": 19,
   "id": "893d3052",
   "metadata": {
    "collapsed": true
   },
   "outputs": [
    {
     "name": "stdout",
     "output_type": "stream",
     "text": [
      "1\r\n"
     ]
    }
   ],
   "source": [
    "val theMap = mapOf(\"one\" to 1, \"two\" to 2, \"three\" to 4, \"four\" to 5)\n",
    "println(theMap.get(\"one\"))"
   ]
  },
  {
   "cell_type": "markdown",
   "id": "5d5cf84f",
   "metadata": {},
   "source": [
    "### `getValue` function\n",
    "The `getValue` function returns the vale for a given key."
   ]
  },
  {
   "cell_type": "code",
   "execution_count": 5,
   "id": "9ed2c3ce",
   "metadata": {
    "collapsed": true
   },
   "outputs": [
    {
     "name": "stdout",
     "output_type": "stream",
     "text": [
      "1\r\n",
      "2\r\n"
     ]
    }
   ],
   "source": [
    "val theMap = mapOf(\"one\" to 1, \"two\" to 2, \"three\" to 3, \"four\" to 4)\n",
    "println(theMap.getValue(\"one\"))\n",
    "println(theMap.getValue(\"two\"))"
   ]
  },
  {
   "cell_type": "markdown",
   "id": "266b9191",
   "metadata": {},
   "source": [
    "### `keys` property\n",
    "The `keys` property returns a set of all keys in a map."
   ]
  },
  {
   "cell_type": "code",
   "execution_count": 4,
   "id": "223991e6",
   "metadata": {
    "collapsed": true
   },
   "outputs": [
    {
     "name": "stdout",
     "output_type": "stream",
     "text": [
      "[one, two, three, four]\r\n"
     ]
    }
   ],
   "source": [
    "val theMap = mapOf(\"one\" to 1, \"two\" to 2, \"three\" to 3, \"four\" to 4)\n",
    "println(theMap.keys)"
   ]
  },
  {
   "cell_type": "markdown",
   "id": "3da9e6d7",
   "metadata": {},
   "source": [
    "### `values` property\n",
    "The `values` property returns a set of all values in a map."
   ]
  },
  {
   "cell_type": "code",
   "execution_count": 5,
   "id": "807c4b9a",
   "metadata": {
    "collapsed": true
   },
   "outputs": [
    {
     "name": "stdout",
     "output_type": "stream",
     "text": [
      "[1, 2, 3, 4]\r\n"
     ]
    }
   ],
   "source": [
    "val theMap = mapOf(\"one\" to 1, \"two\" to 2, \"three\" to 3, \"four\" to 4)\n",
    "println(theMap.values)"
   ]
  },
  {
   "cell_type": "markdown",
   "id": "e6e56ef9",
   "metadata": {},
   "source": [
    "### Other map accessing functions"
   ]
  },
  {
   "cell_type": "markdown",
   "id": "94ba98f0",
   "metadata": {},
   "source": [
    "### `size` property\n",
    "The `size` property gives the total number of elements in a map."
   ]
  },
  {
   "cell_type": "code",
   "execution_count": 7,
   "id": "59962877",
   "metadata": {
    "collapsed": true
   },
   "outputs": [
    {
     "name": "stdout",
     "output_type": "stream",
     "text": [
      "Size of the Map 5\r\n"
     ]
    }
   ],
   "source": [
    "val theMap = mapOf(\"one\" to 1, \"two\" to 2, \"four\" to 4, \"five\" to 5)\n",
    "println(\"Size of the Map \" + theMap.size)"
   ]
  },
  {
   "cell_type": "markdown",
   "id": "20ff5c22",
   "metadata": {},
   "source": [
    "<!-- \n",
    "https://www.baeldung.com/kotlin/map-mutablemap\n",
    "-->\n",
    "## Modifiable maps\n",
    "Modifiable maps allow changing elements within the map.\n",
    "Modifiable maps are *mutable*."
   ]
  },
  {
   "cell_type": "markdown",
   "id": "19735182",
   "metadata": {},
   "source": [
    "### `mutableMapOf` function\n",
    "The `mutableMapOf` function creates a modifiable map from a collection of values.\n",
    "The types of all the values need not be the same."
   ]
  },
  {
   "cell_type": "code",
   "execution_count": 8,
   "id": "430ec910",
   "metadata": {
    "collapsed": true
   },
   "outputs": [
    {
     "name": "stdout",
     "output_type": "stream",
     "text": [
      "[one, two, 3]\r\n"
     ]
    }
   ],
   "source": [
    "val theMap = mutableMapOf(\"one\" to 1, \"two\" to 2, 3)\n",
    "println(theMap)"
   ]
  },
  {
   "cell_type": "markdown",
   "id": "0403900a",
   "metadata": {},
   "source": [
    "### Updating maps\n",
    "Elements of maps can be replaced by position using square brackets `[` and `]` or the `put` and `putAll` functions\n",
    "`+= mapOf(1 to 2, 3 to 4)`\n",
    "`-= 1`\n"
   ]
  },
  {
   "cell_type": "code",
   "execution_count": 42,
   "id": "35f35f04",
   "metadata": {
    "collapsed": true
   },
   "outputs": [
    {
     "name": "stdout",
     "output_type": "stream",
     "text": [
      "[one, two, three]\r\n"
     ]
    }
   ],
   "source": [
    "val numbers = mutableMapOf(\"one\" to 1, \"five\" to 5, \"three\" to 3)\n",
    "numbers[1] =  \"two\"\n",
    "println(numbers)\n",
    "numbers.put(\"four\" to 4, 4)\n",
    "numbers.putAll(1 to 2, 3 to 4)"
   ]
  },
  {
   "cell_type": "markdown",
   "id": "e5a8561a",
   "metadata": {},
   "source": [
    "### Maps and variables"
   ]
  },
  {
   "cell_type": "markdown",
   "id": "1f23de2e",
   "metadata": {},
   "source": [
    "Maps are stored as *pointers* in variables.\n",
    "This is the result of\n",
    "\n",
    "`var theFirstMap = mutableMapOf(5, 9, 1)`\n",
    "<img src=\"maps-map2.jpg\" width=\"500\" height=\"250\"/>\n",
    "\n",
    "This is the result when that map is assigned to another variable.\n",
    "\n",
    "`val theSecondMap = theFirstMap`\n",
    "<img src=\"maps-map3.jpg\" width=\"500\" height=\"250\"/>\n",
    "\n",
    "This is the result after the second element in the first map is updated to a new value.\n",
    "Both maps are updated.\n",
    "\n",
    "`theFirstMap `\n",
    "<img src=\"maps-map3.jpg\" width=\"500\" height=\"250\"/>"
   ]
  },
  {
   "cell_type": "code",
   "execution_count": 65,
   "id": "98dfad65",
   "metadata": {
    "collapsed": true
   },
   "outputs": [
    {
     "name": "stdout",
     "output_type": "stream",
     "text": [
      "[5, 9, 1]\r\n",
      "[5, 9, 1]\r\n",
      "[5, 2, 1]\r\n",
      "[5, 2, 1]\r\n"
     ]
    }
   ],
   "source": [
    "var theFirstMap = mutableMapOf(5, 9, 1)\n",
    "val theSecondMap = theFirstMap\n",
    "println(theFirstMap)\n",
    "println(theSecondMap)\n",
    "theFirstMap[1] = 2\n",
    "println(theFirstMap)\n",
    "println(theSecondMap)"
   ]
  },
  {
   "cell_type": "markdown",
   "id": "2a79f2d1",
   "metadata": {},
   "source": [
    "### `toMap` function\n",
    "The `toMap` function creates a copy of a map.\n",
    "When that map is assigned to another variable, a new copy of the map is created.\n",
    "This is the result after the second element in the first map is updated to a new value.\n",
    "Only the first map is updated.\n",
    "\n",
    "<img src=\"maps-map5.jpg\" width=\"500\" height=\"250\"/>\n"
   ]
  },
  {
   "cell_type": "code",
   "execution_count": 66,
   "id": "d4d9c7e7",
   "metadata": {
    "collapsed": true
   },
   "outputs": [
    {
     "name": "stdout",
     "output_type": "stream",
     "text": [
      "[5, 9, 1]\r\n",
      "[5, 9, 1]\r\n",
      "[5, 2, 1]\r\n",
      "[5, 9, 1]\r\n"
     ]
    }
   ],
   "source": [
    "var theFirstMap = mutableMapOf(5, 9, 1)\n",
    "val theSecondMap = theFirstMap.toMap()\n",
    "println(theFirstMap)\n",
    "println(theSecondMap)\n",
    "theFirstMap[1] = 2\n",
    "println(theFirstMap)\n",
    "println(theSecondMap)"
   ]
  },
  {
   "cell_type": "markdown",
   "id": "fb80b761",
   "metadata": {},
   "source": [
    "### `remove` element function\n",
    "The `remove` function removes elements from a mutable map. \n",
    "This does nothing if the elements are not in the map."
   ]
  },
  {
   "cell_type": "code",
   "execution_count": 56,
   "id": "8ee4febb",
   "metadata": {
    "collapsed": true
   },
   "outputs": [
    {
     "name": "stdout",
     "output_type": "stream",
     "text": [
      "{one=1, two=2, four=4, five=5}\r\n",
      "{one=1, five=5}\r\n"
     ]
    }
   ],
   "source": [
    "val theMap = mutableMapOf(\"one\" to 1, \"two\" to 2, \"three\" to 3, \"four\" to 4, \"five\" to 5)\n",
    "theMap.remove(\"three\")\n",
    "println(theMap)\n",
    "val list_remove = listOf(\"two\", \"four\")\n",
    "theMap -= list_remove\n",
    "println(theMap)"
   ]
  },
  {
   "cell_type": "markdown",
   "id": "b7262714",
   "metadata": {},
   "source": [
    "### `sortedMapOf` and `toSortedMap` map function\n",
    "The `sortedMapOf` function creates a map with all entries sorted by key in ascending order.\n",
    "The `toSortedMap` function returns a map with all entries sorted by key.\n",
    "The sorting is appropriate to the key type.\n",
    "String keys are sorted in alphabetical order."
   ]
  },
  {
   "cell_type": "code",
   "execution_count": 57,
   "id": "de959e95",
   "metadata": {
    "collapsed": true
   },
   "outputs": [
    {
     "name": "stdout",
     "output_type": "stream",
     "text": [
      "{five=5, four=4, one=1, three=3, two=2}\r\n",
      "{five=5, four=4, one=1, three=3, two=2}\r\n"
     ]
    }
   ],
   "source": [
    "val theMap1 = mapOf(\"five\" to 5, \"three\" to 3, \"one\" to 1, \"four\" to 4, \"two\" to 2)\n",
    "val sortedMap = theMap1.toSortedMap()\n",
    "println(sortedMap)\n",
    "val theMap2 = sortedMapOf(\"five\" to 5, \"three\" to 3, \"one\" to 1, \"four\" to 4, \"two\" to 2)\n",
    "println(theMap2)"
   ]
  },
  {
   "cell_type": "markdown",
   "id": "29ce5c56",
   "metadata": {},
   "source": [
    "## Map tests"
   ]
  },
  {
   "cell_type": "markdown",
   "id": "f6668258",
   "metadata": {},
   "source": [
    "### `in` operator\n",
    "The `in` operator can be used to check the existence of an element in a map."
   ]
  },
  {
   "cell_type": "code",
   "execution_count": 38,
   "id": "3173c065",
   "metadata": {
    "collapsed": true
   },
   "outputs": [
    {
     "name": "stdout",
     "output_type": "stream",
     "text": [
      "true\r\n"
     ]
    }
   ],
   "source": [
    "val theMap = mapOf(\"one\" to 1, \"two\" to 2, \"three\" to 3, \"four\" to 4)\n",
    "if(\"two\" in theMap)\n",
    "      println(true)\n",
    "else\n",
    "      println(false)"
   ]
  },
  {
   "cell_type": "markdown",
   "id": "61593da7",
   "metadata": {},
   "source": [
    "### `contains` function\n",
    "The `contains` function can also be used to check the existence of a key in a map."
   ]
  },
  {
   "cell_type": "code",
   "execution_count": 13,
   "id": "79938abe",
   "metadata": {
    "collapsed": true
   },
   "outputs": [
    {
     "name": "stdout",
     "output_type": "stream",
     "text": [
      "true\r\n"
     ]
    }
   ],
   "source": [
    "val theMap = mapOf(\"one\" to 1, \"two\" to 2, \"three\" to 3, \"four\" to 4)\n",
    "if(theMap.contains(\"two\"))\n",
    "      println(true)\n",
    "else\n",
    "      println(false)"
   ]
  },
  {
   "cell_type": "markdown",
   "id": "315a1258",
   "metadata": {},
   "source": [
    "### `containsKey` function\n",
    "The `containsKey` function can also be used to check the existence of a key in a map."
   ]
  },
  {
   "cell_type": "code",
   "execution_count": 14,
   "id": "5b55fc9e",
   "metadata": {
    "collapsed": true
   },
   "outputs": [
    {
     "name": "stdout",
     "output_type": "stream",
     "text": [
      "true\r\n"
     ]
    }
   ],
   "source": [
    "val theMap = mapOf(\"one\" to 1, \"two\" to 2, \"three\" to 3, \"four\" to 4)\n",
    "if(theMap.contains(\"two\"))\n",
    "      println(true)\n",
    "else\n",
    "      println(false)"
   ]
  },
  {
   "cell_type": "markdown",
   "id": "5a3367dc",
   "metadata": {},
   "source": [
    "### `containsValue` function\n",
    "The `containsValue` function can also be used to check the existence of a value in a map."
   ]
  },
  {
   "cell_type": "code",
   "execution_count": 15,
   "id": "a49e59ef",
   "metadata": {
    "collapsed": true
   },
   "outputs": [
    {
     "name": "stdout",
     "output_type": "stream",
     "text": [
      "true\r\n"
     ]
    }
   ],
   "source": [
    "val theMap = mapOf(\"one\" to 1, \"two\" to 2, \"three\" to 3, \"four\" to 4)\n",
    "if(theMap.contains(\"two\"))\n",
    "      println(true)\n",
    "else\n",
    "      println(false)"
   ]
  },
  {
   "cell_type": "markdown",
   "id": "fed69771",
   "metadata": {},
   "source": [
    "### `isEmpty` function\n",
    "The `isEmpty` function returns true if the map is empty (contains no elements), false otherwise."
   ]
  },
  {
   "cell_type": "code",
   "execution_count": 40,
   "id": "3ac67d2c",
   "metadata": {
    "collapsed": true
   },
   "outputs": [
    {
     "name": "stdout",
     "output_type": "stream",
     "text": [
      "false\r\n"
     ]
    }
   ],
   "source": [
    "val theMap = mapOf(\"one\" to 1, \"two\" to 2, \"three\" to 3, \"four\" to 4)\n",
    "if(theMap.isEmpty())\n",
    "      println(true)\n",
    "else\n",
    "      println(false)"
   ]
  },
  {
   "cell_type": "markdown",
   "id": "9a8458f4",
   "metadata": {},
   "source": [
    "### `isNotEmpty` function\n",
    "The `isNotEmpty` function returns false if the map is empty (contains no elements), true otherwise."
   ]
  },
  {
   "cell_type": "code",
   "execution_count": 41,
   "id": "b84bf578",
   "metadata": {
    "collapsed": true
   },
   "outputs": [
    {
     "name": "stdout",
     "output_type": "stream",
     "text": [
      "true\r\n"
     ]
    }
   ],
   "source": [
    "val theMap = mapOf(\"one\" to 1, \"two\" to 2, \"three\" to 3, \"four\" to 4)\n",
    "if(theMap.isNotEmpty())\n",
    "      println(true)\n",
    "else\n",
    "      println(false)"
   ]
  },
  {
   "cell_type": "markdown",
   "id": "361fcdce",
   "metadata": {},
   "source": [
    "## Looping through maps"
   ]
  },
  {
   "cell_type": "markdown",
   "id": "6e9069d5",
   "metadata": {},
   "source": [
    "### `for` loop\n",
    "The `for` loop can perform an action on each entry of a map.\n",
    "This loop uses the `in` operator to select each entry of the map.\n",
    "entry have no order in a map so there is no assurance of the order the elements will be processed."
   ]
  },
  {
   "cell_type": "code",
   "execution_count": 58,
   "id": "50a8e5a3",
   "metadata": {
    "collapsed": true
   },
   "outputs": [
    {
     "name": "stdout",
     "output_type": "stream",
     "text": [
      "one=1\r\n",
      "two=2\r\n",
      "three=3\r\n",
      "four=4\r\n"
     ]
    }
   ],
   "source": [
    "val theMap = mapOf(\"one\" to 1, \"two\" to 2, \"three\" to 3, \"four\" to 4)\n",
    "for (entry in theMap)\n",
    "      println(entry)"
   ]
  },
  {
   "cell_type": "markdown",
   "id": "330ce945",
   "metadata": {},
   "source": [
    "### `forEach` loop\n",
    "The `foreach` loop is a variation of the `for` loop to perform an action on each entry of a map.\n",
    "This loop uses the `it` operator to access the entry currently selected in the loop."
   ]
  },
  {
   "cell_type": "code",
   "execution_count": 59,
   "id": "2b49cb75",
   "metadata": {
    "collapsed": true
   },
   "outputs": [
    {
     "name": "stdout",
     "output_type": "stream",
     "text": [
      "one=1\r\n",
      "two=2\r\n",
      "three=3\r\n",
      "four=4\r\n"
     ]
    }
   ],
   "source": [
    "val theMap = mapOf(\"one\" to 1, \"two\" to 2, \"three\" to 3, \"four\" to 4)\n",
    "theMap.forEach { println(it) }"
   ]
  },
  {
   "cell_type": "markdown",
   "id": "60c00eb6",
   "metadata": {},
   "source": [
    "## Other map functions"
   ]
  },
  {
   "cell_type": "markdown",
   "id": "1ed8c48e",
   "metadata": {},
   "source": [
    "### `toString` function\n",
    "The `toString` function converts to a map to a readable form."
   ]
  },
  {
   "cell_type": "code",
   "execution_count": 60,
   "id": "0c41591a",
   "metadata": {
    "collapsed": true
   },
   "outputs": [
    {
     "name": "stdout",
     "output_type": "stream",
     "text": [
      "{one=1, two=2, three=3, four=4}\r\n"
     ]
    }
   ],
   "source": [
    "val theMap = mapOf(\"one\" to 1, \"two\" to 2, \"three\" to 3, \"four\" to 4)\n",
    "println(theMap.toString())"
   ]
  }
 ],
 "metadata": {
  "kernelspec": {
   "display_name": "Kotlin",
   "language": "kotlin",
   "name": "kotlin"
  },
  "language_info": {
   "codemirror_mode": "text/x-kotlin",
   "file_extension": ".kt",
   "mimetype": "text/x-kotlin",
   "name": "kotlin",
   "nbconvert_exporter": "",
   "pygments_lexer": "kotlin",
   "version": "1.8.20"
  }
 },
 "nbformat": 4,
 "nbformat_minor": 5
}
