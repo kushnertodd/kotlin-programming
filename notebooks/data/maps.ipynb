{
 "cells": [
  {
   "cell_type": "markdown",
   "id": "14b4611e",
   "metadata": {},
   "source": [
    "# Maps\n",
    "<!--\n",
    "https://kotlinlang.org/docs/map-operations.html\n",
    "https://www.tutorialspoint.com/kotlin/kotlin_maps.htm\n",
    "https://kotlinlang.org/api/latest/jvm/stdlib/kotlin.collections/-map/\n",
    "https://www.baeldung.com/kotlin/maps\n",
    "-->\n",
    "*Maps* are ordered collections of values of any type. \n",
    "They are similar to mathematical [maps](../mathematical-basics/Functions.ipynb#mapping)."
   ]
  },
  {
   "cell_type": "markdown",
   "id": "add428fb",
   "metadata": {},
   "source": [
    "## Creating maps\n",
    "Maps are read-only ordered collections of values by default.\n",
    "Maps are *immutable* by default."
   ]
  },
  {
   "cell_type": "markdown",
   "id": "56bf85d7",
   "metadata": {},
   "source": [
    "Pairs"
   ]
  },
  {
   "cell_type": "markdown",
   "id": "6e4e39e9",
   "metadata": {},
   "source": [
    "### `mapOf` function\n",
    "The `mapOf` function creates a read-only map from a collection of values.\n",
    "The types of all the values need not be the same."
   ]
  },
  {
   "cell_type": "code",
   "execution_count": 2,
   "id": "21bdcbfe",
   "metadata": {},
   "outputs": [
    {
     "name": "stdout",
     "output_type": "stream",
     "text": [
      "{five=5, nine=9, one=1, two=2}\r\n"
     ]
    }
   ],
   "source": [
    "val theMap = mapOf(\"five\", \"nine\", Pair(\"one\", 1), Pair(\"two\", 2))\n",
    "println(theMap)"
   ]
  },
  {
   "cell_type": "markdown",
   "id": "faeba153",
   "metadata": {},
   "source": [
    "This is an illustration of the structure of that map.\n",
    "Each element is at a given position, numbered starting at 0.\n",
    "<img src=\"maps-map1.jpg\" width=\"300\" height=\"150\"/>"
   ]
  },
  {
   "cell_type": "markdown",
   "id": "64d232e3",
   "metadata": {},
   "source": [
    "### `+` element operator\n",
    "The `+` operator adds elements to a map. \n",
    "This discards duplicate elements."
   ]
  },
  {
   "cell_type": "code",
   "execution_count": 2,
   "id": "933ac6c0",
   "metadata": {
    "collapsed": true
   },
   "outputs": [
    {
     "name": "stdout",
     "output_type": "stream",
     "text": [
      "[one, two, three, four]\r\n",
      "[one, two, three, two]\r\n"
     ]
    }
   ],
   "source": [
    "val theMap = mapOf(\"one\" to 1, \"two\" to 2, \"three\" to 3)\n",
    "val result_add = theMap + \"four\"\n",
    "println(result_add)\n",
    "val result_discard = theMap + \"two\"\n",
    "println(result_discard)"
   ]
  },
  {
   "cell_type": "markdown",
   "id": "84e63c57",
   "metadata": {},
   "source": [
    "### `-` key operator x\n",
    "The `-` operator removes an entry to a map corresponding to a key. \n",
    "This does nothing if the key is not in the map."
   ]
  },
  {
   "cell_type": "code",
   "execution_count": 3,
   "id": "f766ddd1",
   "metadata": {
    "collapsed": true
   },
   "outputs": [
    {
     "name": "stdout",
     "output_type": "stream",
     "text": [
      "[one, two]\r\n",
      "[one, two, three]\r\n"
     ]
    }
   ],
   "source": [
    "val theMap = mapOf(\"one\" to 1, \"two\" to 2, \"three\" to 3)\n",
    "val result_have = theMap - \"three\"\n",
    "println(result_have)\n",
    "val result_missing = theMap - \"four\"\n",
    "println(result_missing)"
   ]
  },
  {
   "cell_type": "markdown",
   "id": "6e9272de",
   "metadata": {},
   "source": [
    "### `+`  operator x\n",
    "The `+` operators adds an Pair entry into a map. "
   ]
  },
  {
   "cell_type": "code",
   "execution_count": 4,
   "id": "5c1168e3",
   "metadata": {
    "collapsed": true
   },
   "outputs": [
    {
     "name": "stdout",
     "output_type": "stream",
     "text": [
      "[one, two, three, two, three, four, five]\r\n",
      "[one, two, three, four, five]\r\n"
     ]
    }
   ],
   "source": [
    "val firstMap = mapOf(\"one\" to 1, \"two\" to 2, \"three\" to 3)\n",
    "val secondMap = mapOf(\"two\" to 2, \"three\" to 3, \"four\" to 4, \"five\" to 5)\n",
    "val resultMap = firstMap + secondMap\n",
    "val unionMap = firstMap union secondMap\n",
    "println(resultMap)\n",
    "println(unionMap)"
   ]
  },
  {
   "cell_type": "markdown",
   "id": "4ea7eea0",
   "metadata": {},
   "source": [
    "### `intersection` map operator\n",
    "The [`intersect`](../mathematical-basics/maps/maps.ipynb#map-Intersection) operator collects all common elements of two or more maps into a single map. "
   ]
  },
  {
   "cell_type": "code",
   "execution_count": 5,
   "id": "26108717",
   "metadata": {
    "collapsed": true
   },
   "outputs": [
    {
     "name": "stdout",
     "output_type": "stream",
     "text": [
      "[two, three]\r\n"
     ]
    }
   ],
   "source": [
    "val firstMap = mapOf(\"one\" to 1, \"two\" to 2, \"three\") to 3\n",
    "val secondMap = mapOf(\"two\" to 2, \"three\" to 3, \"four\" to 4, \"five\" to 5)\n",
    "val intersectMap = firstMap intersect secondMap\n",
    "println(intersectMap)"
   ]
  },
  {
   "cell_type": "markdown",
   "id": "8cd80dbc",
   "metadata": {},
   "source": [
    "### `-` map operator\n",
    "The `-` operator removes the elements of two or more maps from a map. "
   ]
  },
  {
   "cell_type": "code",
   "execution_count": 6,
   "id": "19e50b94",
   "metadata": {
    "collapsed": true
   },
   "outputs": [
    {
     "name": "stdout",
     "output_type": "stream",
     "text": [
      "[one]\r\n"
     ]
    }
   ],
   "source": [
    "val firstMap = mapOf(\"one\" to 1, \"two\" to 2, \"three\" to 3)\n",
    "val secondMap = mapOf(\"two\" to 2, \"three\" to 3, \"four\" to 4, \"five\" to 5)\n",
    "val resultMap = firstMap - secondMap\n",
    "println(resultMap)"
   ]
  },
  {
   "cell_type": "markdown",
   "id": "fd514151",
   "metadata": {},
   "source": [
    "## Accessing maps\n",
    "These are functions to access portions of a map.\n",
    "The first element is at position 0 rather than 1."
   ]
  },
  {
   "cell_type": "markdown",
   "id": "7f44c9e4",
   "metadata": {},
   "source": [
    "### Accessing maps by position\n",
    "Maps can be accessed by an index.\n",
    "Elements of maps can be accessed by position using square brackets `[` and `]`."
   ]
  },
  {
   "cell_type": "code",
   "execution_count": 41,
   "id": "befc063f",
   "metadata": {
    "collapsed": true
   },
   "outputs": [
    {
     "name": "stdout",
     "output_type": "stream",
     "text": [
      "one\r\n",
      "five\r\n"
     ]
    }
   ],
   "source": [
    "val theMap = mapOf(\"one\" to 1, \"two\" to 2, \"four\" to 4, \"five\" to 5)\n",
    "println(theMap[0])\n",
    "println(theMap[3])"
   ]
  },
  {
   "cell_type": "markdown",
   "id": "1d792d73",
   "metadata": {},
   "source": [
    "### `distinct` function\n",
    "The `distinct` function returns the a map from another map with duplicates removed."
   ]
  },
  {
   "cell_type": "code",
   "execution_count": 53,
   "id": "1107051a",
   "metadata": {
    "collapsed": true
   },
   "outputs": [
    {
     "name": "stdout",
     "output_type": "stream",
     "text": [
      "[one, two, four, five]\r\n",
      "four\r\n"
     ]
    }
   ],
   "source": [
    "val theMap = mapOf(\"one\" to 1, \"two\" to 2, \"four\" to 4, \"five\" to 5, \"two\" to 2, \"four\" to 4)\n",
    "println(theMap.distinct())"
   ]
  },
  {
   "cell_type": "markdown",
   "id": "976149a9",
   "metadata": {},
   "source": [
    "### `first` function\n",
    "The `first` function returns the first element of a map."
   ]
  },
  {
   "cell_type": "code",
   "execution_count": 57,
   "id": "2bbe6c20",
   "metadata": {
    "collapsed": true
   },
   "outputs": [
    {
     "name": "stdout",
     "output_type": "stream",
     "text": [
      "one\r\n"
     ]
    }
   ],
   "source": [
    "val theMap = mapOf(\"one\" to 1, \"two\" to 2, \"four\" to 4, \"five\"i to 5)\n",
    "println(theMap.first())"
   ]
  },
  {
   "cell_type": "markdown",
   "id": "5d5cf84f",
   "metadata": {},
   "source": [
    "### `get` function x\n",
    "The `get` function returns the vale for a given key."
   ]
  },
  {
   "cell_type": "code",
   "execution_count": 27,
   "id": "9ed2c3ce",
   "metadata": {},
   "outputs": [
    {
     "name": "stdout",
     "output_type": "stream",
     "text": [
      "one\r\n",
      "four\r\n"
     ]
    }
   ],
   "source": [
    "val theMap = mapOf(\"one\" to 1, \"two\" to 2, \"four\" to 4, \"five\" to 5)\n",
    "println(theMap.get(0))\n",
    "println(theMap.get(2))"
   ]
  },
  {
   "cell_type": "markdown",
   "id": "266b9191",
   "metadata": {},
   "source": [
    "### `keys` property x\n",
    "The `keys` property returns a set of all keys in a map."
   ]
  },
  {
   "cell_type": "code",
   "execution_count": 4,
   "id": "223991e6",
   "metadata": {},
   "outputs": [
    {
     "name": "stdout",
     "output_type": "stream",
     "text": [
      "[one, two, three, four]\r\n"
     ]
    }
   ],
   "source": [
    "val theMap = mapOf(\"one\" to 1, \"two\" to 2, \"three\" to 3, \"four\" to 4)\n",
    "println(theMap.keys)"
   ]
  },
  {
   "cell_type": "markdown",
   "id": "1c46dd60",
   "metadata": {},
   "source": [
    "### `last` function\n",
    "The `last` function returns the last element of a map."
   ]
  },
  {
   "cell_type": "code",
   "execution_count": 56,
   "id": "1b2bb039",
   "metadata": {
    "collapsed": true
   },
   "outputs": [
    {
     "name": "stdout",
     "output_type": "stream",
     "text": [
      "five\r\n"
     ]
    }
   ],
   "source": [
    "val theMap = mapOf(\"one\" to 1, \"two\" to 2, \"four\" to 4, \"five\" to 5)\n",
    "println(theMap.last())"
   ]
  },
  {
   "cell_type": "markdown",
   "id": "ddd5cf97",
   "metadata": {},
   "source": [
    "### `subMap` function\n",
    "The `subMap` function returns the portion of a map between two indexes."
   ]
  },
  {
   "cell_type": "code",
   "execution_count": 52,
   "id": "d2f7c709",
   "metadata": {},
   "outputs": [
    {
     "name": "stdout",
     "output_type": "stream",
     "text": [
      "[three, four]\r\n"
     ]
    }
   ],
   "source": [
    "val theMap = mapOf(\"one\" to 1, \"two\" to 2, \"three\" to 3, \"four\" to 4, \"five\" to 5, \"six\" to 6)\n",
    "val theSubMap = theMap.subMap(2, 4)\n",
    "println(theSubMap)"
   ]
  },
  {
   "cell_type": "markdown",
   "id": "3da9e6d7",
   "metadata": {},
   "source": [
    "### `values` property x\n",
    "The `values` property returns a set of all values in a map."
   ]
  },
  {
   "cell_type": "code",
   "execution_count": 5,
   "id": "807c4b9a",
   "metadata": {},
   "outputs": [
    {
     "name": "stdout",
     "output_type": "stream",
     "text": [
      "[1, 2, 3, 4]\r\n"
     ]
    }
   ],
   "source": [
    "val theMap = mapOf(\"one\" to 1, \"two\" to 2, \"three\" to 3, \"four\" to 4)\n",
    "println(theMap.values)"
   ]
  },
  {
   "cell_type": "markdown",
   "id": "e6e56ef9",
   "metadata": {},
   "source": [
    "### Other map accessing functions"
   ]
  },
  {
   "cell_type": "markdown",
   "id": "e8d48a89",
   "metadata": {},
   "source": [
    "### `indexOf` function\n",
    "The `indexOf` function returns the index of the first occurrence of a given element in the map, or -1 if the specified element is missing."
   ]
  },
  {
   "cell_type": "code",
   "execution_count": 26,
   "id": "ac380d7c",
   "metadata": {
    "collapsed": true
   },
   "outputs": [
    {
     "name": "stdout",
     "output_type": "stream",
     "text": [
      "2\r\n",
      "-1\r\n"
     ]
    }
   ],
   "source": [
    "val theMap = mapOf(\"one\" to 1, \"two\" to 2, \"four\" to 4, \"five\" to 5)\n",
    "println(theMap.indexOf(\"four\"))\n",
    "println(theMap.indexOf(\"six\"))"
   ]
  },
  {
   "cell_type": "markdown",
   "id": "85f79467",
   "metadata": {},
   "source": [
    "### `lastIndexOf` function\n",
    "The `lastIndexOf` function returns the index of the last occurrence of a given element in the map, or -1 if the specified element is missing."
   ]
  },
  {
   "cell_type": "code",
   "execution_count": 50,
   "id": "5a2221a0",
   "metadata": {},
   "outputs": [
    {
     "name": "stdout",
     "output_type": "stream",
     "text": [
      "4\r\n"
     ]
    }
   ],
   "source": [
    "val theMap = mapOf(\"one\" to 1, \"two\" to 2, \"four\" to 4, \"five\" to 5, \"two\" to 2, \"six\" to 6)\n",
    "println(theMap.lastIndexOf(\"two\" to 2))"
   ]
  },
  {
   "cell_type": "markdown",
   "id": "94ba98f0",
   "metadata": {},
   "source": [
    "### `size` property x\n",
    "The `size` property gives the total number of elements in a map."
   ]
  },
  {
   "cell_type": "code",
   "execution_count": 7,
   "id": "59962877",
   "metadata": {
    "collapsed": true
   },
   "outputs": [
    {
     "name": "stdout",
     "output_type": "stream",
     "text": [
      "Size of the Map 5\r\n"
     ]
    }
   ],
   "source": [
    "val theMap = mapOf(\"one\" to 1, \"two\" to 2, \"four\" to 4, \"five\" to 5)\n",
    "println(\"Size of the Map \" + theMap.size)"
   ]
  },
  {
   "cell_type": "markdown",
   "id": "20ff5c22",
   "metadata": {},
   "source": [
    "<!--\n",
    "https://www.baeldung.com/kotlin/map-mutablemap\n",
    "-->\n",
    "## Modifiable maps\n",
    "Modifiable maps allow changing elements within the map.\n",
    "Modifiable maps are *mutable*."
   ]
  },
  {
   "cell_type": "markdown",
   "id": "19735182",
   "metadata": {},
   "source": [
    "### `mutableMapOf` function\n",
    "The `mutableMapOf` function creates a modifiable map from a collection of values.\n",
    "The types of all the values need not be the same."
   ]
  },
  {
   "cell_type": "code",
   "execution_count": 8,
   "id": "430ec910",
   "metadata": {
    "collapsed": true
   },
   "outputs": [
    {
     "name": "stdout",
     "output_type": "stream",
     "text": [
      "[one, two, 3]\r\n"
     ]
    }
   ],
   "source": [
    "val theMap = mutableMapOf(\"one\" to 1, \"two\" to 2, 3)\n",
    "println(theMap)"
   ]
  },
  {
   "cell_type": "markdown",
   "id": "0403900a",
   "metadata": {},
   "source": [
    "### Updating maps x\n",
    "Elements of maps can be replaced by position using square brackets `[` and `]` or the `put` and `putAll` functions\n",
    "`+= mapOf(1 to 2, 3 to 4)`\n",
    "`-= 1`\n"
   ]
  },
  {
   "cell_type": "code",
   "execution_count": 42,
   "id": "35f35f04",
   "metadata": {
    "collapsed": true
   },
   "outputs": [
    {
     "name": "stdout",
     "output_type": "stream",
     "text": [
      "[one, two, three]\r\n"
     ]
    }
   ],
   "source": [
    "val numbers = mutableMapOf(\"one\" to 1, \"five\" to 5, \"three\" to 3)\n",
    "numbers[1] =  \"two\"\n",
    "println(numbers)\n",
    "numbers.put(\"four\" to 4, 4)\n",
    "numbers.putAll(1 to 2, 3 to 4)"
   ]
  },
  {
   "cell_type": "markdown",
   "id": "e5a8561a",
   "metadata": {},
   "source": [
    "### Maps and variables"
   ]
  },
  {
   "cell_type": "markdown",
   "id": "1f23de2e",
   "metadata": {},
   "source": [
    "Maps are stored as *pointers* in variables.\n",
    "This is the result of\n",
    "\n",
    "`var theFirstMap = mutableMapOf(5, 9, 1)`\n",
    "<img src=\"maps-map2.jpg\" width=\"500\" height=\"250\"/>\n",
    "\n",
    "This is the result when that map is assigned to another variable.\n",
    "\n",
    "`val theSecondMap = theFirstMap`\n",
    "<img src=\"maps-map3.jpg\" width=\"500\" height=\"250\"/>\n",
    "\n",
    "This is the result after the second element in the first map is updated to a new value.\n",
    "Both maps are updated.\n",
    "\n",
    "`theFirstMap `\n",
    "<img src=\"maps-map3.jpg\" width=\"500\" height=\"250\"/>"
   ]
  },
  {
   "cell_type": "code",
   "execution_count": 65,
   "id": "98dfad65",
   "metadata": {},
   "outputs": [
    {
     "name": "stdout",
     "output_type": "stream",
     "text": [
      "[5, 9, 1]\r\n",
      "[5, 9, 1]\r\n",
      "[5, 2, 1]\r\n",
      "[5, 2, 1]\r\n"
     ]
    }
   ],
   "source": [
    "var theFirstMap = mutableMapOf(5, 9, 1)\n",
    "val theSecondMap = theFirstMap\n",
    "println(theFirstMap)\n",
    "println(theSecondMap)\n",
    "theFirstMap[1] = 2\n",
    "println(theFirstMap)\n",
    "println(theSecondMap)"
   ]
  },
  {
   "cell_type": "markdown",
   "id": "2a79f2d1",
   "metadata": {},
   "source": [
    "### `toMap` function\n",
    "The `toMap` function creates a copy of a map.\n",
    "When that map is assigned to another variable, a new copy of the map is created.\n",
    "This is the result after the second element in the first map is updated to a new value.\n",
    "Only the first map is updated.\n",
    "\n",
    "<img src=\"maps-map5.jpg\" width=\"500\" height=\"250\"/>\n"
   ]
  },
  {
   "cell_type": "code",
   "execution_count": 66,
   "id": "d4d9c7e7",
   "metadata": {},
   "outputs": [
    {
     "name": "stdout",
     "output_type": "stream",
     "text": [
      "[5, 9, 1]\r\n",
      "[5, 9, 1]\r\n",
      "[5, 2, 1]\r\n",
      "[5, 9, 1]\r\n"
     ]
    }
   ],
   "source": [
    "var theFirstMap = mutableMapOf(5, 9, 1)\n",
    "val theSecondMap = theFirstMap.toMap()\n",
    "println(theFirstMap)\n",
    "println(theSecondMap)\n",
    "theFirstMap[1] = 2\n",
    "println(theFirstMap)\n",
    "println(theSecondMap)"
   ]
  },
  {
   "cell_type": "markdown",
   "id": "3bb9d07e",
   "metadata": {},
   "source": [
    "### `add` element function\n",
    "The `add` function adds elements to a mutable map. \n",
    "This discards duplicate elements."
   ]
  },
  {
   "cell_type": "code",
   "execution_count": 9,
   "id": "3ebcecc5",
   "metadata": {
    "collapsed": true
   },
   "outputs": [
    {
     "name": "stdout",
     "output_type": "stream",
     "text": [
      "[one, two, three, four]\r\n"
     ]
    }
   ],
   "source": [
    "val theMap = mutableMapOf(\"one\" to 1, \"two\" to 2, \"three\" to 3)\n",
    "theMap.add(\"four\" to 4)\n",
    "println(theMap)"
   ]
  },
  {
   "cell_type": "markdown",
   "id": "c28f2584",
   "metadata": {},
   "source": [
    "### `addAll` map function\n",
    "The `addAll` function adds all elements of a map to a mutable map. \n",
    "This discards duplicate elements."
   ]
  },
  {
   "cell_type": "code",
   "execution_count": 10,
   "id": "735d8838",
   "metadata": {
    "collapsed": true
   },
   "outputs": [
    {
     "name": "stdout",
     "output_type": "stream",
     "text": [
      "[one, two, three, two, three, four, five]\r\n"
     ]
    }
   ],
   "source": [
    "val firstMap = mutableMapOf(\"one\" to 1, \"two\" to 2, \"three\" to 3)\n",
    "val secondMap = mutableMapOf(\"two\" to 2, \"three\" to 3, \"four\" to 4, \"five\" to 5)\n",
    "firstMap.addAll(secondMap)\n",
    "println(firstMap)"
   ]
  },
  {
   "cell_type": "markdown",
   "id": "1299fb94",
   "metadata": {},
   "source": [
    "### `drop` map function\n",
    "The `drop` function removes the specified number of elements from the beginning of a mutable map. "
   ]
  },
  {
   "cell_type": "code",
   "execution_count": 40,
   "id": "f00497b6",
   "metadata": {
    "collapsed": true
   },
   "outputs": [
    {
     "name": "stdout",
     "output_type": "stream",
     "text": [
      "[four, five]\r\n"
     ]
    }
   ],
   "source": [
    "val theMap = mapOf(\"one\" to 1, \"two\" to 2, \"three\" to 3, \"four\" to 4, \"five\" to 5)\n",
    "val resultMap = theMap.drop(3)\n",
    "println(resultMap)"
   ]
  },
  {
   "cell_type": "markdown",
   "id": "5463088e",
   "metadata": {},
   "source": [
    "### `dropLast` map function\n",
    "The `dropLast` function removes the specified number of elements from the end of a mutable map. "
   ]
  },
  {
   "cell_type": "code",
   "execution_count": 54,
   "id": "18f84a7e",
   "metadata": {},
   "outputs": [
    {
     "name": "stdout",
     "output_type": "stream",
     "text": [
      "[one, two]\r\n"
     ]
    }
   ],
   "source": [
    "val theMap = mapOf(\"one\" to 1, \"two\" to 2, \"three\" to 3, \"four\" to 4, \"five\" to 5)\n",
    "val resultMap = theMap.dropLast(3)\n",
    "println(resultMap)"
   ]
  },
  {
   "cell_type": "markdown",
   "id": "d4fcf46a",
   "metadata": {},
   "source": [
    "### `fill` map function\n",
    "The `fill` function replaces the elements of a mutable map with a given value. "
   ]
  },
  {
   "cell_type": "code",
   "execution_count": 43,
   "id": "9244ad45",
   "metadata": {
    "collapsed": true
   },
   "outputs": [
    {
     "name": "stdout",
     "output_type": "stream",
     "text": [
      "[3, 3, 3, 3]\r\n"
     ]
    }
   ],
   "source": [
    "val numbers = mutableMapOf(1, 2, 3, 4)\n",
    "numbers.fill(3)\n",
    "println(numbers)"
   ]
  },
  {
   "cell_type": "markdown",
   "id": "fb80b761",
   "metadata": {},
   "source": [
    "### `remove` element function  x\n",
    "The `remove` function removes elements from a mutable map. \n",
    "This does nothing if the elements are not in the map."
   ]
  },
  {
   "cell_type": "code",
   "execution_count": 11,
   "id": "8ee4febb",
   "metadata": {},
   "outputs": [
    {
     "name": "stdout",
     "output_type": "stream",
     "text": [
      "[one, two]\r\n",
      "[one, two]\r\n"
     ]
    }
   ],
   "source": [
    "val theMap = mutableMapOf(\"one\" to 1, \"two\" to 2, \"three\" to 3)\n",
    "theMap.remove(\"three\" to 3)\n",
    "println(theMap)\n",
    "theMap.remove(\"four\" to 4)\n",
    "println(theMap)"
   ]
  },
  {
   "cell_type": "markdown",
   "id": "aa31fe29",
   "metadata": {},
   "source": [
    "### `removeAll` map function\n",
    "The `removeAll` function removes all elements of a map from a mutable map. \n",
    "This does nothing for the elements not in the map."
   ]
  },
  {
   "cell_type": "code",
   "execution_count": 12,
   "id": "467a56f8",
   "metadata": {
    "collapsed": true
   },
   "outputs": [
    {
     "name": "stdout",
     "output_type": "stream",
     "text": [
      "[one]\r\n"
     ]
    }
   ],
   "source": [
    "val firstMap = mutableMapOf(\"one\" to 1, \"two\" to 2, \"three\" to 3)\n",
    "val secondMap = mapOf(\"two\" to 2, \"three\" to 3, \"four\" to 4, \"five\" to 5)\n",
    "firstMap.removeAll(secondMap)\n",
    "println(firstMap)"
   ]
  },
  {
   "cell_type": "markdown",
   "id": "4b8b76e5",
   "metadata": {},
   "source": [
    "### `reverse` map function\n",
    "The `reverse` function reverse all elements of a mutable map."
   ]
  },
  {
   "cell_type": "code",
   "execution_count": 49,
   "id": "2faa0a9e",
   "metadata": {
    "collapsed": true
   },
   "outputs": [
    {
     "name": "stdout",
     "output_type": "stream",
     "text": [
      "[five, four, three, two, one]\r\n"
     ]
    }
   ],
   "source": [
    "val theMap = mutableMapOf(\"one\" to 1, \"two\" to 2, \"three\" to 3, \"four\" to 4, \"five\" to 5)\n",
    "theMap.reverse()\n",
    "println(theMap)"
   ]
  },
  {
   "cell_type": "markdown",
   "id": "219734fb",
   "metadata": {},
   "source": [
    "### `shuffle` map function\n",
    "The `shuffle` function reorders all elements of a mutable map randomly."
   ]
  },
  {
   "cell_type": "code",
   "execution_count": 44,
   "id": "368abd62",
   "metadata": {
    "collapsed": true
   },
   "outputs": [
    {
     "name": "stdout",
     "output_type": "stream",
     "text": [
      "[five, four, two, three, one]\r\n"
     ]
    }
   ],
   "source": [
    "val theMap = mutableMapOf(\"one\" to 1, \"two\" to 2, \"three\" to 3, \"four\" to 4, \"five\" to 5)\n",
    "theMap.shuffle()\n",
    "println(theMap)"
   ]
  },
  {
   "cell_type": "markdown",
   "id": "b7262714",
   "metadata": {},
   "source": [
    "### `sort` map function\n",
    "The `sort` function reorders all elements of a mutable map. \n",
    "They are sorted ascending by default.\n",
    "All elements have to be of the same type."
   ]
  },
  {
   "cell_type": "code",
   "execution_count": 47,
   "id": "de959e95",
   "metadata": {
    "collapsed": true
   },
   "outputs": [
    {
     "name": "stdout",
     "output_type": "stream",
     "text": [
      "[1, 2, 3, 4, 5]\r\n"
     ]
    }
   ],
   "source": [
    "val theMap = mutableMapOf(5, 3, 1, 4, 2)\n",
    "theMap.sort()\n",
    "println(theMap)"
   ]
  },
  {
   "cell_type": "markdown",
   "id": "f80bfec4",
   "metadata": {},
   "source": [
    "The sorting is appropriate to the element type.\n",
    "String elements are sorted in alphabetical order."
   ]
  },
  {
   "cell_type": "code",
   "execution_count": 46,
   "id": "2451cc24",
   "metadata": {
    "collapsed": true
   },
   "outputs": [
    {
     "name": "stdout",
     "output_type": "stream",
     "text": [
      "[five, four, one, three, two]\r\n"
     ]
    }
   ],
   "source": [
    "val theMap = mutableMapOf(\"five\" to 5, \"three\" to 3, \"one\" to 1, \"four\" to 4, \"two\" to 2)\n",
    "theMap.sort()\n",
    "println(theMap)"
   ]
  },
  {
   "cell_type": "markdown",
   "id": "021d7837",
   "metadata": {},
   "source": [
    "### `sortDescending` map function\n",
    "The `sortDescending` function reorders all elements of a mutable map in reverse order. \n",
    "All elements have to be of the same type."
   ]
  },
  {
   "cell_type": "code",
   "execution_count": 48,
   "id": "4c646fbb",
   "metadata": {
    "collapsed": true
   },
   "outputs": [
    {
     "name": "stdout",
     "output_type": "stream",
     "text": [
      "[5, 4, 3, 2, 1]\r\n"
     ]
    }
   ],
   "source": [
    "val theMap = mutableMapOf(5, 3, 1, 4, 2)\n",
    "theMap.sortDescending()\n",
    "println(theMap)"
   ]
  },
  {
   "cell_type": "markdown",
   "id": "29ce5c56",
   "metadata": {},
   "source": [
    "## Map tests"
   ]
  },
  {
   "cell_type": "markdown",
   "id": "f6668258",
   "metadata": {},
   "source": [
    "### `in` operator\n",
    "The `in` operator can be used to check the existence of an element in a map."
   ]
  },
  {
   "cell_type": "code",
   "execution_count": 13,
   "id": "3173c065",
   "metadata": {
    "collapsed": true
   },
   "outputs": [
    {
     "name": "stdout",
     "output_type": "stream",
     "text": [
      "true\r\n"
     ]
    }
   ],
   "source": [
    "val theMap = mapOf(\"one\" to 1, \"two\" to 2, \"three\" to 3, \"four\" to 4)\n",
    "if(\"two\" in theMap)\n",
    "      println(true)\n",
    "else\n",
    "      println(false)"
   ]
  },
  {
   "cell_type": "markdown",
   "id": "61593da7",
   "metadata": {},
   "source": [
    "### `contains` function x\n",
    "The `contains` function can also be used to check the existence of a key in a map."
   ]
  },
  {
   "cell_type": "code",
   "execution_count": 14,
   "id": "79938abe",
   "metadata": {
    "collapsed": true
   },
   "outputs": [
    {
     "name": "stdout",
     "output_type": "stream",
     "text": [
      "true\r\n"
     ]
    }
   ],
   "source": [
    "val theMap = mapOf(\"one\" to 1, \"two\" to 2, \"three\" to 3, \"four\" to 4)\n",
    "if(theMap.contains(\"two\"))\n",
    "      println(true)\n",
    "else\n",
    "      println(false)"
   ]
  },
  {
   "cell_type": "markdown",
   "id": "315a1258",
   "metadata": {},
   "source": [
    "### `containsKey` function x\n",
    "The `containsKey` function can also be used to check the existence of a key in a map."
   ]
  },
  {
   "cell_type": "code",
   "execution_count": 14,
   "id": "5b55fc9e",
   "metadata": {},
   "outputs": [
    {
     "name": "stdout",
     "output_type": "stream",
     "text": [
      "true\r\n"
     ]
    }
   ],
   "source": [
    "val theMap = mapOf(\"one\" to 1, \"two\" to 2, \"three\" to 3, \"four\" to 4)\n",
    "if(theMap.contains(\"two\"))\n",
    "      println(true)\n",
    "else\n",
    "      println(false)"
   ]
  },
  {
   "cell_type": "markdown",
   "id": "5a3367dc",
   "metadata": {},
   "source": [
    "### `containsValue` function x\n",
    "The `containsValue` function can also be used to check the existence of a value in a map."
   ]
  },
  {
   "cell_type": "code",
   "execution_count": 14,
   "id": "a49e59ef",
   "metadata": {
    "collapsed": true
   },
   "outputs": [
    {
     "name": "stdout",
     "output_type": "stream",
     "text": [
      "true\r\n"
     ]
    }
   ],
   "source": [
    "val theMap = mapOf(\"one\" to 1, \"two\" to 2, \"three\" to 3, \"four\" to 4)\n",
    "if(theMap.contains(\"two\"))\n",
    "      println(true)\n",
    "else\n",
    "      println(false)"
   ]
  },
  {
   "cell_type": "markdown",
   "id": "139f1677",
   "metadata": {},
   "source": [
    "### `containsAll` submap function\n",
    "The `containsAll` function can be used to check the whether a map is a submap of another map."
   ]
  },
  {
   "cell_type": "code",
   "execution_count": 15,
   "id": "eba7909c",
   "metadata": {
    "collapsed": true
   },
   "outputs": [
    {
     "name": "stdout",
     "output_type": "stream",
     "text": [
      "true\r\n",
      "false\r\n"
     ]
    }
   ],
   "source": [
    "val firstMap = mapOf(\"one\" to 1, \"two\" to 2, \"three\" to 3, \"four\" to 4, \"five\" to 5)\n",
    "val secondMap = mapOf(\"one\" to 1, \"two\" to 2, \"three\" to 3)\n",
    "val thirdMap = mapOf(\"four\" to 4, \"five\" to 5, \"six\" to 6)\n",
    "if (firstMap.containsAll(secondMap))\n",
    "      println(true)\n",
    "else\n",
    "      println(false)\n",
    "if (firstMap.containsAll(thirdMap))\n",
    "      println(true)\n",
    "else\n",
    "      println(false)"
   ]
  },
  {
   "cell_type": "markdown",
   "id": "fed69771",
   "metadata": {},
   "source": [
    "### `isEmpty` function x\n",
    "The `isEmpty` function returns true if the map is empty (contains no elements), false otherwise."
   ]
  },
  {
   "cell_type": "code",
   "execution_count": 16,
   "id": "3ac67d2c",
   "metadata": {
    "collapsed": true
   },
   "outputs": [
    {
     "name": "stdout",
     "output_type": "stream",
     "text": [
      "false\r\n"
     ]
    }
   ],
   "source": [
    "val theMap = mapOf(\"one\" to 1, \"two\" to 2, \"three\" to 3, \"four\" to 4)\n",
    "if(theMap.isEmpty())\n",
    "      println(true)\n",
    "else\n",
    "      println(false)"
   ]
  },
  {
   "cell_type": "markdown",
   "id": "9a8458f4",
   "metadata": {},
   "source": [
    "### `isNotEmpty` function x\n",
    "The `isNotEmpty` function returns false if the map is empty (contains no elements), true otherwise."
   ]
  },
  {
   "cell_type": "code",
   "execution_count": 17,
   "id": "b84bf578",
   "metadata": {
    "collapsed": true
   },
   "outputs": [
    {
     "name": "stdout",
     "output_type": "stream",
     "text": [
      "true\r\n"
     ]
    }
   ],
   "source": [
    "val theMap = mapOf(\"one\" to 1, \"two\" to 2, \"three\" to 3, \"four\" to 4)\n",
    "if(theMap.isNotEmpty())\n",
    "      println(true)\n",
    "else\n",
    "      println(false)"
   ]
  },
  {
   "cell_type": "markdown",
   "id": "9e768e77",
   "metadata": {},
   "source": [
    "### `max` function\n",
    "The `max` function returns the largest value in a numerical map."
   ]
  },
  {
   "cell_type": "code",
   "execution_count": 18,
   "id": "ddcc4122",
   "metadata": {
    "collapsed": true
   },
   "outputs": [
    {
     "name": "stdout",
     "output_type": "stream",
     "text": [
      "4\r\n"
     ]
    }
   ],
   "source": [
    "val theMap = mapOf(1, 2, 3, 4)\n",
    "println(theMap.max())"
   ]
  },
  {
   "cell_type": "markdown",
   "id": "00f7d9f0",
   "metadata": {},
   "source": [
    "### `min` function\n",
    "The `min` function returns the smallest value in a numerical map."
   ]
  },
  {
   "cell_type": "code",
   "execution_count": 19,
   "id": "56946288",
   "metadata": {
    "collapsed": true
   },
   "outputs": [
    {
     "name": "stdout",
     "output_type": "stream",
     "text": [
      "4\r\n"
     ]
    }
   ],
   "source": [
    "val theMap = mapOf(1, 2, 3, 4)\n",
    "println(theMap.max())"
   ]
  },
  {
   "cell_type": "markdown",
   "id": "41f57eac",
   "metadata": {},
   "source": [
    "### `random` function\n",
    "The `random` function returns a random element from a map."
   ]
  },
  {
   "cell_type": "code",
   "execution_count": 20,
   "id": "b9625d2f",
   "metadata": {
    "collapsed": true
   },
   "outputs": [
    {
     "name": "stdout",
     "output_type": "stream",
     "text": [
      "two\r\n"
     ]
    }
   ],
   "source": [
    "val theMap = mapOf(\"one\" to 1, \"two\" to 2, \"three\" to 3, \"four\" to 4)\n",
    "println(theMap.random())"
   ]
  },
  {
   "cell_type": "markdown",
   "id": "2266fcf3",
   "metadata": {},
   "source": [
    "### `sum` function\n",
    "The `sum` function returns the sum of all values in a numerical map."
   ]
  },
  {
   "cell_type": "code",
   "execution_count": 21,
   "id": "981bae3e",
   "metadata": {
    "collapsed": true
   },
   "outputs": [
    {
     "name": "stdout",
     "output_type": "stream",
     "text": [
      "10\r\n"
     ]
    }
   ],
   "source": [
    "val theMap = mapOf(1, 2, 3, 4)\n",
    "println(theMap.sum())"
   ]
  },
  {
   "cell_type": "markdown",
   "id": "361fcdce",
   "metadata": {},
   "source": [
    "## Looping through maps"
   ]
  },
  {
   "cell_type": "markdown",
   "id": "6e9069d5",
   "metadata": {},
   "source": [
    "### `for` loop\n",
    "The `for` loop can perform an action on each element of a map.\n",
    "This loop uses the `in` operator to select each element of the map.\n",
    "Elements have no order in a map so there is no assurance of the order the elements will be processed."
   ]
  },
  {
   "cell_type": "code",
   "execution_count": 22,
   "id": "50a8e5a3",
   "metadata": {
    "collapsed": true
   },
   "outputs": [
    {
     "name": "stdout",
     "output_type": "stream",
     "text": [
      "one\r\n",
      "two\r\n",
      "three\r\n",
      "four\r\n"
     ]
    }
   ],
   "source": [
    "val theMap = mapOf(\"one\" to 1, \"two\" to 2, \"three\" to 3, \"four\" to 4)\n",
    "for (elem in theMap)\n",
    "      println(elem)"
   ]
  },
  {
   "cell_type": "markdown",
   "id": "330ce945",
   "metadata": {},
   "source": [
    "### `forEach` loop\n",
    "The `foreach` loop is a variation of the `for` loop to perform an action on each element of a map.\n",
    "This loop uses the `it` operator to access the element currently selected in the loop."
   ]
  },
  {
   "cell_type": "code",
   "execution_count": 23,
   "id": "2b49cb75",
   "metadata": {
    "collapsed": true
   },
   "outputs": [
    {
     "name": "stdout",
     "output_type": "stream",
     "text": [
      "one\r\n",
      "two\r\n",
      "three\r\n",
      "four\r\n"
     ]
    }
   ],
   "source": [
    "val theMap = mapOf(\"one\" to 1, \"two\" to 2, \"three\" to 3, \"four\" to 4)\n",
    "theMap.forEach { println(it) }"
   ]
  },
  {
   "cell_type": "markdown",
   "id": "60c00eb6",
   "metadata": {},
   "source": [
    "## Other map functions"
   ]
  },
  {
   "cell_type": "markdown",
   "id": "1ed8c48e",
   "metadata": {},
   "source": [
    "### `toString` function\n",
    "The `toString` function converts to a map to a readable form."
   ]
  },
  {
   "cell_type": "code",
   "execution_count": 24,
   "id": "0c41591a",
   "metadata": {
    "collapsed": true
   },
   "outputs": [
    {
     "name": "stdout",
     "output_type": "stream",
     "text": [
      "[one, two, three, four]\r\n"
     ]
    }
   ],
   "source": [
    "val theMap = mapOf(\"one\" to 1, \"two\" to 2, \"three\" to 3, \"four\" to 4)\n",
    "println(theMap.toString())"
   ]
  },
  {
   "cell_type": "markdown",
   "id": "91e5cc0c",
   "metadata": {},
   "source": [
    "## Maps from strings: `split` function\n",
    "Maps can be created from strings with the `split` function.\n",
    "The arguments are the separators between substrings used to build the map."
   ]
  },
  {
   "cell_type": "code",
   "execution_count": 72,
   "id": "d5e3f6f7",
   "metadata": {
    "collapsed": true
   },
   "outputs": [
    {
     "name": "stdout",
     "output_type": "stream",
     "text": [
      "[a, b, c]\r\n",
      "[directory, file, ext]\r\n",
      "[the r, n in sp, n r, ns m, nly in the pl, n]\r\n"
     ]
    }
   ],
   "source": [
    "println(\"a,b,c\".split(\",\"))\n",
    "println(\"directory/file.ext\".split(\"/\", \".\"))\n",
    "println(\"the rain in spain rains mainly in the plain\".split(\"ai\"))"
   ]
  },
  {
   "cell_type": "markdown",
   "id": "e0d77201",
   "metadata": {},
   "source": [
    "## Maps to strings: `joinToString` function\n",
    "Strings can be created from maps using the `joinToString` function.\n",
    "that joins the map items separated by a particular string.\n",
    "Arguments are:\n",
    "- the separators to use between map items, defaulted to \", \"\n",
    "- a prefix for the string, defaulted to empty\n",
    "- a suffix (`postfix`) for the string, defaulted to empy\n",
    "\n",
    "This is how `joinToString` is declared.\n",
    "```\n",
    "fun String.joinToString(\n",
    "    separator = \", \",\n",
    "    prefix = \"\",\n",
    "    postfix = \"\"): String\n",
    "```\n",
    "\n",
    "These are examples of using `joinToString`.\n",
    "The first set uses the arguments in order.\n",
    "The last uses keywork arguments to specify the `postfix` but default the `separator` and `prefix` arguments."
   ]
  },
  {
   "cell_type": "code",
   "execution_count": 89,
   "id": "52aa55bf",
   "metadata": {
    "collapsed": true
   },
   "outputs": [
    {
     "name": "stdout",
     "output_type": "stream",
     "text": [
      "[one; two; three]\n",
      "numbers: one - two - three\n",
      "one < two < three\n",
      "one, two, three\n",
      "one, two, three are numbers\n"
     ]
    }
   ],
   "source": [
    "val theMap = mapOf(\"one\" to 1, \"two\" to 2, \"three\" to 3)\n",
    "println(theMap.joinToString(\"; \", \"[\", \"]\"))\n",
    "println(theMap.joinToString(\" - \", \"numbers: \"))\n",
    "println(theMap.joinToString(\" < \"))\n",
    "println(theMap.joinToString())\n",
    "println(theMap.joinToString(postfix = \" are numbers\"))"
   ]
  },
  {
   "cell_type": "code",
   "execution_count": null,
   "id": "550a9b06",
   "metadata": {},
   "outputs": [],
   "source": []
  }
 ],
 "metadata": {
  "kernelspec": {
   "display_name": "Kotlin",
   "language": "kotlin",
   "name": "kotlin"
  },
  "language_info": {
   "codemirror_mode": "text/x-kotlin",
   "file_extension": ".kt",
   "mimetype": "text/x-kotlin",
   "name": "kotlin",
   "nbconvert_exporter": "",
   "pygments_lexer": "kotlin",
   "version": "1.8.20"
  }
 },
 "nbformat": 4,
 "nbformat_minor": 5
}
