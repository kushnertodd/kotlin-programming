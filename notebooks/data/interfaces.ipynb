{
 "cells": [
  {
   "cell_type": "markdown",
   "id": "dec70ef6",
   "metadata": {},
   "source": [
    "<!-- \n",
    "https://www.wikiwand.com/en/Interface_(Java)\n",
    "https://www.wikiwand.com/en/Interface_(object-oriented_programming)\n",
    "https://www.wikiwand.com/en/Abstract_type\n",
    "https://learn.microsoft.com/en-us/dotnet/csharp/fundamentals/types/interfaces\n",
    "-->\n",
    "## Interfaces\n",
    "Interfaces ensure classes provide specified methods and properties.\n",
    "This is an example interface.\n",
    "A class is indicated to obey an interface by adding the interface name after a `:`,\n",
    "in which case it *implements* the interface.\n",
    "The class must implement every method specified in the interface,\n",
    "with `override` before the definition everywhere those methods are implemented.\n",
    "\n",
    "\n",
    "<!--  \n",
    "Interfaces - define behavior for multiple types\n",
    "\n",
    ". Interfaces can facilitate polymorphic behavior. \n",
    "\n",
    "An interface contains definitions for a group of related functionalities that a non-abstract class or a struct must implement.\n",
    "\n",
    "Interface declarations may define a default implementation for its members. These implementations are inherited by derived interfaces, and by classes that implement those interfaces. For more information on default interface methods, see the article on interfaces.\n",
    "\n",
    "An interface contains definitions for a group of related functionalities that a non-abstract class or a struct must implement. An interface may define static methods, which must have an implementation. An interface may define a default implementation for members. An interface may not declare instance data such as fields, auto-implemented properties, or property-like events.\n",
    "\n",
    "In object-oriented programming, an interface or protocol type is a data type that acts as an abstraction of a class. It describes a set of method signatures, the implementations of which may be provided by multiple classes that are otherwise not necessarily related to each other. A class which provides the methods listed in a protocol is said to adopt the protocol, or to implement the interface.\n",
    "\n",
    "If objects are fully encapsulated then the protocol is the only way in which they may be accessed by other objects.\n",
    "\n",
    "In object-oriented programming, an interface or protocol type is a data type that acts as an abstraction of a class. It describes a set of method signatures, the implementations of which may be provided by multiple classes that are otherwise not necessarily related to each other. A class which provides the methods listed in a protocol is said to adopt the protocol, or to implement the interface.\n",
    "\n",
    "\n",
    "\n",
    "Interfaces cannot be instantiated, but rather are implemented. A class that implements an interface must implement all of the non-default methods described in the interface, or be an abstract class. Object references in Java may be specified to be of an interface type; in each case, they must either be null, or be bound to an object that implements the interface.\n",
    "\n",
    "Interfaces are used to encode similarities which the classes of various types share, but do not necessarily constitute a class relationship. For instance, a human and a parrot can both whistle; however, it would not make sense to represent Humans and Parrots as subclasses of a Whistler class. Rather they most likely be subclasses of an Animal class (likely with intermediate classes), but both would implement the Whistler interface.\n",
    "\n",
    "Another use of interfaces is being able to use an object without knowing its type of class, but rather only that it implements a certain interface. For instance, if one were annoyed by a whistling noise, one may not know whether it is a human or a parrot, because all that could be determined is that a whistler is whistling. The call whistler.whistle() will call the implemented method whistle of object whistler no matter what class it has, provided it implements Whistler. In a more practical example, a sorting algorithm may expect an object of type Comparable. Thus, without knowing the specific type, it knows that objects of that type can somehow be sorted.\n",
    "\n",
    " abstract type that is used to declare a behavior that classes must implement.\n",
    " \n",
    " In programming languages, an abstract type (also known as existential types) is a type in a nominative type system that cannot be instantiated directly; by contrast, a concrete type can be instantiated directly. Instantiation of an abstract type can occur only indirectly, via a concrete subtype.\n",
    " \n",
    " An abstract type may provide no implementation, or an incomplete implementation. In some languages, abstract types with no implementation (rather than an incomplete implementation) are known as protocols, interfaces, signatures, or class types. In class-based object-oriented programming, abstract types are implemented as abstract classes (also known as abstract base classes), and concrete types as concrete classes. In generic programming, the analogous notion is a concept, which similarly specifies syntax and semantics, but does not require a subtype relationship: two unrelated types may satisfy the same concept.\n",
    " \n",
    " Interfaces are used to encode similarities which the classes of various types share, but do not necessarily constitute a class relationship\n",
    " \n",
    " Another use of interfaces is being able to use an object without knowing its type of class, but rather only that it implements a certain interface. \n",
    "-->"
   ]
  },
  {
   "cell_type": "code",
   "execution_count": 10,
   "id": "2845baf7",
   "metadata": {
    "collapsed": true
   },
   "outputs": [
    {
     "name": "stdout",
     "output_type": "stream",
     "text": [
      "Shakespeare, William\r\n"
     ]
    }
   ],
   "source": [
    "interface Printable {\n",
    "    fun show()\n",
    "}\n",
    "class Person(var firstName : String, var lastName : String) : Printable {\n",
    "    override fun show() = println(lastName + \", \" + firstName)\n",
    "}\n",
    "val william = Person(\"William\", \"Shakespeare\")\n",
    "william.show()"
   ]
  },
  {
   "cell_type": "markdown",
   "id": "ace2f700",
   "metadata": {},
   "source": [
    "Interfaces can include properties, in which case each property must be defined for the class and declared preceded with `override`."
   ]
  },
  {
   "cell_type": "code",
   "execution_count": 11,
   "id": "c69b53ce",
   "metadata": {
    "collapsed": true
   },
   "outputs": [
    {
     "name": "stdout",
     "output_type": "stream",
     "text": [
      "Shakespeare, William\r\n"
     ]
    }
   ],
   "source": [
    "interface Printable {\n",
    "    val fullName : String\n",
    "    fun show()\n",
    "}\n",
    "class Person(var firstName : String, var lastName : String) : Printable {\n",
    "    override val fullName = lastName + \", \" + firstName\n",
    "    override fun show() = println(fullName)\n",
    "}\n",
    "val william = Person(\"William\", \"Shakespeare\")\n",
    "william.show()"
   ]
  }
 ],
 "metadata": {
  "kernelspec": {
   "display_name": "Kotlin",
   "language": "kotlin",
   "name": "kotlin"
  },
  "language_info": {
   "codemirror_mode": "text/x-kotlin",
   "file_extension": ".kt",
   "mimetype": "text/x-kotlin",
   "name": "kotlin",
   "nbconvert_exporter": "",
   "pygments_lexer": "kotlin",
   "version": "1.8.20"
  }
 },
 "nbformat": 4,
 "nbformat_minor": 5
}
