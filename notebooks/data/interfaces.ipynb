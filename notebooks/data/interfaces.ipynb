{
 "cells": [
  {
   "cell_type": "markdown",
   "id": "dec70ef6",
   "metadata": {},
   "source": [
    "<a id=\"interfaces\"></a>\n",
    "## Interfaces\n",
    "Interfaces ensure classes provide specified methods and properties.\n",
    "This is an example interface.\n",
    "A class is indicated to obey an interface by adding the interface name after a `:`,\n",
    "in which case it *implements* the interface.\n",
    "The class must implement every method specified in the interface,\n",
    "with `override` before the definition everywhere those methods are implemented."
   ]
  },
  {
   "cell_type": "code",
   "execution_count": 10,
   "id": "2845baf7",
   "metadata": {
    "collapsed": true
   },
   "outputs": [
    {
     "name": "stdout",
     "output_type": "stream",
     "text": [
      "Shakespeare, William\r\n"
     ]
    }
   ],
   "source": [
    "interface Printable {\n",
    "    fun show()\n",
    "}\n",
    "class Person(var firstName : String, var lastName : String) : Printable {\n",
    "    override fun show() = println(\"$lastName, $firstName\")\n",
    "}\n",
    "val william = Person(\"William\", \"Shakespeare\")\n",
    "william.show()"
   ]
  },
  {
   "cell_type": "markdown",
   "id": "ace2f700",
   "metadata": {},
   "source": [
    "Interfaces can include properties, in which case each property must be defined for the class and declared preceded with `override`."
   ]
  },
  {
   "cell_type": "code",
   "execution_count": 11,
   "id": "c69b53ce",
   "metadata": {
    "collapsed": true
   },
   "outputs": [
    {
     "name": "stdout",
     "output_type": "stream",
     "text": [
      "Shakespeare, William\r\n"
     ]
    }
   ],
   "source": [
    "interface Printable {\n",
    "    val fullName : String\n",
    "    fun show()\n",
    "}\n",
    "class Person(var firstName : String, var lastName : String) : Printable {\n",
    "    override val fullName = \"$lastName, $firstName\"\n",
    "    override fun show() = println(fullName)\n",
    "}\n",
    "val william = Person(\"William\", \"Shakespeare\")\n",
    "william.show()"
   ]
  }
 ],
 "metadata": {
  "kernelspec": {
   "display_name": "Kotlin",
   "language": "kotlin",
   "name": "kotlin"
  },
  "language_info": {
   "codemirror_mode": "text/x-kotlin",
   "file_extension": ".kt",
   "mimetype": "text/x-kotlin",
   "name": "kotlin",
   "nbconvert_exporter": "",
   "pygments_lexer": "kotlin",
   "version": "1.8.20"
  }
 },
 "nbformat": 4,
 "nbformat_minor": 5
}
