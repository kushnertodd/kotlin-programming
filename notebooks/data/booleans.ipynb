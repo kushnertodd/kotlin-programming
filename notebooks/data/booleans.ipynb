{
 "cells": [
  {
   "cell_type": "markdown",
   "id": "d438081d",
   "metadata": {},
   "source": [
    "# Booleans\n",
    "Booleans are values indicating whether something is true or false."
   ]
  },
  {
   "cell_type": "markdown",
   "id": "838f8eed-5cc9-441b-94e7-9fc4b8055fe8",
   "metadata": {},
   "source": [
    "<a id=\"conditions\"></a>\n",
    "## Conditions\n",
    "Tests for `if` and `while` statements may use different operators or functions. An operator for a condition might be `>` as in `x > 3`. "
   ]
  },
  {
   "cell_type": "code",
   "execution_count": 14,
   "id": "0fc8b84b-0cda-4925-a727-9283c0a50961",
   "metadata": {},
   "outputs": [
    {
     "name": "stdout",
     "output_type": "stream",
     "text": [
      "x is > 3\r\n"
     ]
    }
   ],
   "source": [
    "val x = 5\n",
    "if (x > 3)\n",
    "    println(\"x is > 3\")"
   ]
  },
  {
   "cell_type": "markdown",
   "id": "4f151f35",
   "metadata": {},
   "source": [
    "These are the available boolean operators.\n",
    "\n",
    "|operator |description\n",
    "|:- |:-\n",
    "|`==` |equal to\n",
    "|`!=` |not equal to\n",
    "|`>` |greater than\n",
    "|`>=` |greater than or equal to\n",
    "|`<` |less than\n",
    "|`<=` |less than or equal\n",
    "|`!` |negate condition\n",
    "\n",
    "Note that the test for equal values uses `==` to avoid confusion with `=` that assigns values to variables. \n"
   ]
  },
  {
   "cell_type": "markdown",
   "id": "32e2a286",
   "metadata": {},
   "source": [
    "### `==` operator\n",
    "`==` tests if numbers are the same."
   ]
  },
  {
   "cell_type": "code",
   "execution_count": 11,
   "id": "fc9b3016",
   "metadata": {
    "collapsed": true
   },
   "outputs": [
    {
     "name": "stdout",
     "output_type": "stream",
     "text": [
      "true"
     ]
    }
   ],
   "source": [
    "val x = 5\n",
    "print(x == 5)"
   ]
  },
  {
   "cell_type": "markdown",
   "id": "ec5976b7",
   "metadata": {},
   "source": [
    "### `!=` operator\n",
    "`!=` tests if numbers are not equal."
   ]
  },
  {
   "cell_type": "code",
   "execution_count": 8,
   "id": "efa217bb",
   "metadata": {
    "collapsed": true
   },
   "outputs": [
    {
     "name": "stdout",
     "output_type": "stream",
     "text": [
      "type a number to test: 2\n",
      "2  is not 3\n"
     ]
    }
   ],
   "source": [
    "val x = 5\n",
    "print(x != 3)"
   ]
  },
  {
   "cell_type": "markdown",
   "id": "3ae2f726",
   "metadata": {},
   "source": [
    "### `>` operator\n",
    "`>` tests if a number is greater than another."
   ]
  },
  {
   "cell_type": "code",
   "execution_count": 9,
   "id": "262c5e75",
   "metadata": {
    "collapsed": true
   },
   "outputs": [
    {
     "name": "stdout",
     "output_type": "stream",
     "text": [
      "type a number to test: 3\n"
     ]
    }
   ],
   "source": [
    "val x = 5\n",
    "print(x > 3)"
   ]
  },
  {
   "cell_type": "markdown",
   "id": "79f8a13c",
   "metadata": {},
   "source": [
    "### `<` operator\n",
    "`<` tests if a number is less than another."
   ]
  },
  {
   "cell_type": "code",
   "execution_count": null,
   "id": "8b846026",
   "metadata": {
    "collapsed": true
   },
   "outputs": [],
   "source": [
    "val x = 2\n",
    "print(x < 3)"
   ]
  },
  {
   "cell_type": "markdown",
   "id": "0e01b644",
   "metadata": {},
   "source": [
    "### `>=` operator\n",
    "`>=` tests if a number is the same or greater than another."
   ]
  },
  {
   "cell_type": "code",
   "execution_count": 9,
   "id": "57bf37d1",
   "metadata": {
    "collapsed": true
   },
   "outputs": [
    {
     "name": "stdout",
     "output_type": "stream",
     "text": [
      "true\r\n"
     ]
    }
   ],
   "source": [
    "val x = 5\n",
    "println(x >= 3)"
   ]
  },
  {
   "cell_type": "markdown",
   "id": "428c2d71",
   "metadata": {},
   "source": [
    "### `<=` operator\n",
    "`<=` tests if a number is the same or less than another."
   ]
  },
  {
   "cell_type": "code",
   "execution_count": 10,
   "id": "8574e452",
   "metadata": {},
   "outputs": [
    {
     "name": "stdout",
     "output_type": "stream",
     "text": [
      "true\r\n"
     ]
    }
   ],
   "source": [
    "val x = 2\n",
    "println(x <= 3)"
   ]
  },
  {
   "cell_type": "markdown",
   "id": "35feb309",
   "metadata": {},
   "source": [
    "### `!` operator\n",
    "`!` negates a condition."
   ]
  },
  {
   "cell_type": "code",
   "execution_count": 13,
   "id": "40231cd6",
   "metadata": {
    "collapsed": true
   },
   "outputs": [
    {
     "name": "stdout",
     "output_type": "stream",
     "text": [
      "true\r\n"
     ]
    }
   ],
   "source": [
    "val x = 5\n",
    "println(!(x <= 3))"
   ]
  },
  {
   "cell_type": "markdown",
   "id": "e94607ad-54d5-4873-a988-2e4cfa672cdf",
   "metadata": {},
   "source": [
    "### Combining conditions\n",
    "Sometimes a condition might want to include more than one test. \n",
    "An example is testing whether a number is between two values. "
   ]
  },
  {
   "cell_type": "code",
   "execution_count": null,
   "id": "0b5d212c",
   "metadata": {},
   "outputs": [],
   "source": [
    "### `&&` operator\n",
    "The `&&` operator can test two conditions together.\n",
    "This test prints if a number is between 2 and 6 and between 5 and 9, or prints nothing otherwise."
   ]
  },
  {
   "cell_type": "code",
   "execution_count": 7,
   "id": "c8a06a28-0e8b-4cc9-8b4d-12fedcfbaf99",
   "metadata": {
    "collapsed": true
   },
   "outputs": [
    {
     "name": "stdout",
     "output_type": "stream",
     "text": [
      "3 is in 2..6\r\n"
     ]
    }
   ],
   "source": [
    "val x = 3\n",
    "if (x >= 2 && x <= 6)\n",
    "    println(\"$x is in 2..6\")\n",
    "else\n",
    "    println(\"$x is less than 2 or greater than 6\")"
   ]
  },
  {
   "cell_type": "markdown",
   "id": "b6814cc8-03f8-45a6-bcb4-e39f24aa1f06",
   "metadata": {},
   "source": [
    "### `||` operator\n",
    "The `||` operator either of two tests. \n",
    "This tests whether a number is less than 2 or more than 6."
   ]
  },
  {
   "cell_type": "code",
   "execution_count": 5,
   "id": "6243fb69-efec-4937-912e-fbb566e64eac",
   "metadata": {
    "collapsed": true
   },
   "outputs": [
    {
     "name": "stdout",
     "output_type": "stream",
     "text": [
      "7 is less than 2 or greater than 6\r\n"
     ]
    }
   ],
   "source": [
    "val x = 7\n",
    "if (x < 2 || x > 6)\n",
    "    println(\"$x is less than 2 or greater than 6\")\n",
    "else\n",
    "    println(\"$x is in 2..6\")"
   ]
  }
 ],
 "metadata": {
  "kernelspec": {
   "display_name": "Kotlin",
   "language": "kotlin",
   "name": "kotlin"
  },
  "language_info": {
   "codemirror_mode": "text/x-kotlin",
   "file_extension": ".kt",
   "mimetype": "text/x-kotlin",
   "name": "kotlin",
   "nbconvert_exporter": "",
   "pygments_lexer": "kotlin",
   "version": "1.8.20"
  }
 },
 "nbformat": 4,
 "nbformat_minor": 5
}
