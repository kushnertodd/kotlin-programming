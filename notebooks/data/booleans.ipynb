{
 "cells": [
  {
   "cell_type": "markdown",
   "id": "d438081d",
   "metadata": {},
   "source": [
    "# Booleans\n",
    "Booleans are values indicating whether something is true or false."
   ]
  },
  {
   "cell_type": "markdown",
   "id": "838f8eed-5cc9-441b-94e7-9fc4b8055fe8",
   "metadata": {},
   "source": [
    "<a id=\"conditions\"></a>\n",
    "## Conditions\n",
    "Tests for `if` statements may use different operators or functions. An operator for a condition might be `>` as in `x > 3`. "
   ]
  },
  {
   "cell_type": "code",
   "execution_count": 5,
   "id": "0fc8b84b-0cda-4925-a727-9283c0a50961",
   "metadata": {
    "collapsed": true
   },
   "outputs": [
    {
     "name": "stdout",
     "output_type": "stream",
     "text": [
      "x is > 3\n"
     ]
    }
   ],
   "source": [
    "x = 5\n",
    "if x > 3:\n",
    "    print(\"x is > 3\")"
   ]
  },
  {
   "cell_type": "markdown",
   "id": "4f151f35",
   "metadata": {},
   "source": [
    "These are available numeric operators.\n",
    "\n",
    "|operator |description\n",
    "|:- |:-\n",
    "|== |equal to\n",
    "|!= |not equal to\n",
    "|> |greater than\n",
    "|>= |greater than or equal to\n",
    "|< |less than\n",
    "|<= |less than or equal\n",
    "\n",
    "Note that the test for equal values uses `==` to avoid confusion with `=` that assigns values to variables. \n"
   ]
  },
  {
   "cell_type": "markdown",
   "id": "32e2a286",
   "metadata": {},
   "source": [
    "`==` tests if numbers are the same."
   ]
  },
  {
   "cell_type": "code",
   "execution_count": 6,
   "id": "fc9b3016",
   "metadata": {
    "collapsed": true
   },
   "outputs": [
    {
     "name": "stdout",
     "output_type": "stream",
     "text": [
      "type a number to test: 3\n",
      "3  is 3\n"
     ]
    }
   ],
   "source": [
    "x = int(input(\"type a number to test: \"))\n",
    "if x == 3: \n",
    "    print(x, \" is 3\")"
   ]
  },
  {
   "cell_type": "markdown",
   "id": "ec5976b7",
   "metadata": {},
   "source": [
    "`!=` tests if numbers are not equal."
   ]
  },
  {
   "cell_type": "code",
   "execution_count": 8,
   "id": "efa217bb",
   "metadata": {
    "collapsed": true
   },
   "outputs": [
    {
     "name": "stdout",
     "output_type": "stream",
     "text": [
      "type a number to test: 2\n",
      "2  is not 3\n"
     ]
    }
   ],
   "source": [
    "x = int(input(\"type a number to test: \"))\n",
    "if x != 3: \n",
    "    print(x, \" is not 3\")"
   ]
  },
  {
   "cell_type": "markdown",
   "id": "3ae2f726",
   "metadata": {},
   "source": [
    "`>` tests if a number is greater than another."
   ]
  },
  {
   "cell_type": "code",
   "execution_count": 9,
   "id": "262c5e75",
   "metadata": {
    "collapsed": true
   },
   "outputs": [
    {
     "name": "stdout",
     "output_type": "stream",
     "text": [
      "type a number to test: 3\n"
     ]
    }
   ],
   "source": [
    "x = int(input(\"type a number to test: \"))\n",
    "if x > 3: \n",
    "    print(x, \" is greater than 3\")"
   ]
  },
  {
   "cell_type": "markdown",
   "id": "79f8a13c",
   "metadata": {},
   "source": [
    "`<` tests if a number is less than another."
   ]
  },
  {
   "cell_type": "code",
   "execution_count": null,
   "id": "8b846026",
   "metadata": {
    "collapsed": true
   },
   "outputs": [],
   "source": [
    "x = int(input(\"type a number to test: \"))\n",
    "if x >= 3: \n",
    "    print(x, \" is greater than or equal to 3\")"
   ]
  },
  {
   "cell_type": "markdown",
   "id": "0e01b644",
   "metadata": {},
   "source": [
    "`>=` tests if a number is the same or greater than another."
   ]
  },
  {
   "cell_type": "code",
   "execution_count": null,
   "id": "57bf37d1",
   "metadata": {},
   "outputs": [],
   "source": [
    "x = int(input(\"type a number to test: \"))\n",
    "if x < 3: \n",
    "    print(x, \" is less than 3\")"
   ]
  },
  {
   "cell_type": "markdown",
   "id": "428c2d71",
   "metadata": {},
   "source": [
    "`<=` tests if a number is the same or less than another."
   ]
  },
  {
   "cell_type": "code",
   "execution_count": null,
   "id": "8574e452",
   "metadata": {},
   "outputs": [],
   "source": [
    "x = int(input(\"type a number to test: \"))\n",
    "if x <= 3: \n",
    "    print(x, \" is less than or equal to 3\")"
   ]
  },
  {
   "cell_type": "markdown",
   "id": "e94607ad-54d5-4873-a988-2e4cfa672cdf",
   "metadata": {},
   "source": [
    "### Combining conditions\n",
    "Sometimes a condition might want to include more than one test. \n",
    "An example is testing whether a number is between two values. \n",
    "The `and` operator can test two conditions together.\n",
    "This test prints if a number is between 2 and 6 and between 5 and 9, or prints nothing otherwise."
   ]
  },
  {
   "cell_type": "code",
   "execution_count": 10,
   "id": "c8a06a28-0e8b-4cc9-8b4d-12fedcfbaf99",
   "metadata": {
    "collapsed": true
   },
   "outputs": [
    {
     "name": "stdout",
     "output_type": "stream",
     "text": [
      "number to test: 3\n",
      "3  is between 2 and 6\n"
     ]
    }
   ],
   "source": [
    "x = int(input(\"number to test: \"))\n",
    "if x > 2 and x < 6:\n",
    "    print(x, \" is between 2 and 6\")\n",
    "if x > 5 and x < 9:\n",
    "    print(x, \" is between 5 and 9\")"
   ]
  },
  {
   "cell_type": "markdown",
   "id": "b6814cc8-03f8-45a6-bcb4-e39f24aa1f06",
   "metadata": {},
   "source": [
    "The `or` operator either of two tests. \n",
    "This tests whether a number is less than 2 or more than 6."
   ]
  },
  {
   "cell_type": "code",
   "execution_count": 6,
   "id": "6243fb69-efec-4937-912e-fbb566e64eac",
   "metadata": {
    "collapsed": true
   },
   "outputs": [
    {
     "name": "stdout",
     "output_type": "stream",
     "text": [
      "4 is more than 2 or less than 6\n",
      "4 is more than 5 or less than 9\n"
     ]
    }
   ],
   "source": [
    "x = int(input(\"number to test: \"))\n",
    "if x < 2 or x > 6:\n",
    "    print(x, \" is less than 2 or greater than 6\")"
   ]
  },
  {
   "cell_type": "markdown",
   "id": "76f82c02-b201-43de-9c58-4bcdcd207685",
   "metadata": {},
   "source": [
    "The `not` operator can test whether a condition is false."
   ]
  },
  {
   "cell_type": "code",
   "execution_count": 9,
   "id": "c1f0735e-ffc4-4355-ba45-ee074545fb66",
   "metadata": {
    "collapsed": true
   },
   "outputs": [
    {
     "name": "stdout",
     "output_type": "stream",
     "text": [
      "number to test:0\n"
     ]
    }
   ],
   "source": [
    "x = int(input(\"number to test: \"))\n",
    "if x > 2:\n",
    "    print(x, \" is greater than 2\")\n",
    "if not x < 1:\n",
    "    print(x, \" is not less than 1\")"
   ]
  }
 ],
 "metadata": {
  "kernelspec": {
   "display_name": "Kotlin",
   "language": "kotlin",
   "name": "kotlin"
  },
  "language_info": {
   "codemirror_mode": "text/x-kotlin",
   "file_extension": ".kt",
   "mimetype": "text/x-kotlin",
   "name": "kotlin",
   "nbconvert_exporter": "",
   "pygments_lexer": "kotlin",
   "version": "1.8.20"
  }
 },
 "nbformat": 4,
 "nbformat_minor": 5
}
