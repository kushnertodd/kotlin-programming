{
 "cells": [
  {
   "cell_type": "markdown",
   "id": "ba9e6283",
   "metadata": {},
   "source": [
    "<a id=\"extension-functions\"></a>\n",
    "## Extension functions\n",
    "*Extension functions* allow adding methods to existing classes.\n",
    "They can be defined for classes for which the definitions are not available, where additional methods cannot be defined for them.\n",
    "Extension functions are called as if they are methods of the class,\n",
    "though they have no access to the internal definition of the class.\n",
    "\n",
    "This is an extension function definition.\n",
    "\n",
    "`fun `*class*`.`*method*`(`*parameter*, *parameter*, $\\cdots$`) { ... }`\n",
    "\n",
    "The definition of the `String` class is not available outside of the standard library.\n",
    "This is an example of an extension function for `String`.\n",
    "`this` represents the value of the `String` object on which the extension function is called."
   ]
  },
  {
   "cell_type": "code",
   "execution_count": 14,
   "id": "cec25b8d",
   "metadata": {
    "collapsed": true
   },
   "outputs": [
    {
     "name": "stdout",
     "output_type": "stream",
     "text": [
      "again and again\r\n"
     ]
    }
   ],
   "source": [
    "fun String.double() = \"$this and $this\"\n",
    "println(\"again\".double())"
   ]
  }
 ],
 "metadata": {
  "kernelspec": {
   "display_name": "Kotlin",
   "language": "kotlin",
   "name": "kotlin"
  },
  "language_info": {
   "codemirror_mode": "text/x-kotlin",
   "file_extension": ".kt",
   "mimetype": "text/x-kotlin",
   "name": "kotlin",
   "nbconvert_exporter": "",
   "pygments_lexer": "kotlin",
   "version": "1.8.20"
  }
 },
 "nbformat": 4,
 "nbformat_minor": 5
}
