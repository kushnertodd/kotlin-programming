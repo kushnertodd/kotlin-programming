{
 "cells": [
  {
   "cell_type": "markdown",
   "id": "de589fe6",
   "metadata": {},
   "source": [
    "<!--  \n",
    "TODO:\n",
    "- added enum classes with attributes on names COLOR(\"red\")\n",
    "-->\n",
    "<a id=\"enums\"></a>\n",
    "## Enum classes\n",
    "Some types are a fixed set of names, such as colors, months, or states.\n",
    "*Enum classes* are a set of named values where variables of that type can only have the value of one of those names.\n",
    "This is an example of an enum class."
   ]
  },
  {
   "cell_type": "code",
   "execution_count": 8,
   "id": "db447408",
   "metadata": {
    "collapsed": true
   },
   "outputs": [
    {
     "name": "stdout",
     "output_type": "stream",
     "text": [
      "APPLE\r\n"
     ]
    }
   ],
   "source": [
    "enum class Fruit {\n",
    "    APPLE, GRAPE, ORANGE, PEACH\n",
    "}\n",
    "val snack = Fruit.APPLE\n",
    "println(snack)"
   ]
  },
  {
   "cell_type": "markdown",
   "id": "a87d9995",
   "metadata": {},
   "source": [
    "Enums are useful in conjunction with `when` clauses where each branch is a different value of the enum."
   ]
  },
  {
   "cell_type": "code",
   "execution_count": 4,
   "id": "3e4d1228",
   "metadata": {
    "collapsed": true
   },
   "outputs": [
    {
     "name": "stdout",
     "output_type": "stream",
     "text": [
      "Apple\r\n"
     ]
    }
   ],
   "source": [
    "enum class Fruit {\n",
    "    APPLE, GRAPE, ORANGE, PEACH\n",
    "}\n",
    "\n",
    "fun fruitName(snack : Fruit) = \n",
    "when (snack) {\n",
    "    Fruit.APPLE -> \"Apple\"\n",
    "    Fruit.GRAPE -> \"Grape\"\n",
    "    Fruit.ORANGE -> \"Orange\"\n",
    "    Fruit.PEACH -> \"Peach\"\n",
    "}\n",
    "val snack = Fruit.APPLE\n",
    "println(fruitName(snack))"
   ]
  },
  {
   "cell_type": "markdown",
   "id": "3005dae9",
   "metadata": {},
   "source": [
    "When not all enum values are used in a branch, an `else` clause is required "
   ]
  },
  {
   "cell_type": "code",
   "execution_count": 5,
   "id": "847d4b54",
   "metadata": {
    "collapsed": true
   },
   "outputs": [
    {
     "name": "stdout",
     "output_type": "stream",
     "text": [
      "Red\r\n"
     ]
    }
   ],
   "source": [
    "enum class Fruit {\n",
    "    APPLE, GRAPE, ORANGE, PEACH\n",
    "}\n",
    "\n",
    "fun fruitColor(snack : Fruit) = \n",
    "when (snack) {\n",
    "    Fruit.APPLE -> \"Red\"\n",
    "    Fruit.GRAPE -> \"Purple\"\n",
    "    else -> \"Orange\"\n",
    "}\n",
    "val snack = Fruit.APPLE\n",
    "println(fruitColor(snack))"
   ]
  },
  {
   "cell_type": "markdown",
   "id": "091577e2",
   "metadata": {},
   "source": [
    "Enum classes can have properties like any method. \n",
    "This is an example where the string name is a property of each value, \n",
    "making a method and `when` unnecessary.\n",
    "Note that if a method is defined for the class, a semicolon `;` must be after the last value before any method instead of a comma `,`."
   ]
  },
  {
   "cell_type": "code",
   "execution_count": 7,
   "id": "7f4c203e",
   "metadata": {
    "collapsed": true
   },
   "outputs": [
    {
     "name": "stdout",
     "output_type": "stream",
     "text": [
      "Apple\r\n",
      "Grape\r\n",
      "Orange\r\n",
      "Peach\r\n"
     ]
    }
   ],
   "source": [
    "enum class FruitName(val color: String) {\n",
    "    APPLE(\"Apple\"),\n",
    "    GRAPE(\"Grape\"),\n",
    "    ORANGE(\"Orange\"),\n",
    "    PEACH(\"Peach\");\n",
    "    fun printName() = println(color)\n",
    "}\n",
    "FruitName.APPLE.printName()\n",
    "FruitName.GRAPE.printName()\n",
    "FruitName.ORANGE.printName()\n",
    "FruitName.PEACH.printName()"
   ]
  }
 ],
 "metadata": {
  "kernelspec": {
   "display_name": "Kotlin",
   "language": "kotlin",
   "name": "kotlin"
  },
  "language_info": {
   "codemirror_mode": "text/x-kotlin",
   "file_extension": ".kt",
   "mimetype": "text/x-kotlin",
   "name": "kotlin",
   "nbconvert_exporter": "",
   "pygments_lexer": "kotlin",
   "version": "1.8.20"
  }
 },
 "nbformat": 4,
 "nbformat_minor": 5
}
