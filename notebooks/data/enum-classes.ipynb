{
 "cells": [
  {
   "cell_type": "markdown",
   "id": "de589fe6",
   "metadata": {},
   "source": [
    "<a id=\"enums\"></a>\n",
    "## Enum classes\n",
    "Some types are a fixed set of names, such as colors, months, or states.\n",
    "*Enum classes* are a set of named values where variables of that type can only have the value of one of those names.\n",
    "This is an example of an enum class."
   ]
  },
  {
   "cell_type": "code",
   "execution_count": 1,
   "id": "db447408",
   "metadata": {
    "collapsed": true
   },
   "outputs": [
    {
     "name": "stdout",
     "output_type": "stream",
     "text": [
      "APPLE\r\n"
     ]
    }
   ],
   "source": [
    "enum class Fruit {\n",
    "    APPLE, GRAPE, ORANGE, PEACH\n",
    "}\n",
    "val snack = Fruit.APPLE\n",
    "println(snack)"
   ]
  },
  {
   "cell_type": "markdown",
   "id": "a87d9995",
   "metadata": {},
   "source": [
    "Enums are useful in conjunction with `when` clauses where each branch is a different value of the enum."
   ]
  },
  {
   "cell_type": "code",
   "execution_count": 4,
   "id": "3e4d1228",
   "metadata": {
    "collapsed": true
   },
   "outputs": [
    {
     "name": "stdout",
     "output_type": "stream",
     "text": [
      "Apple\r\n"
     ]
    }
   ],
   "source": [
    "enum class Fruit {\n",
    "    APPLE, GRAPE, ORANGE, PEACH\n",
    "}\n",
    "\n",
    "fun fruitName(snack : Fruit) = \n",
    "when (snack) {\n",
    "    Fruit.APPLE -> \"Apple\"\n",
    "    Fruit.GRAPE -> \"Grape\"\n",
    "    Fruit.ORANGE -> \"Orange\"\n",
    "    Fruit.PEACH -> \"Peach\"\n",
    "}\n",
    "val snack = Fruit.APPLE\n",
    "println(fruitName(snack))"
   ]
  },
  {
   "cell_type": "markdown",
   "id": "3005dae9",
   "metadata": {},
   "source": [
    "When not all enum values are used in a branch, an `else` clause is required "
   ]
  },
  {
   "cell_type": "code",
   "execution_count": 5,
   "id": "847d4b54",
   "metadata": {
    "collapsed": true
   },
   "outputs": [
    {
     "name": "stdout",
     "output_type": "stream",
     "text": [
      "Red\r\n"
     ]
    }
   ],
   "source": [
    "enum class Fruit {\n",
    "    APPLE, GRAPE, ORANGE, PEACH\n",
    "}\n",
    "\n",
    "fun fruitColor(snack : Fruit) = \n",
    "when (snack) {\n",
    "    Fruit.APPLE -> \"Red\"\n",
    "    Fruit.GRAPE -> \"Purple\"\n",
    "    else -> \"Orange\"\n",
    "}\n",
    "val snack = Fruit.APPLE\n",
    "println(fruitColor(snack))"
   ]
  }
 ],
 "metadata": {
  "kernelspec": {
   "display_name": "Kotlin",
   "language": "kotlin",
   "name": "kotlin"
  },
  "language_info": {
   "codemirror_mode": "text/x-kotlin",
   "file_extension": ".kt",
   "mimetype": "text/x-kotlin",
   "name": "kotlin",
   "nbconvert_exporter": "",
   "pygments_lexer": "kotlin",
   "version": "1.8.20"
  }
 },
 "nbformat": 4,
 "nbformat_minor": 5
}
