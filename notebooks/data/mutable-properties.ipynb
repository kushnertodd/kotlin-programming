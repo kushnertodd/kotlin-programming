{
 "cells": [
  {
   "cell_type": "markdown",
   "id": "f6610ee0",
   "metadata": {},
   "source": [
    "<a id=\"mutable-properties\"></a>\n",
    "## Mutable properties\n",
    "`firstName` and `lastName` are *read only* properties, because they are declared with `val`.\n",
    "Properties can declared modifiable, or mutable using `var` instead.\n",
    "This is an example of a mutable property."
   ]
  },
  {
   "cell_type": "code",
   "execution_count": 9,
   "id": "26c670f7",
   "metadata": {},
   "outputs": [
    {
     "name": "stdout",
     "output_type": "stream",
     "text": [
      "Hathaway, Anne\r\n",
      "Shakespeare, Anne\r\n"
     ]
    }
   ],
   "source": [
    "class Person(var firstName : String, var lastName : String) {\n",
    "    fun fullName() = \"$lastName, $firstName\"\n",
    "}\n",
    "\n",
    "val anne = Person(\"Anne\", \"Hathaway\")\n",
    "println(anne.fullName())\n",
    "anne.lastName = \"Shakespeare\"\n",
    "println(anne.fullName())"
   ]
  },
  {
   "cell_type": "markdown",
   "id": "fc81c675",
   "metadata": {},
   "source": [
    "A mutable property can have a modifying accessor if more than just changing the value of the property is required.\n",
    "This is an example where changing a property must have some other action taken. \n",
    "`field` represents the field being modified."
   ]
  },
  {
   "cell_type": "code",
   "execution_count": 51,
   "id": "e02e4477",
   "metadata": {
    "collapsed": true
   },
   "outputs": [
    {
     "name": "stdout",
     "output_type": "stream",
     "text": [
      "Hathaway, Anne\r\n",
      "Shakespeare, Anne\r\n"
     ]
    }
   ],
   "source": [
    "class Person(startFirstName : String, startLastName : String) {\n",
    "    var firstName = startFirstName\n",
    "        set(newFirstName : String) {\n",
    "            field = newFirstName\n",
    "            fullName = \"$lastName, $firstName\"\n",
    "        }\n",
    "    var lastName = startLastName\n",
    "        set(newLastName : String) {\n",
    "            field = newLastName\n",
    "            fullName = \"$lastName, $firstName\"\n",
    "        }\n",
    "    var fullName = \"$lastName, $firstName\"\n",
    "}\n",
    "\n",
    "val anne = Person(\"Anne\", \"Hathaway\")\n",
    "println(anne.fullName)\n",
    "anne.lastName = \"Shakespeare\"\n",
    "println(anne.fullName)"
   ]
  }
 ],
 "metadata": {
  "kernelspec": {
   "display_name": "Kotlin",
   "language": "kotlin",
   "name": "kotlin"
  },
  "language_info": {
   "codemirror_mode": "text/x-kotlin",
   "file_extension": ".kt",
   "mimetype": "text/x-kotlin",
   "name": "kotlin",
   "nbconvert_exporter": "",
   "pygments_lexer": "kotlin",
   "version": "1.8.20"
  }
 },
 "nbformat": 4,
 "nbformat_minor": 5
}
