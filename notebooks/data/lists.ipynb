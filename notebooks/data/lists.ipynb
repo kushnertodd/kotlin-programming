{
 "cells": [
  {
   "cell_type": "markdown",
   "id": "14b4611e",
   "metadata": {},
   "source": [
    "# Lists\n",
    "<!--\n",
    "https://kotlinlang.org/docs/list-operations.html\n",
    "https://www.tutorialspoint.com/kotlin/kotlin_lists.htm\n",
    "https://kotlinlang.org/api/latest/jvm/stdlib/kotlin.collections/-list/\n",
    "-->\n",
    "*Lists* are a ordered collections of values of any type. \n",
    "The values of any type.\n",
    "They are similar to mathematical [vectors](../mathematical-basics/Functions.ipynb#vector)."
   ]
  },
  {
   "cell_type": "markdown",
   "id": "add428fb",
   "metadata": {},
   "source": [
    "## Creating lists\n",
    "Lists are read-only ordered collections of values by default.\n",
    "Lists are *immutable*."
   ]
  },
  {
   "cell_type": "markdown",
   "id": "6e4e39e9",
   "metadata": {},
   "source": [
    "### `listOf` function\n",
    "The `listOf` function creates a read-only list from a collection of values.\n",
    "The types of all the values need not be the same."
   ]
  },
  {
   "cell_type": "code",
   "execution_count": 1,
   "id": "21bdcbfe",
   "metadata": {
    "collapsed": true
   },
   "outputs": [
    {
     "name": "stdout",
     "output_type": "stream",
     "text": [
      "[one, two, 3]\r\n"
     ]
    }
   ],
   "source": [
    "val theList = listOf(\"one\", \"two\", 3)\n",
    "println(theList)"
   ]
  },
  {
   "cell_type": "markdown",
   "id": "64d232e3",
   "metadata": {},
   "source": [
    "### `+` element operator\n",
    "The `+` operator adds elements to a list. \n",
    "This discards duplicate elements."
   ]
  },
  {
   "cell_type": "code",
   "execution_count": 2,
   "id": "933ac6c0",
   "metadata": {
    "collapsed": true
   },
   "outputs": [
    {
     "name": "stdout",
     "output_type": "stream",
     "text": [
      "[one, two, three, four]\r\n",
      "[one, two, three, two]\r\n"
     ]
    }
   ],
   "source": [
    "val theList = listOf(\"one\", \"two\", \"three\")\n",
    "val result_add = theList + \"four\"\n",
    "println(result_add)\n",
    "val result_discard = theList + \"two\"\n",
    "println(result_discard)"
   ]
  },
  {
   "cell_type": "markdown",
   "id": "84e63c57",
   "metadata": {},
   "source": [
    "### `-` element operator\n",
    "The `-` operator removes elements to a list. \n",
    "This does nothing if the elements are not in the list."
   ]
  },
  {
   "cell_type": "code",
   "execution_count": 3,
   "id": "f766ddd1",
   "metadata": {
    "collapsed": true
   },
   "outputs": [
    {
     "name": "stdout",
     "output_type": "stream",
     "text": [
      "[one, two]\r\n",
      "[one, two, three]\r\n"
     ]
    }
   ],
   "source": [
    "val theList = listOf(\"one\", \"two\", \"three\")\n",
    "val result_have = theList - \"three\"\n",
    "println(result_have)\n",
    "val result_missing = theList - \"four\"\n",
    "println(result_missing)"
   ]
  },
  {
   "cell_type": "markdown",
   "id": "6e9272de",
   "metadata": {},
   "source": [
    "### `+` and `union` list operators\n",
    "The `+` and [`union`](../mathematical-basics/lists/lists.ipynb#list-Union) operators add two or more lists into a single list. \n",
    "This discards the duplicate elements."
   ]
  },
  {
   "cell_type": "code",
   "execution_count": 4,
   "id": "5c1168e3",
   "metadata": {
    "collapsed": true
   },
   "outputs": [
    {
     "name": "stdout",
     "output_type": "stream",
     "text": [
      "[one, two, three, two, three, four, five]\r\n",
      "[one, two, three, four, five]\r\n"
     ]
    }
   ],
   "source": [
    "val firstList = listOf(\"one\", \"two\", \"three\")\n",
    "val secondList = listOf(\"two\", \"three\", \"four\", \"five\")\n",
    "val resultList = firstList + secondList\n",
    "val unionList = firstList union secondList\n",
    "println(resultList)\n",
    "println(unionList)"
   ]
  },
  {
   "cell_type": "markdown",
   "id": "4ea7eea0",
   "metadata": {},
   "source": [
    "### `intersection` list operator\n",
    "The [`intersect`](../mathematical-basics/lists/lists.ipynb#list-Intersection) operator collections all common elements of two or more lists into a single list. "
   ]
  },
  {
   "cell_type": "code",
   "execution_count": 5,
   "id": "26108717",
   "metadata": {},
   "outputs": [
    {
     "name": "stdout",
     "output_type": "stream",
     "text": [
      "[two, three]\r\n"
     ]
    }
   ],
   "source": [
    "val firstList = listOf(\"one\", \"two\", \"three\")\n",
    "val secondList = listOf(\"two\", \"three\", \"four\", \"five\")\n",
    "val intersectList = firstList intersect secondList\n",
    "println(intersectList)"
   ]
  },
  {
   "cell_type": "markdown",
   "id": "8cd80dbc",
   "metadata": {},
   "source": [
    "### `-` list operator\n",
    "The `-` operator removes the elements of two or more lists from a list. "
   ]
  },
  {
   "cell_type": "code",
   "execution_count": 6,
   "id": "19e50b94",
   "metadata": {
    "collapsed": true
   },
   "outputs": [
    {
     "name": "stdout",
     "output_type": "stream",
     "text": [
      "[one]\r\n"
     ]
    }
   ],
   "source": [
    "val firstList = listOf(\"one\", \"two\", \"three\")\n",
    "val secondList = listOf(\"two\", \"three\", \"four\", \"five\")\n",
    "    val resultList = firstList - secondList\n",
    "    println(resultList)"
   ]
  },
  {
   "cell_type": "markdown",
   "id": "fd514151",
   "metadata": {},
   "source": [
    "## Accessing lists\n",
    "As with strings, the first element is 0 rather than 1."
   ]
  },
  {
   "cell_type": "markdown",
   "id": "94ba98f0",
   "metadata": {},
   "source": [
    "### `size` property\n",
    "The `size` property gives the total number of elements in a list."
   ]
  },
  {
   "cell_type": "code",
   "execution_count": 7,
   "id": "59962877",
   "metadata": {
    "collapsed": true
   },
   "outputs": [
    {
     "name": "stdout",
     "output_type": "stream",
     "text": [
      "Size of the List 5\r\n"
     ]
    }
   ],
   "source": [
    "val theList = listOf(\"one\", \"two\", null, \"four\", \"five\")\n",
    "println(\"Size of the List \" + theList.size)"
   ]
  },
  {
   "cell_type": "markdown",
   "id": "20ff5c22",
   "metadata": {},
   "source": [
    "<!--\n",
    "https://www.baeldung.com/kotlin/list-mutablelist\n",
    "-->\n",
    "## Modifiable lists\n",
    "Modifiable lists allow changing elements within the list.\n",
    "Modifiable lists are *mutable*."
   ]
  },
  {
   "cell_type": "markdown",
   "id": "19735182",
   "metadata": {},
   "source": [
    "### `mutableListOf` function\n",
    "The `mutableListOf` function creates a modifiable list from a collection of values.\n",
    "The types of all the values need not be the same."
   ]
  },
  {
   "cell_type": "code",
   "execution_count": 8,
   "id": "430ec910",
   "metadata": {
    "collapsed": true
   },
   "outputs": [
    {
     "name": "stdout",
     "output_type": "stream",
     "text": [
      "[one, two, 3]\r\n"
     ]
    }
   ],
   "source": [
    "val theList = mutableListOf(\"one\", \"two\", 3)\n",
    "println(theList)"
   ]
  },
  {
   "cell_type": "markdown",
   "id": "3bb9d07e",
   "metadata": {},
   "source": [
    "### `add` element function\n",
    "The `add` function adds elements to a mutable list. \n",
    "This discards duplicate elements."
   ]
  },
  {
   "cell_type": "code",
   "execution_count": 9,
   "id": "3ebcecc5",
   "metadata": {
    "collapsed": true
   },
   "outputs": [
    {
     "name": "stdout",
     "output_type": "stream",
     "text": [
      "[one, two, three, four]\r\n"
     ]
    }
   ],
   "source": [
    "val theList = mutableListOf(\"one\", \"two\", \"three\")\n",
    "theList.add(\"four\")\n",
    "println(theList)"
   ]
  },
  {
   "cell_type": "markdown",
   "id": "c28f2584",
   "metadata": {},
   "source": [
    "### `addAll` list function\n",
    "The `addAll` function adds all elements of a list to a mutable list. \n",
    "This discards duplicate elements."
   ]
  },
  {
   "cell_type": "code",
   "execution_count": 10,
   "id": "735d8838",
   "metadata": {
    "collapsed": true
   },
   "outputs": [
    {
     "name": "stdout",
     "output_type": "stream",
     "text": [
      "[one, two, three, two, three, four, five]\r\n"
     ]
    }
   ],
   "source": [
    "val firstList = mutableListOf(\"one\", \"two\", \"three\")\n",
    "val secondList = mutableListOf(\"two\", \"three\", \"four\", \"five\")\n",
    "firstList.addAll(secondList)\n",
    "println(firstList)"
   ]
  },
  {
   "cell_type": "markdown",
   "id": "fb80b761",
   "metadata": {},
   "source": [
    "### `remove` element function\n",
    "The `remove` function removes elements from a mutable list. \n",
    "This does nothing if the elements are not in the list."
   ]
  },
  {
   "cell_type": "code",
   "execution_count": 11,
   "id": "8ee4febb",
   "metadata": {
    "collapsed": true
   },
   "outputs": [
    {
     "name": "stdout",
     "output_type": "stream",
     "text": [
      "[one, two]\r\n",
      "[one, two]\r\n"
     ]
    }
   ],
   "source": [
    "val theList = mutableListOf(\"one\", \"two\", \"three\")\n",
    "theList.remove(\"three\")\n",
    "println(theList)\n",
    "theList.remove(\"four\")\n",
    "println(theList)"
   ]
  },
  {
   "cell_type": "markdown",
   "id": "aa31fe29",
   "metadata": {},
   "source": [
    "### `removeAll` list function\n",
    "The `removeAll` function removes all elements of a list from a mutable list. \n",
    "This does nothing for the elements not in the list."
   ]
  },
  {
   "cell_type": "code",
   "execution_count": 12,
   "id": "467a56f8",
   "metadata": {
    "collapsed": true
   },
   "outputs": [
    {
     "name": "stdout",
     "output_type": "stream",
     "text": [
      "[one]\r\n"
     ]
    }
   ],
   "source": [
    "val firstList = mutableListOf(\"one\", \"two\", \"three\")\n",
    "val secondList = listOf(\"two\", \"three\", \"four\", \"five\")\n",
    "firstList.removeAll(secondList)\n",
    "println(firstList)"
   ]
  },
  {
   "cell_type": "markdown",
   "id": "29ce5c56",
   "metadata": {},
   "source": [
    "## List tests"
   ]
  },
  {
   "cell_type": "markdown",
   "id": "f6668258",
   "metadata": {},
   "source": [
    "### `in` operator\n",
    "The `in` operator can be used to check the existence of an element in a list."
   ]
  },
  {
   "cell_type": "code",
   "execution_count": 13,
   "id": "3173c065",
   "metadata": {
    "collapsed": true
   },
   "outputs": [
    {
     "name": "stdout",
     "output_type": "stream",
     "text": [
      "true\r\n"
     ]
    }
   ],
   "source": [
    "val theList = listOf(\"one\", \"two\", \"three\", \"four\")\n",
    "if(\"two\" in theList)\n",
    "      println(true)\n",
    "else\n",
    "      println(false)"
   ]
  },
  {
   "cell_type": "markdown",
   "id": "315a1258",
   "metadata": {},
   "source": [
    "### `contains` function\n",
    "The `contains` function can also be used to check the existence of an element in a list."
   ]
  },
  {
   "cell_type": "code",
   "execution_count": 14,
   "id": "5b55fc9e",
   "metadata": {
    "collapsed": true
   },
   "outputs": [
    {
     "name": "stdout",
     "output_type": "stream",
     "text": [
      "true\r\n"
     ]
    }
   ],
   "source": [
    "val theList = listOf(\"one\", \"two\", \"three\", \"four\")\n",
    "if(theList.contains(\"two\"))\n",
    "      println(true)\n",
    "else\n",
    "      println(false)"
   ]
  },
  {
   "cell_type": "markdown",
   "id": "139f1677",
   "metadata": {},
   "source": [
    "### `containsAll` sublist function\n",
    "The `containsAll` function can be used to check the whether a list is a sublist of another list."
   ]
  },
  {
   "cell_type": "code",
   "execution_count": 15,
   "id": "eba7909c",
   "metadata": {
    "collapsed": true
   },
   "outputs": [
    {
     "name": "stdout",
     "output_type": "stream",
     "text": [
      "true\r\n",
      "false\r\n"
     ]
    }
   ],
   "source": [
    "val firstList = listOf(\"one\", \"two\", \"three\", \"four\", \"five\")\n",
    "val secondList = listOf(\"one\", \"two\", \"three\")\n",
    "val thirdList = listOf(\"four\", \"five\", \"six\")\n",
    "if (firstList.containsAll(secondList))\n",
    "      println(true)\n",
    "else\n",
    "      println(false)\n",
    "if (firstList.containsAll(thirdList))\n",
    "      println(true)\n",
    "else\n",
    "      println(false)"
   ]
  },
  {
   "cell_type": "markdown",
   "id": "fed69771",
   "metadata": {},
   "source": [
    "### `isEmpty` function\n",
    "The `isEmpty` function returns true if the collection is empty (contains no elements), false otherwise."
   ]
  },
  {
   "cell_type": "code",
   "execution_count": 16,
   "id": "3ac67d2c",
   "metadata": {
    "collapsed": true
   },
   "outputs": [
    {
     "name": "stdout",
     "output_type": "stream",
     "text": [
      "false\r\n"
     ]
    }
   ],
   "source": [
    "val theList = listOf(\"one\", \"two\", \"three\", \"four\")\n",
    "if(theList.isEmpty())\n",
    "      println(true)\n",
    "else\n",
    "      println(false)"
   ]
  },
  {
   "cell_type": "markdown",
   "id": "9a8458f4",
   "metadata": {},
   "source": [
    "### `isNotEmpty` function\n",
    "The `isNotEmpty` function returns false if the collection is empty (contains no elements), true otherwise."
   ]
  },
  {
   "cell_type": "code",
   "execution_count": 17,
   "id": "b84bf578",
   "metadata": {
    "collapsed": true
   },
   "outputs": [
    {
     "name": "stdout",
     "output_type": "stream",
     "text": [
      "true\r\n"
     ]
    }
   ],
   "source": [
    "val theList = listOf(\"one\", \"two\", \"three\", \"four\")\n",
    "if(theList.isNotEmpty())\n",
    "      println(true)\n",
    "else\n",
    "      println(false)"
   ]
  },
  {
   "cell_type": "markdown",
   "id": "9e768e77",
   "metadata": {},
   "source": [
    "### `max` function\n",
    "The `max` function returns the largest value in a numerical list."
   ]
  },
  {
   "cell_type": "code",
   "execution_count": 18,
   "id": "ddcc4122",
   "metadata": {
    "collapsed": true
   },
   "outputs": [
    {
     "name": "stdout",
     "output_type": "stream",
     "text": [
      "4\r\n"
     ]
    }
   ],
   "source": [
    "val theList = listOf(1, 2, 3, 4)\n",
    "println(theList.max())"
   ]
  },
  {
   "cell_type": "markdown",
   "id": "00f7d9f0",
   "metadata": {},
   "source": [
    "### `min` function\n",
    "The `min` function returns the smallest value in a numerical list."
   ]
  },
  {
   "cell_type": "code",
   "execution_count": 19,
   "id": "56946288",
   "metadata": {
    "collapsed": true
   },
   "outputs": [
    {
     "name": "stdout",
     "output_type": "stream",
     "text": [
      "4\r\n"
     ]
    }
   ],
   "source": [
    "val theList = listOf(1, 2, 3, 4)\n",
    "println(theList.max())"
   ]
  },
  {
   "cell_type": "markdown",
   "id": "41f57eac",
   "metadata": {},
   "source": [
    "### `random` function\n",
    "The `random` function returns a random element from a list."
   ]
  },
  {
   "cell_type": "code",
   "execution_count": 20,
   "id": "b9625d2f",
   "metadata": {
    "collapsed": true
   },
   "outputs": [
    {
     "name": "stdout",
     "output_type": "stream",
     "text": [
      "two\r\n"
     ]
    }
   ],
   "source": [
    "val theList = listOf(\"one\", \"two\", \"three\", \"four\")\n",
    "println(theList.random())"
   ]
  },
  {
   "cell_type": "markdown",
   "id": "2266fcf3",
   "metadata": {},
   "source": [
    "### `sum` function\n",
    "The `sum` function returns the sum of all values in a numerical list."
   ]
  },
  {
   "cell_type": "code",
   "execution_count": 21,
   "id": "981bae3e",
   "metadata": {
    "collapsed": true
   },
   "outputs": [
    {
     "name": "stdout",
     "output_type": "stream",
     "text": [
      "10\r\n"
     ]
    }
   ],
   "source": [
    "val theList = listOf(1, 2, 3, 4)\n",
    "println(theList.sum())"
   ]
  },
  {
   "cell_type": "markdown",
   "id": "361fcdce",
   "metadata": {},
   "source": [
    "## Looping through lists"
   ]
  },
  {
   "cell_type": "markdown",
   "id": "6e9069d5",
   "metadata": {},
   "source": [
    "### `for` loop\n",
    "The `for` loop can perform an action on each element of a list.\n",
    "This loop uses the `in` operator to select each element of the list.\n",
    "Elements have no order in a list so there is no assurance of the order the elements will be processed."
   ]
  },
  {
   "cell_type": "code",
   "execution_count": 22,
   "id": "50a8e5a3",
   "metadata": {
    "collapsed": true
   },
   "outputs": [
    {
     "name": "stdout",
     "output_type": "stream",
     "text": [
      "one\r\n",
      "two\r\n",
      "three\r\n",
      "four\r\n"
     ]
    }
   ],
   "source": [
    "val theList = listOf(\"one\", \"two\", \"three\", \"four\")\n",
    "for (elem in theList)\n",
    "      println(elem)"
   ]
  },
  {
   "cell_type": "markdown",
   "id": "330ce945",
   "metadata": {},
   "source": [
    "### `forEach` loop\n",
    "The `foreach` loop is a variation of the `for` loop to perform an action on each element of a list.\n",
    "This loop uses the `it` operator to access the element currently selected in the loop."
   ]
  },
  {
   "cell_type": "code",
   "execution_count": 23,
   "id": "2b49cb75",
   "metadata": {
    "collapsed": true
   },
   "outputs": [
    {
     "name": "stdout",
     "output_type": "stream",
     "text": [
      "one\r\n",
      "two\r\n",
      "three\r\n",
      "four\r\n"
     ]
    }
   ],
   "source": [
    "val theList = listOf(\"one\", \"two\", \"three\", \"four\")\n",
    "theList.forEach { println(it) }"
   ]
  },
  {
   "cell_type": "markdown",
   "id": "60c00eb6",
   "metadata": {},
   "source": [
    "## Other list functions"
   ]
  },
  {
   "cell_type": "markdown",
   "id": "1ed8c48e",
   "metadata": {},
   "source": [
    "### `toString` function\n",
    "The `toString` function converts to a list to a readable form."
   ]
  },
  {
   "cell_type": "code",
   "execution_count": 24,
   "id": "0c41591a",
   "metadata": {
    "collapsed": true
   },
   "outputs": [
    {
     "name": "stdout",
     "output_type": "stream",
     "text": [
      "[one, two, three, four]\r\n"
     ]
    }
   ],
   "source": [
    "val theList = listOf(\"one\", \"two\", \"three\", \"four\")\n",
    "println(theList.toString())"
   ]
  }
 ],
 "metadata": {
  "kernelspec": {
   "display_name": "Kotlin",
   "language": "kotlin",
   "name": "kotlin"
  },
  "language_info": {
   "codemirror_mode": "text/x-kotlin",
   "file_extension": ".kt",
   "mimetype": "text/x-kotlin",
   "name": "kotlin",
   "nbconvert_exporter": "",
   "pygments_lexer": "kotlin",
   "version": "1.8.20"
  }
 },
 "nbformat": 4,
 "nbformat_minor": 5
}
