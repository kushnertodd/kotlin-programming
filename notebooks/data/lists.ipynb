{
 "cells": [
  {
   "cell_type": "markdown",
   "id": "14b4611e",
   "metadata": {},
   "source": [
    "# Lists\n",
    "<!-- \n",
    "https://kotlinlang.org/docs/list-operations.html\n",
    "https://www.tutorialspoint.com/kotlin/kotlin_lists.htm\n",
    "https://kotlinlang.org/api/latest/jvm/stdlib/kotlin.collections/-list/\n",
    "-->\n",
    "*Lists* are ordered collections of values of any type. \n",
    "They are similar to mathematical [vectors](../mathematical-basics/Functions.ipynb#vector).\n",
    "\n",
    "[Immutable lists](#immutable-lists)    \n",
    "[Mutable lists](#mutable-lists)  \n",
    "[List tests](#list-tests)  \n",
    "[Immutable list functions](#immutable-list-functions)  \n",
    "[Mutable list functions](#mutable-list-functions)  \n",
    "[List conversion functions](#list-conversion-functions)\n",
    "\n",
    "\n",
    "[Immutable lists]\n",
    "[Creating lists](#creating-lists)  \n",
    "[Accessing lists](#accessing-lists)  \n",
    "[Other list accessing functions](#other-list-accessing-functions)  \n",
    "\n",
    "[Mutable lists]\n",
    "[Modifiable lists](#modifiable-lists)  \n",
    "\n",
    "[List tests](#list-tests)  \n",
    "[Looping through lists](#looping-through-lists)  \n",
    "[Other list functions](#other-list-functions)  \n",
    "\n",
    "[Functions converting between lists and other data types]()  \n",
    "[Lists from strings: `split` function](#lists-from-strings)  \n",
    "[Lists to strings: `joinToString` function](#lists-to-strings)  "
   ]
  },
  {
   "cell_type": "markdown",
   "id": "add428fb",
   "metadata": {},
   "source": [
    "<a id=\"immutable-lists\"></a>\n",
    "## Immutable lists\n",
    "Lists are read-only, or *immutable*, ordered collections of elements.\n",
    "The types of elements need not be the same.\n",
    "Lists can contain sublists as elements."
   ]
  },
  {
   "cell_type": "markdown",
   "id": "6e4e39e9",
   "metadata": {},
   "source": [
    "### `listOf` function\n",
    "The `listOf` function creates a read-only list of elements.\n",
    "The types of the elements need not be the same type. Some functions only operate of lists with elements of the same type, such as [`max`](#max-function), [`min`](#min-function), and [`sum`](#sum-function).\n",
    "Notice that if you create an empty list you have to specify the type.\n",
    "This is because it cannot infer the type of the list.\n",
    "This is an example of a [*generic*](../data/generic-collections.ipynb) list. (There is a question of what type it infers for a mixed list.\n",
    "This is covered in the generics section.)"
   ]
  },
  {
   "cell_type": "code",
   "execution_count": 3,
   "id": "21bdcbfe",
   "metadata": {},
   "outputs": [
    {
     "name": "stdout",
     "output_type": "stream",
     "text": [
      "[5, red, [2.0, blue], 1]\r\n"
     ]
    }
   ],
   "source": [
    "val theList = listOf(5, 9, 1)\n",
    "println(theList)\n",
    "val theMixedList = listOf(5, \"red\", listOf(2.0, \"blue\"), 1)\n",
    "println(theMixedList)\n",
    "val theIntList = emptyList<Int>()"
   ]
  },
  {
   "cell_type": "markdown",
   "id": "faeba153",
   "metadata": {},
   "source": [
    "These are the structures of `theList` and `theMixedList`.\n",
    "Each element is at a given position, numbered starting at 0.\n",
    "<img src=\"lists-list0.jpg\" width=\"750\" height=\"350\"/>"
   ]
  },
  {
   "cell_type": "markdown",
   "id": "c3ee5c15",
   "metadata": {},
   "source": [
    "### `toList` function\n",
    "The `toList` function creates a copy of a list.\n",
    "When that list is assigned to another variable, a new copy of the list is created.\n",
    "`toList` works for [mutable](#mutable-lists) as well.\n",
    "\n",
    "These are the structures of `theFirstList` and `theSecondList`.\n",
    "<img src=\"lists-list1.jpg\" width=\"750\" height=\"350\"/>"
   ]
  },
  {
   "cell_type": "code",
   "execution_count": 33,
   "id": "1461a0bd",
   "metadata": {},
   "outputs": [
    {
     "name": "stdout",
     "output_type": "stream",
     "text": [
      "[5, 9, 1]\r\n",
      "[5, 9, 1]\r\n"
     ]
    }
   ],
   "source": [
    "var theFirstList = mutableListOf(5, 9, 1)\n",
    "val theSecondList = theFirstList.toList()\n",
    "println(theFirstList)\n",
    "println(theSecondList)"
   ]
  },
  {
   "cell_type": "markdown",
   "id": "6b1f2794",
   "metadata": {},
   "source": [
    "### Accessing list elements\n",
    "Lists can be accessed by an index.\n",
    "Elements of lists can be accessed by position using square brackets `[` and `]`."
   ]
  },
  {
   "cell_type": "code",
   "execution_count": 34,
   "id": "37b6e1ee",
   "metadata": {},
   "outputs": [
    {
     "name": "stdout",
     "output_type": "stream",
     "text": [
      "one\r\n",
      "four\r\n"
     ]
    }
   ],
   "source": [
    "val theList = listOf(\"one\", \"two\", \"three\", \"four\")\n",
    "println(theList[0])\n",
    "println(theList[3])"
   ]
  },
  {
   "cell_type": "markdown",
   "id": "a2434f6c",
   "metadata": {},
   "source": [
    "### `first` function\n",
    "The `first` function returns the first element of a list."
   ]
  },
  {
   "cell_type": "code",
   "execution_count": 35,
   "id": "328c318b",
   "metadata": {},
   "outputs": [
    {
     "name": "stdout",
     "output_type": "stream",
     "text": [
      "one\r\n"
     ]
    }
   ],
   "source": [
    "val theList = listOf(\"one\", \"two\", \"three\", \"four\")\n",
    "println(theList.first())"
   ]
  },
  {
   "cell_type": "markdown",
   "id": "8fabcbcc",
   "metadata": {},
   "source": [
    "### `get` function\n",
    "The `get` function returns the element at the given index."
   ]
  },
  {
   "cell_type": "code",
   "execution_count": 36,
   "id": "37ce271d",
   "metadata": {},
   "outputs": [
    {
     "name": "stdout",
     "output_type": "stream",
     "text": [
      "one\r\n",
      "three\r\n"
     ]
    }
   ],
   "source": [
    "val theList = listOf(\"one\", \"two\", \"three\", \"four\")\n",
    "println(theList.get(0))\n",
    "println(theList.get(2))"
   ]
  },
  {
   "cell_type": "markdown",
   "id": "e101fc91",
   "metadata": {},
   "source": [
    "### `last` function\n",
    "The `last` function returns the last element of a list."
   ]
  },
  {
   "cell_type": "code",
   "execution_count": 37,
   "id": "bc3acf12",
   "metadata": {},
   "outputs": [
    {
     "name": "stdout",
     "output_type": "stream",
     "text": [
      "four\r\n"
     ]
    }
   ],
   "source": [
    "val theList = listOf(\"one\", \"two\", \"three\", \"four\")\n",
    "println(theList.last())"
   ]
  },
  {
   "cell_type": "markdown",
   "id": "0c62316b",
   "metadata": {},
   "source": [
    "### `size` property\n",
    "The `size` property gives the total number of elements in a list."
   ]
  },
  {
   "cell_type": "code",
   "execution_count": 38,
   "id": "6df1b1bd",
   "metadata": {},
   "outputs": [
    {
     "name": "stdout",
     "output_type": "stream",
     "text": [
      "4\r\n"
     ]
    }
   ],
   "source": [
    "val theList = listOf(\"one\", \"two\", \"three\", \"four\")\n",
    "println(theList.size)"
   ]
  },
  {
   "cell_type": "markdown",
   "id": "8f6d6df7",
   "metadata": {},
   "source": [
    "### `subList` function\n",
    "The `subList` function returns the portion of a list between two indexes."
   ]
  },
  {
   "cell_type": "code",
   "execution_count": 39,
   "id": "a7b9a606",
   "metadata": {},
   "outputs": [
    {
     "name": "stdout",
     "output_type": "stream",
     "text": [
      "[three, four]\r\n"
     ]
    }
   ],
   "source": [
    "val theList = listOf(\"one\", \"two\", \"three\", \"four\", \"five\", \"six\")\n",
    "val theSubList = theList.subList(2, 4)\n",
    "println(theSubList)"
   ]
  },
  {
   "cell_type": "markdown",
   "id": "0a4f8450",
   "metadata": {},
   "source": [
    "### `take` function\n",
    "The `take` function returns the specified number of elements from the front of the list."
   ]
  },
  {
   "cell_type": "code",
   "execution_count": 40,
   "id": "9105b719",
   "metadata": {},
   "outputs": [
    {
     "name": "stdout",
     "output_type": "stream",
     "text": [
      "[one, two]\r\n"
     ]
    }
   ],
   "source": [
    "val theList = listOf(\"one\", \"two\", \"three\", \"four\", \"five\", \"six\")\n",
    "val theSubList = theList.take(2)\n",
    "println(theSubList)"
   ]
  },
  {
   "cell_type": "markdown",
   "id": "791844b5",
   "metadata": {},
   "source": [
    "### `takeLast` function\n",
    "The `takeLast` function returns the specified number of elements from the end of the list."
   ]
  },
  {
   "cell_type": "code",
   "execution_count": 42,
   "id": "c4506b63",
   "metadata": {},
   "outputs": [
    {
     "name": "stdout",
     "output_type": "stream",
     "text": [
      "[four, five, six]\r\n"
     ]
    }
   ],
   "source": [
    "val theList = listOf(\"one\", \"two\", \"three\", \"four\", \"five\", \"six\")\n",
    "val theSubList = theList.takeLast(3)\n",
    "println(theSubList)"
   ]
  },
  {
   "cell_type": "markdown",
   "id": "044ab429",
   "metadata": {},
   "source": [
    "### List operations"
   ]
  },
  {
   "cell_type": "markdown",
   "id": "64d232e3",
   "metadata": {},
   "source": [
    "### `+` element operator\n",
    "The `+` operator adds elements to a list or a list to a list."
   ]
  },
  {
   "cell_type": "code",
   "execution_count": 43,
   "id": "933ac6c0",
   "metadata": {},
   "outputs": [
    {
     "name": "stdout",
     "output_type": "stream",
     "text": [
      "[one, two, three, four]\r\n",
      "[one, two, three, four, five]\r\n"
     ]
    }
   ],
   "source": [
    "val theList = listOf(\"one\", \"two\", \"three\")\n",
    "val theResultAddElement = theList + \"four\"\n",
    "println(theResultAddElement)\n",
    "val theResultAddList = theList + listOf(\"four\", \"five\")\n",
    "println(theResultAddList)"
   ]
  },
  {
   "cell_type": "markdown",
   "id": "84e63c57",
   "metadata": {},
   "source": [
    "### `-` element operator\n",
    "The `-` operator removes elements to a list. \n",
    "This does nothing if the elements are not in the list."
   ]
  },
  {
   "cell_type": "code",
   "execution_count": 48,
   "id": "f766ddd1",
   "metadata": {},
   "outputs": [
    {
     "name": "stdout",
     "output_type": "stream",
     "text": [
      "[one, two]\r\n",
      "[one, two, three]\r\n"
     ]
    }
   ],
   "source": [
    "val theList = listOf(\"one\", \"two\", \"three\")\n",
    "val theResultHave = theList - \"three\"\n",
    "println(theList - \"three\")\n",
    "val theResultMissing = theList - \"four\"\n",
    "println(theList - \"four\")"
   ]
  },
  {
   "cell_type": "markdown",
   "id": "6e9272de",
   "metadata": {},
   "source": [
    "### `+` and `union` list operators\n",
    "The `+` and [`union`](../mathematical-basics/lists/lists.ipynb#list-Union) operators add two or more lists into a single list. "
   ]
  },
  {
   "cell_type": "code",
   "execution_count": 47,
   "id": "5c1168e3",
   "metadata": {},
   "outputs": [
    {
     "name": "stdout",
     "output_type": "stream",
     "text": [
      "[one, two, three, two, three, four, five]\r\n",
      "[one, two, three, four, five]\r\n"
     ]
    }
   ],
   "source": [
    "val theFirstList = listOf(\"one\", \"two\", \"three\")\n",
    "val theSecondList = listOf(\"two\", \"three\", \"four\", \"five\")\n",
    "println(theFirstList + theSecondList)\n",
    "println(theFirstList union theSecondList)"
   ]
  },
  {
   "cell_type": "markdown",
   "id": "4d06d1c5",
   "metadata": {},
   "source": [
    "### `-` list operator\n",
    "The `-` operator removes the elements of two or more lists from a list. "
   ]
  },
  {
   "cell_type": "code",
   "execution_count": 49,
   "id": "6e2fdf6a",
   "metadata": {},
   "outputs": [
    {
     "name": "stdout",
     "output_type": "stream",
     "text": [
      "[one]\r\n"
     ]
    }
   ],
   "source": [
    "val theFirstList = listOf(\"one\", \"two\", \"three\")\n",
    "val theSecondList = listOf(\"two\", \"three\", \"four\", \"five\")\n",
    "println(theFirstList - theSecondList)"
   ]
  },
  {
   "cell_type": "markdown",
   "id": "4ea7eea0",
   "metadata": {},
   "source": [
    "### `intersection` list operator\n",
    "The [`intersect`](../mathematical-basics/lists/lists.ipynb#list-Intersection) operator collections all common elements of two or more lists into a single list. "
   ]
  },
  {
   "cell_type": "code",
   "execution_count": 50,
   "id": "26108717",
   "metadata": {},
   "outputs": [
    {
     "name": "stdout",
     "output_type": "stream",
     "text": [
      "[two, three]\r\n"
     ]
    }
   ],
   "source": [
    "val theFirstList = listOf(\"one\", \"two\", \"three\")\n",
    "val theSecondList = listOf(\"two\", \"three\", \"four\", \"five\")\n",
    "println(theFirstList intersect theSecondList)"
   ]
  },
  {
   "cell_type": "markdown",
   "id": "fd514151",
   "metadata": {},
   "source": [
    "<a id=\"accessing-lists\"></a>\n",
    "## Accessing lists\n",
    "These are functions to access portions of a list.\n",
    "The first element is at position 0 rather than 1."
   ]
  },
  {
   "cell_type": "markdown",
   "id": "1d792d73",
   "metadata": {},
   "source": [
    "### `distinct` function\n",
    "The `distinct` function returns the a list from another list with duplicates removed."
   ]
  },
  {
   "cell_type": "code",
   "execution_count": 51,
   "id": "1107051a",
   "metadata": {},
   "outputs": [
    {
     "name": "stdout",
     "output_type": "stream",
     "text": [
      "[one, two, four, five]\r\n"
     ]
    }
   ],
   "source": [
    "val theList = listOf(\"one\", \"two\", \"four\", \"five\", \"two\", \"four\")\n",
    "println(theList.distinct())"
   ]
  },
  {
   "cell_type": "markdown",
   "id": "489917d0",
   "metadata": {},
   "source": [
    "### `drop` list function\n",
    "The `drop` function removes the specified number of elements from the beginning of a mutable list. "
   ]
  },
  {
   "cell_type": "code",
   "execution_count": 58,
   "id": "fb4ec2df",
   "metadata": {},
   "outputs": [
    {
     "name": "stdout",
     "output_type": "stream",
     "text": [
      "[one, two, three, four, five]\r\n",
      "[four, five]\r\n"
     ]
    }
   ],
   "source": [
    "val theList = listOf(\"one\", \"two\", \"three\", \"four\", \"five\")\n",
    "val resultList = theList.drop(3)\n",
    "println(theList)\n",
    "println(resultList)"
   ]
  },
  {
   "cell_type": "markdown",
   "id": "4f7440e9",
   "metadata": {},
   "source": [
    "### `dropLast` list function\n",
    "The `dropLast` function removes the specified number of elements from the end of a mutable list. "
   ]
  },
  {
   "cell_type": "code",
   "execution_count": 59,
   "id": "8250b28f",
   "metadata": {},
   "outputs": [
    {
     "name": "stdout",
     "output_type": "stream",
     "text": [
      "[one, two, three, four, five]\r\n",
      "[one, two]\r\n"
     ]
    }
   ],
   "source": [
    "val theList = listOf(\"one\", \"two\", \"three\", \"four\", \"five\")\n",
    "val resultList = theList.dropLast(3)\n",
    "println(theList)\n",
    "println(resultList)"
   ]
  },
  {
   "cell_type": "markdown",
   "id": "e8d48a89",
   "metadata": {},
   "source": [
    "### `indexOf` function\n",
    "The `indexOf` function returns the index of the first occurrence of a given element in the list, or -1 if the specified element is missing."
   ]
  },
  {
   "cell_type": "code",
   "execution_count": 52,
   "id": "ac380d7c",
   "metadata": {},
   "outputs": [
    {
     "name": "stdout",
     "output_type": "stream",
     "text": [
      "3\r\n",
      "-1\r\n"
     ]
    }
   ],
   "source": [
    "val theList = listOf(\"one\", \"two\", \"three\", \"four\")\n",
    "println(theList.indexOf(\"four\"))\n",
    "println(theList.indexOf(\"six\"))"
   ]
  },
  {
   "cell_type": "markdown",
   "id": "85f79467",
   "metadata": {},
   "source": [
    "### `lastIndexOf` function\n",
    "The `lastIndexOf` function returns the index of the last occurrence of a given element in the list, or -1 if the specified element is missing."
   ]
  },
  {
   "cell_type": "code",
   "execution_count": 53,
   "id": "5a2221a0",
   "metadata": {},
   "outputs": [
    {
     "name": "stdout",
     "output_type": "stream",
     "text": [
      "4\r\n"
     ]
    }
   ],
   "source": [
    "val theList = listOf(\"one\", \"two\", \"four\", \"five\", \"two\", \"six\")\n",
    "println(theList.lastIndexOf(\"two\"))"
   ]
  },
  {
   "cell_type": "markdown",
   "id": "20ff5c22",
   "metadata": {},
   "source": [
    "<!-- \n",
    "https://www.baeldung.com/kotlin/list-mutablelist\n",
    "-->\n",
    "<a id=\"modifiable-lists\"></a>\n",
    "## Modifiable lists\n",
    "Modifiable lists allow changing elements within the list.\n",
    "Modifiable lists are *mutable*."
   ]
  },
  {
   "cell_type": "markdown",
   "id": "19735182",
   "metadata": {},
   "source": [
    "### `mutableListOf` function\n",
    "The `mutableListOf` function creates a modifiable list from a collection of values.\n",
    "The types of all the values need not be the same."
   ]
  },
  {
   "cell_type": "code",
   "execution_count": 8,
   "id": "430ec910",
   "metadata": {
    "collapsed": true
   },
   "outputs": [
    {
     "name": "stdout",
     "output_type": "stream",
     "text": [
      "[one, two, 3]\r\n"
     ]
    }
   ],
   "source": [
    "val theList = mutableListOf(\"one\", \"two\", 3)\n",
    "println(theList)"
   ]
  },
  {
   "cell_type": "markdown",
   "id": "0403900a",
   "metadata": {},
   "source": [
    "Elements of lists can be replaced by position using square brackets `[` and `]`."
   ]
  },
  {
   "cell_type": "code",
   "execution_count": 42,
   "id": "35f35f04",
   "metadata": {
    "collapsed": true
   },
   "outputs": [
    {
     "name": "stdout",
     "output_type": "stream",
     "text": [
      "[one, two, three]\r\n"
     ]
    }
   ],
   "source": [
    "val numbers = mutableListOf(\"one\", \"five\", \"three\")\n",
    "numbers[1] =  \"two\"\n",
    "println(numbers)"
   ]
  },
  {
   "cell_type": "markdown",
   "id": "e5a8561a",
   "metadata": {},
   "source": [
    "### Lists and variables"
   ]
  },
  {
   "cell_type": "markdown",
   "id": "9894078c",
   "metadata": {},
   "source": [
    "Lists are stored as *pointers* in variables.\n",
    "This is the initial list.\n",
    "\n",
    "<img src=\"lists-list2.5.jpg\" width=\"500\" height=\"250\"/>"
   ]
  },
  {
   "cell_type": "code",
   "execution_count": 14,
   "id": "fbc6c673",
   "metadata": {},
   "outputs": [
    {
     "name": "stdout",
     "output_type": "stream",
     "text": [
      "[5, 9, 1]\r\n"
     ]
    }
   ],
   "source": [
    "val theFirstList = mutableListOf(5, 9, 1)\n",
    "println(theList)"
   ]
  },
  {
   "cell_type": "markdown",
   "id": "fcd60c05",
   "metadata": {},
   "source": [
    "This is the result when that list is assigned to another variable.\n",
    "Note that both variables point to the same list.\n",
    "\n",
    "<img src=\"lists-list3.jpg\" width=\"500\" height=\"250\"/>"
   ]
  },
  {
   "cell_type": "code",
   "execution_count": 15,
   "id": "487d4dab",
   "metadata": {},
   "outputs": [
    {
     "name": "stdout",
     "output_type": "stream",
     "text": [
      "[5, 9, 1]\r\n",
      "[5, 9, 1]\r\n"
     ]
    }
   ],
   "source": [
    "val theSecondList = theFirstList\n",
    "println(theFirstList)\n",
    "println(theSecondList)"
   ]
  },
  {
   "cell_type": "markdown",
   "id": "fb10eb96",
   "metadata": {},
   "source": [
    "This is the result after the second element in the first list is updated to a new value. Both lists are updated. Both lists are updated.\n",
    "\n",
    "<img src=\"lists-list4.jpg\" width=\"500\" height=\"250\"/>"
   ]
  },
  {
   "cell_type": "code",
   "execution_count": 16,
   "id": "40f02404",
   "metadata": {},
   "outputs": [
    {
     "name": "stdout",
     "output_type": "stream",
     "text": [
      "[5, 2, 1]\r\n",
      "[5, 2, 1]\r\n"
     ]
    }
   ],
   "source": [
    "theFirstList[1] = 2\n",
    "println(theFirstList)\n",
    "println(theSecondList)"
   ]
  },
  {
   "cell_type": "markdown",
   "id": "592c4196",
   "metadata": {},
   "source": [
    "This is the result after the first list is copied and the second element in the first list is updated to a new value. Only the first list is updated.\n",
    "\n",
    "<img src=\"lists-list5.jpg\" width=\"800\" height=\"700\"/>"
   ]
  },
  {
   "cell_type": "code",
   "execution_count": 17,
   "id": "d3d5c1b5",
   "metadata": {},
   "outputs": [
    {
     "name": "stdout",
     "output_type": "stream",
     "text": [
      "[5, 9, 1]\r\n",
      "[5, 9, 1]\r\n",
      "[5, 2, 1]\r\n",
      "[5, 9, 1]\r\n"
     ]
    }
   ],
   "source": [
    "var theFirstList = mutableListOf(5, 9, 1)\n",
    "val theSecondList = theFirstList.toList()\n",
    "println(theFirstList)\n",
    "println(theSecondList)\n",
    "theFirstList[1] = 2\n",
    "println(theFirstList)\n",
    "println(theSecondList)"
   ]
  },
  {
   "cell_type": "markdown",
   "id": "a84ad4e5",
   "metadata": {},
   "source": [
    "### Mutable list functions\n",
    "Elements can be added to the end of a list with the `+=` operator."
   ]
  },
  {
   "cell_type": "markdown",
   "id": "7741bd18",
   "metadata": {},
   "source": [
    "### `+=` operator\n",
    "Elements can be added to the end of a list with the `+=` operator."
   ]
  },
  {
   "cell_type": "code",
   "execution_count": 54,
   "id": "db731d5c",
   "metadata": {},
   "outputs": [
    {
     "name": "stdout",
     "output_type": "stream",
     "text": [
      "[one, two, three, four]\r\n"
     ]
    }
   ],
   "source": [
    "val theList = mutableListOf(\"one\", \"two\", \"three\")\n",
    "theList += \"four\"\n",
    "println(theList)"
   ]
  },
  {
   "cell_type": "markdown",
   "id": "3bb9d07e",
   "metadata": {},
   "source": [
    "### `add` element function\n",
    "The `add` function also adds elements to the end of a mutable list. "
   ]
  },
  {
   "cell_type": "code",
   "execution_count": 55,
   "id": "3ebcecc5",
   "metadata": {},
   "outputs": [
    {
     "name": "stdout",
     "output_type": "stream",
     "text": [
      "[one, two, three, four]\r\n"
     ]
    }
   ],
   "source": [
    "val theList = mutableListOf(\"one\", \"two\", \"three\")\n",
    "theList.add(\"four\")\n",
    "println(theList)"
   ]
  },
  {
   "cell_type": "markdown",
   "id": "c28f2584",
   "metadata": {},
   "source": [
    "### `addAll` list function\n",
    "The `addAll` function adds all elements of a list to the end of a mutable list. "
   ]
  },
  {
   "cell_type": "code",
   "execution_count": 57,
   "id": "735d8838",
   "metadata": {},
   "outputs": [
    {
     "name": "stdout",
     "output_type": "stream",
     "text": [
      "[one, two, three, four, five, six]\r\n"
     ]
    }
   ],
   "source": [
    "var theFirstList = mutableListOf(\"one\", \"two\", \"three\")\n",
    "val theSecondList = mutableListOf(\"four\", \"five\", \"six\")\n",
    "theFirstList.addAll(theSecondList)\n",
    "println(theFirstList)"
   ]
  },
  {
   "cell_type": "markdown",
   "id": "d4fcf46a",
   "metadata": {},
   "source": [
    "### `fill` list function\n",
    "The `fill` function replaces the elements of a mutable list with a given value. "
   ]
  },
  {
   "cell_type": "code",
   "execution_count": 27,
   "id": "9244ad45",
   "metadata": {},
   "outputs": [
    {
     "name": "stdout",
     "output_type": "stream",
     "text": [
      "[5, 5, 5, 5]\r\n"
     ]
    }
   ],
   "source": [
    "val theList = mutableListOf(1, 2, 3, 4)\n",
    "theList.fill(5)\n",
    "println(theList)"
   ]
  },
  {
   "cell_type": "markdown",
   "id": "fb80b761",
   "metadata": {},
   "source": [
    "### `remove` element function\n",
    "The `remove` function removes elements from a mutable list. \n",
    "This does nothing if the elements are not in the list."
   ]
  },
  {
   "cell_type": "code",
   "execution_count": 60,
   "id": "8ee4febb",
   "metadata": {},
   "outputs": [
    {
     "name": "stdout",
     "output_type": "stream",
     "text": [
      "[one, two]\r\n",
      "[one, two]\r\n"
     ]
    }
   ],
   "source": [
    "val theList = mutableListOf(\"one\", \"two\", \"three\")\n",
    "theList.remove(\"three\")\n",
    "println(theList)\n",
    "theList.remove(\"four\")\n",
    "println(theList)"
   ]
  },
  {
   "cell_type": "markdown",
   "id": "aa31fe29",
   "metadata": {},
   "source": [
    "### `removeAll` list function\n",
    "The `removeAll` function removes all elements of a list from a mutable list. \n",
    "This does nothing for the elements not in the list."
   ]
  },
  {
   "cell_type": "code",
   "execution_count": 63,
   "id": "467a56f8",
   "metadata": {},
   "outputs": [
    {
     "name": "stdout",
     "output_type": "stream",
     "text": [
      "[one]\r\n"
     ]
    }
   ],
   "source": [
    "val theFirstList = mutableListOf(\"one\", \"two\", \"three\")\n",
    "val theSecondList = listOf(\"two\", \"three\", \"four\", \"five\")\n",
    "theFirstList.removeAll(theSecondList)\n",
    "println(theFirstList)"
   ]
  },
  {
   "cell_type": "markdown",
   "id": "4b8b76e5",
   "metadata": {},
   "source": [
    "### `reverse` list function\n",
    "The `reverse` function reverse all elements of a mutable list."
   ]
  },
  {
   "cell_type": "code",
   "execution_count": 62,
   "id": "2faa0a9e",
   "metadata": {},
   "outputs": [
    {
     "name": "stdout",
     "output_type": "stream",
     "text": [
      "[five, four, three, two, one]\r\n"
     ]
    }
   ],
   "source": [
    "val theList = mutableListOf(\"one\", \"two\", \"three\", \"four\", \"five\")\n",
    "theList.reverse()\n",
    "println(theList)"
   ]
  },
  {
   "cell_type": "markdown",
   "id": "219734fb",
   "metadata": {},
   "source": [
    "### `shuffle` list function\n",
    "The `shuffle` function reorders all elements of a mutable list randomly."
   ]
  },
  {
   "cell_type": "code",
   "execution_count": 44,
   "id": "368abd62",
   "metadata": {
    "collapsed": true
   },
   "outputs": [
    {
     "name": "stdout",
     "output_type": "stream",
     "text": [
      "[five, four, two, three, one]\r\n"
     ]
    }
   ],
   "source": [
    "val theList = mutableListOf(\"one\", \"two\", \"three\", \"four\", \"five\")\n",
    "theList.shuffle()\n",
    "println(theList)"
   ]
  },
  {
   "cell_type": "markdown",
   "id": "b7262714",
   "metadata": {},
   "source": [
    "### `sort` list function\n",
    "The `sort` function reorders all elements of a mutable list. \n",
    "They are sorted ascending by default.\n",
    "All elements have to be of the same type."
   ]
  },
  {
   "cell_type": "code",
   "execution_count": 47,
   "id": "de959e95",
   "metadata": {
    "collapsed": true
   },
   "outputs": [
    {
     "name": "stdout",
     "output_type": "stream",
     "text": [
      "[1, 2, 3, 4, 5]\r\n"
     ]
    }
   ],
   "source": [
    "val theList = mutableListOf(5, 3, 1, 4, 2)\n",
    "theList.sort()\n",
    "println(theList)"
   ]
  },
  {
   "cell_type": "markdown",
   "id": "f80bfec4",
   "metadata": {},
   "source": [
    "The sorting is appropriate to the element type.\n",
    "String elements are sorted in alphabetical order."
   ]
  },
  {
   "cell_type": "code",
   "execution_count": 46,
   "id": "2451cc24",
   "metadata": {
    "collapsed": true
   },
   "outputs": [
    {
     "name": "stdout",
     "output_type": "stream",
     "text": [
      "[five, four, one, three, two]\r\n"
     ]
    }
   ],
   "source": [
    "val theList = mutableListOf(\"five\", \"three\", \"one\", \"four\", \"two\")\n",
    "theList.sort()\n",
    "println(theList)"
   ]
  },
  {
   "cell_type": "markdown",
   "id": "021d7837",
   "metadata": {},
   "source": [
    "### `sortDescending` list function\n",
    "The `sortDescending` function reorders all elements of a mutable list in reverse order. \n",
    "All elements have to be of the same type."
   ]
  },
  {
   "cell_type": "code",
   "execution_count": 48,
   "id": "4c646fbb",
   "metadata": {
    "collapsed": true
   },
   "outputs": [
    {
     "name": "stdout",
     "output_type": "stream",
     "text": [
      "[5, 4, 3, 2, 1]\r\n"
     ]
    }
   ],
   "source": [
    "val theList = mutableListOf(5, 3, 1, 4, 2)\n",
    "theList.sortDescending()\n",
    "println(theList)"
   ]
  },
  {
   "cell_type": "markdown",
   "id": "29ce5c56",
   "metadata": {},
   "source": [
    "<a id=\"list-tests\"></a>\n",
    "## List tests"
   ]
  },
  {
   "cell_type": "markdown",
   "id": "f6668258",
   "metadata": {},
   "source": [
    "### `in` operator\n",
    "The `in` operator can be used to check the existence of an element in a list."
   ]
  },
  {
   "cell_type": "code",
   "execution_count": 13,
   "id": "3173c065",
   "metadata": {
    "collapsed": true
   },
   "outputs": [
    {
     "name": "stdout",
     "output_type": "stream",
     "text": [
      "true\r\n"
     ]
    }
   ],
   "source": [
    "val theList = listOf(\"one\", \"two\", \"three\", \"four\")\n",
    "if(\"two\" in theList)\n",
    "      println(true)\n",
    "else\n",
    "      println(false)"
   ]
  },
  {
   "cell_type": "markdown",
   "id": "634d1b9f",
   "metadata": {},
   "source": [
    "<!-- \n",
    "https://www.baeldung.com/kotlin/compare-lists\n",
    "-->\n",
    "<a id=\"equals-operator\"></a>\n",
    "### `==` operator\n",
    "The `==` operator will test whether two lists are exactly the same, that\n",
    "- they are the same size\n",
    "- they have exactly the same elements\n",
    "- they are in the same order"
   ]
  },
  {
   "cell_type": "code",
   "execution_count": 4,
   "id": "c8dbec17",
   "metadata": {
    "collapsed": true
   },
   "outputs": [
    {
     "name": "stdout",
     "output_type": "stream",
     "text": [
      "true"
     ]
    }
   ],
   "source": [
    "val theFirstList = listOf(\"one\", \"two\", \"three\", \"four\", \"five\")\n",
    "val theSecondList = listOf(\"one\", \"two\", \"three\", \"four\", \"five\")\n",
    "print(theFirstList == theSecondList)"
   ]
  },
  {
   "cell_type": "markdown",
   "id": "315a1258",
   "metadata": {},
   "source": [
    "### `contains` function\n",
    "The `contains` function can also be used to check the existence of an element in a list."
   ]
  },
  {
   "cell_type": "code",
   "execution_count": 14,
   "id": "5b55fc9e",
   "metadata": {
    "collapsed": true
   },
   "outputs": [
    {
     "name": "stdout",
     "output_type": "stream",
     "text": [
      "true\r\n"
     ]
    }
   ],
   "source": [
    "val theList = listOf(\"one\", \"two\", \"three\", \"four\")\n",
    "if(theList.contains(\"two\"))\n",
    "      println(true)\n",
    "else\n",
    "      println(false)"
   ]
  },
  {
   "cell_type": "markdown",
   "id": "139f1677",
   "metadata": {},
   "source": [
    "### `containsAll` sublist function\n",
    "The `containsAll` function can be used to check the whether a list is a sublist of another list."
   ]
  },
  {
   "cell_type": "code",
   "execution_count": 15,
   "id": "eba7909c",
   "metadata": {
    "collapsed": true
   },
   "outputs": [
    {
     "name": "stdout",
     "output_type": "stream",
     "text": [
      "true\r\n",
      "false\r\n"
     ]
    }
   ],
   "source": [
    "val theFirstList = listOf(\"one\", \"two\", \"three\", \"four\", \"five\")\n",
    "val theSecondList = listOf(\"one\", \"two\", \"three\")\n",
    "val theThirdList = listOf(\"four\", \"five\", \"six\")\n",
    "if (theFirstList.containsAll(theSecondList))\n",
    "      println(true)\n",
    "else\n",
    "      println(false)\n",
    "if (theFirstList.containsAll(theThirdList))\n",
    "      println(true)\n",
    "else\n",
    "      println(false)"
   ]
  },
  {
   "cell_type": "markdown",
   "id": "fed69771",
   "metadata": {},
   "source": [
    "### `isEmpty` function\n",
    "The `isEmpty` function returns true if the collection is empty (contains no elements), false otherwise."
   ]
  },
  {
   "cell_type": "code",
   "execution_count": 16,
   "id": "3ac67d2c",
   "metadata": {
    "collapsed": true
   },
   "outputs": [
    {
     "name": "stdout",
     "output_type": "stream",
     "text": [
      "false\r\n"
     ]
    }
   ],
   "source": [
    "val theList = listOf(\"one\", \"two\", \"three\", \"four\")\n",
    "if(theList.isEmpty())\n",
    "      println(true)\n",
    "else\n",
    "      println(false)"
   ]
  },
  {
   "cell_type": "markdown",
   "id": "9a8458f4",
   "metadata": {},
   "source": [
    "### `isNotEmpty` function\n",
    "The `isNotEmpty` function returns false if the collection is empty (contains no elements), true otherwise."
   ]
  },
  {
   "cell_type": "code",
   "execution_count": 17,
   "id": "b84bf578",
   "metadata": {
    "collapsed": true
   },
   "outputs": [
    {
     "name": "stdout",
     "output_type": "stream",
     "text": [
      "true\r\n"
     ]
    }
   ],
   "source": [
    "val theList = listOf(\"one\", \"two\", \"three\", \"four\")\n",
    "if(theList.isNotEmpty())\n",
    "      println(true)\n",
    "else\n",
    "      println(false)"
   ]
  },
  {
   "cell_type": "markdown",
   "id": "361fcdce",
   "metadata": {},
   "source": [
    "<a id=\"looping-through-lists\"></a>\n",
    "## Looping through lists"
   ]
  },
  {
   "cell_type": "markdown",
   "id": "6e9069d5",
   "metadata": {},
   "source": [
    "### `for` loop\n",
    "The `for` loop can perform an action on each element of a list.\n",
    "This loop uses the `in` operator to select each element of the list.\n",
    "Elements have no order in a list so there is no assurance of the order the elements will be processed."
   ]
  },
  {
   "cell_type": "code",
   "execution_count": 22,
   "id": "50a8e5a3",
   "metadata": {
    "collapsed": true
   },
   "outputs": [
    {
     "name": "stdout",
     "output_type": "stream",
     "text": [
      "one\r\n",
      "two\r\n",
      "three\r\n",
      "four\r\n"
     ]
    }
   ],
   "source": [
    "val theList = listOf(\"one\", \"two\", \"three\", \"four\")\n",
    "for (elem in theList)\n",
    "      println(elem)"
   ]
  },
  {
   "cell_type": "markdown",
   "id": "330ce945",
   "metadata": {},
   "source": [
    "### `forEach` loop\n",
    "The `foreach` loop is a variation of the `for` loop to perform an action on each element of a list.\n",
    "This loop uses the `it` operator to access the element currently selected in the loop."
   ]
  },
  {
   "cell_type": "code",
   "execution_count": 23,
   "id": "2b49cb75",
   "metadata": {
    "collapsed": true
   },
   "outputs": [
    {
     "name": "stdout",
     "output_type": "stream",
     "text": [
      "one\r\n",
      "two\r\n",
      "three\r\n",
      "four\r\n"
     ]
    }
   ],
   "source": [
    "val theList = listOf(\"one\", \"two\", \"three\", \"four\")\n",
    "theList.forEach { println(it) }"
   ]
  },
  {
   "cell_type": "markdown",
   "id": "60c00eb6",
   "metadata": {},
   "source": [
    "<a id=\"other-list-functions\"></a>\n",
    "## Other list functions"
   ]
  },
  {
   "cell_type": "markdown",
   "id": "9d98b223",
   "metadata": {},
   "source": [
    "<a id=\"max-function\"></a>\n",
    "### `max` function\n",
    "The `max` function returns the largest value in a numerical list."
   ]
  },
  {
   "cell_type": "code",
   "execution_count": 18,
   "id": "046f568f",
   "metadata": {
    "collapsed": true
   },
   "outputs": [
    {
     "name": "stdout",
     "output_type": "stream",
     "text": [
      "4\r\n"
     ]
    }
   ],
   "source": [
    "val theList = listOf(1, 2, 3, 4)\n",
    "println(theList.max())"
   ]
  },
  {
   "cell_type": "markdown",
   "id": "a256ff56",
   "metadata": {},
   "source": [
    "<a id=\"min-function\"></a>\n",
    "### `min` function\n",
    "The `min` function returns the smallest value in a numerical list."
   ]
  },
  {
   "cell_type": "code",
   "execution_count": 19,
   "id": "b6a59713",
   "metadata": {
    "collapsed": true
   },
   "outputs": [
    {
     "name": "stdout",
     "output_type": "stream",
     "text": [
      "4\r\n"
     ]
    }
   ],
   "source": [
    "val theList = listOf(1, 2, 3, 4)\n",
    "println(theList.max())"
   ]
  },
  {
   "cell_type": "markdown",
   "id": "9850b9d3",
   "metadata": {},
   "source": [
    "### `random` function\n",
    "The `random` function returns a random element from a list."
   ]
  },
  {
   "cell_type": "code",
   "execution_count": 20,
   "id": "4223797b",
   "metadata": {
    "collapsed": true
   },
   "outputs": [
    {
     "name": "stdout",
     "output_type": "stream",
     "text": [
      "two\r\n"
     ]
    }
   ],
   "source": [
    "val theList = listOf(\"one\", \"two\", \"three\", \"four\")\n",
    "println(theList.random())"
   ]
  },
  {
   "cell_type": "markdown",
   "id": "b18208ed",
   "metadata": {},
   "source": [
    "<a id=\"sum-function\"></a>\n",
    "### `sum` function\n",
    "The `sum` function returns the sum of all values in a numerical list."
   ]
  },
  {
   "cell_type": "code",
   "execution_count": 21,
   "id": "826c7227",
   "metadata": {
    "collapsed": true
   },
   "outputs": [
    {
     "name": "stdout",
     "output_type": "stream",
     "text": [
      "10\r\n"
     ]
    }
   ],
   "source": [
    "val theList = listOf(1, 2, 3, 4)\n",
    "println(theList.sum())"
   ]
  },
  {
   "cell_type": "markdown",
   "id": "1ed8c48e",
   "metadata": {},
   "source": [
    "### `toString` function\n",
    "The `toString` function converts to a list to a readable form."
   ]
  },
  {
   "cell_type": "code",
   "execution_count": 24,
   "id": "0c41591a",
   "metadata": {
    "collapsed": true
   },
   "outputs": [
    {
     "name": "stdout",
     "output_type": "stream",
     "text": [
      "[one, two, three, four]\r\n"
     ]
    }
   ],
   "source": [
    "val theList = listOf(\"one\", \"two\", \"three\", \"four\")\n",
    "println(theList.toString())"
   ]
  },
  {
   "cell_type": "markdown",
   "id": "34dced24",
   "metadata": {},
   "source": [
    "<a id=\"list-conversion-functions\"></a>\n",
    "## List conversion functions"
   ]
  },
  {
   "cell_type": "markdown",
   "id": "656fafba",
   "metadata": {},
   "source": [
    "### `toList` function"
   ]
  },
  {
   "cell_type": "markdown",
   "id": "6ea897a3",
   "metadata": {},
   "source": [
    "The `toList` function converts a [Set](./sets.ipynb) to a list."
   ]
  },
  {
   "cell_type": "code",
   "execution_count": 1,
   "id": "82c9c081",
   "metadata": {
    "collapsed": true
   },
   "outputs": [
    {
     "name": "stdout",
     "output_type": "stream",
     "text": [
      "[2, 5, 8]\r\n"
     ]
    }
   ],
   "source": [
    "val theSet = setOf(2, 5, 8)\n",
    "println(theSet.toList())"
   ]
  },
  {
   "cell_type": "markdown",
   "id": "bfe13e47",
   "metadata": {},
   "source": [
    "### `toList` function"
   ]
  },
  {
   "cell_type": "markdown",
   "id": "71999cd1",
   "metadata": {},
   "source": [
    "The `toList` function converts a [Set](./sets.ipynb) to a list."
   ]
  },
  {
   "cell_type": "code",
   "execution_count": 1,
   "id": "727b2b8e",
   "metadata": {
    "collapsed": true
   },
   "outputs": [
    {
     "name": "stdout",
     "output_type": "stream",
     "text": [
      "[2, 5, 8]\r\n"
     ]
    }
   ],
   "source": [
    "val theSet = setOf(2, 5, 8)\n",
    "println(theSet.toList())"
   ]
  },
  {
   "cell_type": "markdown",
   "id": "91e5cc0c",
   "metadata": {},
   "source": [
    "<a id=\"lists-from-strings\"></a>\n",
    "## Lists from strings: `split` function\n",
    "Lists can be created from strings with the `split` function.\n",
    "The arguments are the separators between substrings used to build the list."
   ]
  },
  {
   "cell_type": "code",
   "execution_count": 72,
   "id": "d5e3f6f7",
   "metadata": {
    "collapsed": true
   },
   "outputs": [
    {
     "name": "stdout",
     "output_type": "stream",
     "text": [
      "[a, b, c]\r\n",
      "[directory, file, ext]\r\n",
      "[the r, n in sp, n r, ns m, nly in the pl, n]\r\n"
     ]
    }
   ],
   "source": [
    "println(\"a,b,c\".split(\",\"))\n",
    "println(\"directory/file.ext\".split(\"/\", \".\"))\n",
    "println(\"the rain in spain rains mainly in the plain\".split(\"ai\"))"
   ]
  },
  {
   "cell_type": "markdown",
   "id": "e0d77201",
   "metadata": {},
   "source": [
    "<a id=\"lists-to-strings\"></a>\n",
    "## Lists to strings: `joinToString` function\n",
    "Strings can be created from lists using the `joinToString` function.\n",
    "that joins the list items separated by a particular string.\n",
    "Arguments are:\n",
    "- the separators to use between list items, defaulted to \", \"\n",
    "- a prefix for the string, defaulted to empty\n",
    "- a suffix (`postfix`) for the string, defaulted to empy\n",
    "\n",
    "This is how `joinToString` is declared.\n",
    "```\n",
    "fun String.joinToString(\n",
    "    separator = \", \",\n",
    "    prefix = \"\",\n",
    "    postfix = \"\"): String\n",
    "```\n",
    "\n",
    "These are examples of using `joinToString`.\n",
    "The first set uses the arguments in order.\n",
    "The last uses keywork arguments to specify the `postfix` but default the `separator` and `prefix` arguments."
   ]
  },
  {
   "cell_type": "code",
   "execution_count": 89,
   "id": "52aa55bf",
   "metadata": {
    "collapsed": true
   },
   "outputs": [
    {
     "name": "stdout",
     "output_type": "stream",
     "text": [
      "[one; two; three]\n",
      "numbers: one - two - three\n",
      "one < two < three\n",
      "one, two, three\n",
      "one, two, three are numbers\n"
     ]
    }
   ],
   "source": [
    "val theList = listOf(\"one\", \"two\", \"three\")\n",
    "println(theList.joinToString(\"; \", \"[\", \"]\"))\n",
    "println(theList.joinToString(\" - \", \"numbers: \"))\n",
    "println(theList.joinToString(\" < \"))\n",
    "println(theList.joinToString())\n",
    "println(theList.joinToString(postfix = \" are numbers\"))"
   ]
  }
 ],
 "metadata": {
  "kernelspec": {
   "display_name": "Kotlin",
   "language": "kotlin",
   "name": "kotlin"
  },
  "language_info": {
   "codemirror_mode": "text/x-kotlin",
   "file_extension": ".kt",
   "mimetype": "text/x-kotlin",
   "name": "kotlin",
   "nbconvert_exporter": "",
   "pygments_lexer": "kotlin",
   "version": "1.8.20"
  }
 },
 "nbformat": 4,
 "nbformat_minor": 5
}
