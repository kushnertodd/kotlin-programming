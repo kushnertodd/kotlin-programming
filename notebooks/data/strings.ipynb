{
 "cells": [
  {
   "cell_type": "markdown",
   "id": "ae7225da-45a6-4ae0-975a-e50dca37eb1c",
   "metadata": {},
   "source": [
    "<a id=\"strings\"></a>\n",
    "# Strings\n",
    "\n",
    "Strings are text that is made up of characters.\n",
    "Characters consist of digits 0 to 9, letters a to z and A to Z, punctuation and *whitespace*.\n",
    "Whitespace include spaces and tabs.\n",
    "Strings have operations and functions that combine, remove, search, and replace for parts of text. \n",
    "This is the string `\"hello\"`. Each character has a *position* in the string, and the positions start counting from `0` rather than `1`.\n",
    "\n",
    "<img src=\"string1.jpg\" width=\"400\">"
   ]
  },
  {
   "cell_type": "markdown",
   "id": "fe0854b0",
   "metadata": {},
   "source": [
    "## Creating strings\n",
    "Strings are text that can be inside two double quotes `\"`. "
   ]
  },
  {
   "cell_type": "code",
   "execution_count": 6,
   "id": "a3460972",
   "metadata": {
    "collapsed": true
   },
   "outputs": [
    {
     "name": "stdout",
     "output_type": "stream",
     "text": [
      "this is a double-quoted string.\r\n"
     ]
    }
   ],
   "source": [
    "println(\"text\")"
   ]
  },
  {
   "cell_type": "markdown",
   "id": "523a1eeb-8208-4e79-9f3f-ab4aa6e387a9",
   "metadata": {},
   "source": [
    "### Escape characters\n",
    "Escape characters are characters following a *backslash* character `\\` in a string. \n",
    "If you need to put both a double quote and a single quote in a string, you can use a single-quoted or double-quoted string,\n",
    "you use an *escape character* backward-quote `\\` to keep that quote from ending the string."
   ]
  },
  {
   "cell_type": "code",
   "execution_count": 7,
   "id": "3ba66f78",
   "metadata": {
    "collapsed": true
   },
   "outputs": [
    {
     "name": "stdout",
     "output_type": "stream",
     "text": [
      "this double-quoted string has both a double quote \" inside."
     ]
    }
   ],
   "source": [
    "print(\"this double-quoted string has both a double quote \\\" inside.\")"
   ]
  },
  {
   "cell_type": "markdown",
   "id": "86b21ca6",
   "metadata": {},
   "source": [
    "The backslash gives a special meaning to the character that follows it. \n",
    "`\\t` means the tab key on the keyboard, and `\\n` is the enter key, called a [*newline*](#glossary_newline). \n",
    "Because the backslash `\\`  changes the meaning of the character that follows it, to really get a backslash you need to use `\\\\`."
   ]
  },
  {
   "cell_type": "code",
   "execution_count": 10,
   "id": "89d39bb2-a354-4b79-9af1-06c1ed2b5a23",
   "metadata": {
    "collapsed": true
   },
   "outputs": [
    {
     "name": "stdout",
     "output_type": "stream",
     "text": [
      "this is the tab \t character\r\n",
      "this is the enter \n",
      " character\r\n",
      "this is the backslash \\ character\r\n"
     ]
    }
   ],
   "source": [
    "println(\"this is the tab \\t character\")\n",
    "println(\"this is the enter \\n character\")\n",
    "println(\"this is the backslash \\\\ character\")"
   ]
  },
  {
   "cell_type": "markdown",
   "id": "df91543c",
   "metadata": {},
   "source": [
    "Strings beginning and ending with three double quotes `\"\"\"` can go across lines. \n",
    "Escape characters do not work in these strings."
   ]
  },
  {
   "cell_type": "code",
   "execution_count": 2,
   "id": "6573c3ac",
   "metadata": {
    "collapsed": true
   },
   "outputs": [
    {
     "name": "stdout",
     "output_type": "stream",
     "text": [
      "\n",
      "This string is on \n",
      "two lines, but tab \\t does not get translated.\n"
     ]
    }
   ],
   "source": [
    "print(\"\"\"\n",
    "This string is on \n",
    "two lines, but tab \\t does not get translated.\n",
    "\"\"\")"
   ]
  },
  {
   "cell_type": "markdown",
   "id": "0cf775d5-8bd7-46b6-bdfe-4329a7c6ca0f",
   "metadata": {},
   "source": [
    "## Operations on strings\n",
    "Strings can be combined with the `+` add operator. "
   ]
  },
  {
   "cell_type": "code",
   "execution_count": 5,
   "id": "51d1c9d6-5c15-4600-8179-c0f2a55060a4",
   "metadata": {
    "collapsed": true
   },
   "outputs": [
    {
     "name": "stdout",
     "output_type": "stream",
     "text": [
      "Again and again ...\r\n"
     ]
    }
   ],
   "source": [
    "var s = \"Again and \"\n",
    "s = s + \"again ...\"\n",
    "println(s)"
   ]
  },
  {
   "cell_type": "markdown",
   "id": "d8aa5cd6",
   "metadata": {},
   "source": [
    "Strings and numbers can be combined with the `+` operator."
   ]
  },
  {
   "cell_type": "code",
   "execution_count": 12,
   "id": "bfec45cc",
   "metadata": {
    "collapsed": true
   },
   "outputs": [
    {
     "name": "stdout",
     "output_type": "stream",
     "text": [
      "abc3\r\n"
     ]
    }
   ],
   "source": [
    "val s = \"abc\" + 3\n",
    "println(s)"
   ]
  },
  {
   "cell_type": "markdown",
   "id": "3e4bbef9-b84b-45e7-96fa-64e598390b7a",
   "metadata": {},
   "source": [
    "The `+=` shortcut works as well."
   ]
  },
  {
   "cell_type": "code",
   "execution_count": 13,
   "id": "ff7b9a4d-fc2f-4585-af73-b4bcec0385ec",
   "metadata": {
    "collapsed": true
   },
   "outputs": [
    {
     "name": "stdout",
     "output_type": "stream",
     "text": [
      "Again and again ...\r\n"
     ]
    }
   ],
   "source": [
    "var s = \"Again and \"\n",
    "s += \"again ...\"\n",
    "println(s)"
   ]
  },
  {
   "cell_type": "markdown",
   "id": "bfe61d94-4976-4512-ba4e-9eb6bc52512d",
   "metadata": {},
   "source": [
    "## Getting data from strings\n",
    "Characters in strings can accessed with '[' and ']', where *string*`[`*position*`]` gives the character at *position* in the string. \n",
    "Python operators and functions count character positions from 0 rather than 1. \n",
    "The string can count *position* from the beginning of the string, or if *position* is negative, it can count from the back of the string. "
   ]
  },
  {
   "cell_type": "code",
   "execution_count": 16,
   "id": "2872c2de-5b17-4d9f-aef9-2b37f3952fd6",
   "metadata": {
    "collapsed": true
   },
   "outputs": [
    {
     "name": "stdout",
     "output_type": "stream",
     "text": [
      "A red hat\r\n",
      "A\r\n",
      "e\r\n"
     ]
    }
   ],
   "source": [
    "val s = \"A red hat\"\n",
    "println(s)\n",
    "println(s[0])\n",
    "println(s[3])"
   ]
  },
  {
   "cell_type": "markdown",
   "id": "9bfbea4f",
   "metadata": {
    "tags": []
   },
   "source": [
    "### `get` function \n",
    "The `get` function also returns the character at a position."
   ]
  },
  {
   "cell_type": "code",
   "execution_count": 20,
   "id": "4d56a5b9",
   "metadata": {
    "collapsed": true
   },
   "outputs": [
    {
     "name": "stdout",
     "output_type": "stream",
     "text": [
      "A red hat\r\n",
      "A\r\n",
      "e\r\n"
     ]
    }
   ],
   "source": [
    "val s = \"A red hat\"\n",
    "println(s)\n",
    "println(s.get(0))\n",
    "println(s.get(3))"
   ]
  },
  {
   "cell_type": "markdown",
   "id": "8aee02ff",
   "metadata": {},
   "source": [
    "### `index` function \n",
    "The `indexOf` function returns the first position, starting at 0, a substring occurs in a string."
   ]
  },
  {
   "cell_type": "code",
   "execution_count": 26,
   "id": "f2f5bb77",
   "metadata": {
    "collapsed": true
   },
   "outputs": [
    {
     "name": "stdout",
     "output_type": "stream",
     "text": [
      "4"
     ]
    }
   ],
   "source": [
    "print(\"one two three\".indexOf(\"two\"))"
   ]
  },
  {
   "cell_type": "markdown",
   "id": "0c8a654c",
   "metadata": {},
   "source": [
    "### `length` property \n",
    "The `length` property gives the value of the string length."
   ]
  },
  {
   "cell_type": "code",
   "execution_count": 17,
   "id": "792d8299",
   "metadata": {
    "collapsed": true
   },
   "outputs": [
    {
     "name": "stdout",
     "output_type": "stream",
     "text": [
      "9\r\n"
     ]
    }
   ],
   "source": [
    "val s = \"A red hat\"\n",
    "println(s.length)"
   ]
  },
  {
   "cell_type": "markdown",
   "id": "1fa1b8d8",
   "metadata": {},
   "source": [
    "### `toLowerCase` function\n",
    "The `toLowerCase` function converts all alphabet characters in a string into lowercase."
   ]
  },
  {
   "cell_type": "code",
   "execution_count": 32,
   "id": "39e6fdb0",
   "metadata": {
    "collapsed": true
   },
   "outputs": [
    {
     "name": "stdout",
     "output_type": "stream",
     "text": [
      "text"
     ]
    }
   ],
   "source": [
    "val s = \"TEXT\"\n",
    "print(s.toLowerCase())"
   ]
  },
  {
   "cell_type": "markdown",
   "id": "595d9ce1",
   "metadata": {},
   "source": [
    "### `toUpperCase` function\n",
    "The `toUpperCase` function converts all alphabet characters in a string into uppercase."
   ]
  },
  {
   "cell_type": "code",
   "execution_count": 22,
   "id": "5acd1e0a",
   "metadata": {
    "collapsed": true
   },
   "outputs": [
    {
     "name": "stdout",
     "output_type": "stream",
     "text": [
      "THE CAT IN THE HAT IS AT THE STORE"
     ]
    }
   ],
   "source": [
    "val s = \"text\"\n",
    "print(s.toUpperCase())"
   ]
  },
  {
   "cell_type": "markdown",
   "id": "394672b9",
   "metadata": {},
   "source": [
    "### `subSequence` function \n",
    "The `subSequence` function returns a *substring* of a string. \n",
    "The substring starts at the *start* position and ends just before the *end* position"
   ]
  },
  {
   "cell_type": "code",
   "execution_count": 21,
   "id": "066fabd3",
   "metadata": {
    "collapsed": true
   },
   "outputs": [
    {
     "name": "stdout",
     "output_type": "stream",
     "text": [
      " red\r\n"
     ]
    }
   ],
   "source": [
    "val s = \"A red hat\"\n",
    "println(s.subSequence(1, 5))"
   ]
  },
  {
   "cell_type": "markdown",
   "id": "b064c3b1",
   "metadata": {},
   "source": [
    "### String templates\n",
    "Variables and expression can be substituted inside strings using a `$`.\n",
    "Expression values can be substituted by prefixing with `$` and surrounding the expression with curly braces."
   ]
  },
  {
   "cell_type": "code",
   "execution_count": 27,
   "id": "8a8f1c76",
   "metadata": {
    "collapsed": true
   },
   "outputs": [
    {
     "name": "stdout",
     "output_type": "stream",
     "text": [
      "x = 2\r\n",
      "x + 2 = 4\r\n"
     ]
    }
   ],
   "source": [
    "val x = 2\n",
    "println(\"x = $x\")\n",
    "println(\"x + 2 = ${x+2}\")"
   ]
  },
  {
   "cell_type": "markdown",
   "id": "bd8838bc",
   "metadata": {},
   "source": [
    "### `in` test\n",
    "`in` checks if a substring is present in a string."
   ]
  },
  {
   "cell_type": "code",
   "execution_count": 28,
   "id": "f032281d",
   "metadata": {
    "collapsed": true
   },
   "outputs": [
    {
     "name": "stdout",
     "output_type": "stream",
     "text": [
      "true\r\n",
      "false\r\n"
     ]
    }
   ],
   "source": [
    "println(\"two\" in \"one two three\")\n",
    "println(\"four\" in \"one two three\")"
   ]
  },
  {
   "cell_type": "markdown",
   "id": "d118f080",
   "metadata": {},
   "source": [
    "### `!in` test\n",
    "`!in` checks if a substring is not present in a string."
   ]
  },
  {
   "cell_type": "code",
   "execution_count": 31,
   "id": "10f6a362",
   "metadata": {
    "collapsed": true
   },
   "outputs": [
    {
     "name": "stdout",
     "output_type": "stream",
     "text": [
      "false\r\n",
      "true\r\n"
     ]
    }
   ],
   "source": [
    "println(\"two\" !in \"one two three\")\n",
    "println(\"four\" !in \"one two three\")"
   ]
  }
 ],
 "metadata": {
  "kernelspec": {
   "display_name": "Kotlin",
   "language": "kotlin",
   "name": "kotlin"
  },
  "language_info": {
   "codemirror_mode": "text/x-kotlin",
   "file_extension": ".kt",
   "mimetype": "text/x-kotlin",
   "name": "kotlin",
   "nbconvert_exporter": "",
   "pygments_lexer": "kotlin",
   "version": "1.8.20"
  }
 },
 "nbformat": 4,
 "nbformat_minor": 5
}
