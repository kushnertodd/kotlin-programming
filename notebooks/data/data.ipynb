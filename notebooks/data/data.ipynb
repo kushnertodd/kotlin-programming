{
 "cells": [
  {
   "cell_type": "markdown",
   "id": "ddc84f49-9a41-42f6-ba89-da8ee6f43501",
   "metadata": {
    "tags": []
   },
   "source": [
    "<a id=\"data-types\"></a>\n",
    "# Data Types\n",
    "<!--\n",
    "https://kotlinlang.org/api/latest/jvm/stdlib/\n",
    "-->\n",
    "There are three major data types.\n",
    "- Primitive data types such as numbers, text, and booleans\n",
    "- Collections of data\n",
    "- Classes that combine data with function or *methods*\n",
    "\n",
    "\n",
    "\n",
    "## Primitive types\n",
    "These are the [primitive](../variables/variables.ipynb#variable-types) data types.\n",
    "\n",
    "Type|Description\n",
    ":-|:-\n",
    "[Numbers](./numbers.ipynb)|Integer and real numers   \n",
    "[Strings](./strings.ipynb)|Text made up of characters\n",
    "[Booleans](./booleans.ipynb)|Indicates whether something is true or false \n",
    "\n",
    "\n",
    "## Collections\n",
    "Collections are generally groups of primitive or other data types.\n",
    "<!--\n",
    "https://kotlinlang.org/docs/collection-operations.html#common-operations\n",
    "https://kotlinlang.org/docs/collection-plus-minus.html\n",
    "https://kotlinlang.org/api/latest/jvm/stdlib/kotlin.collections/-set/contains-all.html\n",
    "-->\n",
    "Type|Description\n",
    ":-|:-\n",
    "[Sets](./sets.ipynb)  |Sets implement mathematical sets\n",
    "[Lists](./lists.ipynb)  |Ordered groups of objects\n",
    "[Arrays](./arrays.ipynb) |Collection of items stored sequentially \n",
    "[Maps](./maps.ipynb)|Associations of objects of one type with another\n",
    "\n",
    "## Classes\n",
    "Type|Description\n",
    ":-|:-\n",
    "[Classes](./classes.ipynb)  |Objects that are composites of data types and functions\n",
    "[Data classes](./data-classes.ipynb)  |Classes composed primarily only of data\n",
    "[Enum classes](./enum-classes.ipynb)  |Types that are sets of names\n",
    "[Interfaces](./interfaces.ipynb)  |Specifications of minimal class definitions\n",
    "[Extension functions](./extension-functions.ipynb)  |Extending existing classes functionality\n"
   ]
  },
  {
   "cell_type": "code",
   "execution_count": null,
   "id": "18b29de2",
   "metadata": {},
   "outputs": [],
   "source": []
  }
 ],
 "metadata": {
  "kernelspec": {
   "display_name": "Kotlin",
   "language": "kotlin",
   "name": "kotlin"
  },
  "language_info": {
   "codemirror_mode": "text/x-kotlin",
   "file_extension": ".kt",
   "mimetype": "text/x-kotlin",
   "name": "kotlin",
   "nbconvert_exporter": "",
   "pygments_lexer": "kotlin",
   "version": "1.8.20"
  }
 },
 "nbformat": 4,
 "nbformat_minor": 5
}
