{
 "cells": [
  {
   "cell_type": "markdown",
   "id": "ddc84f49-9a41-42f6-ba89-da8ee6f43501",
   "metadata": {
    "tags": []
   },
   "source": [
    "<a id=\"data-types\"></a>\n",
    "# Data Types\n",
    "<!--\n",
    "https://kotlinlang.org/api/latest/jvm/stdlib/\n",
    "-->\n",
    "There are three major data types.\n",
    "- Primitive data types such as numbers, text, and booleans\n",
    "- Collections of data\n",
    "- Classes that combine data with function or *methods*\n",
    "\n",
    "\n",
    "\n",
    "## Primitive types\n",
    "These are the [primitive](../variables/variables.ipynb#variable-types) data types.\n",
    "\n",
    "type|description\n",
    ":-|:-\n",
    "[Numbers](./numbers.ipynb)|Integer and real numers   \n",
    "[Strings](./strings.ipynb)|Text made up of characters\n",
    "[Booleans](./booleans.ipynb)|Indicates whether something is true or false \n",
    "\n",
    "\n",
    "## Collections\n",
    "Collections are generally composites of primitive an other data types.\n",
    "<!--\n",
    "https://kotlinlang.org/docs/collection-operations.html#common-operations\n",
    "https://kotlinlang.org/docs/collection-plus-minus.html\n",
    "https://kotlinlang.org/api/latest/jvm/stdlib/kotlin.collections/-set/contains-all.html\n",
    "-->\n",
    "Type|Description\n",
    ":-|:-\n",
    "[Sets](./sets.ipynb)  |Sets implement mathematical sets\n",
    "[Lists](./lists.ipynb)  |Ordered groups of objects\n",
    "[Arrays](./arrays.ipynb) |Collection of items stored sequentially \n",
    "[Maps](./maps.ipynb)|Associations of objects of one type with another"
   ]
  },
  {
   "cell_type": "markdown",
   "id": "a1b21b97",
   "metadata": {},
   "source": [
    "<a id=\"classes\"></a>\n",
    "## Classes"
   ]
  },
  {
   "cell_type": "markdown",
   "id": "de589fe6",
   "metadata": {},
   "source": [
    "<a id=\"enums\"></a>\n",
    "## Enums"
   ]
  },
  {
   "cell_type": "markdown",
   "id": "b7f9db02",
   "metadata": {},
   "source": [
    "<a id=\"properties\"></a>\n",
    "## Properties"
   ]
  },
  {
   "cell_type": "markdown",
   "id": "4aef3e94",
   "metadata": {},
   "source": [
    "<a id=\"methods\"></a>\n",
    "## Methods"
   ]
  },
  {
   "cell_type": "markdown",
   "id": "dec70ef6",
   "metadata": {},
   "source": [
    "<a id=\"interfaces\"></a>\n",
    "## Interfaces"
   ]
  },
  {
   "cell_type": "markdown",
   "id": "ba9e6283",
   "metadata": {},
   "source": [
    "<a id=\"extension-functions\"></a>\n",
    "## Extension functions"
   ]
  },
  {
   "cell_type": "markdown",
   "id": "b2d0b9d5",
   "metadata": {},
   "source": [
    "<a id=\"data-classes\"></a>\n",
    "## Data classes"
   ]
  },
  {
   "cell_type": "markdown",
   "id": "e278c4e0",
   "metadata": {},
   "source": [
    "<a id=\"objects\"></a>\n",
    "## Objects"
   ]
  }
 ],
 "metadata": {
  "kernelspec": {
   "display_name": "Python 3 (ipykernel)",
   "language": "python",
   "name": "python3"
  },
  "language_info": {
   "codemirror_mode": {
    "name": "ipython",
    "version": 3
   },
   "file_extension": ".py",
   "mimetype": "text/x-python",
   "name": "python",
   "nbconvert_exporter": "python",
   "pygments_lexer": "ipython3",
   "version": "3.11.5"
  }
 },
 "nbformat": 4,
 "nbformat_minor": 5
}
