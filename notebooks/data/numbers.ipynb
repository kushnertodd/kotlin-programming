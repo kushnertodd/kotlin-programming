{
 "cells": [
  {
   "cell_type": "markdown",
   "id": "f1dffd36-cddf-499c-921c-f7e2c8674b02",
   "metadata": {},
   "source": [
    "<a id=\"numbers\"></a>\n",
    "# Numbers\n",
    "Numbers have different [number types](../mathematical-basics/Arithmetic.ipynb#Types-of-numbers).\n",
    "*Integers* are signed whole numbers, and *real numbers* are decimals with a fraction. "
   ]
  },
  {
   "cell_type": "markdown",
   "id": "38580422-9c75-419f-a18a-c4f87725cee6",
   "metadata": {},
   "source": [
    "## Number operators\n",
    "The usual [arithmetic operators](../mathematical-basics/arithmetic.ipynb/#Operations-on-numbers) can be used.\n",
    "\n",
    "Arithmetic can be done on numbers of different types.\n",
    "The type of the result depends on the types of the two operands.\n",
    "\n",
    "operand 1 |operand 2 |result\n",
    ":- |:- |:-\n",
    "integer |integer |integer\n",
    "integer |real |real\n",
    "real |real |real\n",
    "\n",
    "Variables assigned to those values take the type of the result. "
   ]
  },
  {
   "cell_type": "code",
   "execution_count": 49,
   "id": "d2cc7565",
   "metadata": {},
   "outputs": [
    {
     "name": "stdout",
     "output_type": "stream",
     "text": [
      "x 6 y 5.0 z 1.0\r\n"
     ]
    }
   ],
   "source": [
    "val x = 6\n",
    "val y = 3 + 2.0\n",
    "val z = 4.0 - 3.0\n",
    "println(\"x $x y $y z $z\")"
   ]
  },
  {
   "cell_type": "markdown",
   "id": "e620fb65",
   "metadata": {},
   "source": [
    "Some operators use use different symbols.\n",
    "Multiplication uses `*` instead of `x`. "
   ]
  },
  {
   "cell_type": "code",
   "execution_count": 26,
   "id": "0e25d00e-287e-449f-883a-afdfef9f87b4",
   "metadata": {
    "collapsed": true
   },
   "outputs": [
    {
     "name": "stdout",
     "output_type": "stream",
     "text": [
      "x 12.8\r\n"
     ]
    }
   ],
   "source": [
    "val x = 4 * 3\n",
    "println(\"x $x\")"
   ]
  },
  {
   "cell_type": "markdown",
   "id": "551e835f-3c3f-4c9f-8fd3-654a3a58b476",
   "metadata": {},
   "source": [
    "Division uses `/` instead of $\\div$.\n",
    "If one of the operands is a real number, the result is real."
   ]
  },
  {
   "cell_type": "code",
   "execution_count": 52,
   "id": "7c6b4e2f-08d6-49d9-812d-bbfd765251ca",
   "metadata": {
    "collapsed": true
   },
   "outputs": [
    {
     "name": "stdout",
     "output_type": "stream",
     "text": [
      "x 2.0 y 2.0 z 2.5\r\n"
     ]
    }
   ],
   "source": [
    "val x = 6 / 3.0\n",
    "val y = 8.0 / 4\n",
    "val z = 5.0 / 2.0\n",
    "println(\"x $x y $y z $z\")"
   ]
  },
  {
   "cell_type": "markdown",
   "id": "3f925a85",
   "metadata": {},
   "source": [
    "Dividing an integer by an integer results an integer type.\n",
    "The number returned is the result of the division with the fraction removed."
   ]
  },
  {
   "cell_type": "code",
   "execution_count": 55,
   "id": "1a0cde54",
   "metadata": {
    "collapsed": true
   },
   "outputs": [
    {
     "name": "stdout",
     "output_type": "stream",
     "text": [
      "x 2\r\n"
     ]
    }
   ],
   "source": [
    "val x = 7 / 3\n",
    "println(\"x $x\")"
   ]
  },
  {
   "cell_type": "markdown",
   "id": "eab106da-e40d-41e8-b9a3-2a4c3cd103e8",
   "metadata": {},
   "source": [
    "Another number operator is *modulo*, which gives the remainder after dividing the two operands. \n",
    "The modulo operation uses `%`."
   ]
  },
  {
   "cell_type": "code",
   "execution_count": 60,
   "id": "1ca02bd0-5110-426f-88d6-2fa4d770d405",
   "metadata": {
    "collapsed": true
   },
   "outputs": [
    {
     "name": "stdout",
     "output_type": "stream",
     "text": [
      "x 2\r\n"
     ]
    }
   ],
   "source": [
    "val x = 8 % 3\n",
    "println(\"x $x\")"
   ]
  },
  {
   "cell_type": "markdown",
   "id": "f299a8cc-64c6-4b13-86bd-85d607038c1a",
   "metadata": {},
   "source": [
    "## Operator shortcuts\n",
    "Some operators are used to change a variable's value, like `x = x + 1`. \n",
    "For addition, `x = x + 1`, there is a shortcut, `x += 1`."
   ]
  },
  {
   "cell_type": "code",
   "execution_count": 62,
   "id": "f385d08f-3548-47f0-ae9d-e4d814b19818",
   "metadata": {
    "collapsed": true
   },
   "outputs": [
    {
     "name": "stdout",
     "output_type": "stream",
     "text": [
      "x 11\r\n"
     ]
    }
   ],
   "source": [
    "var x = 4\n",
    "x += x + 3\n",
    "println(\"x $x\")"
   ]
  },
  {
   "cell_type": "markdown",
   "id": "3e5f4372-25ab-498b-9d40-ea5813f4a99b",
   "metadata": {},
   "source": [
    "There is a shortcut for each of the operators `+`, `-`, `*`, `/`, and `%`.\n",
    "operator|shortcut\n",
    ":- |:-\n",
    "addition| `x += 1`\n",
    "subtraction| `x -= 1`\n",
    "multiplication| `x *= 1`\n",
    "division| `x /= 1`\n",
    "modulo| `x %= 1`"
   ]
  },
  {
   "cell_type": "code",
   "execution_count": 66,
   "id": "728bf3fd-f21d-4e16-93dd-ee5343d1ac7d",
   "metadata": {
    "collapsed": true
   },
   "outputs": [
    {
     "name": "stdout",
     "output_type": "stream",
     "text": [
      "x 5\r\n",
      "x 20\r\n",
      "x 4\r\n",
      "x 1\r\n"
     ]
    }
   ],
   "source": [
    "var x = 7\n",
    "x -= 2\n",
    "println(\"x $x\")\n",
    "x *= 4\n",
    "println(\"x $x\")\n",
    "x /= 5\n",
    "println(\"x $x\")\n",
    "x %= 3\n",
    "println(\"x $x\")"
   ]
  },
  {
   "cell_type": "markdown",
   "id": "f52699f3",
   "metadata": {},
   "source": [
    "Note that the result has to be compatible with the variable type.\n",
    "This gives an error."
   ]
  },
  {
   "cell_type": "code",
   "execution_count": 70,
   "id": "66c75e1b",
   "metadata": {
    "collapsed": true
   },
   "outputs": [
    {
     "name": "stderr",
     "output_type": "stream",
     "text": [
      "Line_1781.jupyter.kts (2:1 - 9) Type mismatch: inferred type is Double but Int was expected\n",
      "Line_1781.jupyter.kts (5:1 - 9) Type mismatch: inferred type is Double but Int was expected"
     ]
    }
   ],
   "source": [
    "var x = 6\n",
    "x += 3.0\n",
    "println(\"x $x\")\n",
    "var y = 5 \n",
    "y *= 2.0\n",
    "println(\"x $x y $y\")"
   ]
  },
  {
   "cell_type": "markdown",
   "id": "448b1ffd",
   "metadata": {},
   "source": [
    "## Binary numbers\n",
    "Numbers are stored as [binary numbers](../mathematical-basics/Number-systems.ipynb#Binary-numbers) in programs.\n",
    "They have special properties due to how they are stored.\n",
    "\n",
    "In computers, numbers are stored as bits.\n",
    "Only a fixed number of bits are allocated for different number types.\n",
    "This limits the size of number that can be stored.\n",
    "This requires that variables have the right type to be able to store the largest possible value that could occur.\n",
    "When a number too large for the number of bits is stored, we say an *overflow* occurs.\n",
    "In that case, the bits that cannot be stored are, for example, thrown away and the value is incorrect.\n",
    "\n",
    "Typically sizes for numbers are 8, 16, 32, or 64 bits.\n",
    "The term for an 8 bit number is a *byte*.\n",
    "These are the different types used for integer numbers.\n",
    "\n",
    "type    |size |bytes \n",
    ":-      |:-   |:- \n",
    "`Byte`  |8    |1 \n",
    "`Short` |16   |2\n",
    "`Int`   |32   |4 \n",
    "`Long`  |64   |8\n",
    "\n",
    "### Binary number value ranges\n",
    "\n",
    "Integers are actually stored as [negative binary numbers](https://courses.cs.washington.edu/courses/cse390b/21sp/readings/negative_binary.html). \n",
    "How that is done is beyond the scope of this discussion, but the result is that the range of values for a number of a given size is different depending on whether the number is *unsigned*, or positive, or signed and can be negative. \n",
    "\n",
    "The maximum value for an unsigned number of a given size is the value of a binary number of that size with all 1 bits.\n",
    "This is the largest number that can be stored in 8 bits.\n",
    "\n",
    "$11111111_2 = 128 + 64 + 32 + 16 + 8 + 4 + 2 + 1 = 255$\n",
    "\n",
    "This value is $2^8 - 1$. \n",
    "There are special names for the unsigned versions of these types.\n",
    "These are the names and maximum values for each unsigned type.\n",
    "\n",
    "|type     |size |maximum value |in decimal\n",
    "|:-       |:-   |:-            |-:\n",
    "|`UByte`  |8    |$2^8 - 1$     |255\n",
    "|`UShort` |16   |$2^{16} - 1$  |65,535\n",
    "|`UInt`   |32   |$2^{32} - 1$  |4,294,967,295\n",
    "|`ULong`  |64   |$2^{64} - 1$  |18,446,744,073,709,551,615\n",
    "\n",
    "For signed numbers, half of the unsigned number range is used for negative numbers.\n",
    "The result is that signed byte values range from $-2^7$ to $2^7 - 1$, or -128 to 127.\n",
    "These are the minimum and maximum values for the signed versions of each type.\n",
    "\n",
    "|type    |size |maximum value|maximum value\n",
    "|:-      |:-   |:-           |:- \n",
    "|`Byte`  |8    |$-2^7$       |$2^7 - 1$    \n",
    "|`Short` |16   |$-2^{15}$    |$2^{15} - 1$ \n",
    "|`Int`   |32   |$-2^{31}$    |$2^{31} - 1$ \n",
    "|`Long`  |64   |$-2^{63}$    |$2^{63} - 1$ \n",
    "\n",
    "\n",
    "### Floating point binary numbers\n",
    "\n",
    "The real types `Float` and `Double` are represented specially as [floating point binary numbers](https://towardsdatascience.com/binary-representation-of-the-floating-point-numbers-77d7364723f1).\n",
    "That also is beyond the scope of this discussion, but note that the `Double` type is twice as large as `Float` and stores twice as many fractional digits.\n",
    "\n",
    "|type |number type |size |bytes |decimal places\n",
    "|:- |:- |:- |:- |:-\n",
    "|`Float` |real |32 |4 |7\n",
    "|`Double` |real |64 |8 |15\n",
    "\n"
   ]
  },
  {
   "cell_type": "markdown",
   "id": "1e9e79da",
   "metadata": {},
   "source": [
    "<a  id=\"converting-between-number-types\"></a>\n",
    "## Converting between number types\n",
    "When assigning variables, number types are not interchangeable.\n",
    "These give errors."
   ]
  },
  {
   "cell_type": "code",
   "execution_count": 83,
   "id": "8bb7e004",
   "metadata": {
    "collapsed": true
   },
   "outputs": [
    {
     "name": "stderr",
     "output_type": "stream",
     "text": [
      "Line_2115.jupyter.kts (7:8 - 11) Type mismatch: inferred type is Int but Byte was expected\n",
      "Line_2115.jupyter.kts (8:9 - 14) Type mismatch: inferred type is Float but Short was expected\n",
      "Line_2115.jupyter.kts (9:7 - 12) Type mismatch: inferred type is Short but Int was expected\n",
      "Line_2115.jupyter.kts (10:9 - 15) Type mismatch: inferred type is Double but Float was expected\n",
      "Line_2115.jupyter.kts (11:10 - 15) Type mismatch: inferred type is Float but Double was expected"
     ]
    }
   ],
   "source": [
    "var byte : Byte = 1\n",
    "var short : Short = 25\n",
    "var int : Int = 10\n",
    "var long : Long = 523\n",
    "var float : Float = 32.0F\n",
    "var double : Double = 5.0\n",
    "byte = int\n",
    "short = float\n",
    "int = short\n",
    "float = double\n",
    "double = float"
   ]
  },
  {
   "cell_type": "markdown",
   "id": "f2a73db0",
   "metadata": {},
   "source": [
    "These functions convert between number types.\n",
    "function|description\n",
    ":- |:-\n",
    "toByte() |convert to a Byte\n",
    "toInt() |convert to an Int\n",
    "toShort() |convert to a Short\n",
    "toLong() |convert to a Long\n",
    "toFloat() | convert to a Float\n",
    "toDouble() | convert to a Double\n",
    "\n",
    "Numbers must be the correct type when they are assigned to variables.\n",
    "These are variables of various types being assigned to compatible values."
   ]
  },
  {
   "cell_type": "code",
   "execution_count": 89,
   "id": "a2b6e69a",
   "metadata": {},
   "outputs": [
    {
     "name": "stdout",
     "output_type": "stream",
     "text": [
      "byte -106 int 523 short -106 long -106 float 5.0 double 523.0\r\n"
     ]
    }
   ],
   "source": [
    "var byte : Byte = 10\n",
    "var int : Int = 150\n",
    "var short : Short = 523\n",
    "var long : Long = 523\n",
    "var float : Float = 32.0F\n",
    "var double : Double = 5.0\n",
    "byte = int.toByte()\n",
    "int = short.toInt()\n",
    "long = byte.toLong()\n",
    "short = long.toShort()\n",
    "float = double.toFloat()\n",
    "double = int.toDouble()\n",
    "println(\"byte $byte int $int short $short long $long float $float double $double\")"
   ]
  },
  {
   "cell_type": "markdown",
   "id": "ea32f31c",
   "metadata": {},
   "source": [
    "## Number functions\n",
    "These are commonly used number functions."
   ]
  },
  {
   "cell_type": "markdown",
   "id": "9682f79d-26cb-4f8a-8ea8-5ea1cdfb4d25",
   "metadata": {},
   "source": [
    "### `abs` function\n",
    "The `abs` function is a function that gives a value when it is done. It takes a number that might be negative and gives the absolute value of it."
   ]
  },
  {
   "cell_type": "code",
   "execution_count": 6,
   "id": "9738aa94-607d-447e-88be-eb2e6687c554",
   "metadata": {
    "collapsed": true
   },
   "outputs": [
    {
     "name": "stdout",
     "output_type": "stream",
     "text": [
      "abs( 3 ) is  3\n",
      "abs( -5 ) is  5\n",
      "abs( -4.3 ) is  4.3\n"
     ]
    }
   ],
   "source": [
    "x = 3\n",
    "y = -5\n",
    "z = -4.3\n",
    "println(\"abs(\", x, \") is \", abs(x))\n",
    "println(\"abs(\", y, \") is \", abs(y))\n",
    "println(\"abs(\", z, \") is \", abs(z))"
   ]
  },
  {
   "cell_type": "markdown",
   "id": "84d0b598-3cd6-443f-987e-823212c84b6f",
   "metadata": {},
   "source": [
    "### `max` function\n",
    "The value of the `max` function is the largest of the numbers give given to it as an argument.\n",
    "`(1, 12, 9)` is a *list* of numbers, which is discussed further below."
   ]
  },
  {
   "cell_type": "code",
   "execution_count": 5,
   "id": "dbe7efc4-5c9c-45b0-9ad7-bba1f1fa7081",
   "metadata": {
    "collapsed": true
   },
   "outputs": [
    {
     "name": "stdout",
     "output_type": "stream",
     "text": [
      "the maximum of  (1, 12, 9)  is  12\n"
     ]
    }
   ],
   "source": [
    "L = (1, 12, 9)\n",
    "println(\"the maximum of \", L, \" is \", max(L))"
   ]
  },
  {
   "cell_type": "markdown",
   "id": "13dd4575-f427-4b03-a661-1434bcaca249",
   "metadata": {},
   "source": [
    "### `min` function\n",
    "The value of the `min` function is the smallest of the numbers give given to it as an argument."
   ]
  },
  {
   "cell_type": "code",
   "execution_count": 4,
   "id": "eaf8c306-5a71-47e8-b985-6019c67eba63",
   "metadata": {
    "collapsed": true
   },
   "outputs": [
    {
     "name": "stdout",
     "output_type": "stream",
     "text": [
      "the minimum of  (1, 12, 9)  is  1\n"
     ]
    }
   ],
   "source": [
    "L = (1, 12, 9)\n",
    "println(\"the minimum of \", L, \" is \", min(L))"
   ]
  },
  {
   "cell_type": "markdown",
   "id": "3829dd0c-7d69-4d37-871e-51674f0946b2",
   "metadata": {},
   "source": [
    "### `round` function\n",
    "The `round` function takes a real number and reduces the size of the fraction. \n",
    "It gives the integer value without the fraction if only the number is given as the argument. \n",
    "If a second argument is a number, it will keep this many digits in the fractional part."
   ]
  },
  {
   "cell_type": "code",
   "execution_count": 3,
   "id": "f108e3aa-5f28-4549-80b2-5f2146d9ecac",
   "metadata": {
    "collapsed": true
   },
   "outputs": [
    {
     "name": "stdout",
     "output_type": "stream",
     "text": [
      "round( 5.34 ) is  5\n",
      "round( 9.2345 , 2) is  9.23\n",
      "round( -8.431 ) is  -8\n"
     ]
    }
   ],
   "source": [
    "x = 5.34\n",
    "y = 9.2345\n",
    "z = -8.431\n",
    "println(\"round(\", x, \") is \", round(x))\n",
    "println(\"round(\", y, \", 2) is \", round(y, 2))\n",
    "println(\"round(\", z, \") is \", round(z))"
   ]
  }
 ],
 "metadata": {
  "kernelspec": {
   "display_name": "Kotlin",
   "language": "kotlin",
   "name": "kotlin"
  },
  "language_info": {
   "codemirror_mode": "text/x-kotlin",
   "file_extension": ".kt",
   "mimetype": "text/x-kotlin",
   "name": "kotlin",
   "nbconvert_exporter": "",
   "pygments_lexer": "kotlin",
   "version": "1.8.20"
  }
 },
 "nbformat": 4,
 "nbformat_minor": 5
}
