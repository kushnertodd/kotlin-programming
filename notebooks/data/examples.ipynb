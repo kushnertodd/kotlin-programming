{
 "cells": [
  {
   "cell_type": "markdown",
   "id": "39ec1189-35da-40a8-99be-1265d984000a",
   "metadata": {},
   "source": [
    "# Examples\n",
    "These are examples of programs that put together what we've learned.\n",
    "\n",
    "[Data structures](data-structures.ipynb)  \n",
    "[File processing](file-processing.ipynb)  \n",
    "[Data cleaning](data-cleaning.ipynb)  \n"
   ]
  }
 ],
"metadata": {
  "kernelspec": {
   "display_name": "Kotlin",
   "language": "kotlin",
   "name": "kotlin"
  },
  "language_info": {
   "codemirror_mode": "text/x-kotlin",
   "file_extension": ".kt",
   "mimetype": "text/x-kotlin",
   "name": "kotlin",
   "nbconvert_exporter": "",
   "pygments_lexer": "kotlin",
   "version": "1.8.20"
  }
 },
 "nbformat": 4,
 "nbformat_minor": 5
}
