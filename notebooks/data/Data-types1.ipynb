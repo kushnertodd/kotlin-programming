{
 "cells": [
  {
   "cell_type": "markdown",
   "id": "ddc84f49-9a41-42f6-ba89-da8ee6f43501",
   "metadata": {
    "tags": []
   },
   "source": [
    "<a id=\"data-types\"></a>\n",
    "# Data Types\n",
    "<!--\n",
    "https://kotlinlang.org/api/latest/jvm/stdlib/\n",
    "-->\n",
    "Numbers and strings are only two types of data in Python. \n",
    "Numbers and strings start as *literal constants* and are the most basic types of data in Python. \n",
    "`\"hello\"` and `5` are literal constants.\n",
    "Python instructions can combine these values with different *operations* and can store them in variables. \n",
    "Instructions can use literal constants or can use the values stored in variables. \n",
    "Values can be combined it collections such as lists and dictionaries.\n",
    "\n",
    "In Python, the data type is set when you assign a value to a variable.\n",
    "\n",
    "statement|type\n",
    ":- |:-\n",
    "x = \"Hello World\"|string\t\n",
    "x = 20|int\t\n",
    "x = 20.5|float\t\n",
    "x = [\"apple\", \"banana\", \"cherry\"]|list\t\n",
    "x = {\"name\" : \"John\", \"age\" : 36}|dictionary\n",
    "\n",
    "## Primitive types\n",
    "\n",
    "[Numbers](./numbers.ipynb)    \n",
    "[Strings](./strings.ipynb)  \n",
    "[Booleans](./booleans.ipynb)  \n",
    "[Characters](./characters.ipynb)  \n",
    "\n",
    "## Collections\n",
    "<!--\n",
    "https://kotlinlang.org/docs/collection-operations.html#common-operations\n",
    "https://kotlinlang.org/docs/collection-plus-minus.html\n",
    "https://kotlinlang.org/api/latest/jvm/stdlib/kotlin.collections/-set/contains-all.html\n",
    "-->\n",
    "[Sets](./sets.ipynb)  \n",
    "[Lists](./lists.ipynb)  \n",
    "[Arrays](./arrays.ipynb)   \n",
    "[Maps](./maps.ipynb)  \n"
   ]
  },
  {
   "cell_type": "code",
   "execution_count": null,
   "id": "24e65031",
   "metadata": {},
   "outputs": [],
   "source": []
  }
 ],
 "metadata": {
  "kernelspec": {
   "display_name": "Kotlin",
   "language": "kotlin",
   "name": "kotlin"
  },
  "language_info": {
   "codemirror_mode": "text/x-kotlin",
   "file_extension": ".kt",
   "mimetype": "text/x-kotlin",
   "name": "kotlin",
   "nbconvert_exporter": "",
   "pygments_lexer": "kotlin",
   "version": "1.8.20"
  }
 },
 "nbformat": 4,
 "nbformat_minor": 5
}
