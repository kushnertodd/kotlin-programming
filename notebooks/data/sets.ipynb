{
 "cells": [
  {
   "cell_type": "markdown",
   "id": "14b4611e",
   "metadata": {},
   "source": [
    "# Sets\n",
    "<!--\n",
    "https://kotlinlang.org/docs/set-operations.html\n",
    "https://www.tutorialspoint.com/kotlin/kotlin_sets.htm\n",
    "https://kotlinlang.org/api/latest/jvm/stdlib/kotlin.collections/-set/\n",
    "-->\n",
    "*Sets* implement mathematical [sets](../mathematical-basics/sets/sets.ipynb)."
   ]
  },
  {
   "cell_type": "markdown",
   "id": "add428fb",
   "metadata": {},
   "source": [
    "## Creating sets"
   ]
  },
  {
   "cell_type": "markdown",
   "id": "6e4e39e9",
   "metadata": {},
   "source": [
    "### `setOf` function"
   ]
  },
  {
   "cell_type": "markdown",
   "id": "4dbe1247",
   "metadata": {},
   "source": [
    "### `mutableSetOf` function"
   ]
  },
  {
   "cell_type": "markdown",
   "id": "64d232e3",
   "metadata": {},
   "source": [
    "### Adding elements to sets\n",
    "```\n",
    "We can use + operator to add elements to a set. This will add second set into first set, discarding the duplicate elements.\n",
    "\n",
    "    val set = setOf(\"one\", \"two\", \"three\")\n",
    "    val result = set + \"four\"\n",
    "    println(result)\n",
    "\n",
    "[one, two, three, four, five, six]\n",
    "```"
   ]
  },
  {
   "cell_type": "code",
   "execution_count": 3,
   "id": "933ac6c0",
   "metadata": {},
   "outputs": [
    {
     "name": "stdout",
     "output_type": "stream",
     "text": [
      "[one, two, three, four]\r\n"
     ]
    }
   ],
   "source": [
    "val set1 = setOf(\"one\", \"two\", \"three\")\n",
    "val result = set1 + \"four\"\n",
    "println(result)"
   ]
  },
  {
   "cell_type": "markdown",
   "id": "84e63c57",
   "metadata": {},
   "source": [
    "### Subtracting elements from sets\n"
   ]
  },
  {
   "cell_type": "markdown",
   "id": "6e9272de",
   "metadata": {},
   "source": [
    "### Set addition\n",
    "```\n",
    "We can use + operator to add two or more sets into a single set. This will add second set into first set, discarding the duplicate elements.\n",
    "\n",
    "Example\n",
    "fun main() {\n",
    "    val firstSet = setOf(\"one\", \"two\", \"three\")\n",
    "    val secondSet = setOf(\"one\", \"four\", \"five\", \"six\")\n",
    "    val resultSet = firstSet + secondSet\n",
    "    \n",
    "    println(resultSet)\n",
    "}\n",
    "When you run the above Kotlin program, it will generate the following output:\n",
    "\n",
    "[one, two, three, four, five, six]\n",
    "```"
   ]
  },
  {
   "cell_type": "markdown",
   "id": "8cd80dbc",
   "metadata": {},
   "source": [
    "\n",
    "### Set subtraction\n",
    "```\n",
    "We can use - operator to subtract a set from another set. This operation will remove the common elements from the first set and will return the result.\n",
    "\n",
    "Example\n",
    "fun main() {\n",
    "    val firstSet = setOf(\"one\", \"two\", \"three\")\n",
    "    val secondSet = setOf(\"one\", \"five\", \"six\")\n",
    "    val resultSet = firstSet - secondSet\n",
    "    \n",
    "    println(resultSet)\n",
    "}\n",
    "When you run the above Kotlin program, it will generate the following output:\n",
    "\n",
    "[two, three]\n",
    "```"
   ]
  },
  {
   "cell_type": "markdown",
   "id": "fd514151",
   "metadata": {},
   "source": [
    "## Accessing sets"
   ]
  },
  {
   "cell_type": "markdown",
   "id": "94ba98f0",
   "metadata": {},
   "source": [
    "### `size` property\n",
    "```\n",
    "We can use size property to get the total number of elements in a set:\n",
    "\n",
    "fun main() {\n",
    "    val theSet = setOf(\"one\", \"two\", null, \"four\", \"five\")\n",
    "    \n",
    "    println(\"Size of the Set \" + theSet.size)\n",
    "}\n",
    "When you run the above Kotlin program, it will generate the following output:\n",
    "\n",
    "Size of the Set 5\n",
    "```"
   ]
  },
  {
   "cell_type": "markdown",
   "id": "20ff5c22",
   "metadata": {},
   "source": [
    "## Modifying sets"
   ]
  },
  {
   "cell_type": "markdown",
   "id": "75e80424",
   "metadata": {},
   "source": [
    "### Set addition"
   ]
  },
  {
   "cell_type": "markdown",
   "id": "7b5c2513",
   "metadata": {},
   "source": [
    "### Set removal"
   ]
  },
  {
   "cell_type": "markdown",
   "id": "29ce5c56",
   "metadata": {},
   "source": [
    "## Set tests"
   ]
  },
  {
   "cell_type": "markdown",
   "id": "f6668258",
   "metadata": {},
   "source": [
    "\n",
    "### `in` operator\n",
    "```\n",
    "The in operator can be used to check the existence of an element in a set.\n",
    "\n",
    "Example\n",
    "fun main() {\n",
    "   val theSet = setOf(\"one\", \"two\", \"three\", \"four\")\n",
    "    \n",
    "   if(\"two\" in theSet){\n",
    "      println(true)\n",
    "   }else{\n",
    "      println(false)\n",
    "   }\n",
    "}\n",
    "When you run the above Kotlin program, it will generate the following output:\n",
    "\n",
    "true\n",
    "```"
   ]
  },
  {
   "cell_type": "markdown",
   "id": "315a1258",
   "metadata": {},
   "source": [
    "\n",
    "### `contains` function\n",
    "```\n",
    "The contains() method can also be used to check the existence of an element in a set.\n",
    "\n",
    "Example\n",
    "fun main() {\n",
    "   val theSet = setOf(\"one\", \"two\", \"three\", \"four\")\n",
    "\n",
    "   if(theSet.contains(\"two\")){\n",
    "      println(true)\n",
    "   }else{\n",
    "      println(false)\n",
    "   }\n",
    "    \n",
    "}\n",
    "When you run the above Kotlin program, it will generate the following output:\n",
    "\n",
    "true\n",
    "```"
   ]
  },
  {
   "cell_type": "markdown",
   "id": "fed69771",
   "metadata": {},
   "source": [
    "\n",
    "### `isEmpty` function\n",
    "```\n",
    "The isEmpty() method returns true if the collection is empty (contains no elements), false otherwise.\n",
    "\n",
    "Example\n",
    "fun main() {\n",
    "   val theSet = setOf(\"one\", \"two\", \"three\", \"four\")\n",
    "    \n",
    "   if(theSet.isEmpty()){\n",
    "      println(true)\n",
    "   }else{\n",
    "      println(false)\n",
    "   }\n",
    "}\n",
    "When you run the above Kotlin program, it will generate the following output:\n",
    "\n",
    "false\n",
    "```"
   ]
  },
  {
   "cell_type": "markdown",
   "id": "361fcdce",
   "metadata": {},
   "source": [
    "## Looping through sets"
   ]
  },
  {
   "cell_type": "markdown",
   "id": "6e9069d5",
   "metadata": {},
   "source": [
    "### `for` loop\n",
    "\n",
    "```\n",
    "\n",
    "fun main() {\n",
    "   val theSet = setOf(\"one\", \"two\", \"three\", \"four\")\n",
    "    \n",
    "   for (i in theSet.indices) {\n",
    "      println(theSet.elementAt(i))\n",
    "   }\n",
    "}\n",
    "When you run the above Kotlin program, it will generate the following output:\n",
    "\n",
    "one\n",
    "two\n",
    "three\n",
    "four\n",
    "```"
   ]
  },
  {
   "cell_type": "markdown",
   "id": "330ce945",
   "metadata": {},
   "source": [
    "### `forEach` loop\n",
    "```\n",
    "fun main() {\n",
    "   val theSet = setOf(\"one\", \"two\", \"three\", \"four\")\n",
    "    \n",
    "   theSet.forEach { println(it) }\n",
    "}\n",
    "When you run the above Kotlin program, it will generate the following output:\n",
    "\n",
    "one\n",
    "two\n",
    "three\n",
    "four\n",
    "Note - here it works like this operator in Java.\n",
    "```"
   ]
  },
  {
   "cell_type": "markdown",
   "id": "60c00eb6",
   "metadata": {},
   "source": [
    "## Other set functions"
   ]
  },
  {
   "cell_type": "markdown",
   "id": "1ed8c48e",
   "metadata": {},
   "source": [
    "### `toString` function\n",
    "Convert to string\n",
    "```\n",
    "\n",
    "fun main() {\n",
    "    val theSet = setOf(\"one\", \"two\", \"three\", \"four\")\n",
    "    println(theSet.toString())\n",
    "}\n",
    "When you run the above Kotlin program, it will generate the following output:\n",
    "\n",
    "[one, two, three, four]\n",
    "```\n"
   ]
  }
 ],
 "metadata": {
  "kernelspec": {
   "display_name": "Kotlin",
   "language": "kotlin",
   "name": "kotlin"
  },
  "language_info": {
   "codemirror_mode": "text/x-kotlin",
   "file_extension": ".kt",
   "mimetype": "text/x-kotlin",
   "name": "kotlin",
   "nbconvert_exporter": "",
   "pygments_lexer": "kotlin",
   "version": "1.8.20"
  }
 },
 "nbformat": 4,
 "nbformat_minor": 5
}
