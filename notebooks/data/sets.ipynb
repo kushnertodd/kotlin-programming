{
 "cells": [
  {
   "cell_type": "markdown",
   "id": "14b4611e",
   "metadata": {},
   "source": [
    "# Sets\n",
    "<!--\n",
    "https://kotlinlang.org/docs/set-operations.html\n",
    "https://www.tutorialspoint.com/kotlin/kotlin_sets.htm\n",
    "https://kotlinlang.org/api/latest/jvm/stdlib/kotlin.collections/-set/\n",
    "-->\n",
    "*Sets* are a collections of unique elements. \n",
    "There is no sense of ordering of elements in sets, elements only have membership in the set or not.\n",
    "They implement mathematical [sets](../mathematical-basics/sets/sets.ipynb)."
   ]
  },
  {
   "cell_type": "markdown",
   "id": "add428fb",
   "metadata": {},
   "source": [
    "## Creating sets\n",
    "Sets are read-only collections of values by default.\n",
    "Sets are *immutable* by default."
   ]
  },
  {
   "cell_type": "markdown",
   "id": "6e4e39e9",
   "metadata": {},
   "source": [
    "### `setOf` function\n",
    "The `setOf` function creates a read-only set from a collection of values.\n",
    "The types of all the values need not be the same."
   ]
  },
  {
   "cell_type": "code",
   "execution_count": 28,
   "id": "21bdcbfe",
   "metadata": {
    "collapsed": true
   },
   "outputs": [
    {
     "name": "stdout",
     "output_type": "stream",
     "text": [
      "[one, two, 3]\r\n"
     ]
    }
   ],
   "source": [
    "val theSet = setOf(\"one\", \"two\", 3)\n",
    "println(theSet)"
   ]
  },
  {
   "cell_type": "markdown",
   "id": "64d232e3",
   "metadata": {},
   "source": [
    "### `+` element operator\n",
    "The `+` operator adds elements to a set. \n",
    "This discards duplicate elements."
   ]
  },
  {
   "cell_type": "code",
   "execution_count": 29,
   "id": "933ac6c0",
   "metadata": {
    "collapsed": true
   },
   "outputs": [
    {
     "name": "stdout",
     "output_type": "stream",
     "text": [
      "[one, two, three, four]\r\n",
      "[one, two, three]\r\n"
     ]
    }
   ],
   "source": [
    "val theSet = setOf(\"one\", \"two\", \"three\")\n",
    "val result_add = theSet + \"four\"\n",
    "println(result_add)\n",
    "val result_discard = theSet + \"two\"\n",
    "println(result_discard)"
   ]
  },
  {
   "cell_type": "markdown",
   "id": "84e63c57",
   "metadata": {},
   "source": [
    "### `-` element operator\n",
    "The `-` operator removes elements to a set. \n",
    "This does nothing if the elements are not in the set."
   ]
  },
  {
   "cell_type": "code",
   "execution_count": 30,
   "id": "f766ddd1",
   "metadata": {
    "collapsed": true
   },
   "outputs": [
    {
     "name": "stdout",
     "output_type": "stream",
     "text": [
      "[one, two]\r\n",
      "[one, two, three]\r\n"
     ]
    }
   ],
   "source": [
    "val theSet = setOf(\"one\", \"two\", \"three\")\n",
    "val result_have = theSet - \"three\"\n",
    "println(result_have)\n",
    "val result_missing = theSet - \"four\"\n",
    "println(result_missing)"
   ]
  },
  {
   "cell_type": "markdown",
   "id": "6e9272de",
   "metadata": {},
   "source": [
    "### `+` and `union` set operators\n",
    "The `+` and [`union`](../mathematical-basics/sets/sets.ipynb#set-Union) operators add two or more sets into a single set. \n",
    "This discards the duplicate elements."
   ]
  },
  {
   "cell_type": "code",
   "execution_count": 31,
   "id": "5c1168e3",
   "metadata": {
    "collapsed": true
   },
   "outputs": [
    {
     "name": "stdout",
     "output_type": "stream",
     "text": [
      "[one, two, three, four, five]\r\n",
      "[one, two, three, four, five]\r\n"
     ]
    }
   ],
   "source": [
    "val firstSet = setOf(\"one\", \"two\", \"three\")\n",
    "val secondSet = setOf(\"two\", \"three\", \"four\", \"five\")\n",
    "val resultSet = firstSet + secondSet\n",
    "val unionSet = firstSet union secondSet\n",
    "println(resultSet)\n",
    "println(unionSet)"
   ]
  },
  {
   "cell_type": "markdown",
   "id": "4ea7eea0",
   "metadata": {},
   "source": [
    "### `intersection` set operator\n",
    "The [`intersect`](../mathematical-basics/sets/sets.ipynb#set-Intersection) operator collections all common elements of two or more sets into a single set. "
   ]
  },
  {
   "cell_type": "code",
   "execution_count": 32,
   "id": "26108717",
   "metadata": {
    "collapsed": true
   },
   "outputs": [
    {
     "name": "stdout",
     "output_type": "stream",
     "text": [
      "[two, three]\r\n"
     ]
    }
   ],
   "source": [
    "val firstSet = setOf(\"one\", \"two\", \"three\")\n",
    "val secondSet = setOf(\"two\", \"three\", \"four\", \"five\")\n",
    "val intersectSet = firstSet intersect secondSet\n",
    "println(intersectSet)"
   ]
  },
  {
   "cell_type": "markdown",
   "id": "8cd80dbc",
   "metadata": {},
   "source": [
    "### `-` set operator\n",
    "The `-` operator removes the elements of two or more sets from a set. "
   ]
  },
  {
   "cell_type": "code",
   "execution_count": 33,
   "id": "19e50b94",
   "metadata": {
    "collapsed": true
   },
   "outputs": [
    {
     "name": "stdout",
     "output_type": "stream",
     "text": [
      "[one]\r\n"
     ]
    }
   ],
   "source": [
    "val firstSet = setOf(\"one\", \"two\", \"three\")\n",
    "val secondSet = setOf(\"two\", \"three\", \"four\", \"five\")\n",
    "    val resultSet = firstSet - secondSet\n",
    "    println(resultSet)"
   ]
  },
  {
   "cell_type": "markdown",
   "id": "fd514151",
   "metadata": {},
   "source": [
    "## Accessing sets"
   ]
  },
  {
   "cell_type": "markdown",
   "id": "94ba98f0",
   "metadata": {},
   "source": [
    "### `size` property\n",
    "The `size` property gives the total number of elements in a set."
   ]
  },
  {
   "cell_type": "code",
   "execution_count": 19,
   "id": "59962877",
   "metadata": {
    "collapsed": true
   },
   "outputs": [
    {
     "name": "stdout",
     "output_type": "stream",
     "text": [
      "Size of the Set 5\r\n"
     ]
    }
   ],
   "source": [
    "val theSet = setOf(\"one\", \"two\", \"four\", \"five\")\n",
    "println(\"Size of the Set \" + theSet.size)"
   ]
  },
  {
   "cell_type": "markdown",
   "id": "20ff5c22",
   "metadata": {},
   "source": [
    "<!--\n",
    "https://www.baeldung.com/kotlin/set-mutableset\n",
    "-->\n",
    "## Modifiable sets\n",
    "Modifiable sets allow changing elements within the set.\n",
    "Modifiable sets are *mutable*."
   ]
  },
  {
   "cell_type": "markdown",
   "id": "19735182",
   "metadata": {},
   "source": [
    "### `mutableSetOf` function\n",
    "The `mutableSetOf` function creates a modifiable set from a collection of values.\n",
    "The types of all the values need not be the same."
   ]
  },
  {
   "cell_type": "code",
   "execution_count": 34,
   "id": "430ec910",
   "metadata": {
    "collapsed": true
   },
   "outputs": [
    {
     "name": "stdout",
     "output_type": "stream",
     "text": [
      "[one, two, 3]\r\n"
     ]
    }
   ],
   "source": [
    "val theSet = mutableSetOf(\"one\", \"two\", 3)\n",
    "println(theSet)"
   ]
  },
  {
   "cell_type": "markdown",
   "id": "3bb9d07e",
   "metadata": {},
   "source": [
    "### `add` element function\n",
    "The `add` function adds elements to a mutable set. \n",
    "This discards duplicate elements."
   ]
  },
  {
   "cell_type": "code",
   "execution_count": 35,
   "id": "3ebcecc5",
   "metadata": {
    "collapsed": true
   },
   "outputs": [
    {
     "name": "stdout",
     "output_type": "stream",
     "text": [
      "[one, two, three, four]\r\n"
     ]
    }
   ],
   "source": [
    "val theSet = mutableSetOf(\"one\", \"two\", \"three\")\n",
    "theSet.add(\"four\")\n",
    "println(theSet)"
   ]
  },
  {
   "cell_type": "markdown",
   "id": "c28f2584",
   "metadata": {},
   "source": [
    "### `addAll` set function\n",
    "The `addAll` function adds all elements of a set to a mutable set. \n",
    "This discards duplicate elements."
   ]
  },
  {
   "cell_type": "code",
   "execution_count": 36,
   "id": "735d8838",
   "metadata": {
    "collapsed": true
   },
   "outputs": [
    {
     "name": "stdout",
     "output_type": "stream",
     "text": [
      "[one, two, three, four, five]\r\n"
     ]
    }
   ],
   "source": [
    "val firstSet = mutableSetOf(\"one\", \"two\", \"three\")\n",
    "val secondSet = mutableSetOf(\"two\", \"three\", \"four\", \"five\")\n",
    "firstSet.addAll(secondSet)\n",
    "println(firstSet)"
   ]
  },
  {
   "cell_type": "markdown",
   "id": "fb80b761",
   "metadata": {},
   "source": [
    "### `remove` element function\n",
    "The `remove` function removes elements from a mutable set. \n",
    "This does nothing if the elements are not in the set."
   ]
  },
  {
   "cell_type": "code",
   "execution_count": 37,
   "id": "8ee4febb",
   "metadata": {
    "collapsed": true
   },
   "outputs": [
    {
     "name": "stdout",
     "output_type": "stream",
     "text": [
      "[one, two]\r\n",
      "[one, two]\r\n"
     ]
    }
   ],
   "source": [
    "val theSet = mutableSetOf(\"one\", \"two\", \"three\")\n",
    "theSet.remove(\"three\")\n",
    "println(theSet)\n",
    "theSet.remove(\"four\")\n",
    "println(theSet)"
   ]
  },
  {
   "cell_type": "markdown",
   "id": "aa31fe29",
   "metadata": {},
   "source": [
    "### `removeAll` set function\n",
    "The `removeAll` function removes all elements of a set from a mutable set. \n",
    "This does nothing for the elements not in the set."
   ]
  },
  {
   "cell_type": "code",
   "execution_count": 38,
   "id": "467a56f8",
   "metadata": {
    "collapsed": true
   },
   "outputs": [
    {
     "name": "stdout",
     "output_type": "stream",
     "text": [
      "[one]\r\n"
     ]
    }
   ],
   "source": [
    "val firstSet = mutableSetOf(\"one\", \"two\", \"three\")\n",
    "val secondSet = setOf(\"two\", \"three\", \"four\", \"five\")\n",
    "firstSet.removeAll(secondSet)\n",
    "println(firstSet)"
   ]
  },
  {
   "cell_type": "markdown",
   "id": "29ce5c56",
   "metadata": {},
   "source": [
    "## Set tests"
   ]
  },
  {
   "cell_type": "markdown",
   "id": "f6668258",
   "metadata": {},
   "source": [
    "### `in` operator\n",
    "The `in` operator can be used to check the existence of an element in a set."
   ]
  },
  {
   "cell_type": "code",
   "execution_count": 39,
   "id": "3173c065",
   "metadata": {
    "collapsed": true
   },
   "outputs": [
    {
     "name": "stdout",
     "output_type": "stream",
     "text": [
      "true\r\n"
     ]
    }
   ],
   "source": [
    "val theSet = setOf(\"one\", \"two\", \"three\", \"four\")\n",
    "if(\"two\" in theSet)\n",
    "      println(true)\n",
    "else\n",
    "      println(false)"
   ]
  },
  {
   "cell_type": "markdown",
   "id": "315a1258",
   "metadata": {},
   "source": [
    "### `contains` function\n",
    "The `contains` function can also be used to check the existence of an element in a set."
   ]
  },
  {
   "cell_type": "code",
   "execution_count": 40,
   "id": "5b55fc9e",
   "metadata": {
    "collapsed": true
   },
   "outputs": [
    {
     "name": "stdout",
     "output_type": "stream",
     "text": [
      "true\r\n"
     ]
    }
   ],
   "source": [
    "val theSet = setOf(\"one\", \"two\", \"three\", \"four\")\n",
    "if(theSet.contains(\"two\"))\n",
    "      println(true)\n",
    "else\n",
    "      println(false)"
   ]
  },
  {
   "cell_type": "markdown",
   "id": "139f1677",
   "metadata": {},
   "source": [
    "### `containsAll` subset function\n",
    "The `containsAll` function can be used to check the whether a set is a subset of another set."
   ]
  },
  {
   "cell_type": "code",
   "execution_count": 41,
   "id": "eba7909c",
   "metadata": {
    "collapsed": true
   },
   "outputs": [
    {
     "name": "stdout",
     "output_type": "stream",
     "text": [
      "true\r\n",
      "false\r\n"
     ]
    }
   ],
   "source": [
    "val firstSet = setOf(\"one\", \"two\", \"three\", \"four\", \"five\")\n",
    "val secondSet = setOf(\"one\", \"two\", \"three\")\n",
    "val thirdSet = setOf(\"four\", \"five\", \"six\")\n",
    "if (firstSet.containsAll(secondSet))\n",
    "      println(true)\n",
    "else\n",
    "      println(false)\n",
    "if (firstSet.containsAll(thirdSet))\n",
    "      println(true)\n",
    "else\n",
    "      println(false)"
   ]
  },
  {
   "cell_type": "markdown",
   "id": "fed69771",
   "metadata": {},
   "source": [
    "### `isEmpty` function\n",
    "The `isEmpty` function returns true if the collection is empty (contains no elements), false otherwise."
   ]
  },
  {
   "cell_type": "code",
   "execution_count": 42,
   "id": "3ac67d2c",
   "metadata": {
    "collapsed": true
   },
   "outputs": [
    {
     "name": "stdout",
     "output_type": "stream",
     "text": [
      "false\r\n"
     ]
    }
   ],
   "source": [
    "val theSet = setOf(\"one\", \"two\", \"three\", \"four\")\n",
    "if(theSet.isEmpty())\n",
    "      println(true)\n",
    "else\n",
    "      println(false)"
   ]
  },
  {
   "cell_type": "markdown",
   "id": "9a8458f4",
   "metadata": {},
   "source": [
    "### `isNotEmpty` function\n",
    "The `isNotEmpty` function returns false if the collection is empty (contains no elements), true otherwise."
   ]
  },
  {
   "cell_type": "code",
   "execution_count": 43,
   "id": "b84bf578",
   "metadata": {
    "collapsed": true
   },
   "outputs": [
    {
     "name": "stdout",
     "output_type": "stream",
     "text": [
      "true\r\n"
     ]
    }
   ],
   "source": [
    "val theSet = setOf(\"one\", \"two\", \"three\", \"four\")\n",
    "if(theSet.isNotEmpty())\n",
    "      println(true)\n",
    "else\n",
    "      println(false)"
   ]
  },
  {
   "cell_type": "markdown",
   "id": "9e768e77",
   "metadata": {},
   "source": [
    "### `max` function\n",
    "The `max` function returns the largest value in a numerical set."
   ]
  },
  {
   "cell_type": "code",
   "execution_count": 44,
   "id": "ddcc4122",
   "metadata": {
    "collapsed": true
   },
   "outputs": [
    {
     "name": "stdout",
     "output_type": "stream",
     "text": [
      "4\r\n"
     ]
    }
   ],
   "source": [
    "val theSet = setOf(1, 2, 3, 4)\n",
    "println(theSet.max())"
   ]
  },
  {
   "cell_type": "markdown",
   "id": "00f7d9f0",
   "metadata": {},
   "source": [
    "### `min` function\n",
    "The `min` function returns the smallest value in a numerical set."
   ]
  },
  {
   "cell_type": "code",
   "execution_count": 45,
   "id": "56946288",
   "metadata": {
    "collapsed": true
   },
   "outputs": [
    {
     "name": "stdout",
     "output_type": "stream",
     "text": [
      "4\r\n"
     ]
    }
   ],
   "source": [
    "val theSet = setOf(1, 2, 3, 4)\n",
    "println(theSet.max())"
   ]
  },
  {
   "cell_type": "markdown",
   "id": "41f57eac",
   "metadata": {},
   "source": [
    "### `random` function\n",
    "The `random` function returns a random element from a set."
   ]
  },
  {
   "cell_type": "code",
   "execution_count": 46,
   "id": "b9625d2f",
   "metadata": {
    "collapsed": true
   },
   "outputs": [
    {
     "name": "stdout",
     "output_type": "stream",
     "text": [
      "two\r\n"
     ]
    }
   ],
   "source": [
    "val theSet = setOf(\"one\", \"two\", \"three\", \"four\")\n",
    "println(theSet.random())"
   ]
  },
  {
   "cell_type": "markdown",
   "id": "2266fcf3",
   "metadata": {},
   "source": [
    "### `sum` function\n",
    "The `sum` function returns the sum of all values in a numerical set."
   ]
  },
  {
   "cell_type": "code",
   "execution_count": 47,
   "id": "981bae3e",
   "metadata": {
    "collapsed": true
   },
   "outputs": [
    {
     "name": "stdout",
     "output_type": "stream",
     "text": [
      "10\r\n"
     ]
    }
   ],
   "source": [
    "val theSet = setOf(1, 2, 3, 4)\n",
    "println(theSet.sum())"
   ]
  },
  {
   "cell_type": "markdown",
   "id": "361fcdce",
   "metadata": {},
   "source": [
    "## Looping through sets"
   ]
  },
  {
   "cell_type": "markdown",
   "id": "6e9069d5",
   "metadata": {},
   "source": [
    "### `for` loop\n",
    "The `for` loop can perform an action on each element of a set.\n",
    "This loop uses the `in` operator to select each element of the set.\n",
    "Elements have no order in a set so there is no assurance of the order the elements will be processed."
   ]
  },
  {
   "cell_type": "code",
   "execution_count": 48,
   "id": "50a8e5a3",
   "metadata": {
    "collapsed": true
   },
   "outputs": [
    {
     "name": "stdout",
     "output_type": "stream",
     "text": [
      "one\r\n",
      "two\r\n",
      "three\r\n",
      "four\r\n"
     ]
    }
   ],
   "source": [
    "val theSet = setOf(\"one\", \"two\", \"three\", \"four\")\n",
    "for (elem in theSet)\n",
    "      println(elem)"
   ]
  },
  {
   "cell_type": "markdown",
   "id": "330ce945",
   "metadata": {},
   "source": [
    "### `forEach` loop\n",
    "The `foreach` loop is a variation of the `for` loop to perform an action on each element of a set.\n",
    "This loop uses the `it` operator to access the element currently selected in the loop."
   ]
  },
  {
   "cell_type": "code",
   "execution_count": 49,
   "id": "2b49cb75",
   "metadata": {
    "collapsed": true
   },
   "outputs": [
    {
     "name": "stdout",
     "output_type": "stream",
     "text": [
      "one\r\n",
      "two\r\n",
      "three\r\n",
      "four\r\n"
     ]
    }
   ],
   "source": [
    "val theSet = setOf(\"one\", \"two\", \"three\", \"four\")\n",
    "theSet.forEach { println(it) }"
   ]
  },
  {
   "cell_type": "markdown",
   "id": "60c00eb6",
   "metadata": {},
   "source": [
    "## Other set functions"
   ]
  },
  {
   "cell_type": "markdown",
   "id": "1ed8c48e",
   "metadata": {},
   "source": [
    "### `toString` function\n",
    "The `toString` function converts to a set to a readable form."
   ]
  },
  {
   "cell_type": "code",
   "execution_count": 50,
   "id": "0c41591a",
   "metadata": {
    "collapsed": true
   },
   "outputs": [
    {
     "name": "stdout",
     "output_type": "stream",
     "text": [
      "[one, two, three, four]\r\n"
     ]
    }
   ],
   "source": [
    "val theSet = setOf(\"one\", \"two\", \"three\", \"four\")\n",
    "println(theSet.toString())"
   ]
  },
  {
   "cell_type": "code",
   "execution_count": null,
   "id": "7e4691a5",
   "metadata": {},
   "outputs": [],
   "source": []
  }
 ],
 "metadata": {
  "kernelspec": {
   "display_name": "Kotlin",
   "language": "kotlin",
   "name": "kotlin"
  },
  "language_info": {
   "codemirror_mode": "text/x-kotlin",
   "file_extension": ".kt",
   "mimetype": "text/x-kotlin",
   "name": "kotlin",
   "nbconvert_exporter": "",
   "pygments_lexer": "kotlin",
   "version": "1.8.20"
  }
 },
 "nbformat": 4,
 "nbformat_minor": 5
}
