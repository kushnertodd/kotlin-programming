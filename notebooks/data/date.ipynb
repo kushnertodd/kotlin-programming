{
 "cells": [
  {
   "cell_type": "markdown",
   "id": "ddc84f49-9a41-42f6-ba89-da8ee6f43501",
   "metadata": {
    "tags": []
   },
   "source": [
    "<a id=\"data-types\"></a>\n",
    "# Data Types\n",
    "<!--\n",
    "https://kotlinlang.org/api/latest/jvm/stdlib/\n",
    "-->\n",
    "Numbers and strings are only two types of data in Python. \n",
    "Numbers and strings start as *literal constants* and are the most basic types of data in Python. \n",
    "`\"hello\"` and `5` are literal constants.\n",
    "Python instructions can combine these values with different *operations* and can store them in variables. \n",
    "Instructions can use literal constants or can use the values stored in variables. \n",
    "Values can be combined it collections such as lists and dictionaries.\n",
    "\n",
    "In Python, the data type is set when you assign a value to a variable.\n",
    "\n",
    "statement|type\n",
    ":- |:-\n",
    "x = \"Hello World\"|string\t\n",
    "x = 20|int\t\n",
    "x = 20.5|float\t\n",
    "x = [\"apple\", \"banana\", \"cherry\"]|list\t\n",
    "x = {\"name\" : \"John\", \"age\" : 36}|dictionary\n",
    "\n",
    "## Primitive types\n",
    "\n",
    "type|description\n",
    ":-|:-\n",
    "[Numbers](./numbers.ipynb)|Numeric quantities   \n",
    "[Strings](./strings.ipynb)|Text made up of characters\n",
    "[Booleans](./booleans.ipynb)|Indicates whether something is true or false \n",
    "\n",
    "\n",
    "## Collections\n",
    "<!--\n",
    "https://kotlinlang.org/docs/collection-operations.html#common-operations\n",
    "https://kotlinlang.org/docs/collection-plus-minus.html\n",
    "https://kotlinlang.org/api/latest/jvm/stdlib/kotlin.collections/-set/contains-all.html\n",
    "-->\n",
    "Type|Description\n",
    ":-|:-\n",
    "[Sets](./sets.ipynb)  |Sets implement mathematical sets\n",
    "[Lists](./lists.ipynb)  |Ordered groups of objects\n",
    "[Arrays](./arrays.ipynb) |Collection of items stored sequentially \n",
    "[Maps](./maps.ipynb)|Associations of objects of one type with another\n",
    "\n",
    "<a id=\"interfaces\"></a>\n",
    "## Interfaces\n",
    "\n",
    "<a id=\"classes\"></a>\n",
    "## Classes\n",
    "- enums\n",
    "- properties\n",
    "- data classes\n",
    "- extension functions\n",
    "- encapsulation\n",
    "- objects"
   ]
  },
  {
   "cell_type": "code",
   "execution_count": null,
   "id": "24e65031",
   "metadata": {},
   "outputs": [],
   "source": []
  }
 ],
 "metadata": {
  "kernelspec": {
   "display_name": "Python 3 (ipykernel)",
   "language": "python",
   "name": "python3"
  },
  "language_info": {
   "codemirror_mode": {
    "name": "ipython",
    "version": 3
   },
   "file_extension": ".py",
   "mimetype": "text/x-python",
   "name": "python",
   "nbconvert_exporter": "python",
   "pygments_lexer": "ipython3",
   "version": "3.11.5"
  }
 },
 "nbformat": 4,
 "nbformat_minor": 5
}
