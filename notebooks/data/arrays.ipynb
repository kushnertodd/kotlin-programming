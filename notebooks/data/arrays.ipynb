{
 "cells": [
  {
   "cell_type": "markdown",
   "id": "90136f38",
   "metadata": {},
   "source": [
    "# Arrays\n",
    "\n",
    "<!--\n",
    "https://www.baeldung.com/kotlin/list-vs-array\n",
    "https://www.tutorialspoint.com/kotlin/kotlin_arrays.htm\n",
    "https://www.geeksforgeeks.org/kotlin-array/\n",
    "https://www.tutorialspoint.com/kotlin/kotlin_arrays.htm\n",
    "https://kotlinlang.org/api/latest/jvm/stdlib/kotlin/-array/\n",
    "https://kotlinlang.org/docs/arrays.html\n",
    "-->"
   ]
  },
  {
   "cell_type": "code",
   "execution_count": 1,
   "id": "ab957983",
   "metadata": {},
   "outputs": [],
   "source": [
    "val x = 1"
   ]
  },
  {
   "cell_type": "code",
   "execution_count": null,
   "id": "97e69335",
   "metadata": {},
   "outputs": [],
   "source": []
  }
 ],
 "metadata": {
  "kernelspec": {
   "display_name": "Kotlin",
   "language": "kotlin",
   "name": "kotlin"
  },
  "language_info": {
   "codemirror_mode": "text/x-kotlin",
   "file_extension": ".kt",
   "mimetype": "text/x-kotlin",
   "name": "kotlin",
   "nbconvert_exporter": "",
   "pygments_lexer": "kotlin",
   "version": "1.8.20"
  }
 },
 "nbformat": 4,
 "nbformat_minor": 5
}
