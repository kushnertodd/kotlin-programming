{
 "cells": [
  {
   "cell_type": "markdown",
   "id": "14b4611e",
   "metadata": {},
   "source": [
    "# Arrays\n",
    "For practical purposes, *arrays* are ordered collections of items the same as [lists](./lists.ipynb).\n",
    "Lists should virtually always be used instead of arrays, because arrays have advantages only in very limited situations.\n",
    "Arrays are a fixed size, unlike lists, so cannot grow or shrink.\n",
    "These are the only cases where you should use arrays instead of lists.\n",
    "\n",
    "- there are millions or more elements and the moderate performance improvement of arrays are needed\n",
    "- program code being used requires the use of arrays\n",
    "\n",
    "Arrays have a number of disadvantages compared with lists.\n",
    "\n",
    "- Arrays are always mutable, there are no immutable arrays\n",
    "- Arrays have a fixed length and cannot be extended, and can actually be less efficient than lists because they have to be copied to add elements\n",
    "- Arrays are missing various functions provided by lists because they are fixed size, such as to add or remove elements\n",
    "- Printing out arrays requires using the function `contentToString`\n",
    "\n",
    "stored sequentially and indexed by a positive integer.\n",
    "<!--\n",
    "https://www.baeldung.com/kotlin/list-vs-array\n",
    "https://www.tutorialspoint.com/kotlin/kotlin_arrays.htm\n",
    "https://www.geeksforgeeks.org/kotlin-array/\n",
    "https://www.tutorialspoint.com/kotlin/kotlin_arrays.htm\n",
    "https://kotlinlang.org/api/latest/jvm/stdlib/kotlin/-array/\n",
    "https://kotlinlang.org/docs/arrays.html\n",
    "https://stackoverflow.com/questions/36262305/difference-between-list-and-array-types-in-kotlin\n",
    "-->"
   ]
  },
  {
   "cell_type": "markdown",
   "id": "add428fb",
   "metadata": {},
   "source": [
    "## Creating arrays\n",
    "Arrays are modifiable ordered collections of values by default.\n",
    "Arrays are always mutable, there are no immutable arrays."
   ]
  },
  {
   "cell_type": "markdown",
   "id": "6e4e39e9",
   "metadata": {},
   "source": [
    "### `arrayOf` function\n",
    "The `arrayOf` function creates a read-only array from a collection of values.\n",
    "The types of all the values need not be the same."
   ]
  },
  {
   "cell_type": "code",
   "execution_count": 4,
   "id": "21bdcbfe",
   "metadata": {
    "collapsed": true
   },
   "outputs": [
    {
     "name": "stdout",
     "output_type": "stream",
     "text": [
      "[5, 9, 1]\r\n"
     ]
    }
   ],
   "source": [
    "val theArray = arrayOf(5, 9, 1)\n",
    "println(theArray.contentToString())"
   ]
  },
  {
   "cell_type": "markdown",
   "id": "faeba153",
   "metadata": {},
   "source": [
    "This is an illustration of the structure of that array.\n",
    "Each element is at a given position, numbered starting at 0.\n",
    "<img src=\"lists-list1.jpg\" width=\"300\" height=\"150\"/>"
   ]
  },
  {
   "cell_type": "markdown",
   "id": "64d232e3",
   "metadata": {},
   "source": [
    "### `+` element operator\n",
    "The `+` operator adds elements to an array to another array."
   ]
  },
  {
   "cell_type": "code",
   "execution_count": 61,
   "id": "933ac6c0",
   "metadata": {
    "collapsed": true
   },
   "outputs": [
    {
     "name": "stdout",
     "output_type": "stream",
     "text": [
      "[one, two, three, four]\r\n",
      "[one, two, three, four, five]\r\n"
     ]
    }
   ],
   "source": [
    "val theArray = arrayOf(\"one\", \"two\", \"three\")\n",
    "val result_add_element = theArray + \"four\"\n",
    "println(result_add_element.contentToString())\n",
    "val result_add_array = theArray + arrayOf(\"four\", \"five\")\n",
    "println(result_add_array.contentToString())"
   ]
  },
  {
   "cell_type": "markdown",
   "id": "6e9272de",
   "metadata": {},
   "source": [
    "### `+` and `union` array operators\n",
    "The `+` and [`union`](../mathematical-basics/arrays/arrays.ipynb#array-Union) operators add two or more arrays into a single array. "
   ]
  },
  {
   "cell_type": "code",
   "execution_count": 4,
   "id": "5c1168e3",
   "metadata": {
    "collapsed": true
   },
   "outputs": [
    {
     "name": "stdout",
     "output_type": "stream",
     "text": [
      "[one, two, three, two, three, four, five]\r\n",
      "[one, two, three, four, five]\r\n"
     ]
    }
   ],
   "source": [
    "val firstArray = arrayOf(\"one\", \"two\", \"three\")\n",
    "val secondArray = arrayOf(\"two\", \"three\", \"four\", \"five\")\n",
    "val resultArray = firstArray + secondArray\n",
    "println(resultArray.contentToString())"
   ]
  },
  {
   "cell_type": "markdown",
   "id": "8cd80dbc",
   "metadata": {},
   "source": [
    "### `take` function\n",
    "The `take` function returns a list with the specified number of elements removed from the front of the array."
   ]
  },
  {
   "cell_type": "code",
   "execution_count": 63,
   "id": "19e50b94",
   "metadata": {
    "collapsed": true
   },
   "outputs": [
    {
     "name": "stdout",
     "output_type": "stream",
     "text": [
      "[one, two]\r\n"
     ]
    }
   ],
   "source": [
    "val theArray = arrayOf(\"one\", \"two\", \"three\")\n",
    "val resultList = theArray.take(2)\n",
    "println(resultList)"
   ]
  },
  {
   "cell_type": "markdown",
   "id": "4d7eee59",
   "metadata": {},
   "source": [
    "### `takeLast` function\n",
    "The `take` function returns a list with the specified number of elements removed from the end of the array."
   ]
  },
  {
   "cell_type": "code",
   "execution_count": 34,
   "id": "b447f080",
   "metadata": {
    "collapsed": true
   },
   "outputs": [
    {
     "name": "stdout",
     "output_type": "stream",
     "text": [
      "[two, three]\r\n"
     ]
    }
   ],
   "source": [
    "val theArray = arrayOf(\"one\", \"two\", \"three\")\n",
    "val resultList = theArray.takeLast(2)\n",
    "println(resultList)"
   ]
  },
  {
   "cell_type": "markdown",
   "id": "fd514151",
   "metadata": {},
   "source": [
    "## Accessing arrays\n",
    "These are functions to access portions of an array.\n",
    "The first element is at position 0 rather than 1."
   ]
  },
  {
   "cell_type": "markdown",
   "id": "7f44c9e4",
   "metadata": {},
   "source": [
    "### Accessing arrays by position\n",
    "Arrays can be accessed by an index.\n",
    "Elements of arrays can be accessed by position using square brackets `[` and `]`."
   ]
  },
  {
   "cell_type": "code",
   "execution_count": 41,
   "id": "befc063f",
   "metadata": {
    "collapsed": true
   },
   "outputs": [
    {
     "name": "stdout",
     "output_type": "stream",
     "text": [
      "one\r\n",
      "five\r\n"
     ]
    }
   ],
   "source": [
    "val theArray = arrayOf(\"one\", \"two\", \"three\", \"four\")\n",
    "println(theArray[0])\n",
    "println(theArray[3])"
   ]
  },
  {
   "cell_type": "markdown",
   "id": "1d792d73",
   "metadata": {},
   "source": [
    "### `distinct` function\n",
    "The `distinct` function returns the a list from an array with duplicates removed."
   ]
  },
  {
   "cell_type": "code",
   "execution_count": 64,
   "id": "1107051a",
   "metadata": {},
   "outputs": [
    {
     "name": "stdout",
     "output_type": "stream",
     "text": [
      "[one, two, four, five]\r\n"
     ]
    }
   ],
   "source": [
    "val theArray = arrayOf(\"one\", \"two\", \"four\", \"five\", \"two\", \"four\")\n",
    "println(theArray.distinct())"
   ]
  },
  {
   "cell_type": "markdown",
   "id": "976149a9",
   "metadata": {},
   "source": [
    "### `first` function\n",
    "The `first` function returns the first element of an array."
   ]
  },
  {
   "cell_type": "code",
   "execution_count": 36,
   "id": "2bbe6c20",
   "metadata": {
    "collapsed": true
   },
   "outputs": [
    {
     "name": "stdout",
     "output_type": "stream",
     "text": [
      "one\r\n"
     ]
    }
   ],
   "source": [
    "val theArray = arrayOf(\"one\", \"two\", \"three\", \"four\")\n",
    "println(theArray.first())"
   ]
  },
  {
   "cell_type": "markdown",
   "id": "5d5cf84f",
   "metadata": {},
   "source": [
    "### `get` function\n",
    "The `get` function returns the element at the given index."
   ]
  },
  {
   "cell_type": "code",
   "execution_count": 6,
   "id": "9ed2c3ce",
   "metadata": {
    "collapsed": true
   },
   "outputs": [
    {
     "name": "stdout",
     "output_type": "stream",
     "text": [
      "one\r\n",
      "three\r\n"
     ]
    }
   ],
   "source": [
    "val theArray = arrayOf(\"one\", \"two\", \"three\", \"four\")\n",
    "println(theArray.get(0))\n",
    "println(theArray.get(2))"
   ]
  },
  {
   "cell_type": "markdown",
   "id": "266b9191",
   "metadata": {},
   "source": [
    "### `last` function\n",
    "The `last` function returns the last element of an array."
   ]
  },
  {
   "cell_type": "code",
   "execution_count": 7,
   "id": "223991e6",
   "metadata": {
    "collapsed": true
   },
   "outputs": [
    {
     "name": "stdout",
     "output_type": "stream",
     "text": [
      "four\r\n"
     ]
    }
   ],
   "source": [
    "val theArray = arrayOf(\"one\", \"two\", \"three\", \"four\")\n",
    "println(theArray.last())"
   ]
  },
  {
   "cell_type": "markdown",
   "id": "e6e56ef9",
   "metadata": {},
   "source": [
    "### Other array accessing functions"
   ]
  },
  {
   "cell_type": "markdown",
   "id": "e8d48a89",
   "metadata": {},
   "source": [
    "### `indexOf` function\n",
    "The `indexOf` function returns the index of the first occurrence of a given element in the array, or -1 if the specified element is missing."
   ]
  },
  {
   "cell_type": "code",
   "execution_count": 38,
   "id": "ac380d7c",
   "metadata": {
    "collapsed": true
   },
   "outputs": [
    {
     "name": "stdout",
     "output_type": "stream",
     "text": [
      "3\r\n",
      "-1\r\n"
     ]
    }
   ],
   "source": [
    "val theArray = arrayOf(\"one\", \"two\", \"three\", \"four\")\n",
    "println(theArray.indexOf(\"four\"))\n",
    "println(theArray.indexOf(\"six\"))"
   ]
  },
  {
   "cell_type": "markdown",
   "id": "85f79467",
   "metadata": {},
   "source": [
    "### `lastIndexOf` function\n",
    "The `lastIndexOf` function returns the index of the last occurrence of a given element in the array, or -1 if the specified element is missing."
   ]
  },
  {
   "cell_type": "code",
   "execution_count": 39,
   "id": "5a2221a0",
   "metadata": {
    "collapsed": true
   },
   "outputs": [
    {
     "name": "stdout",
     "output_type": "stream",
     "text": [
      "4\r\n"
     ]
    }
   ],
   "source": [
    "val theArray = arrayOf(\"one\", \"two\", \"four\", \"five\", \"two\", \"six\")\n",
    "println(theArray.lastIndexOf(\"two\"))"
   ]
  },
  {
   "cell_type": "markdown",
   "id": "94ba98f0",
   "metadata": {},
   "source": [
    "### `size` property\n",
    "The `size` property gives the total number of elements in an array."
   ]
  },
  {
   "cell_type": "code",
   "execution_count": 7,
   "id": "59962877",
   "metadata": {
    "collapsed": true
   },
   "outputs": [
    {
     "name": "stdout",
     "output_type": "stream",
     "text": [
      "Size of the Array 5\r\n"
     ]
    }
   ],
   "source": [
    "val theArray = arrayOf(\"one\", \"two\", \"three\", \"four\")\n",
    "println(\"Size of the Array \" + theArray.size)"
   ]
  },
  {
   "cell_type": "markdown",
   "id": "0403900a",
   "metadata": {},
   "source": [
    "### Updating arrays\n",
    "Elements of arrays can be replaced by position using square brackets `[` and `]`."
   ]
  },
  {
   "cell_type": "code",
   "execution_count": 42,
   "id": "35f35f04",
   "metadata": {
    "collapsed": true
   },
   "outputs": [
    {
     "name": "stdout",
     "output_type": "stream",
     "text": [
      "[one, two, six]\r\n"
     ]
    }
   ],
   "source": [
    "val numbers = arrayOf(\"one\", \"five\", \"three\")\n",
    "numbers[1] =  \"two\"\n",
    "numbers.set(2,\"six\")\n",
    "println(numbers.contentToString())"
   ]
  },
  {
   "cell_type": "markdown",
   "id": "678d6e5d",
   "metadata": {},
   "source": [
    "Elements can be added to the end of an array with the `+=` operator.\n",
    "Note that this actually creates a copy of the array because arrays cannot be extended."
   ]
  },
  {
   "cell_type": "code",
   "execution_count": 48,
   "id": "61b63bab",
   "metadata": {
    "collapsed": true
   },
   "outputs": [
    {
     "name": "stdout",
     "output_type": "stream",
     "text": [
      "[one, five, three]\r\n",
      "[one, five, three, two]\r\n"
     ]
    }
   ],
   "source": [
    "var numbers = arrayOf(\"one\", \"five\", \"three\")\n",
    "val saveNumbers = numbers\n",
    "numbers +=  \"two\"\n",
    "println(saveNumbers.contentToString())\n",
    "println(numbers.contentToString())"
   ]
  },
  {
   "cell_type": "markdown",
   "id": "e5a8561a",
   "metadata": {},
   "source": [
    "### Arrays and variables"
   ]
  },
  {
   "cell_type": "markdown",
   "id": "1f23de2e",
   "metadata": {},
   "source": [
    "Arrays are stored as *pointers* in variables.\n",
    "This is the result of\n",
    "\n",
    "`var theFirstArray = arrayOf(5, 9, 1)`\n",
    "<img src=\"lists-list2.jpg\" width=\"500\" height=\"250\"/>\n",
    "\n",
    "This is the result when that array is assigned to another variable.\n",
    "\n",
    "`val theSecondArray = theFirstArray`\n",
    "<img src=\"lists-list3.jpg\" width=\"500\" height=\"250\"/>\n",
    "\n",
    "This is the result after the second element in the first array is updated to a new value.\n",
    "Both arrays are updated.\n",
    "\n",
    "`theFirstArray `\n",
    "<img src=\"lists-list3.jpg\" width=\"500\" height=\"250\"/>"
   ]
  },
  {
   "cell_type": "markdown",
   "id": "1299fb94",
   "metadata": {},
   "source": [
    "### `drop` array function\n",
    "The `drop` function returns a list with the specified number of elements removed from the beginning of an array"
   ]
  },
  {
   "cell_type": "code",
   "execution_count": 58,
   "id": "f00497b6",
   "metadata": {
    "collapsed": true
   },
   "outputs": [
    {
     "name": "stdout",
     "output_type": "stream",
     "text": [
      "[four, five]\r\n"
     ]
    }
   ],
   "source": [
    "val theArray = arrayOf(\"one\", \"two\", \"three\", \"four\", \"five\")\n",
    "val resultList = theArray.drop(3)\n",
    "println(resultList)"
   ]
  },
  {
   "cell_type": "markdown",
   "id": "5463088e",
   "metadata": {},
   "source": [
    "### `dropLast` array function\n",
    "The `drop` function returns a list with the specified number of elements removed from the end of an array"
   ]
  },
  {
   "cell_type": "code",
   "execution_count": 59,
   "id": "18f84a7e",
   "metadata": {
    "collapsed": true
   },
   "outputs": [
    {
     "name": "stdout",
     "output_type": "stream",
     "text": [
      "[one, two]\r\n"
     ]
    }
   ],
   "source": [
    "val theArray = arrayOf(\"one\", \"two\", \"three\", \"four\", \"five\")\n",
    "val resultList = theArray.dropLast(3)\n",
    "println(resultList)"
   ]
  },
  {
   "cell_type": "markdown",
   "id": "d4fcf46a",
   "metadata": {},
   "source": [
    "### `fill` array function\n",
    "The `fill` function replaces the elements of an array with a given value. "
   ]
  },
  {
   "cell_type": "code",
   "execution_count": 54,
   "id": "9244ad45",
   "metadata": {
    "collapsed": true
   },
   "outputs": [
    {
     "name": "stdout",
     "output_type": "stream",
     "text": [
      "[3, 3, 3, 3]\r\n"
     ]
    }
   ],
   "source": [
    "val numbers = arrayOf(1, 2, 3, 4)\n",
    "numbers.fill(3)\n",
    "println(numbers.contentToString())"
   ]
  },
  {
   "cell_type": "markdown",
   "id": "4b8b76e5",
   "metadata": {},
   "source": [
    "### `reverse` array function\n",
    "The `reverse` function reverse all elements of an array."
   ]
  },
  {
   "cell_type": "code",
   "execution_count": 27,
   "id": "2faa0a9e",
   "metadata": {
    "collapsed": true
   },
   "outputs": [
    {
     "name": "stdout",
     "output_type": "stream",
     "text": [
      "[five, four, three, two, one]\r\n"
     ]
    }
   ],
   "source": [
    "val theArray = arrayOf(\"one\", \"two\", \"three\", \"four\", \"five\")\n",
    "theArray.reverse()\n",
    "println(theArray.contentToString())"
   ]
  },
  {
   "cell_type": "markdown",
   "id": "219734fb",
   "metadata": {},
   "source": [
    "### `shuffle` array function\n",
    "The `shuffle` function reorders all elements of an array randomly."
   ]
  },
  {
   "cell_type": "code",
   "execution_count": 26,
   "id": "368abd62",
   "metadata": {
    "collapsed": true
   },
   "outputs": [
    {
     "name": "stdout",
     "output_type": "stream",
     "text": [
      "[two, three, five, one, four]\r\n"
     ]
    }
   ],
   "source": [
    "val theArray = arrayOf(\"one\", \"two\", \"three\", \"four\", \"five\")\n",
    "theArray.shuffle()\n",
    "println(theArray.contentToString())"
   ]
  },
  {
   "cell_type": "markdown",
   "id": "b7262714",
   "metadata": {},
   "source": [
    "### `sort` array function\n",
    "The `sort` function reorders all elements of a  array. \n",
    "They are sorted ascending by default.\n",
    "All elements have to be of the same type."
   ]
  },
  {
   "cell_type": "code",
   "execution_count": 25,
   "id": "de959e95",
   "metadata": {
    "collapsed": true
   },
   "outputs": [
    {
     "name": "stdout",
     "output_type": "stream",
     "text": [
      "[1, 2, 3, 4, 5]\r\n"
     ]
    }
   ],
   "source": [
    "val theArray = arrayOf(5, 3, 1, 4, 2)\n",
    "theArray.sort()\n",
    "println(theArray.contentToString())"
   ]
  },
  {
   "cell_type": "markdown",
   "id": "f80bfec4",
   "metadata": {},
   "source": [
    "The sorting is appropriate to the element type.\n",
    "String elements are sorted in alphabetical order."
   ]
  },
  {
   "cell_type": "code",
   "execution_count": 24,
   "id": "2451cc24",
   "metadata": {
    "collapsed": true
   },
   "outputs": [
    {
     "name": "stdout",
     "output_type": "stream",
     "text": [
      "[five, four, one, three, two]\r\n"
     ]
    }
   ],
   "source": [
    "val theArray = arrayOf(\"five\", \"three\", \"one\", \"four\", \"two\")\n",
    "theArray.sort()\n",
    "println(theArray.contentToString())"
   ]
  },
  {
   "cell_type": "markdown",
   "id": "021d7837",
   "metadata": {},
   "source": [
    "### `sortDescending` array function\n",
    "The `sortDescending` function reorders all elements of an array in reverse order. \n",
    "All elements have to be of the same type."
   ]
  },
  {
   "cell_type": "code",
   "execution_count": 23,
   "id": "4c646fbb",
   "metadata": {
    "collapsed": true
   },
   "outputs": [
    {
     "name": "stdout",
     "output_type": "stream",
     "text": [
      "[5, 4, 3, 2, 1]\r\n"
     ]
    }
   ],
   "source": [
    "val theArray = arrayOf(5, 3, 1, 4, 2)\n",
    "theArray.sortDescending()\n",
    "println(theArray.contentToString())"
   ]
  },
  {
   "cell_type": "markdown",
   "id": "29ce5c56",
   "metadata": {},
   "source": [
    "## Array tests"
   ]
  },
  {
   "cell_type": "markdown",
   "id": "f6668258",
   "metadata": {},
   "source": [
    "### `in` operator\n",
    "The `in` operator can be used to check the existence of an element in an array."
   ]
  },
  {
   "cell_type": "code",
   "execution_count": 21,
   "id": "3173c065",
   "metadata": {
    "collapsed": true
   },
   "outputs": [
    {
     "name": "stdout",
     "output_type": "stream",
     "text": [
      "true\r\n"
     ]
    }
   ],
   "source": [
    "val theArray = arrayOf(\"one\", \"two\", \"three\", \"four\")\n",
    "if(\"two\" in theArray)\n",
    "      println(true)\n",
    "else\n",
    "      println(false)"
   ]
  },
  {
   "cell_type": "markdown",
   "id": "abccd67f",
   "metadata": {},
   "source": [
    "<!--\n",
    "https://www.baeldung.com/kotlin/compare-arrays\n",
    "-->\n",
    "<a id=\"equals-operator\"></a>\n",
    "### `==` operator\n",
    "The `==` operator will test whether two arrays are exactly the same, that\n",
    "- they are the same size\n",
    "- they have exactly the same elements\n",
    "- they are in the same order"
   ]
  },
  {
   "cell_type": "code",
   "execution_count": 20,
   "id": "d9735bca",
   "metadata": {
    "collapsed": true
   },
   "outputs": [
    {
     "name": "stdout",
     "output_type": "stream",
     "text": [
      "false"
     ]
    }
   ],
   "source": [
    "val firstArray = arrayOf(\"one\", \"two\", \"three\", \"four\", \"five\")\n",
    "val secondArray = arrayOf(\"one\", \"two\", \"three\", \"four\", \"five\")\n",
    "print(firstArray == secondArray)"
   ]
  },
  {
   "cell_type": "markdown",
   "id": "315a1258",
   "metadata": {},
   "source": [
    "### `contains` function\n",
    "The `contains` function can also be used to check the existence of an element in an array."
   ]
  },
  {
   "cell_type": "code",
   "execution_count": 19,
   "id": "5b55fc9e",
   "metadata": {
    "collapsed": true
   },
   "outputs": [
    {
     "name": "stdout",
     "output_type": "stream",
     "text": [
      "true\r\n"
     ]
    }
   ],
   "source": [
    "val theArray = arrayOf(\"one\", \"two\", \"three\", \"four\")\n",
    "if(theArray.contains(\"two\"))\n",
    "      println(true)\n",
    "else\n",
    "      println(false)"
   ]
  },
  {
   "cell_type": "markdown",
   "id": "361fcdce",
   "metadata": {},
   "source": [
    "## Looping through arrays"
   ]
  },
  {
   "cell_type": "markdown",
   "id": "6e9069d5",
   "metadata": {},
   "source": [
    "### `for` loop\n",
    "The `for` loop can perform an action on each element of an array.\n",
    "This loop uses the `in` operator to select each element of the array.\n",
    "Elements have no order in an array so there is no assurance of the order the elements will be processed."
   ]
  },
  {
   "cell_type": "code",
   "execution_count": 17,
   "id": "50a8e5a3",
   "metadata": {
    "collapsed": true
   },
   "outputs": [
    {
     "name": "stdout",
     "output_type": "stream",
     "text": [
      "one\r\n",
      "two\r\n",
      "three\r\n",
      "four\r\n"
     ]
    }
   ],
   "source": [
    "val theArray = arrayOf(\"one\", \"two\", \"three\", \"four\")\n",
    "for (elem in theArray)\n",
    "      println(elem)"
   ]
  },
  {
   "cell_type": "markdown",
   "id": "330ce945",
   "metadata": {},
   "source": [
    "### `forEach` loop\n",
    "The `foreach` loop is a variation of the `for` loop to perform an action on each element of an array.\n",
    "This loop uses the `it` operator to access the element currently selected in the loop."
   ]
  },
  {
   "cell_type": "code",
   "execution_count": 16,
   "id": "2b49cb75",
   "metadata": {
    "collapsed": true
   },
   "outputs": [
    {
     "name": "stdout",
     "output_type": "stream",
     "text": [
      "one\r\n",
      "two\r\n",
      "three\r\n",
      "four\r\n"
     ]
    }
   ],
   "source": [
    "val theArray = arrayOf(\"one\", \"two\", \"three\", \"four\")\n",
    "theArray.forEach { println(it) }"
   ]
  },
  {
   "cell_type": "markdown",
   "id": "60c00eb6",
   "metadata": {},
   "source": [
    "## Other array functions"
   ]
  },
  {
   "cell_type": "markdown",
   "id": "3b950996",
   "metadata": {},
   "source": [
    "### `max` function\n",
    "The `max` function returns the largest value in a numerical array."
   ]
  },
  {
   "cell_type": "code",
   "execution_count": 12,
   "id": "046f568f",
   "metadata": {
    "collapsed": true
   },
   "outputs": [
    {
     "name": "stdout",
     "output_type": "stream",
     "text": [
      "4\r\n"
     ]
    }
   ],
   "source": [
    "val theArray = arrayOf(1, 2, 3, 4)\n",
    "println(theArray.max())"
   ]
  },
  {
   "cell_type": "markdown",
   "id": "a256ff56",
   "metadata": {},
   "source": [
    "### `min` function\n",
    "The `min` function returns the smallest value in a numerical array."
   ]
  },
  {
   "cell_type": "code",
   "execution_count": 19,
   "id": "b6a59713",
   "metadata": {
    "collapsed": true
   },
   "outputs": [
    {
     "name": "stdout",
     "output_type": "stream",
     "text": [
      "4\r\n"
     ]
    }
   ],
   "source": [
    "val theArray = arrayOf(1, 2, 3, 4)\n",
    "println(theArray.max())"
   ]
  },
  {
   "cell_type": "markdown",
   "id": "9850b9d3",
   "metadata": {},
   "source": [
    "### `random` function\n",
    "The `random` function returns a random element from an array."
   ]
  },
  {
   "cell_type": "code",
   "execution_count": 13,
   "id": "4223797b",
   "metadata": {
    "collapsed": true
   },
   "outputs": [
    {
     "name": "stdout",
     "output_type": "stream",
     "text": [
      "four\r\n"
     ]
    }
   ],
   "source": [
    "val theArray = arrayOf(\"one\", \"two\", \"three\", \"four\")\n",
    "println(theArray.random())"
   ]
  },
  {
   "cell_type": "markdown",
   "id": "b18208ed",
   "metadata": {},
   "source": [
    "### `sum` function\n",
    "The `sum` function returns the sum of all values in a numerical array."
   ]
  },
  {
   "cell_type": "code",
   "execution_count": 60,
   "id": "826c7227",
   "metadata": {
    "collapsed": true
   },
   "outputs": [
    {
     "name": "stdout",
     "output_type": "stream",
     "text": [
      "10\r\n"
     ]
    }
   ],
   "source": [
    "val theArray = arrayOf(1, 2, 3, 4)\n",
    "println(theArray.sum())"
   ]
  },
  {
   "cell_type": "markdown",
   "id": "1ed8c48e",
   "metadata": {},
   "source": [
    "### `contentToString` function\n",
    "The `contentToString` function converts to an array to a readable form."
   ]
  },
  {
   "cell_type": "code",
   "execution_count": 5,
   "id": "0c41591a",
   "metadata": {
    "collapsed": true
   },
   "outputs": [
    {
     "name": "stdout",
     "output_type": "stream",
     "text": [
      "[one, two, three, four]\r\n"
     ]
    }
   ],
   "source": [
    "val theArray = arrayOf(\"one\", \"two\", \"three\", \"four\")\n",
    "println(theArray.contentToString())"
   ]
  },
  {
   "cell_type": "markdown",
   "id": "91e5cc0c",
   "metadata": {},
   "source": [
    "## Arrays from strings: `split` function\n",
    "Arrays can be created from strings with the `split` function.\n",
    "The arguments are the separators between substrings used to build the array."
   ]
  },
  {
   "cell_type": "code",
   "execution_count": 14,
   "id": "d5e3f6f7",
   "metadata": {
    "collapsed": true
   },
   "outputs": [
    {
     "name": "stdout",
     "output_type": "stream",
     "text": [
      "[a, b, c]\r\n",
      "[directory, file, ext]\r\n",
      "[the r, n in sp, n r, ns m, nly in the pl, n]\r\n"
     ]
    }
   ],
   "source": [
    "println(\"a,b,c\".split(\",\"))\n",
    "println(\"directory/file.ext\".split(\"/\", \".\"))\n",
    "println(\"the rain in spain rains mainly in the plain\".split(\"ai\"))"
   ]
  },
  {
   "cell_type": "markdown",
   "id": "e0d77201",
   "metadata": {},
   "source": [
    "## Arrays to strings: `joinToString` function\n",
    "Strings can be created from arrays using the `joinToString` function.\n",
    "that joins the array items separated by a particular string.\n",
    "Arguments are:\n",
    "- the separators to use between array items, defaulted to \", \"\n",
    "- a prefix for the string, defaulted to empty\n",
    "- a suffix (`postfix`) for the string, defaulted to empy\n",
    "\n",
    "This is how `joinToString` is declared.\n",
    "```\n",
    "fun String.joinToString(\n",
    "    separator = \", \",\n",
    "    prefix = \"\",\n",
    "    postfix = \"\"): String\n",
    "```\n",
    "\n",
    "These are examples of using `joinToString`.\n",
    "The first set uses the arguments in order.\n",
    "The last uses keywork arguments to specify the `postfix` but default the `separator` and `prefix` arguments."
   ]
  },
  {
   "cell_type": "code",
   "execution_count": 15,
   "id": "52aa55bf",
   "metadata": {
    "collapsed": true
   },
   "outputs": [
    {
     "name": "stdout",
     "output_type": "stream",
     "text": [
      "[one; two; three]\n",
      "numbers: one - two - three\n",
      "one < two < three\n",
      "one, two, three\n",
      "one, two, three are numbers\n"
     ]
    }
   ],
   "source": [
    "val theArray = arrayOf(\"one\", \"two\", \"three\")\n",
    "println(theArray.joinToString(\"; \", \"[\", \"]\"))\n",
    "println(theArray.joinToString(\" - \", \"numbers: \"))\n",
    "println(theArray.joinToString(\" < \"))\n",
    "println(theArray.joinToString())\n",
    "println(theArray.joinToString(postfix = \" are numbers\"))"
   ]
  }
 ],
 "metadata": {
  "kernelspec": {
   "display_name": "Kotlin",
   "language": "kotlin",
   "name": "kotlin"
  },
  "language_info": {
   "codemirror_mode": "text/x-kotlin",
   "file_extension": ".kt",
   "mimetype": "text/x-kotlin",
   "name": "kotlin",
   "nbconvert_exporter": "",
   "pygments_lexer": "kotlin",
   "version": "1.8.20"
  }
 },
 "nbformat": 4,
 "nbformat_minor": 5
}
