{
 "cells": [
  {
   "cell_type": "markdown",
   "id": "d23ad8bb-2661-45c8-b787-4ca69b89d60c",
   "metadata": {},
   "source": [
    "<!--\n",
    "https://kotlinlang.org/docs/functions.html\n",
    "-->\n",
    "## Functions\n",
    "*Functions* are a sequence of instructions that perform a task. \n",
    "Functions can provide these benefits.\n",
    "- Reduce the amount of duplicate program code\n",
    "- Break a program into more modular and reusable pieces\n",
    "- Make the program more readable and manageable "
   ]
  },
  {
   "cell_type": "markdown",
   "id": "d25713a0",
   "metadata": {},
   "source": [
    "<a id=\"expressions\"></a>\n",
    "## Expressions\n",
    "*Expressions* are combinations of values, variables and function calls.\n",
    "This is a definition of the rules for evaluating expressions.\n",
    "These rules also give the order of the steps to evaluate an expression.\n",
    "Expression are defined in terms of expression, or are defined *recursively*.\n",
    "Expressions are continually broken down until they are [literals](../variables/variables.ipynb),\n",
    "[variables](../variables/variables.ipynb), or \n",
    "[function calls](#function-return-values) that return values.\n",
    "\n",
    "rule|no\n",
    ":-|:-\n",
    "expression = [literal](../variables/variables.ipynb#variable-types)|1\n",
    "expression = [variable](../variables/variables.ipynb)|2\n",
    "expression = [function call](#function-return-values)|3\n",
    "expression = `(`expression`)`|4\n",
    "expression = expression *operator* expression|5\n",
    "\n",
    "Operators follow operator rules.\n",
    "\n",
    "name|rule|no|example\n",
    ":-|:-|:-|:-\n",
    "*precedence*|`(`, `)` precedes `*`, `/`, `%` precedes `+`, `-`|6| `x - 2 * y = x - (2 * y)`\n",
    "*associativity*|operators of equal precedence are left-associative|7|`x + y - z = (x + y) - z`\n",
    "\n",
    "This is an example of evaluating, or *parsing*, an expression according to these rules.\n",
    "\n",
    "expression = `2 * x - 3`\n",
    "\n",
    "expression|rule|description\n",
    ":-|:-|:-\n",
    "expression = `(2 * x) - 3`|6|precedence\n",
    "expression = `(`expression`* x) - `expression|1|literal\n",
    "expression = `(`expression`*`variable`) - `expression|2|variable\n",
    "expression = `(`expression`) - `expression|5|operator\n",
    "expression = expression` - `expression|4|parentheses\n",
    "expression = expression|5|operator\n"
   ]
  },
  {
   "cell_type": "markdown",
   "id": "cd11f222",
   "metadata": {},
   "source": [
    "<a id=\"statements\"></a>\n",
    "## Statements\n",
    "*Statements* are instructions to perform some some action.\n",
    "*Programs* are a series of statements that are performed until all are completed. \n",
    "These are examples of statements.\n",
    "Type|Examples\n",
    ":-|:-\n",
    "[Variable Assignments](../variables/variables.ipynb)|`x = 1`\n",
    "[Control instructions](../logic-and-control/logic-and-control.ipynb)|`if`, `when`, `while`, `for`\n",
    "[Function calls](#function-return-values)|`println(\"hello\")`\n",
    "[Expressions](#expressions)|`max(x, 3) * 2.0 + 0.5`\n",
    "[Blocks](#blocks)|`{` *statements* `}`\n",
    "\n",
    "Expressions used as statements typically occur at the end of functions that return values, \n",
    "which sometimes is a shortcut to using `return` statements."
   ]
  },
  {
   "cell_type": "markdown",
   "id": "74f371a9",
   "metadata": {},
   "source": [
    "<a id=\"blocks\"></a>\n",
    "## Blocks\n",
    "*Blocks* are a list of statements to perform as a group. \n",
    "Typically blocks are used to perform a set of instructions under control of some logic as in an `if` or `while`, or as the body of some function.\n",
    "Blocks also limit the [scope](../variables/variables.ipynb#variable-scope) of some variables.\n",
    "Blocks are also used to define the bodies of data constructs such as [interfaces](../data/data.ipynb#interfaces) and [classes](../data/data.ipynb#classes)."
   ]
  },
  {
   "cell_type": "markdown",
   "id": "26ab53c3",
   "metadata": {},
   "source": [
    "## Functions with no parameters\n",
    "Functions with no parameters run one or more statements. \n",
    "When a group of instructions need to be used many times in programs, functions reduce redundancy. \n",
    "Here is an example of a series of statements to run."
   ]
  },
  {
   "cell_type": "code",
   "execution_count": null,
   "id": "2e13a8bf",
   "metadata": {},
   "outputs": [],
   "source": [
    "println(\"If you're happy and you know it clap your hands.\")\n",
    "println(\"If you're happy and you know it clap your hands.\")\n",
    "println(\"If you're happy and you know it, and you really want to show it,\")\n",
    "println(\"If you're happy and you know it clap your hands.\")"
   ]
  },
  {
   "cell_type": "markdown",
   "id": "1dff6e15",
   "metadata": {},
   "source": [
    "When statements are repetitive, they are more error prone when all statements have to change.\n",
    "A function can abstract the common statements and isolate them in one place. \n",
    "\n",
    "This definition of the function `fun happy()` condenses the `println()` statements. \n",
    "The statements of `happy()` are run when the *function call* `happy()` is made.\n",
    "This has not reduced the amount of program code, but it has made the code somewhat more readable and maintainable."
   ]
  },
  {
   "cell_type": "code",
   "execution_count": 3,
   "id": "949616b8",
   "metadata": {
    "collapsed": true
   },
   "outputs": [
    {
     "name": "stdout",
     "output_type": "stream",
     "text": [
      "If you're happy and you know it clap your hands.\n",
      "If you're happy and you know it clap your hands.\n",
      "If you're happy and you know it, and you really want to show it,\n",
      "If you're happy and you know it clap your hands.\n"
     ]
    }
   ],
   "source": [
    "fun happy() {\n",
    "  println(\"If you're happy and you know it clap your hands.\")  \n",
    "} \n",
    "happy()\n",
    "happy()\n",
    "println(\"If you're happy and you know it, and you really want to show it,\")\n",
    "happy()"
   ]
  },
  {
   "cell_type": "markdown",
   "id": "1d37c19e",
   "metadata": {},
   "source": [
    "## Functions with parameters\n",
    "\n",
    "In the code above, the messages repeat the phrase \"If you're happy and you know it\" with some varying suffix.\n",
    "The function could have a *parameter* that is the variable part of the message to centralize some of the work and make a more reusable function.\n",
    "\n",
    "Here is the definition of the function `happy` with a parameter `suffix` of type `String` that is printed as part of the message.\n",
    "The parameter introduces a variable `suffix` that is available in the scope of the block.\n",
    "The call to `happy` contains an *argument* that corresponds to the parameter `suffix`."
   ]
  },
  {
   "cell_type": "code",
   "execution_count": 6,
   "id": "1234db24",
   "metadata": {
    "collapsed": true
   },
   "outputs": [
    {
     "name": "stdout",
     "output_type": "stream",
     "text": [
      "If you're happy and you know it clap your hands.\n",
      "If you're happy and you know it clap your hands.\n",
      "If you're happy and you know it, and you really want to show it,\n",
      "If you're happy and you know it clap your hands.\n"
     ]
    }
   ],
   "source": [
    "fun happy(suffix : String) {\n",
    "  println(\"If you're happy and you know it$suffix\")   \n",
    "}\n",
    "happy(\" clap your hands.\")\n",
    "happy(\" clap your hands.\")\n",
    "happy(\", and you really want to show it,\")\n",
    "happy(\" clap your hands.\")"
   ]
  },
  {
   "cell_type": "markdown",
   "id": "66047b4b",
   "metadata": {},
   "source": [
    "This code has reintroduced redundancy and is not shorter than the version without parameters,\n",
    "but is more modular.\n",
    "We can introduce a second function to reduce some of the repetition."
   ]
  },
  {
   "cell_type": "code",
   "execution_count": null,
   "id": "50378cf3",
   "metadata": {},
   "outputs": [],
   "source": [
    "fun happy(suffix : String) {\n",
    "    println(\"If you're happy and you know it$suffix\")\n",
    "}\n",
    "fun clap() {\n",
    "  happy(\" clap your hands.\")  \n",
    "} \n",
    "clap()\n",
    "clap()\n",
    "happy(\", and you really want to show it,\")\n",
    "clap()"
   ]
  },
  {
   "cell_type": "markdown",
   "id": "e5b715e1",
   "metadata": {},
   "source": [
    "The new version is less redundant and somewhat more readable.\n",
    "We can shorten one-line functions slightly by using [*single expression*](single-expression-functions) functions, where the one line appears on the same line as the function declaration."
   ]
  },
  {
   "cell_type": "code",
   "execution_count": 2,
   "id": "31d7ecff",
   "metadata": {},
   "outputs": [
    {
     "name": "stdout",
     "output_type": "stream",
     "text": [
      "If you're happy and you know it clap your hands.\n",
      "If you're happy and you know it clap your hands.\n",
      "If you're happy and you know it, and you really want to show it,\n",
      "If you're happy and you know it clap your hands.\n"
     ]
    }
   ],
   "source": [
    "fun happy(suffix : String) = println(\"If you're happy and you know it$suffix\")\n",
    "fun clap() = happy(\" clap your hands.\")  \n",
    "clap()\n",
    "clap()\n",
    "happy(\", and you really want to show it,\")\n",
    "clap()"
   ]
  },
  {
   "cell_type": "markdown",
   "id": "e1d19c2b",
   "metadata": {},
   "source": [
    "We can shorten it further yet by using a [`for`](../logic-and-control/logic-and-control.ipynb#for-loop) loop."
   ]
  },
  {
   "cell_type": "code",
   "execution_count": 4,
   "id": "9e558b6c",
   "metadata": {},
   "outputs": [
    {
     "name": "stdout",
     "output_type": "stream",
     "text": [
      "If you're happy and you know it clap your hands.\n",
      "If you're happy and you know it clap your hands.\n",
      "If you're happy and you know it, and you really want to show it,\n",
      "If you're happy and you know it clap your hands.\n"
     ]
    }
   ],
   "source": [
    "fun happy(suffix : String) = println(\"If you're happy and you know it$suffix\")\n",
    "fun clap() = happy(\" clap your hands.\")  \n",
    "for (i in 1..2) clap()\n",
    "happy(\", and you really want to show it,\")\n",
    "clap()"
   ]
  },
  {
   "cell_type": "markdown",
   "id": "47c0d42a",
   "metadata": {},
   "source": [
    "<a id=\"function-return-values\"></a>\n",
    "## Functions that return a value\n",
    "Functions that return values are like [mathematical functions](../mathematical-basics/Functions.ipynb#multi-variate-functions) in that they can take a number of inputs and return a single value. They can be used in expressions by declaring the function with a type and returning an expression.\n",
    "This is an example of an expression that returns the square of its argument.\n",
    "Declaring the function with `: Int` indicates that the function will return an `Int` value. "
   ]
  },
  {
   "cell_type": "code",
   "execution_count": 12,
   "id": "25ab114a",
   "metadata": {
    "collapsed": true
   },
   "outputs": [
    {
     "name": "stdout",
     "output_type": "stream",
     "text": [
      "the square of 2 is 4\r\n"
     ]
    }
   ],
   "source": [
    "fun square(n : Int) : Int {\n",
    "    return n * n\n",
    "}\n",
    "println(\"the square of 2 is ${square(2)}\")"
   ]
  },
  {
   "cell_type": "markdown",
   "id": "a7ac9253",
   "metadata": {},
   "source": [
    "This function can be shortened by making it a *single expression* function inferring the function type and without the `return` statement."
   ]
  },
  {
   "cell_type": "code",
   "execution_count": 6,
   "id": "d68b450d",
   "metadata": {
    "collapsed": true
   },
   "outputs": [
    {
     "name": "stdout",
     "output_type": "stream",
     "text": [
      "the square of 2 is 4\r\n"
     ]
    }
   ],
   "source": [
    "fun square(n : Int) = n * n\n",
    "println(\"the square of 2 is ${square(2)}\")"
   ]
  },
  {
   "cell_type": "markdown",
   "id": "341c3a11",
   "metadata": {},
   "source": [
    "# Function components\n",
    "Generally, there are three parts to a function.\n",
    "\n",
    "- the function name\n",
    "- a parameter list\n",
    "- a function body\n",
    "\n",
    "These are *named functions*. They can be called from anywhere in a program because the name identifies them.\n",
    "These are distinct from [*lambdas*](#lambdas) and [*anonymous functions*](#anonymous-functions), which are functions without a name."
   ]
  },
  {
   "cell_type": "markdown",
   "id": "fb165f7a",
   "metadata": {},
   "source": [
    "## Function name\n",
    "Function names are treated the same as [variable names](../variables/variables.ipynb#variable-names).\n",
    "The valid characters are the same, and they must be unique within the same namespace with one exception.\n",
    "[*Function overloading*](#function-overloading) is the one case where two functions can be defined with the same name,\n",
    "but function parameters must be different."
   ]
  },
  {
   "cell_type": "markdown",
   "id": "dc59a9ea",
   "metadata": {},
   "source": [
    "## Parameter list\n",
    "The parameter list may be empty, as when a function is defined with `function()`.\n",
    "If parameters are specified, the function definition must have this format.\n",
    "\n",
    "`fun` *function*`(`*parameter* : *type*, *parameter* : *type*`)`\n",
    "\n",
    "Where\n",
    "- *function* is the function name\n",
    "- *parameter* is a variable available in the body of the function\n",
    "- *type* is any recognized data type\n",
    "\n",
    "The parameter list is the *signature* of the function."
   ]
  },
  {
   "cell_type": "code",
   "execution_count": 3,
   "id": "32cffd06",
   "metadata": {
    "collapsed": true
   },
   "outputs": [
    {
     "name": "stdout",
     "output_type": "stream",
     "text": [
      "good morning, students.\r\n"
     ]
    }
   ],
   "source": [
    "fun greet(greeting : String, name : String) = println(\"$greeting, $name.\")\n",
    "greet(\"good morning\", \"students\")"
   ]
  },
  {
   "cell_type": "markdown",
   "id": "914e2cc2",
   "metadata": {},
   "source": [
    "### Parameter defaults\n",
    "Parameters may be specified so that if a call is missing the corresponding argument, the parameter has a default value.\n",
    "\n",
    "`fun` *function*`(`*parameter* : *type*, *parameter* : *type* = *default-value*`)`"
   ]
  },
  {
   "cell_type": "code",
   "execution_count": 4,
   "id": "435b2859",
   "metadata": {
    "collapsed": true
   },
   "outputs": [
    {
     "name": "stdout",
     "output_type": "stream",
     "text": [
      "hello, students.\r\n"
     ]
    }
   ],
   "source": [
    "fun greet_defaults(greeting : String, name : String = \"students\") = println(\"$greeting, $name.\")\n",
    "greet_defaults(\"hello\")"
   ]
  },
  {
   "cell_type": "markdown",
   "id": "50381bb4",
   "metadata": {},
   "source": [
    "Multiple parameters can have default values.\n",
    "To call the function in the usual way, the defaulted parameters would have to be declared at the end of the list."
   ]
  },
  {
   "cell_type": "code",
   "execution_count": 7,
   "id": "27619007",
   "metadata": {
    "collapsed": true
   },
   "outputs": [
    {
     "name": "stdout",
     "output_type": "stream",
     "text": [
      "hello, students.\r\n",
      "good morning, students.\r\n",
      "good morning, everyone.\r\n"
     ]
    }
   ],
   "source": [
    "fun greet_multiple_defaults(greeting : String = \"hello\", name : String = \"students\") = println(\"$greeting, $name.\")\n",
    "greet_multiple_defaults()\n",
    "greet_multiple_defaults(\"good morning\")\n",
    "greet_multiple_defaults(\"good morning\", \"everyone\")"
   ]
  },
  {
   "cell_type": "markdown",
   "id": "6a3511fc",
   "metadata": {},
   "source": [
    "### Keyword arguments\n",
    "Function calls can explicitly state to which parameter an argument is associated.\n",
    "*Keyword arguments* can allow parameters to be referenced in any order,\n",
    "and can make clearer which parameter corresponds to an argument ."
   ]
  },
  {
   "cell_type": "code",
   "execution_count": 11,
   "id": "cb8e079d",
   "metadata": {
    "collapsed": true
   },
   "outputs": [
    {
     "name": "stdout",
     "output_type": "stream",
     "text": [
      "hello, students.\r\n",
      "hello, students.\r\n"
     ]
    }
   ],
   "source": [
    "fun greet_keywords(greeting : String, name : String ) = println(\"$greeting, $name.\")\n",
    "greet_keywords(greeting = \"hello\", name = \"students\")\n",
    "greet_keywords(name = \"students\", greeting = \"hello\")"
   ]
  },
  {
   "cell_type": "markdown",
   "id": "2928420d",
   "metadata": {},
   "source": [
    "Keyword arguments can be combined with default parameters. This allow specifying parameters without defaults after parameters with defaults.\n",
    "Note that the keyword argument is required in this case."
   ]
  },
  {
   "cell_type": "code",
   "execution_count": 13,
   "id": "0ffc1920",
   "metadata": {
    "collapsed": true
   },
   "outputs": [
    {
     "name": "stdout",
     "output_type": "stream",
     "text": [
      "hello, students.\r\n"
     ]
    }
   ],
   "source": [
    "fun greet_keywords_defaults(name : String = \"students\", greeting : String) = println(\"$greeting, $name.\")\n",
    "greet_keywords_defaults(greeting = \"hello\")"
   ]
  },
  {
   "cell_type": "markdown",
   "id": "4ad452ce",
   "metadata": {},
   "source": [
    "<a id=\"function-body\"></a>\n",
    "## Function body\n",
    "There two ways to define function bodies.\n",
    "- *blocks*, surrounded by curly braces\n",
    "- *single expression* functions"
   ]
  },
  {
   "cell_type": "markdown",
   "id": "d7d7fb15",
   "metadata": {},
   "source": [
    "### Block body functions\n",
    "Functions generally are written with a body that is a block.\n",
    "Functions that return values are required to include a `return` statement with the value."
   ]
  },
  {
   "cell_type": "code",
   "execution_count": 23,
   "id": "45f1e61a",
   "metadata": {
    "collapsed": true
   },
   "outputs": [
    {
     "name": "stdout",
     "output_type": "stream",
     "text": [
      "hello everyone.\r\n",
      "9"
     ]
    }
   ],
   "source": [
    "fun greet(name : String) {\n",
    "    println(\"hello $name.\")\n",
    "}\n",
    "fun square(x : Int) : Int {\n",
    "    return x * x\n",
    "}\n",
    "greet(\"everyone\")\n",
    "print(square(3))"
   ]
  },
  {
   "cell_type": "markdown",
   "id": "85394573",
   "metadata": {},
   "source": [
    "<a id=\"single-expression-functions\"></a>\n",
    "### Single expression functions\n",
    "For functions that consist of a single statement can be rewritten as *single expression* functions.\n",
    "For functions that return a value, the return type can typically be inferred and be omitted."
   ]
  },
  {
   "cell_type": "code",
   "execution_count": 24,
   "id": "451cdd3f",
   "metadata": {
    "collapsed": true
   },
   "outputs": [
    {
     "name": "stdout",
     "output_type": "stream",
     "text": [
      "hello everyone.\r\n",
      "9"
     ]
    }
   ],
   "source": [
    "fun greet(name : String) = println(\"hello $name.\")\n",
    "fun square(x : Int) = x * x\n",
    "greet(\"everyone\")\n",
    "print(square(3))"
   ]
  },
  {
   "cell_type": "markdown",
   "id": "7a8de102",
   "metadata": {},
   "source": [
    "<a id=\"function-overloading\"></a>\n",
    "## Function overloading\n",
    "Sometimes it is meaningful for two functions to have the same names, because they perform essentially the same function but only the parameters are different.\n",
    "Here is an example."
   ]
  },
  {
   "cell_type": "code",
   "execution_count": 20,
   "id": "4ee87bfb",
   "metadata": {},
   "outputs": [
    {
     "name": "stdout",
     "output_type": "stream",
     "text": [
      "5\r\n",
      "9\r\n"
     ]
    }
   ],
   "source": [
    "fun sum(x : Int, y : Int) = x + y\n",
    "fun sum(x : Int, y : Int, z : Int) = x + y + z\n",
    "println(sum(2, 3))\n",
    "println(sum(2, 3, 4))"
   ]
  },
  {
   "cell_type": "markdown",
   "id": "ee9336bd",
   "metadata": {},
   "source": [
    "## Keyword Arguments\n",
    "You can also send arguments using *key = value*.\n",
    "You can send arguments in any order that way."
   ]
  },
  {
   "cell_type": "code",
   "execution_count": 11,
   "id": "5a433341",
   "metadata": {
    "collapsed": true
   },
   "outputs": [
    {
     "name": "stdout",
     "output_type": "stream",
     "text": [
      "The last item is grape\n"
     ]
    }
   ],
   "source": [
    "def my_function(item1, item2, item3):\n",
    "  print(\"The last item is \" + item3)\n",
    "\n",
    "my_function(item1 = \"apple\", item2 = \"orange\", item3 = \"grape\")"
   ]
  },
  {
   "cell_type": "markdown",
   "id": "3edda996",
   "metadata": {},
   "source": [
    "## Default Parameter Values\n",
    "You can specify a default value for a parameter.\n",
    "Calling the function without an argument uses the default value."
   ]
  },
  {
   "cell_type": "code",
   "execution_count": 15,
   "id": "668f089f",
   "metadata": {
    "collapsed": true
   },
   "outputs": [
    {
     "name": "stdout",
     "output_type": "stream",
     "text": [
      "I am from Boston\n",
      "I am from Dallas\n",
      "I am from New York\n",
      "I am from Omaha\n"
     ]
    }
   ],
   "source": [
    "def my_function(city = \"New York\"):\n",
    "  print(\"I am from \" + city)\n",
    "\n",
    "my_function(\"Boston\")\n",
    "my_function(\"Dallas\")\n",
    "my_function()\n",
    "my_function(\"Omaha\")\n"
   ]
  },
  {
   "cell_type": "markdown",
   "id": "e2faa2da",
   "metadata": {},
   "source": [
    "## Passing a List as an Argument\n",
    "An argument can be any data type (string, number, list, dictionary, etc.)."
   ]
  },
  {
   "cell_type": "code",
   "execution_count": 16,
   "id": "0840a974",
   "metadata": {
    "collapsed": true
   },
   "outputs": [
    {
     "name": "stdout",
     "output_type": "stream",
     "text": [
      "red\n",
      "blue\n",
      "green\n"
     ]
    }
   ],
   "source": [
    "def print_list(L):\n",
    "  for x in L:\n",
    "    print(x)\n",
    "colors = [\"red\", \"blue\", \"green\"]\n",
    "print_list(colors)"
   ]
  },
  {
   "cell_type": "markdown",
   "id": "5ce3642c",
   "metadata": {},
   "source": [
    "## Libraries\n",
    "Functions organized around a common purpose are often accumulated in *libraries*.\n",
    "Kotlin supplies its own [standard library](https://kotlinlang.org/api/latest/jvm/stdlib/) that includes functions for math, data structures such as collections, input and output with the file system and databases, and others. \n",
    "Kotlin also is able to use libraries from the [Java language](https://docs.oracle.com/en/java/javase/21/docs/api/index.html).\n",
    "Third parties also supply libraries such as [Jetbrains](https://www.jetbrains.com), \n",
    "who provide the Kotlin interactive development environment (IDE) [Intellij IDEA](https://www.jetbrains.com/idea/)."
   ]
  }
 ],
 "metadata": {
  "kernelspec": {
   "display_name": "Kotlin",
   "language": "kotlin",
   "name": "kotlin"
  },
  "language_info": {
   "codemirror_mode": "text/x-kotlin",
   "file_extension": ".kt",
   "mimetype": "text/x-kotlin",
   "name": "kotlin",
   "nbconvert_exporter": "",
   "pygments_lexer": "kotlin",
   "version": "1.8.20"
  }
 },
 "nbformat": 4,
 "nbformat_minor": 5
}
