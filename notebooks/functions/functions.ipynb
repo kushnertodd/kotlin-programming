{
 "cells": [
  {
   "cell_type": "markdown",
   "id": "d23ad8bb-2661-45c8-b787-4ca69b89d60c",
   "metadata": {},
   "source": [
    "<!-- \n",
    "https://kotlinlang.org/docs/functions.html\n",
    "-->\n",
    "## Functions\n",
    "*Functions* are a sequence of instructions that perform a task. \n",
    "Functions can provide these benefits.\n",
    "- Reduce the amount of duplicate program code\n",
    "- Break a program into more modular and reusable pieces\n",
    "- Make the program more readable and manageable "
   ]
  },
  {
   "cell_type": "markdown",
   "id": "e328895b",
   "metadata": {},
   "source": [
    "## Function definition\n",
    "This is how functions are *defined*.\n",
    "Functions are defined using the `fun` keyword. \n",
    "\n",
    "`fun `*name`(`*parameters*`)`\n",
    "    *body*\n",
    "\n",
    "This is an example of how a function is called.\n",
    "\n",
    "*name`(`*arguments*`)`\n",
    "\n",
    "Each argument is paired with the corresponding parameter and the value can be used in the body.\n",
    "\n",
    "There are three parts to a function.\n",
    "\n",
    "- the function name\n",
    "- a parameter list\n",
    "- a function body\n",
    "\n",
    "These are *named functions*. They can be called from anywhere in a program using the function name.\n",
    "\n",
    "This is an example of a function."
   ]
  },
  {
   "cell_type": "code",
   "execution_count": 1,
   "id": "6638d189",
   "metadata": {
    "collapsed": true
   },
   "outputs": [
    {
     "name": "stdout",
     "output_type": "stream",
     "text": [
      "hello, world\r\n"
     ]
    }
   ],
   "source": [
    "fun hello() {\n",
    "    println(\"hello, world\")\n",
    "}\n",
    "hello()"
   ]
  },
  {
   "cell_type": "markdown",
   "id": "b9910057",
   "metadata": {},
   "source": [
    "## Function name\n",
    "Function names are treated the same as [variable names](../variables/variables.ipynb#variable-names).\n",
    "The valid characters are the same, and they must be unique with one exception.\n",
    "[*Function overloading*](#function-overloading) is the one case where two functions can be defined with the same name,\n",
    "but the function parameters must be different."
   ]
  },
  {
   "cell_type": "markdown",
   "id": "606e3477",
   "metadata": {},
   "source": [
    "## Parameters\n",
    "*Parameters* customize the behavior of the function.\n",
    "Parameters have this format.\n",
    "\n",
    "*parameter* : *type*\n",
    "\n",
    "Parameter *types* can be any [data type](../data/data-types.ipynb). \n",
    "The parameter list is the *signature* of the function.\n",
    "Parameters may be used anywhere in a function that variables may be used.\n",
    "\n",
    "When a function is called, parameters are substituted by *argument* values.\n",
    "This is an example of calling a function with arguments."
   ]
  },
  {
   "cell_type": "code",
   "execution_count": 2,
   "id": "35c3b265",
   "metadata": {
    "collapsed": true
   },
   "outputs": [
    {
     "name": "stdout",
     "output_type": "stream",
     "text": [
      "hello world\r\n"
     ]
    }
   ],
   "source": [
    "fun greet(name : String) {\n",
    "  println(\"hello \" + name)  \n",
    "} \n",
    "greet(\"world\")"
   ]
  },
  {
   "cell_type": "markdown",
   "id": "e69802bb",
   "metadata": {},
   "source": [
    "### Parameter defaults\n",
    "Parameters may be specified so that if a call is missing the corresponding argument, the parameter has a default value.\n",
    "\n",
    "*parameter* : *type* = *default*\n",
    "\n",
    "This is an example of calling a function with a parameter default."
   ]
  },
  {
   "cell_type": "code",
   "execution_count": 3,
   "id": "e6999273",
   "metadata": {
    "collapsed": true
   },
   "outputs": [
    {
     "name": "stdout",
     "output_type": "stream",
     "text": [
      "hello world\r\n"
     ]
    }
   ],
   "source": [
    "fun greet(name : String = \"world\") {\n",
    "  println(\"hello \" + name)  \n",
    "} \n",
    "greet()"
   ]
  },
  {
   "cell_type": "markdown",
   "id": "d9e05cb8",
   "metadata": {},
   "source": [
    "Multiple parameters can have default values.\n",
    "To call the function in the usual way, the defaulted parameters would have to be declared at the end of the list."
   ]
  },
  {
   "cell_type": "code",
   "execution_count": 8,
   "id": "16dfa3ff",
   "metadata": {
    "collapsed": true
   },
   "outputs": [
    {
     "name": "stdout",
     "output_type": "stream",
     "text": [
      "hello world\r\n",
      "greetings world\r\n"
     ]
    }
   ],
   "source": [
    "fun greet(greeting : String = \"hello\", name : String = \"world\") {\n",
    "    println(greeting + \" \" + name)\n",
    "}\n",
    "greet()\n",
    "greet(\"greetings\")"
   ]
  },
  {
   "cell_type": "markdown",
   "id": "9add354b",
   "metadata": {},
   "source": [
    "### Keyword arguments\n",
    "*Keyword arguments*  allow functions to  be called with parameters called out explicitly by name.\n",
    "These can be used in two situations.\n",
    "- Arguments can reference parameters in any order.\n",
    "- It can  make clearer to which parameter an argument corresponds."
   ]
  },
  {
   "cell_type": "code",
   "execution_count": 9,
   "id": "82d6fc9a",
   "metadata": {
    "collapsed": true
   },
   "outputs": [
    {
     "name": "stdout",
     "output_type": "stream",
     "text": [
      "greetings world\r\n"
     ]
    }
   ],
   "source": [
    "fun greet(greeting : String, name : String) {\n",
    "    println(greeting + \" \" + name)\n",
    "}\n",
    "greet(greeting = \"hello\", name = \"world\")\n",
    "greet(name = \"world\", greeting = \"hello\")"
   ]
  },
  {
   "cell_type": "markdown",
   "id": "580101ef",
   "metadata": {},
   "source": [
    "Keyword arguments can be combined with default parameters. This allows specifying arguments without regard to which parameters have defaults.\n",
    "This allows defaulting a parameter earlied in the parameter list."
   ]
  },
  {
   "cell_type": "code",
   "execution_count": 10,
   "id": "ef68ae82",
   "metadata": {
    "collapsed": true
   },
   "outputs": [
    {
     "name": "stdout",
     "output_type": "stream",
     "text": [
      "greetings world\r\n"
     ]
    }
   ],
   "source": [
    "fun greet(greeting : String = \"hello\", name : String = \"world\") {\n",
    "    println(greeting + \" \" + name)\n",
    "}\n",
    "greet(greeting = \"greetings\")"
   ]
  },
  {
   "cell_type": "markdown",
   "id": "4ad05327",
   "metadata": {},
   "source": [
    "<a id=\"function-body\"></a>\n",
    "## Function body\n",
    "There two types of function body.\n",
    "- *block body*\n",
    "- *single expression*"
   ]
  },
  {
   "cell_type": "markdown",
   "id": "0086c6b3",
   "metadata": {},
   "source": [
    "<a id=\"block-body\"></a>\n",
    "### Block body\n",
    "Functions defined with a *block body* have this format.\n",
    "\n",
    "`fun `*name`(`*parameters*`)`\n",
    "`{`\n",
    "    *statements*\n",
    "`}`\n",
    "\n",
    "This is an example of a function with a block body."
   ]
  },
  {
   "cell_type": "code",
   "execution_count": 1,
   "id": "9be54bfb",
   "metadata": {
    "collapsed": true
   },
   "outputs": [
    {
     "name": "stdout",
     "output_type": "stream",
     "text": [
      "hello, world\r\n"
     ]
    }
   ],
   "source": [
    "fun hello() {\n",
    "    println(\"hello, world\")\n",
    "}\n",
    "hello()"
   ]
  },
  {
   "cell_type": "markdown",
   "id": "06f82b68",
   "metadata": {},
   "source": [
    "Block body functions can return values.\n",
    "A block body functions that return values are required to specify the return value type.\n",
    "\n",
    "This is the form of a function defined with a block body that returns a value.\n",
    "\n",
    "`fun `*name`(`*parameters*`) : `*type*\n",
    "`{`\n",
    "    *statements*\n",
    "`}`\n",
    "\n",
    "Block body functions that return values are required to include a `return` statement with the value."
   ]
  },
  {
   "cell_type": "code",
   "execution_count": 11,
   "id": "5b37f6df",
   "metadata": {
    "collapsed": true
   },
   "outputs": [
    {
     "name": "stdout",
     "output_type": "stream",
     "text": [
      "9"
     ]
    }
   ],
   "source": [
    "fun square(x : Int) : Int {\n",
    "  return x * x  \n",
    "} \n",
    "print(square(3))"
   ]
  },
  {
   "cell_type": "markdown",
   "id": "5bbbd978",
   "metadata": {},
   "source": [
    "<a id=\"single-expression-functions\"></a>\n",
    "### Single expression functions\n",
    "For functions that consist of a single statement can be rewritten as *single expression* functions.\n",
    "A single expression function that runs a single statement has this format.\n",
    "\n",
    "`fun `*name`(`*parameters*`) =` *statement*\n",
    "\n",
    "This is an example of a single expression function with one statement."
   ]
  },
  {
   "cell_type": "code",
   "execution_count": null,
   "id": "55e50d6e",
   "metadata": {},
   "outputs": [],
   "source": [
    "fun hello() = println(\"hello, world\")\n",
    "hello()"
   ]
  },
  {
   "cell_type": "markdown",
   "id": "f24fe94a",
   "metadata": {},
   "source": [
    "Single expression functions can also return values.\n",
    "A block body functions that return values are required to specify the return value type.\n",
    "A single expression function that returns a value has this format. \n",
    "\n",
    "`fun `*name`(`*parameters*`) :` *type* = *statement*\n",
    "\n",
    "This is an example of a single expression function with one statement."
   ]
  },
  {
   "cell_type": "code",
   "execution_count": 24,
   "id": "f9c2eadf",
   "metadata": {
    "collapsed": true
   },
   "outputs": [
    {
     "name": "stdout",
     "output_type": "stream",
     "text": [
      "hello everyone.\r\n",
      "9"
     ]
    }
   ],
   "source": [
    "fun square(x : Int) : Int =  x * x  \n",
    "print(square(3))"
   ]
  },
  {
   "cell_type": "markdown",
   "id": "ca256a9c",
   "metadata": {},
   "source": [
    "For Single expression functions that return a value, the return type can typically be inferred and be omitted."
   ]
  },
  {
   "cell_type": "code",
   "execution_count": 12,
   "id": "6b526629",
   "metadata": {
    "collapsed": true
   },
   "outputs": [
    {
     "name": "stdout",
     "output_type": "stream",
     "text": [
      "9"
     ]
    }
   ],
   "source": [
    "fun square(x : Int) =  x * x  \n",
    "print(square(3))"
   ]
  },
  {
   "cell_type": "markdown",
   "id": "bf43bedb",
   "metadata": {},
   "source": [
    "<a id=\"function-return-values\"></a>\n",
    "## Functions that return values\n",
    "Functions that return values are similar to [mathematical functions](../mathematical-basics/Functions.ipynb#multi-variate-functions) in that they can take a number of inputs and return a single value. They can be used in anywhere an expression can be used.\n",
    "\n",
    "Most [control statements](../logic-and-control/logic-and-control.ipynb) can return values,\n",
    "but these statements do not result in a value.\n",
    "- [`for` loops](../logic-and-control/logic-and-control.ipynb#for-loop), \n",
    "- [`while` loops](../logic-and-control/logic-and-control.ipynb#while-loop), \n",
    "- [`do-while` loops](../logic-and-control/logic-and-control.ipynb#do-while-loop) loops,\n",
    "- [variable assignments](../variables/variables.ipynb) "
   ]
  },
  {
   "cell_type": "markdown",
   "id": "d39ee688",
   "metadata": {},
   "source": [
    "<a id=\"function-overloading\"></a>\n",
    "## Function overloading\n",
    "*Function overloading* is a case where the function name can be reused without a conflict. Sometimes it is useful for two functions to have the same name but perform different functions.\n",
    "Overloaded functions must have different parameters to distinguish them.\n",
    "\n",
    "Here is an example of function overloading."
   ]
  },
  {
   "cell_type": "code",
   "execution_count": 20,
   "id": "3b7324c0",
   "metadata": {
    "collapsed": true
   },
   "outputs": [
    {
     "name": "stdout",
     "output_type": "stream",
     "text": [
      "5\r\n",
      "9\r\n"
     ]
    }
   ],
   "source": [
    "fun sum(x : Int, y : Int) = x + y\n",
    "fun sum(x : Int, y : Int, z : Int) = x + y + z\n",
    "println(sum(2, 3))\n",
    "println(sum(2, 3, 4))"
   ]
  },
  {
   "cell_type": "markdown",
   "id": "fa7dc996",
   "metadata": {},
   "source": [
    "<a id=\"libraries\"></a>\n",
    "## Libraries\n",
    "Functions  organized around a common purpose are often accumulated in *libraries*.\n",
    "Libraries provided by the language are fundamental to making the language useful.\n",
    "Kotlin supplies its own [standard library](https://kotlinlang.org/api/latest/jvm/stdlib/) that includes functions for math, data structures such as collections, input and output with the file system and databases, and others. "
   ]
  },
  {
   "cell_type": "markdown",
   "id": "26ab53c3",
   "metadata": {},
   "source": [
    "<a id=\"using-functions\"></a>\n",
    "## Using functions\n",
    "This is an example of using functions to reduce the duplication of code and make the program more modular and readable.\n",
    "\n",
    "This is the initial code without using a function."
   ]
  },
  {
   "cell_type": "code",
   "execution_count": null,
   "id": "2e13a8bf",
   "metadata": {},
   "outputs": [],
   "source": [
    "println(\"If you're happy and you know it clap your hands.\")\n",
    "println(\"If you're happy and you know it clap your hands.\")\n",
    "println(\"If you're happy and you know it, and you really want to show it,\")\n",
    "println(\"If you're happy and you know it clap your hands.\")"
   ]
  },
  {
   "cell_type": "markdown",
   "id": "1dff6e15",
   "metadata": {},
   "source": [
    "Repetetive statements are more error prone to write,\n",
    "and are more likely to have errors when all statements have to change.\n",
    "\n",
    "This is example of including the repetitive statements in a function."
   ]
  },
  {
   "cell_type": "code",
   "execution_count": 3,
   "id": "949616b8",
   "metadata": {
    "collapsed": true
   },
   "outputs": [
    {
     "name": "stdout",
     "output_type": "stream",
     "text": [
      "If you're happy and you know it clap your hands.\n",
      "If you're happy and you know it clap your hands.\n",
      "If you're happy and you know it, and you really want to show it,\n",
      "If you're happy and you know it clap your hands.\n"
     ]
    }
   ],
   "source": [
    "fun happy() {\n",
    "  println(\"If you're happy and you know it clap your hands.\")  \n",
    "} \n",
    "happy()\n",
    "happy()\n",
    "println(\"If you're happy and you know it, and you really want to show it,\")\n",
    "happy()"
   ]
  },
  {
   "cell_type": "markdown",
   "id": "1d37c19e",
   "metadata": {},
   "source": [
    "The messages repeat a phrase with some varying suffix.\n",
    "Using a *parameter* can centralize some of the work and make the function more reusable.\n",
    "\n",
    "This is an example of replacing the varying code with a parameter."
   ]
  },
  {
   "cell_type": "code",
   "execution_count": 2,
   "id": "1234db24",
   "metadata": {
    "collapsed": true
   },
   "outputs": [
    {
     "name": "stdout",
     "output_type": "stream",
     "text": [
      "If you're happy and you know it clap your hands.\n",
      "If you're happy and you know it clap your hands.\n",
      "If you're happy and you know it, and you really want to show it,\n",
      "If you're happy and you know it clap your hands.\n"
     ]
    }
   ],
   "source": [
    "fun happy(suffix : String) {\n",
    "  println(\"If you're happy and you know it\" + suffix)   \n",
    "}\n",
    "happy(\" clap your hands.\")\n",
    "happy(\" clap your hands.\")\n",
    "happy(\", and you really want to show it,\")\n",
    "happy(\" clap your hands.\")"
   ]
  },
  {
   "cell_type": "markdown",
   "id": "66047b4b",
   "metadata": {},
   "source": [
    "This made the code more modular but reintroduced redundancy.\n",
    "We can introduce a second function to reduce some of the repetition."
   ]
  },
  {
   "cell_type": "code",
   "execution_count": 3,
   "id": "50378cf3",
   "metadata": {
    "collapsed": true
   },
   "outputs": [
    {
     "name": "stdout",
     "output_type": "stream",
     "text": [
      "If you're happy and you know it clap your hands.\n",
      "If you're happy and you know it clap your hands.\n",
      "If you're happy and you know it, and you really want to show it,\n",
      "If you're happy and you know it clap your hands.\n"
     ]
    }
   ],
   "source": [
    "fun happy(suffix : String) {\n",
    "    println(\"If you're happy and you know it\" + suffix)\n",
    "}\n",
    "fun clap() {\n",
    "  happy(\" clap your hands.\")  \n",
    "} \n",
    "clap()\n",
    "clap()\n",
    "happy(\", and you really want to show it,\")\n",
    "clap()"
   ]
  },
  {
   "cell_type": "markdown",
   "id": "e5b715e1",
   "metadata": {},
   "source": [
    "We can shorten one-line functions by using single expression functions."
   ]
  },
  {
   "cell_type": "code",
   "execution_count": 4,
   "id": "31d7ecff",
   "metadata": {
    "collapsed": true
   },
   "outputs": [
    {
     "name": "stdout",
     "output_type": "stream",
     "text": [
      "If you're happy and you know it clap your hands.\n",
      "If you're happy and you know it clap your hands.\n",
      "If you're happy and you know it, and you really want to show it,\n",
      "If you're happy and you know it clap your hands.\n"
     ]
    }
   ],
   "source": [
    "fun happy(suffix : String) = println(\"If you're happy and you know it\" + suffix)\n",
    "fun clap() = happy(\" clap your hands.\")  \n",
    "clap()\n",
    "clap()\n",
    "happy(\", and you really want to show it,\")\n",
    "clap()"
   ]
  },
  {
   "cell_type": "markdown",
   "id": "e1d19c2b",
   "metadata": {},
   "source": [
    "We can shorten it further yet by using a [`for`](../logic-and-control/logic-and-control.ipynb#for-loop) loop."
   ]
  },
  {
   "cell_type": "code",
   "execution_count": 5,
   "id": "9e558b6c",
   "metadata": {
    "collapsed": true
   },
   "outputs": [
    {
     "name": "stdout",
     "output_type": "stream",
     "text": [
      "If you're happy and you know it clap your hands.\n",
      "If you're happy and you know it clap your hands.\n",
      "If you're happy and you know it, and you really want to show it,\n",
      "If you're happy and you know it clap your hands.\n"
     ]
    }
   ],
   "source": [
    "fun happy(suffix : String) = println(\"If you're happy and you know it\" + suffix)\n",
    "fun clap() = happy(\" clap your hands.\")  \n",
    "for (i in 1..2) clap()\n",
    "happy(\", and you really want to show it,\")\n",
    "clap()"
   ]
  }
 ],
 "metadata": {
  "kernelspec": {
   "display_name": "Kotlin",
   "language": "kotlin",
   "name": "kotlin"
  },
  "language_info": {
   "codemirror_mode": "text/x-kotlin",
   "file_extension": ".kt",
   "mimetype": "text/x-kotlin",
   "name": "kotlin",
   "nbconvert_exporter": "",
   "pygments_lexer": "kotlin",
   "version": "1.8.20"
  }
 },
 "nbformat": 4,
 "nbformat_minor": 5
}
