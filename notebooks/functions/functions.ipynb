{
 "cells": [
  {
   "cell_type": "markdown",
   "id": "d23ad8bb-2661-45c8-b787-4ca69b89d60c",
   "metadata": {},
   "source": [
    "## Functions\n",
    "When a group of instructions need to be used many times in programs, *functions* save time in programming. \n",
    "Suppose you have a program that has these statements."
   ]
  },
  {
   "cell_type": "code",
   "execution_count": null,
   "id": "2e13a8bf",
   "metadata": {},
   "outputs": [],
   "source": [
    "println(\"If you're happy and you know it clap your hands.\")\n",
    "println(\"If you're happy and you know it clap your hands.\")\n",
    "println(\"If you're happy and you know it, and you really want to show it,\")\n",
    "println(\"If you're happy and you know it clap your hands.\")"
   ]
  },
  {
   "cell_type": "markdown",
   "id": "1dff6e15",
   "metadata": {},
   "source": [
    "There is repetition, not too much.\n",
    "A function can abstract the common elements and state them in one place. \n",
    "Here is the definition of a function `happy`, starting with `fun`, that helps print the repetitive verses."
   ]
  },
  {
   "cell_type": "code",
   "execution_count": 3,
   "id": "949616b8",
   "metadata": {
    "collapsed": true
   },
   "outputs": [
    {
     "name": "stdout",
     "output_type": "stream",
     "text": [
      "If you're happy and you know it clap your hands.\n",
      "If you're happy and you know it clap your hands.\n",
      "If you're happy and you know it, and you really want to show it,\n",
      "If you're happy and you know it clap your hands.\n"
     ]
    }
   ],
   "source": [
    "fun happy() = println(\"If you're happy and you know it clap your hands.\")\n",
    "happy()\n",
    "happy()\n",
    "println(\"If you're happy and you know it, and you really want to show it,\")\n",
    "happy()"
   ]
  },
  {
   "cell_type": "markdown",
   "id": "0d94fdbb",
   "metadata": {},
   "source": [
    "This has not saved any code, but if it has centralized some of the work.\n",
    "We can look at the pattern in another way, and see it as a repetition of \"If you're happy and you know it\" with some suffix.\n",
    "The function could have a *parameter* that is the variable part of the message, that otherwise is the same.\n",
    "Here is the definition of the function `happy` with a parameter `suffix` that is printed as part of the message."
   ]
  },
  {
   "cell_type": "code",
   "execution_count": 6,
   "id": "1234db24",
   "metadata": {
    "collapsed": true
   },
   "outputs": [
    {
     "name": "stdout",
     "output_type": "stream",
     "text": [
      "If you're happy and you know it clap your hands.\n",
      "If you're happy and you know it clap your hands.\n",
      "If you're happy and you know it, and you really want to show it,\n",
      "If you're happy and you know it clap your hands.\n"
     ]
    }
   ],
   "source": [
    "fun happy(suffix : String) = println(\"If you're happy and you know it$suffix\")\n",
    "happy(\" clap your hands.\")\n",
    "happy(\" clap your hands.\")\n",
    "happy(\", and you really want to show it,\")\n",
    "happy(\" clap your hands.\")"
   ]
  },
  {
   "cell_type": "markdown",
   "id": "66047b4b",
   "metadata": {},
   "source": [
    "We can introduce a second function to reduce some more repetition."
   ]
  },
  {
   "cell_type": "code",
   "execution_count": null,
   "id": "50378cf3",
   "metadata": {},
   "outputs": [],
   "source": [
    "fun happy(suffix : String) = println(\"If you're happy and you know it$suffix\")\n",
    "fun clap() = happy(\" clap your hands.\")\n",
    "clap()\n",
    "clap()\n",
    "happy(\", and you really want to show it,\")\n",
    "clap()"
   ]
  },
  {
   "cell_type": "markdown",
   "id": "e5b715e1",
   "metadata": {},
   "source": [
    "Again, not a lot of economy, but perhaps a desirable consistency. \n",
    "\n",
    "We can see the same kind of repetition in expressions."
   ]
  },
  {
   "cell_type": "code",
   "execution_count": 7,
   "id": "adf9dc2e",
   "metadata": {
    "collapsed": true
   },
   "outputs": [
    {
     "name": "stdout",
     "output_type": "stream",
     "text": [
      "the square of 2 is 4\r\n",
      "the square of 3 is 9\r\n",
      "the square of 4 is 16\r\n"
     ]
    }
   ],
   "source": [
    "println(\"the square of 2 is ${2*2}\")\n",
    "println(\"the square of 3 is ${3*3}\")\n",
    "println(\"the square of 4 is ${4*4}\")"
   ]
  },
  {
   "cell_type": "markdown",
   "id": "d169b1b4-62c0-48cd-9607-caf1eaef7236",
   "metadata": {},
   "source": [
    "Some tidiness can be achieved with a function that can return a value."
   ]
  },
  {
   "cell_type": "code",
   "execution_count": 8,
   "id": "5cf4c1dd-550c-4706-a164-e1c77abd9281",
   "metadata": {
    "collapsed": true
   },
   "outputs": [
    {
     "name": "stdout",
     "output_type": "stream",
     "text": [
      "the square of 2 is 4\r\n",
      "the square of 3 is 9\r\n",
      "the square of 4 is 16\r\n"
     ]
    }
   ],
   "source": [
    "fun square(n : Int) = n * n\n",
    "println(\"the square of 2 is ${square(2)}\")\n",
    "println(\"the square of 3 is ${square(3)}\")\n",
    "println(\"the square of 4 is ${square(4)}\")"
   ]
  },
  {
   "cell_type": "markdown",
   "id": "1c9b6726",
   "metadata": {},
   "source": [
    "And regularizing some more."
   ]
  },
  {
   "cell_type": "code",
   "execution_count": 9,
   "id": "e1c97d9d",
   "metadata": {
    "collapsed": true
   },
   "outputs": [
    {
     "name": "stdout",
     "output_type": "stream",
     "text": [
      "the square of 2 is 4\r\n",
      "the square of 3 is 9\r\n",
      "the square of 4 is 16\r\n"
     ]
    }
   ],
   "source": [
    "fun square(n : Int) = n * n\n",
    "fun show_square(n : Int) {\n",
    "    println(\"the square of $n is ${square(n)}\")\n",
    "}\n",
    "show_square(2)\n",
    "show_square(3)\n",
    "show_square(4)"
   ]
  },
  {
   "cell_type": "markdown",
   "id": "91f16c02",
   "metadata": {},
   "source": [
    "The goal is not just shortening the program, but making it more *maintainable*. \n",
    "As programs evolve, changes that affect repetitive lines must be made in many places and are more prone to errors.\n",
    "The last examples above have abstracted the common elements into one place.\n",
    "There is a phrase in programming, *Don't repeat yourself*, that embodies this in the acronym *DRY*."
   ]
  },
  {
   "cell_type": "markdown",
   "id": "341c3a11",
   "metadata": {},
   "source": [
    "# Function structure/components/parts\n",
    "There are three parts to these functions.\n",
    "- the function name\n",
    "- a parameter list\n",
    "- a function body"
   ]
  },
  {
   "cell_type": "markdown",
   "id": "fb165f7a",
   "metadata": {},
   "source": [
    "## Function name\n",
    "Functions are named the same as variable names.\n",
    "They are limited, though, that they must be unique within a package/namespace/block/class/module."
   ]
  },
  {
   "cell_type": "markdown",
   "id": "dc59a9ea",
   "metadata": {},
   "source": [
    "## Parameter list\n",
    "- type\n",
    "- default value"
   ]
  },
  {
   "cell_type": "markdown",
   "id": "6a3511fc",
   "metadata": {},
   "source": [
    "## Function body\n",
    "\n"
   ]
  },
  {
   "cell_type": "markdown",
   "id": "4ad452ce",
   "metadata": {},
   "source": [
    "<a id=\"block\"></a>\n",
    "### Block\n",
    "  - braces\n",
    "  - statements\n",
    "  - expressions"
   ]
  },
  {
   "cell_type": "markdown",
   "id": "688c7d88",
   "metadata": {},
   "source": [
    "- expression body\n",
    "  - expression"
   ]
  },
  {
   "cell_type": "markdown",
   "id": "a39ec409",
   "metadata": {},
   "source": [
    "# Function definitions\n",
    "There are three ways to refer to functions.\n",
    "- Named functions\n",
    "- Lambdas\n",
    "- Function references\n",
    "<!--\n",
    "https://kotlinlang.org/docs/functions.html\n",
    "https://antonioleiva.com/function-references-kotlin/\n",
    "-->"
   ]
  },
  {
   "cell_type": "markdown",
   "id": "6bceb05c",
   "metadata": {},
   "source": [
    "## Named functions\n",
    "Named functions, like those above, have a name, parameter list, and a body.\n",
    "They are needed when the function needs to be referenced from different parts of the program and the name is needed to find the function definiton."
   ]
  },
  {
   "cell_type": "markdown",
   "id": "e1aaf63c",
   "metadata": {},
   "source": [
    "## Lambdas\n",
    "Lambdas are a version of a function with a parameter list, body, and no name.\n",
    "They are useful if a function is only used once or when the references are local to one part of the code."
   ]
  },
  {
   "cell_type": "markdown",
   "id": "3cd2d0ac",
   "metadata": {},
   "source": [
    "## Function references\n",
    "Function references are only a function name, but no parameter list or a body.\n",
    "Function references come in two forms.\n",
    "- Names of a defined function\n",
    "- A variable assigned to a lambda\n"
   ]
  },
  {
   "cell_type": "markdown",
   "id": "ee9336bd",
   "metadata": {},
   "source": [
    "## Keyword Arguments\n",
    "You can also send arguments using *key = value*.\n",
    "You can send arguments in any order that way."
   ]
  },
  {
   "cell_type": "code",
   "execution_count": 11,
   "id": "5a433341",
   "metadata": {
    "collapsed": true
   },
   "outputs": [
    {
     "name": "stdout",
     "output_type": "stream",
     "text": [
      "The last item is grape\n"
     ]
    }
   ],
   "source": [
    "def my_function(item1, item2, item3):\n",
    "  print(\"The last item is \" + item3)\n",
    "\n",
    "my_function(item1 = \"apple\", item2 = \"orange\", item3 = \"grape\")"
   ]
  },
  {
   "cell_type": "markdown",
   "id": "3edda996",
   "metadata": {},
   "source": [
    "## Default Parameter Values\n",
    "You can specify a default value for a parameter.\n",
    "Calling the function without an argument uses the default value."
   ]
  },
  {
   "cell_type": "code",
   "execution_count": 15,
   "id": "668f089f",
   "metadata": {
    "collapsed": true
   },
   "outputs": [
    {
     "name": "stdout",
     "output_type": "stream",
     "text": [
      "I am from Boston\n",
      "I am from Dallas\n",
      "I am from New York\n",
      "I am from Omaha\n"
     ]
    }
   ],
   "source": [
    "def my_function(city = \"New York\"):\n",
    "  print(\"I am from \" + city)\n",
    "\n",
    "my_function(\"Boston\")\n",
    "my_function(\"Dallas\")\n",
    "my_function()\n",
    "my_function(\"Omaha\")\n"
   ]
  },
  {
   "cell_type": "markdown",
   "id": "e2faa2da",
   "metadata": {},
   "source": [
    "## Passing a List as an Argument\n",
    "An argument can be any data type (string, number, list, dictionary, etc.)."
   ]
  },
  {
   "cell_type": "code",
   "execution_count": 16,
   "id": "0840a974",
   "metadata": {
    "collapsed": true
   },
   "outputs": [
    {
     "name": "stdout",
     "output_type": "stream",
     "text": [
      "red\n",
      "blue\n",
      "green\n"
     ]
    }
   ],
   "source": [
    "def print_list(L):\n",
    "  for x in L:\n",
    "    print(x)\n",
    "colors = [\"red\", \"blue\", \"green\"]\n",
    "print_list(colors)"
   ]
  },
  {
   "cell_type": "markdown",
   "id": "0e4ca8d9",
   "metadata": {},
   "source": [
    "<a id=\"function-overloading\"></a>\n",
    "## Function overloading\n"
   ]
  }
 ],
 "metadata": {
  "kernelspec": {
   "display_name": "Kotlin",
   "language": "kotlin",
   "name": "kotlin"
  },
  "language_info": {
   "codemirror_mode": "text/x-kotlin",
   "file_extension": ".kt",
   "mimetype": "text/x-kotlin",
   "name": "kotlin",
   "nbconvert_exporter": "",
   "pygments_lexer": "kotlin",
   "version": "1.8.20"
  }
 },
 "nbformat": 4,
 "nbformat_minor": 5
}
