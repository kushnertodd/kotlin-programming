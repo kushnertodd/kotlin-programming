{
 "cells": [
  {
   "cell_type": "markdown",
   "id": "a39ec409",
   "metadata": {},
   "source": [
    "<!-- \n",
    "https://kotlinlang.org/docs/functions.html\n",
    "https://antonioleiva.com/function-references-kotlin/\n",
    "--><a id=\"lambdas\"></a>\n",
    "# Lambdas\n",
    "[Named functions](./functions.ipynb)are defined with a name, parameters, and body.\n",
    "There are other functions \n",
    "\n",
    "- *Lambdas* and *anonymous functions* are functions called without names.\n",
    "These are useful when functions need only be used once.\n",
    "- *Function references* are functions called only with a name but no body.\n",
    "\n",
    "Lambdas are a version of a function with a parameter list, body, and no name.\n",
    "They are useful if a function is only used once or when the references are local to one part of the code.\n",
    "\n",
    "They are generally assigned to variables that can be passed between functions and the body can be called through the variable.\n",
    "\n",
    "These are distinct from [*lambdas*](#lambdas) and [*anonymous functions*](#anonymous-functions), which are functions without a name.\n",
    "\n",
    "This is the lambda definition.\n",
    "\n",
    "`{` *parameters* `->` *statements* `}`\n",
    "\n",
    "This is an example of a lambda."
   ]
  },
  {
   "cell_type": "code",
   "execution_count": 25,
   "id": "4cdf48a0",
   "metadata": {
    "collapsed": true
   },
   "outputs": [
    {
     "name": "stdout",
     "output_type": "stream",
     "text": [
      "hello everyone.\r\n"
     ]
    }
   ],
   "source": [
    "val greeting = { name : String -> println(\"hello $name.\") }\n",
    "greeting(\"everyone\")"
   ]
  },
  {
   "cell_type": "markdown",
   "id": "99ff5548",
   "metadata": {},
   "source": [
    "### Lambdas that return values\n",
    "Lambdas can also return values. \n",
    "\n",
    "This is the lambda definition.\n",
    "\n",
    "`{` *parameters* `->` *statements* `}`\n",
    "\n",
    "This is an example of a lambda that returns a value."
   ]
  },
  {
   "cell_type": "code",
   "execution_count": 26,
   "id": "361a86fb",
   "metadata": {
    "collapsed": true
   },
   "outputs": [
    {
     "name": "stdout",
     "output_type": "stream",
     "text": [
      "4\r\n"
     ]
    }
   ],
   "source": [
    "val square = { x : Int -> x * x }\n",
    "println(square(2))"
   ]
  },
  {
   "cell_type": "code",
   "execution_count": 26,
   "id": "b8fe0975",
   "metadata": {
    "collapsed": true
   },
   "outputs": [
    {
     "name": "stdout",
     "output_type": "stream",
     "text": [
      "4\r\n"
     ]
    }
   ],
   "source": [
    "val square = { x : Int -> x * x }\n",
    "println(square(2))"
   ]
  },
  {
   "cell_type": "markdown",
   "id": "a4bf0569",
   "metadata": {},
   "source": [
    "The body consists of an expression whose value to return.\n",
    "The return type is inferred from the expression type.\n",
    "\n",
    "A lambda body can include more than one statement."
   ]
  },
  {
   "cell_type": "code",
   "execution_count": 37,
   "id": "660169d2",
   "metadata": {
    "collapsed": true
   },
   "outputs": [
    {
     "name": "stdout",
     "output_type": "stream",
     "text": [
      "squaring 2\r\n",
      "4\r\n"
     ]
    }
   ],
   "source": [
    "val square = { x : Int -> \n",
    "    println(\"squaring $x\")\n",
    "    x * x }\n",
    "println(square(2))"
   ]
  },
  {
   "cell_type": "markdown",
   "id": "efc754d3",
   "metadata": {},
   "source": [
    "### Passing lambdas to functions\n",
    "Lambdas can be passed as arguments to functions, but the type of the parameter must express that it is a lambda.\n",
    "\n",
    "For a lambda defined like this\n",
    "\n",
    "`{` *parameters* `->` *statements* `}`\n",
    "\n",
    "This is the definition of a lamba type.\n",
    "\n",
    "(*parameters*) -> *type*\n",
    "\n",
    "This is an example of passing a lambda to a function."
   ]
  },
  {
   "cell_type": "code",
   "execution_count": 40,
   "id": "5a9f9839",
   "metadata": {
    "collapsed": true
   },
   "outputs": [
    {
     "name": "stdout",
     "output_type": "stream",
     "text": [
      "8\r\n"
     ]
    }
   ],
   "source": [
    "fun apply(x : Int, y : Int, lambda : (Int, Int) -> Int) : Int {\n",
    "    return lambda(x, y)\n",
    "}\n",
    "println(apply(2, 4, { x : Int, y : Int -> x * y } ))"
   ]
  },
  {
   "cell_type": "markdown",
   "id": "68d84491",
   "metadata": {},
   "source": [
    "When lambdas assigned to variables or passed as arguments to a function,\n",
    "the arguments passed to the lambda have to match the declared\n",
    "parameter signature."
   ]
  },
  {
   "cell_type": "markdown",
   "id": "6bceb05c",
   "metadata": {},
   "source": [
    "## Anonymous functions\n",
    "*Anonymous functions*, like lambdas, have a parameter list and a body, but no name.\n",
    "They are needed when the a one-time function is needed but a lambda does not satisfy the syntax requirements.\n",
    "They can be assigned to variables and passed to functions like lambdas.\n",
    "\n",
    "This is an anonymous function definition."
   ]
  },
  {
   "cell_type": "code",
   "execution_count": 38,
   "id": "85cf4e25",
   "metadata": {
    "collapsed": true
   },
   "outputs": [
    {
     "name": "stdout",
     "output_type": "stream",
     "text": [
      "4\r\n"
     ]
    }
   ],
   "source": [
    "val square = fun(x : Int) : Int {\n",
    "    return x * x \n",
    "}\n",
    "println(square(2))"
   ]
  },
  {
   "cell_type": "markdown",
   "id": "2d919c42",
   "metadata": {},
   "source": [
    "Anonymous functions can be passed to functions like lambdas."
   ]
  },
  {
   "cell_type": "code",
   "execution_count": 47,
   "id": "92a1c157",
   "metadata": {
    "collapsed": true
   },
   "outputs": [
    {
     "name": "stdout",
     "output_type": "stream",
     "text": [
      "4\r\n"
     ]
    }
   ],
   "source": [
    "fun apply(x : Int, anon : (Int) -> Int) : Int {\n",
    "    return anon(x)\n",
    "}\n",
    "println(apply(2, fun(x : Int) : Int { return x * x }))"
   ]
  },
  {
   "cell_type": "markdown",
   "id": "3fcc1052",
   "metadata": {},
   "source": [
    "## Function references\n",
    "If a named function exists, *function references* may be assigned to variables and passed to functions as arguments that can be used to call named functions.\n",
    "Function references contain only the function name, not a body.\n",
    "The referenced function is called with\n",
    "\n",
    "*function reference*`(`*arguments*`)`\n",
    "\n",
    "where the arguments must match the parameters of the function reference.\n",
    "In order to tell that what is passed is a function reference,\n",
    "it must be preceded by `::` to indicate that it is a *top-level* function,\n",
    "defined at the top of the program.\n",
    "<!-- \n",
    "If the function is a method in a [class](../data/classes.ipynb), called a *method reference*,\n",
    "it must be preceded by *class*`::` to indicate\n",
    "that it is part of a class.\n",
    "-->\n",
    "\n",
    "This is an example of passing a function reference to a function."
   ]
  },
  {
   "cell_type": "code",
   "execution_count": 3,
   "id": "63a1ce40",
   "metadata": {},
   "outputs": [
    {
     "name": "stdout",
     "output_type": "stream",
     "text": [
      "4\r\n"
     ]
    }
   ],
   "source": [
    "fun square(x : Int) = x * x\n",
    "fun apply(x : Int, function : (Int) -> Int) : Int = function(x)\n",
    "println(apply(2, ::square))"
   ]
  },
  {
   "cell_type": "markdown",
   "id": "6c601359",
   "metadata": {},
   "source": [
    "## Functions with lambda parameters\n",
    "Many standard functions use lambdas as arguments.\n",
    "A common function using lambdas is `filter` for lists.\n",
    "This example filters out even numbers from a list. "
   ]
  },
  {
   "cell_type": "code",
   "execution_count": 1,
   "id": "d076ad0c",
   "metadata": {
    "collapsed": true
   },
   "outputs": [
    {
     "name": "stdout",
     "output_type": "stream",
     "text": [
      "[2, 6]\r\n"
     ]
    }
   ],
   "source": [
    "val list = listOf(2, 3, 6, 9)\n",
    "println(list.filter(\n",
    "    { x : Int -> \n",
    "        (x % 2) == 0 \n",
    "    }\n",
    "))"
   ]
  },
  {
   "cell_type": "markdown",
   "id": "6e941a58",
   "metadata": {},
   "source": [
    "As a shorthand, when the lambda is the last parameter to a function the parentheses surrounding the lambda can be omitted."
   ]
  },
  {
   "cell_type": "code",
   "execution_count": 2,
   "id": "049afed8",
   "metadata": {
    "collapsed": true
   },
   "outputs": [
    {
     "name": "stdout",
     "output_type": "stream",
     "text": [
      "[2, 6]\r\n"
     ]
    }
   ],
   "source": [
    "val list = listOf(2, 3, 6, 9)\n",
    "println(list.filter { x : Int -> \n",
    "                        (x % 2) == 0 \n",
    "                    }\n",
    ")"
   ]
  },
  {
   "cell_type": "markdown",
   "id": "22e68c84",
   "metadata": {},
   "source": [
    "### Using `it` to declare function lambda parameters\n",
    "When lambdas are passed to functions that apply the lambda to each element of a set, list, or map, \n",
    "`it` can be used as the lambda parameter.\n",
    "\n",
    "`{ it ->` *statements* `}`\n",
    "\n",
    "The type of `it` is inferred from the type of the list."
   ]
  },
  {
   "cell_type": "code",
   "execution_count": 34,
   "id": "4e255659",
   "metadata": {
    "collapsed": true
   },
   "outputs": [
    {
     "name": "stdout",
     "output_type": "stream",
     "text": [
      "[2, 6]\r\n"
     ]
    }
   ],
   "source": [
    "val list = listOf(2, 3, 6, 9)\n",
    "println(list.filter { it -> \n",
    "                        (it % 2) == 0 \n",
    "                    }\n",
    ")"
   ]
  },
  {
   "cell_type": "markdown",
   "id": "50cf2f18",
   "metadata": {},
   "source": [
    "## Set functions with lambda parameters\n",
    "These are set functions that use lambdas."
   ]
  },
  {
   "cell_type": "markdown",
   "id": "cdf6be84",
   "metadata": {},
   "source": [
    "### `all` function\n",
    "The `all` function returns `true` if all elements of a set return `true` when applied to a boolean valued lambda."
   ]
  },
  {
   "cell_type": "code",
   "execution_count": 25,
   "id": "2607f4e9",
   "metadata": {
    "collapsed": true
   },
   "outputs": [
    {
     "name": "stdout",
     "output_type": "stream",
     "text": [
      "true\r\n",
      "false\r\n"
     ]
    }
   ],
   "source": [
    "val setEven = setOf(2, 4, 6, 8)\n",
    "println(setEven.all { x : Int -> (x % 2) == 0 })\n",
    "val setNotEven = listOf(1, 4, 5, 8)\n",
    "println(setNotEven.all { x : Int -> (x % 2) == 0 })"
   ]
  },
  {
   "cell_type": "markdown",
   "id": "337f5867",
   "metadata": {},
   "source": [
    "### `any` function\n",
    "The `any` function returns `true` if any elements of a set return `true` when applied to a boolean valued lambda."
   ]
  },
  {
   "cell_type": "code",
   "execution_count": 6,
   "id": "179e3153",
   "metadata": {
    "collapsed": true
   },
   "outputs": [
    {
     "name": "stdout",
     "output_type": "stream",
     "text": [
      "true\r\n",
      "false\r\n"
     ]
    }
   ],
   "source": [
    "val setOneEven = setOf(1, 4, 5, 7)\n",
    "println(setOneEven.any { x : Int -> (x % 2) == 0 })\n",
    "val setNoneEven = setOf(1, 3, 5, 9)\n",
    "println(setNoneEven.any { x : Int -> (x % 2) == 0 })"
   ]
  },
  {
   "cell_type": "markdown",
   "id": "4ffac808",
   "metadata": {},
   "source": [
    "### `count` function\n",
    "The `count` function returns the number elements of a set that return `true` when applied to a boolean valued lambda."
   ]
  },
  {
   "cell_type": "code",
   "execution_count": 26,
   "id": "fdf48993",
   "metadata": {
    "collapsed": true
   },
   "outputs": [
    {
     "name": "stdout",
     "output_type": "stream",
     "text": [
      "2\r\n",
      "3\r\n"
     ]
    }
   ],
   "source": [
    "val setSomeEven = setOf(1, 4, 5, 7, 8)\n",
    "println(setSomeEven.count { x : Int -> (x % 2) == 0 })\n",
    "val setSomeOdd = setOf(1, 2, 5, 8, 9)\n",
    "println(setSomeOdd.count { x : Int -> (x % 2) != 0 })"
   ]
  },
  {
   "cell_type": "markdown",
   "id": "1c29a4ec",
   "metadata": {},
   "source": [
    "### `filter` function\n",
    "The `filter` function returns a set with all elements that return `true` when applied to a boolean valued lambda."
   ]
  },
  {
   "cell_type": "code",
   "execution_count": 27,
   "id": "9b800350",
   "metadata": {
    "collapsed": true
   },
   "outputs": [
    {
     "name": "stdout",
     "output_type": "stream",
     "text": [
      "[4, 8]\r\n"
     ]
    }
   ],
   "source": [
    "val setSomeEven = setOf(1, 4, 5, 7, 8)\n",
    "println(setSomeEven.filter { x : Int -> (x % 2) == 0 })"
   ]
  },
  {
   "cell_type": "markdown",
   "id": "a5a64ee2",
   "metadata": {},
   "source": [
    "### `forEach` function\n",
    "The `forEach` function applies a lambda to all elements in a set."
   ]
  },
  {
   "cell_type": "code",
   "execution_count": 29,
   "id": "965026fc",
   "metadata": {
    "collapsed": true
   },
   "outputs": [
    {
     "name": "stdout",
     "output_type": "stream",
     "text": [
      "1\r\n",
      "4\r\n",
      "5\r\n",
      "7\r\n",
      "8\r\n"
     ]
    }
   ],
   "source": [
    "val theSet = setOf(1, 4, 5, 7, 8)\n",
    "theSet.forEach { x : Int -> println(x) }"
   ]
  },
  {
   "cell_type": "markdown",
   "id": "7d3c3668",
   "metadata": {},
   "source": [
    "### `map` function\n",
    "The `map` function returns a set of the result of applying a lambda to each elements in a set."
   ]
  },
  {
   "cell_type": "code",
   "execution_count": 31,
   "id": "a46bd52b",
   "metadata": {
    "collapsed": true
   },
   "outputs": [
    {
     "data": {
      "text/plain": [
       "[2, 8, 10, 14, 16]"
      ]
     },
     "execution_count": 31,
     "metadata": {},
     "output_type": "execute_result"
    }
   ],
   "source": [
    "val theSet = setOf(1, 4, 5, 7, 8)\n",
    "theSet.map { x : Int -> 2 * x }"
   ]
  },
  {
   "cell_type": "markdown",
   "id": "4adf31d4",
   "metadata": {},
   "source": [
    "## List functions with lambda parameters\n",
    "These are list functions that use lambdas."
   ]
  },
  {
   "cell_type": "markdown",
   "id": "ec08277d",
   "metadata": {},
   "source": [
    "### `all` function\n",
    "The `all` function returns `true` if all elements of a list return `true` when applied to a boolean valued lambda."
   ]
  },
  {
   "cell_type": "code",
   "execution_count": 25,
   "id": "f2e8ee65",
   "metadata": {
    "collapsed": true
   },
   "outputs": [
    {
     "name": "stdout",
     "output_type": "stream",
     "text": [
      "true\r\n",
      "false\r\n"
     ]
    }
   ],
   "source": [
    "val listEven = listOf(2, 4, 6, 8)\n",
    "println(listEven.all { x : Int -> (x % 2) == 0 })\n",
    "val listNotEven = listOf(1, 4, 5, 8)\n",
    "println(listNotEven.all { x : Int -> (x % 2) == 0 })"
   ]
  },
  {
   "cell_type": "markdown",
   "id": "c3350823",
   "metadata": {},
   "source": [
    "### `any` function\n",
    "The `any` function returns `true` if any elements of a list return `true` when applied to a boolean valued lambda."
   ]
  },
  {
   "cell_type": "code",
   "execution_count": 36,
   "id": "339637fd",
   "metadata": {
    "collapsed": true
   },
   "outputs": [
    {
     "name": "stdout",
     "output_type": "stream",
     "text": [
      "true\r\n",
      "false\r\n"
     ]
    }
   ],
   "source": [
    "val listOneEven = listOf(1, 4, 5, 7)\n",
    "println(listOneEven.any { x : Int -> (x % 2) == 0 })\n",
    "val listNoneEven = listOf(1, 3, 5, 9)\n",
    "println(listNoneEven.any { x : Int -> (x % 2) == 0 })"
   ]
  },
  {
   "cell_type": "markdown",
   "id": "eaf93cda",
   "metadata": {},
   "source": [
    "### `count` function\n",
    "The `count` function returns the number elements of a list that return `true` when applied to a boolean valued lambda."
   ]
  },
  {
   "cell_type": "code",
   "execution_count": 9,
   "id": "da9be984",
   "metadata": {
    "collapsed": true
   },
   "outputs": [
    {
     "name": "stdout",
     "output_type": "stream",
     "text": [
      "2\r\n",
      "3\r\n"
     ]
    }
   ],
   "source": [
    "val mapSomeEven = mapOf(1, 4, 5, 7, 8)\n",
    "println(listSomeEven.count { x : Int -> (x % 2) == 0 })"
   ]
  },
  {
   "cell_type": "markdown",
   "id": "5ddf9433",
   "metadata": {},
   "source": [
    "### `filter` function\n",
    "The `filter` function returns a list with all elements that return `true` when applied to a boolean valued lambda."
   ]
  },
  {
   "cell_type": "code",
   "execution_count": 12,
   "id": "10815af1",
   "metadata": {
    "collapsed": true
   },
   "outputs": [
    {
     "name": "stdout",
     "output_type": "stream",
     "text": [
      "[4, 8]\r\n"
     ]
    }
   ],
   "source": [
    "val listSomeEven = listOf(1, 4, 5, 7, 8)\n",
    "println(listSomeEven.filter { x : Int -> (x % 2) == 0 })"
   ]
  },
  {
   "cell_type": "markdown",
   "id": "b2aa419c",
   "metadata": {},
   "source": [
    "### `find` function\n",
    "The `find` function returns the first element that returns `true` when applied to a boolean valued lambda."
   ]
  },
  {
   "cell_type": "code",
   "execution_count": 13,
   "id": "52a0fcab",
   "metadata": {
    "collapsed": true
   },
   "outputs": [
    {
     "name": "stdout",
     "output_type": "stream",
     "text": [
      "4\r\n"
     ]
    }
   ],
   "source": [
    "val listSomeEven = listOf(1, 4, 5, 7, 8)\n",
    "println(listSomeEven.find { x : Int -> (x % 2) == 0 })"
   ]
  },
  {
   "cell_type": "markdown",
   "id": "2c32e656",
   "metadata": {},
   "source": [
    "### `findLast` function\n",
    "The `findLast` function returns the last element that returns `true` when applied to a boolean valued lambda."
   ]
  },
  {
   "cell_type": "code",
   "execution_count": 15,
   "id": "cda4a7d0",
   "metadata": {
    "collapsed": true
   },
   "outputs": [
    {
     "name": "stdout",
     "output_type": "stream",
     "text": [
      "8\r\n"
     ]
    }
   ],
   "source": [
    "val listSomeEven = listOf(1, 4, 5, 7, 8)\n",
    "println(listSomeEven.findLast { x : Int -> (x % 2) == 0 })"
   ]
  },
  {
   "cell_type": "markdown",
   "id": "dd920266",
   "metadata": {},
   "source": [
    "### `forEach` function\n",
    "The `forEach` function applies a lambda to all elements in a list."
   ]
  },
  {
   "cell_type": "code",
   "execution_count": 19,
   "id": "6f1f9c69",
   "metadata": {
    "collapsed": true
   },
   "outputs": [
    {
     "name": "stdout",
     "output_type": "stream",
     "text": [
      "1\r\n",
      "4\r\n",
      "5\r\n",
      "7\r\n",
      "8\r\n"
     ]
    }
   ],
   "source": [
    "val listSomeEven = listOf(1, 4, 5, 7, 8)\n",
    "listSomeEven.forEach { x : Int -> println(x) }"
   ]
  },
  {
   "cell_type": "markdown",
   "id": "dc6332aa",
   "metadata": {},
   "source": [
    "### `map` function\n",
    "The `map` function returns a list of the result of applying a lambda to each elements in a list."
   ]
  },
  {
   "cell_type": "code",
   "execution_count": 24,
   "id": "fc28cbc6",
   "metadata": {
    "collapsed": true
   },
   "outputs": [
    {
     "data": {
      "text/plain": [
       "[2, 8, 10, 14, 16]"
      ]
     },
     "execution_count": 24,
     "metadata": {},
     "output_type": "execute_result"
    }
   ],
   "source": [
    "val list = listOf(1, 4, 5, 7, 8)\n",
    "list.map { x : Int -> 2 * x }"
   ]
  },
  {
   "cell_type": "markdown",
   "id": "dcb4a44f",
   "metadata": {},
   "source": [
    "## Map functions with lambda parameters\n",
    "These are map functions that use lambdas."
   ]
  },
  {
   "cell_type": "markdown",
   "id": "999ef3ff",
   "metadata": {},
   "source": [
    "### `all` function\n",
    "The `all` function returns `true` if all entries of a map return `true` when applied to a boolean valued lambda."
   ]
  },
  {
   "cell_type": "code",
   "execution_count": 38,
   "id": "d5424897",
   "metadata": {
    "collapsed": true
   },
   "outputs": [
    {
     "name": "stdout",
     "output_type": "stream",
     "text": [
      "true\r\n",
      "false\r\n"
     ]
    }
   ],
   "source": [
    "val mapEven = mapOf(\"two\" to 2, \"four\" to 4, \"six\" to 6, \"eight\" to 8)\n",
    "println(mapEven.all { it -> (it.value % 2) == 0 })\n",
    "val mapNotEven = mapOf(\"one\" to 1, \"four\" to 4, \"five\" to 5, \"eight\" to 8)\n",
    "println(mapNotEven.all { it -> (it.value % 2) == 0 })"
   ]
  },
  {
   "cell_type": "markdown",
   "id": "328d352e",
   "metadata": {},
   "source": [
    "### `any` function\n",
    "The `any` function returns `true` if any entries of a map return `true` when applied to a boolean valued lambda."
   ]
  },
  {
   "cell_type": "code",
   "execution_count": 40,
   "id": "89927e18",
   "metadata": {
    "collapsed": true
   },
   "outputs": [
    {
     "name": "stdout",
     "output_type": "stream",
     "text": [
      "true\r\n",
      "false\r\n"
     ]
    }
   ],
   "source": [
    "val mapEven = mapOf(\"two\" to 2, \"four\" to 4, \"five\" to 5, \"seven\" to 7)\n",
    "println(mapEven.any { it -> (it.value % 2) == 0 })\n",
    "val mapNotEven = mapOf(\"one\" to 1, \"three\" to 3, \"five\" to 5, \"nine\" to 9)\n",
    "println(mapNotEven.any { it -> (it.value % 2) == 0 })"
   ]
  },
  {
   "cell_type": "markdown",
   "id": "213d36ff",
   "metadata": {},
   "source": [
    "### `count` function\n",
    "The `count` function returns the number of entries in a map that return `true` when applied to a boolean valued lambda."
   ]
  },
  {
   "cell_type": "code",
   "execution_count": 42,
   "id": "3d9109f1",
   "metadata": {
    "collapsed": true
   },
   "outputs": [
    {
     "name": "stdout",
     "output_type": "stream",
     "text": [
      "2\r\n"
     ]
    }
   ],
   "source": [
    "val mapSomeEven = mapOf(\"two\" to 2, \"four\" to 4, \"five\" to 5, \"seven\" to 7)\n",
    "println(mapSomeEven.count { it -> (it.value % 2) == 0 })"
   ]
  },
  {
   "cell_type": "markdown",
   "id": "61ff3656",
   "metadata": {},
   "source": [
    "### `filter` function\n",
    "The `filter` function returns a list with all entries in a map that return `true` when applied to a boolean valued lambda."
   ]
  },
  {
   "cell_type": "code",
   "execution_count": 45,
   "id": "c1da92fe",
   "metadata": {
    "collapsed": true
   },
   "outputs": [
    {
     "name": "stdout",
     "output_type": "stream",
     "text": [
      "{two=2, four=4}\r\n"
     ]
    }
   ],
   "source": [
    "val mapSomeEven = mapOf(\"two\" to 2, \"four\" to 4, \"five\" to 5, \"seven\" to 7)\n",
    "println(mapSomeEven.filter { it -> (it.value % 2) == 0 })"
   ]
  },
  {
   "cell_type": "markdown",
   "id": "40fbb9ae",
   "metadata": {},
   "source": [
    "### `forEach` function\n",
    "The `forEach` function applies a lambda to each entry in a map."
   ]
  },
  {
   "cell_type": "code",
   "execution_count": 46,
   "id": "42d9076a",
   "metadata": {
    "collapsed": true
   },
   "outputs": [
    {
     "name": "stdout",
     "output_type": "stream",
     "text": [
      "2\r\n",
      "4\r\n",
      "5\r\n",
      "7\r\n"
     ]
    }
   ],
   "source": [
    "val theMap = mapOf(\"two\" to 2, \"four\" to 4, \"five\" to 5, \"seven\" to 7)\n",
    "theMap.forEach { it -> println(it.value) }"
   ]
  },
  {
   "cell_type": "markdown",
   "id": "42cfc520",
   "metadata": {},
   "source": [
    "### `map` function\n",
    "The `map` function returns a list of the result of applying a lambda to each entry in a map."
   ]
  },
  {
   "cell_type": "code",
   "execution_count": 47,
   "id": "a90a65a3",
   "metadata": {
    "collapsed": true
   },
   "outputs": [
    {
     "name": "stdout",
     "output_type": "stream",
     "text": [
      "2\r\n",
      "4\r\n",
      "5\r\n",
      "7\r\n"
     ]
    },
    {
     "data": {
      "text/plain": [
       "[4, 8, 10, 14]"
      ]
     },
     "execution_count": 47,
     "metadata": {},
     "output_type": "execute_result"
    }
   ],
   "source": [
    "val theMap = mapOf(\"two\" to 2, \"four\" to 4, \"five\" to 5, \"seven\" to 7)\n",
    "theMap.forEach { it -> println(it.value) }\n",
    "theMap.map { it -> 2 * it.value }"
   ]
  }
 ],
 "metadata": {
  "kernelspec": {
   "display_name": "Kotlin",
   "language": "kotlin",
   "name": "kotlin"
  },
  "language_info": {
   "codemirror_mode": "text/x-kotlin",
   "file_extension": ".kt",
   "mimetype": "text/x-kotlin",
   "name": "kotlin",
   "nbconvert_exporter": "",
   "pygments_lexer": "kotlin",
   "version": "1.8.20"
  }
 },
 "nbformat": 4,
 "nbformat_minor": 5
}
