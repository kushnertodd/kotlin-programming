{
 "cells": [
  {
   "cell_type": "markdown",
   "id": "2afd152b",
   "metadata": {},
   "source": [
    "# Nullability\n",
    "\n",
    "*Nullability* is being able to deal with variables having no value.\n",
    "Using variables with no values in expressions and statements can cause errors when values are expected.\n",
    "*Nullable types* are types that explicitly allow variables to be assigned to `null` indicating that they have no value. \n",
    "Specifying nullable types allows detecting that nullability errors may occur and causing errors when the code is compiled,\n",
    "rather than when it is run.\n",
    "\n",
    "This is an example where a `null` value error occurs.\n",
    "It occurs at the point where `null` is passed to the function."
   ]
  },
  {
   "cell_type": "code",
   "execution_count": 3,
   "id": "26bdaa7e",
   "metadata": {
    "collapsed": true
   },
   "outputs": [
    {
     "name": "stderr",
     "output_type": "stream",
     "text": [
      "Line_93.jupyter.kts (5:8 - 12) Null can not be a value of a non-null type Int"
     ]
    }
   ],
   "source": [
    "// gives an error \"Null can not be a value of a non-null type Int\"\n",
    "fun square(x : Int) : Int {\n",
    "   return  x * x   \n",
    "}\n",
    "square(null)"
   ]
  },
  {
   "cell_type": "markdown",
   "id": "dd8eca88",
   "metadata": {},
   "source": [
    "That a type may include a `null` value is indicated by adding `?` after the name.\n",
    "This example shows `null` being able to be passed to `x` because of the `Int?` type declaration,\n",
    "but then an error occurring with the `x * x`, which corresponds to the function call `x.times(x)` where\n",
    "`times` does not permit a nullable argument."
   ]
  },
  {
   "cell_type": "code",
   "execution_count": 4,
   "id": "d903702e",
   "metadata": {
    "collapsed": true
   },
   "outputs": [
    {
     "name": "stderr",
     "output_type": "stream",
     "text": [
      "Line_96.jupyter.kts (3:14 - 15) Operator call corresponds to a dot-qualified call 'x.times(x)' which is not allowed on a nullable receiver 'x'.\n",
      "Line_96.jupyter.kts (3:16 - 17) Type mismatch: inferred type is Int? but Int was expected"
     ]
    }
   ],
   "source": [
    "// gives an error \"Operator call corresponds to a dot-qualified call 'x.times(x)' which is not allowed on a nullable receiver 'x'\"\n",
    "fun square(x : Int?) : Int {\n",
    "   return  x * x   \n",
    "}\n",
    "square(null)"
   ]
  },
  {
   "cell_type": "markdown",
   "id": "48e3cd84",
   "metadata": {},
   "source": [
    "Functions and values can be referenced from variables of certain types.\n",
    "For example, the length a string assigned to variable `s` can be found from [`s.length`](../data/strings.ipynb#length).\n",
    "If `s` is null, a reference error would occur.\n",
    "This is caught if `s` is a nullable type."
   ]
  },
  {
   "cell_type": "code",
   "execution_count": 7,
   "id": "e9c9f48c",
   "metadata": {},
   "outputs": [
    {
     "name": "stderr",
     "output_type": "stream",
     "text": [
      "Line_395.jupyter.kts (1:26 - 27) Only safe (?.) or non-null asserted (!!.) calls are allowed on a nullable receiver of type String?"
     ]
    }
   ],
   "source": [
    "// gives an error \"Only safe (?.) or non-null asserted (!!.) calls are allowed on a nullable receiver of type String?\"\n",
    "fun size(s : String?) = s.length\n",
    "val s = \"hello\"\n",
    "println(s.length)"
   ]
  },
  {
   "cell_type": "markdown",
   "id": "2b87d56f",
   "metadata": {},
   "source": [
    "Declaring that a value can be nullable allows preventing null value errors anywhere a function expects an argument to be non-null.\n",
    "\n",
    "The problem can be circumvented by testing whether a value is null before it is used.\n",
    "The compiler determines whether the logic has insured the value is non-null before it is used and does not trigger an error.\n",
    "\n",
    "This is an example of testing that a value is non-null before using it. "
   ]
  },
  {
   "cell_type": "code",
   "execution_count": 8,
   "id": "4ae4dc12",
   "metadata": {},
   "outputs": [
    {
     "name": "stdout",
     "output_type": "stream",
     "text": [
      "5\r\n",
      "0\r\n"
     ]
    }
   ],
   "source": [
    "fun size(s : String?) : Int {\n",
    "    if (s != null)\n",
    "        return s.length\n",
    "    else \n",
    "        return 0\n",
    "}\n",
    "println(size(\"hello\"))\n",
    "println(size(null))"
   ]
  },
  {
   "cell_type": "markdown",
   "id": "f38a68cb",
   "metadata": {},
   "source": [
    "A shorter way to test whether a variable is null before using it to call a function is to use the *safe-call* operator: `?.`, which combines a null check and function call in one operation.\n",
    "It allows the function call if the variable is non-null and returns `null` if it is not.\n",
    "\n",
    "Here is an example of using the safe-call operator."
   ]
  },
  {
   "cell_type": "code",
   "execution_count": 12,
   "id": "5b67a8b6",
   "metadata": {},
   "outputs": [
    {
     "name": "stdout",
     "output_type": "stream",
     "text": [
      "5\r\n",
      "null\r\n"
     ]
    }
   ],
   "source": [
    "var s : String? = \"hello\"\n",
    "println(s?.length)\n",
    "s = null\n",
    "println(s)"
   ]
  },
  {
   "cell_type": "markdown",
   "id": "b5a3c470",
   "metadata": {},
   "source": [
    "Another short way to test whether a variable is null is to use the *elvis* operator: `?:`.\n",
    "`?:` allows checking a variable for a null value and calling a function if it is not, or returning a default value if it is.\n",
    "(`?:` looks vaguely like Elvis if turned sideways.)\n",
    "\n",
    "Here is an example of using the elvis operator."
   ]
  },
  {
   "cell_type": "code",
   "execution_count": 13,
   "id": "8e914f35",
   "metadata": {},
   "outputs": [
    {
     "name": "stdout",
     "output_type": "stream",
     "text": [
      "hello\r\n",
      "null\r\n"
     ]
    }
   ],
   "source": [
    "var s : String? = \"hello\"\n",
    "println(s ?: \"null\")\n",
    "s = null\n",
    "println(s ?: \"null\")"
   ]
  }
 ],
 "metadata": {
  "kernelspec": {
   "display_name": "Kotlin",
   "language": "kotlin",
   "name": "kotlin"
  },
  "language_info": {
   "codemirror_mode": "text/x-kotlin",
   "file_extension": ".kt",
   "mimetype": "text/x-kotlin",
   "name": "kotlin",
   "nbconvert_exporter": "",
   "pygments_lexer": "kotlin",
   "version": "1.8.20"
  }
 },
 "nbformat": 4,
 "nbformat_minor": 5
}
