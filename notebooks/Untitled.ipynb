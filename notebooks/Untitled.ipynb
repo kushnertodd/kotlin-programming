{
 "cells": [
  {
   "cell_type": "markdown",
   "id": "7f41c6b3",
   "metadata": {},
   "source": [
    "# Kotlin Programming\n",
    "\n",
    "## Introduction\n",
    "\n",
    "## Basics\n",
    "\n",
    "## Computers and the Internet\n",
    "\n",
    "## Writing and running programs \n",
    "\n",
    "## Data values, types, and operations\n",
    "\n",
    "## Data input and output \n",
    "\n",
    "## Programming logic and control\n",
    "\n",
    "## Functions\n",
    "\n",
    "## Data organization\n",
    "\n",
    "## Program environment \n",
    "\n",
    "## Libraries\n",
    "\n",
    "## Data concepts\n",
    "\n",
    "## Summary"
   ]
  },
  {
   "cell_type": "code",
   "execution_count": null,
   "id": "cf781d0b",
   "metadata": {},
   "outputs": [],
   "source": []
  }
 ],
 "metadata": {
  "kernelspec": {
   "display_name": "Kotlin",
   "language": "kotlin",
   "name": "kotlin"
  },
  "language_info": {
   "codemirror_mode": "text/x-kotlin",
   "file_extension": ".kt",
   "mimetype": "text/x-kotlin",
   "name": "kotlin",
   "nbconvert_exporter": "",
   "pygments_lexer": "kotlin",
   "version": "1.8.20"
  }
 },
 "nbformat": 4,
 "nbformat_minor": 5
}
