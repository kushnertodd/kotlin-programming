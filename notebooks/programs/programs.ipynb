{
 "cells": [
  {
   "cell_type": "markdown",
   "id": "ba97eb3c",
   "metadata": {},
   "source": [
    "# Programs\n",
    "*Programs* are a series of [*statements*](functions/functions.ipynb#statements) that perform instructions.\n"
   ]
  }
 ],
 "metadata": {
  "kernelspec": {
   "display_name": "Kotlin",
   "language": "kotlin",
   "name": "kotlin"
  },
  "language_info": {
   "codemirror_mode": "text/x-kotlin",
   "file_extension": ".kt",
   "mimetype": "text/x-kotlin",
   "name": "kotlin",
   "nbconvert_exporter": "",
   "pygments_lexer": "kotlin",
   "version": "1.8.20"
  }
 },
 "nbformat": 4,
 "nbformat_minor": 5
}
