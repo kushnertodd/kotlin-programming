{
 "cells": [
  {
   "cell_type": "code",
   "execution_count": 2,
   "id": "14217691",
   "metadata": {},
   "outputs": [
    {
     "name": "stdout",
     "output_type": "stream",
     "text": [
      "Hello, Jupyter world!\r\n"
     ]
    }
   ],
   "source": [
    "println(\"Hello, Jupyter world!\")"
   ]
  },
  {
   "cell_type": "code",
   "execution_count": 3,
   "id": "71ccd5e6",
   "metadata": {},
   "outputs": [],
   "source": [
    "val items = listOf(\n",
    "    \"Alpha\",\n",
    "    \"Bravo\",\n",
    "    \"Charlie\",\n",
    "    \"Delta\"\n",
    ")\n"
   ]
  },
  {
   "cell_type": "code",
   "execution_count": 4,
   "id": "466a8c78",
   "metadata": {},
   "outputs": [
    {
     "name": "stdout",
     "output_type": "stream",
     "text": [
      "[Alpha, Bravo, Charlie, Delta]\r\n"
     ]
    }
   ],
   "source": [
    "println(items)\n"
   ]
  },
  {
   "cell_type": "code",
   "execution_count": 5,
   "id": "ca817ecc",
   "metadata": {},
   "outputs": [],
   "source": [
    "val rand = kotlin.random.Random\n",
    "\n",
    "fun rollTheDice(): Pair<Int, Int> {   \n",
    "    return Pair(rand.nextInt(6) + 1, rand.nextInt(6) + 1) \n",
    "}\n",
    "\n",
    "class Demo {\n",
    "    fun sayHello() {\n",
    "        println(\"Hello there!\")\n",
    "    }\n",
    "}\n"
   ]
  },
  {
   "cell_type": "code",
   "execution_count": 7,
   "id": "2f6c4c16",
   "metadata": {},
   "outputs": [
    {
     "data": {
      "text/plain": [
       "(3, 3)"
      ]
     },
     "execution_count": 7,
     "metadata": {},
     "output_type": "execute_result"
    }
   ],
   "source": [
    "rollTheDice()"
   ]
  },
  {
   "cell_type": "code",
   "execution_count": 8,
   "id": "dc2cf6b5",
   "metadata": {},
   "outputs": [
    {
     "name": "stdout",
     "output_type": "stream",
     "text": [
      "Hello there!\r\n"
     ]
    }
   ],
   "source": [
    "val greeter = Demo()\n",
    "greeter.sayHello()"
   ]
  },
  {
   "cell_type": "code",
   "execution_count": 9,
   "id": "8b03ecae",
   "metadata": {},
   "outputs": [
    {
     "name": "stderr",
     "output_type": "stream",
     "text": [
      "Line_17.jupyter.kts (1:1 - 2) Expecting an element\n",
      "Line_17.jupyter.kts (1:14 - 15) Expecting an element\n",
      "Line_17.jupyter.kts (1:32 - 33) Expecting an element\n",
      "Line_17.jupyter.kts (3:1 - 2) Expecting an element\n",
      "Line_17.jupyter.kts (3:2 - 3) Expecting an element\n",
      "Line_17.jupyter.kts (3:25 - 26) Expecting an element\n",
      "Line_17.jupyter.kts (3:32 - 33) Expecting an element\n",
      "Line_17.jupyter.kts (3:40 - 41) Expecting an element\n",
      "Line_17.jupyter.kts (5:42 - 43) Expecting an element\n",
      "Line_17.jupyter.kts (7:1 - 2) Expecting an element\n",
      "Line_17.jupyter.kts (7:10 - 11) Expecting an element\n",
      "Line_17.jupyter.kts (7:18 - 19) Expecting an element\n",
      "Line_17.jupyter.kts (7:44 - 45) Expecting ')'\n",
      "Line_17.jupyter.kts (8:1 - 2) Expecting an element\n",
      "Line_17.jupyter.kts (8:10 - 11) Expecting an element\n",
      "Line_17.jupyter.kts (8:15 - 16) Expecting an element\n",
      "Line_17.jupyter.kts (8:32 - 32) Expecting an element\n",
      "Line_17.jupyter.kts (8:39 - 40) Expecting ')'"
     ]
    }
   ],
   "source": [
    "# Welcome to *Jupyter Notebook!*\n",
    "\n",
    "## This notebook runs a *Kotlin* kernel.\n",
    "\n",
    "This means the notebook will allow you to:\n",
    "\n",
    "* Enter **content** using [Markdown,](https://www.markdownguide.org/getting-started/) and\n",
    "* Enter **code** using [Kotlin.](https://kotlinlang.org/)"
   ]
  },
  {
   "cell_type": "code",
   "execution_count": 11,
   "id": "6269af31",
   "metadata": {},
   "outputs": [
    {
     "name": "stderr",
     "output_type": "stream",
     "text": [
      "Line_20.jupyter.kts (1:1 - 2) Expecting an element\n",
      "Line_20.jupyter.kts (1:14 - 15) Expecting an element\n",
      "Line_20.jupyter.kts (1:32 - 33) Expecting an element\n",
      "Line_20.jupyter.kts (3:1 - 2) Expecting an element\n",
      "Line_20.jupyter.kts (3:2 - 3) Expecting an element\n",
      "Line_20.jupyter.kts (3:25 - 26) Expecting an element\n",
      "Line_20.jupyter.kts (3:32 - 33) Expecting an element\n",
      "Line_20.jupyter.kts (3:40 - 41) Expecting an element\n",
      "Line_20.jupyter.kts (5:42 - 43) Expecting an element\n",
      "Line_20.jupyter.kts (7:1 - 2) Expecting an element\n",
      "Line_20.jupyter.kts (7:10 - 11) Expecting an element\n",
      "Line_20.jupyter.kts (7:18 - 19) Expecting an element\n",
      "Line_20.jupyter.kts (7:44 - 45) Expecting ')'\n",
      "Line_20.jupyter.kts (8:1 - 2) Expecting an element\n",
      "Line_20.jupyter.kts (8:10 - 11) Expecting an element\n",
      "Line_20.jupyter.kts (8:15 - 16) Expecting an element\n",
      "Line_20.jupyter.kts (8:32 - 32) Expecting an element\n",
      "Line_20.jupyter.kts (8:39 - 40) Expecting ')'"
     ]
    }
   ],
   "source": [
    "# Welcome to *Jupyter Notebook!*\n",
    "\n",
    "## This notebook runs a *Kotlin* kernel.\n",
    "\n",
    "This means the notebook will allow you to:\n",
    "\n",
    "* Enter **content** using [Markdown,](https://www.markdownguide.org/getting-started/) and\n",
    "* Enter **code** using [Kotlin.](https://kotlinlang.org/)\n"
   ]
  },
  {
   "cell_type": "markdown",
   "id": "d8cae6db",
   "metadata": {},
   "source": [
    "# Welcome to *Jupyter Notebook!*\n",
    "\n",
    "## This notebook runs a *Kotlin* kernel.\n",
    "\n",
    "This means the notebook will allow you to:\n",
    "\n",
    "* Enter **content** using [Markdown,](https://www.markdownguide.org/getting-started/) and\n",
    "* Enter **code** using [Kotlin.](https://kotlinlang.org/)\n"
   ]
  },
  {
   "cell_type": "code",
   "execution_count": null,
   "id": "4352df31",
   "metadata": {},
   "outputs": [],
   "source": []
  }
 ],
 "metadata": {
  "kernelspec": {
   "display_name": "Kotlin",
   "language": "kotlin",
   "name": "kotlin"
  },
  "language_info": {
   "codemirror_mode": "text/x-kotlin",
   "file_extension": ".kt",
   "mimetype": "text/x-kotlin",
   "name": "kotlin",
   "nbconvert_exporter": "",
   "pygments_lexer": "kotlin",
   "version": "1.8.20"
  }
 },
 "nbformat": 4,
 "nbformat_minor": 5
}
