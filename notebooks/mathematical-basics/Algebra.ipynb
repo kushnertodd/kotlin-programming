{
 "cells": [
  {
   "cell_type": "markdown",
   "id": "d96e092c",
   "metadata": {},
   "source": [
    "# Algebra\n",
    "Algebra solves problems using mathematical expressions.\n",
    "|Topic |Description |\n",
    "|:-|:-|\n",
    "|Variables |Symbols for unknown number values |\n",
    "|[Expressions](https://www.wikiwand.com/en/Algebraic_expression) |Variables and values combined with arithmetic operations |\n",
    "|[Equations](https://www.wikiwand.com/en/Equation) |Relations between mathematical expressions |\n",
    "|[Coordinate systems](https://www.wikiwand.com/en/Coordinate_system)|Number Lines, Cartesian and Polar coordinates, Graphing, Functions |\n"
   ]
  },
  {
   "cell_type": "code",
   "execution_count": null,
   "id": "b0c47694",
   "metadata": {},
   "outputs": [],
   "source": []
  }
 ],
 "metadata": {
  "kernelspec": {
   "display_name": "Kotlin",
   "language": "kotlin",
   "name": "kotlin"
  },
  "language_info": {
   "codemirror_mode": "text/x-kotlin",
   "file_extension": ".kt",
   "mimetype": "text/x-kotlin",
   "name": "kotlin",
   "nbconvert_exporter": "",
   "pygments_lexer": "kotlin",
   "version": "1.8.20"
  }
 },
 "nbformat": 4,
 "nbformat_minor": 5
}
