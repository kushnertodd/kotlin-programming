{
 "cells": [
  {
   "cell_type": "markdown",
   "id": "b6f277a9",
   "metadata": {},
   "source": [
    "# Counting\n",
    "Counting includes selecting sequences from groups of numbers as Combinations and Permutions, and computing Probabilities for selected sequences occurring. "
   ]
  }
 ],
 "metadata": {
  "kernelspec": {
   "display_name": "Kotlin",
   "language": "kotlin",
   "name": "kotlin"
  },
  "language_info": {
   "codemirror_mode": "text/x-kotlin",
   "file_extension": ".kt",
   "mimetype": "text/x-kotlin",
   "name": "kotlin",
   "nbconvert_exporter": "",
   "pygments_lexer": "kotlin",
   "version": "1.8.20"
  }
 },
 "nbformat": 4,
 "nbformat_minor": 5
}
