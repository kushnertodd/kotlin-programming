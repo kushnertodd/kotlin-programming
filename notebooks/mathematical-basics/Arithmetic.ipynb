{
 "cells": [
  {
   "cell_type": "markdown",
   "id": "335ca1fa",
   "metadata": {},
   "source": [
    "# Arithmetic\n",
    "Arithmetic includes basic operations and properties of numbers.\n",
    "\n",
    "|Topic |Description |\n",
    "|:-|:-|\n",
    "|[Types of numbers](#number-types) |Whole numbers, Integers, Decimals |\n",
    "|Operations on numbers|Addition, Subtraction, Multiplication, Division, Negation, Modulo |\n",
    "|Operation Properties|Associative, Distributive, Communtative|\n",
    "|Composite numbers |Fractions, Factoring, Prime numbers |\n",
    "|Repeated multiplication |Exponents, Roots, Logarithms, Factorials |\n",
    "|Number systems |Decimal, Binary, and Hexadecimal numbers |\n",
    "|Number sequences and series |Additive and Geometric progressions |\n",
    "\n",
    "<a id=\"number-types\"></a>\n",
    "## Types of numbers\n",
    "The types of numbers are:\n",
    "\n",
    "|Number type |Description |Examples |\n",
    "|:- |:- |:- |\n",
    "|Natural numbers |All positive numbers starting with 1 | 1, 2, 3  |\n",
    "|Whole numbers |All positive numbers starting with 0 |0, 1, 2, 3, 4 |\n",
    "|Integers |All positive and negative numbers |-5, -4, -3, -2, -1, 0, 1, 2, 3, 4 |\n",
    "|Decimals |Numbers with a decimal point and fraction |-4.1, 1.0, 3.1 |\n",
    "\n",
    "\n",
    "<img src=\"Basic-math-number-line.png\"/>\n",
    "\n",
    "This shows the relationships between the types.\n",
    "- All natural numbers are whole numbers\n",
    "- All whole numbers are integers\n",
    "- All integers are decimals\n",
    "<img src=\"Basic-math-number-types.png\"/>\n",
    "\n",
    "## Operations on numbers\n",
    "Addition, Subtraction, Multiplication, Division, Negation, Modulo\n",
    "## Operation Properties\n",
    "Associative, Distributive, Communtative\n",
    "## Composite numbers\n",
    "Fractions, Factoring, Prime numbers\n",
    "## Repeated multiplication\n",
    "Exponents, Roots, Logarithms, Factorials\n",
    "## Number systems\n",
    "Decimal, Binary, and Hexadecimal numbers\n",
    "## Number sequences and series\n",
    "Additive and Geometric progressions"
   ]
  },
  {
   "cell_type": "code",
   "execution_count": null,
   "id": "b1db881b",
   "metadata": {},
   "outputs": [],
   "source": []
  }
 ],
 "metadata": {
  "kernelspec": {
   "display_name": "Kotlin",
   "language": "kotlin",
   "name": "kotlin"
  },
  "language_info": {
   "codemirror_mode": "text/x-kotlin",
   "file_extension": ".kt",
   "mimetype": "text/x-kotlin",
   "name": "kotlin",
   "nbconvert_exporter": "",
   "pygments_lexer": "kotlin",
   "version": "1.8.20"
  }
 },
 "nbformat": 4,
 "nbformat_minor": 5
}
