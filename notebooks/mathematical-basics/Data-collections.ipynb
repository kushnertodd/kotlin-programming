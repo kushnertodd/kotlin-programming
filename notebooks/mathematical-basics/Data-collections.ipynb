{
 "cells": [
  {
   "cell_type": "markdown",
   "id": "510dd282",
   "metadata": {},
   "source": [
    "# Data collections\n",
    "Data collections are groups of values.\n",
    "|Topic |Description |\n",
    "|:-|:-|\n",
    "|Lists |Ordered groups of elements |\n",
    "|Arrays |Sequences of elements having fixed positions |\n",
    "|Sets |Groups of unique elements, including subsets and Venn diagrams |\n",
    "|Maps |Describes the associations of values and other elements |"
   ]
  }
 ],
 "metadata": {
  "kernelspec": {
   "display_name": "Kotlin",
   "language": "kotlin",
   "name": "kotlin"
  },
  "language_info": {
   "codemirror_mode": "text/x-kotlin",
   "file_extension": ".kt",
   "mimetype": "text/x-kotlin",
   "name": "kotlin",
   "nbconvert_exporter": "",
   "pygments_lexer": "kotlin",
   "version": "1.8.20"
  }
 },
 "nbformat": 4,
 "nbformat_minor": 5
}
