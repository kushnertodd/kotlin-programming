{
 "cells": [
  {
   "cell_type": "markdown",
   "id": "df97febf",
   "metadata": {},
   "source": [
    "# Geometry\n",
    "Geometry describes shapes such as points, lines, and angles, and measures such as length, area, and volume.   "
   ]
  }
 ],
 "metadata": {
  "kernelspec": {
   "display_name": "Kotlin",
   "language": "kotlin",
   "name": "kotlin"
  },
  "language_info": {
   "codemirror_mode": "text/x-kotlin",
   "file_extension": ".kt",
   "mimetype": "text/x-kotlin",
   "name": "kotlin",
   "nbconvert_exporter": "",
   "pygments_lexer": "kotlin",
   "version": "1.8.20"
  }
 },
 "nbformat": 4,
 "nbformat_minor": 5
}
