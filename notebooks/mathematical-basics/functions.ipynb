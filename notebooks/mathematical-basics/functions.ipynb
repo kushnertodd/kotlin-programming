{
 "cells": [
  {
   "cell_type": "markdown",
   "id": "6923210e",
   "metadata": {},
   "source": [
    "# Functions\n",
    "*Functions* associate output values with input expressions."
   ]
  },
  {
   "cell_type": "markdown",
   "id": "d281506e",
   "metadata": {},
   "source": [
    "<a id=\"cartesian-coordinates\"></a>\n",
    "## Cartesian coordinates\n",
    "*Cartesian coordinates* is a plane that graphically shows *coordinates*, or *points*, which are pairs of real numbers (`x`, `y`) representing distances from two *axes*, the `x` and `y` axis.\n",
    "Points are *plotted* on a *graph* showing the `x` and `y` axes and a *vector* that extends from the *origin* (0, 0) to the point (`x`, `y`), here (8, 4).\n",
    "\n",
    "<img src=\"Basic-math-point.jpg\" width=\"300\" height=\"300\"/>"
   ]
  },
  {
   "cell_type": "markdown",
   "id": "1adfe65d",
   "metadata": {},
   "source": [
    "<a id=\"function-plots\"></a>\n",
    "## Function plots\n",
    "\n",
    "A function is specified by an equation that relates coordinate on one axis to a coordinate on the other.\n",
    "This is an example equation.\n",
    "\n",
    "$y = m \\cdot x + b$\n",
    "\n",
    "This equation relates a coordinate on the `x` axis to the value of a coordinate on the `y` axis. \n",
    "For a function such as this, there is only one `y` associated with each `x`.\n",
    "The `x` coordinate is called the *independent variable*, because it can be any value.\n",
    "The `y` coordinate is called the *dependent variable*, because `y` depends on the value for `x`.\n",
    "\n",
    "This is the equation for the plot shown here.\n",
    "\n",
    "$y = \\frac{x}{2} + 2$\n",
    "\n",
    "This is a *linear* equation because the equation plots as a line.\n",
    "\n",
    "<img src=\"Basic-math-function.jpg\" width=\"400\" height=\"360\"/>\n",
    "\n",
    "Sample points on the line can be derived from the equation.\n",
    "\n",
    "`x`|`y = mx + b`\n",
    ":-|:-\n",
    "0|2\n",
    "2|3\n",
    "4|4\n",
    "6|5\n",
    "8|6\n",
    "\n",
    "The *slope* of the line is $m$, which is the change in `y` for each increment of `x`.\n",
    "The the slope $m = \\frac{1}{2}$ in this example.\n",
    "The *intercept* is the `y` value where the line intersects the `y` axis.\n",
    "Here the intercept $b = 2$."
   ]
  },
  {
   "cell_type": "markdown",
   "id": "8e824793",
   "metadata": {},
   "source": [
    "<a id=\"general-functions\"></a>\n",
    "## General functions\n",
    "A function need not be a linear equation.\n",
    "This plot shows a general function $f(x)$ that relates the dependent variable `x` with a single variable `y`.\n",
    "\n",
    "$y = f(x)$ \n",
    "\n",
    "This is the value for a given $x = x_0$.\n",
    "\n",
    "$y_0 = f(x_0)$\n",
    "\n",
    "<img src=\"Basic-math-function-non-lin.jpg\" width=\"400\" height=\"360\"/>\n"
   ]
  },
  {
   "cell_type": "markdown",
   "id": "2697289b",
   "metadata": {},
   "source": [
    "<a id=\"vector\"></a>\n",
    "## Vectors\n",
    "\n",
    "The point $f(x_0)$ has two coordinates, $(x_0, y_0)$.\n",
    "We call this point a *vector*, $\\vec{v}$, which starts at the origin and ends at a point $(x, y)$.\n",
    "\n",
    "<img src=\"Basic-math-function-non-lin-vector.jpg\" width=\"400\" height=\"360\"/>\n",
    "\n",
    "This is another way we can represent this vector.\n",
    "\n",
    "$\\vec{v} = [ x_0, y_0 ]$\n",
    "\n",
    "We can access the coordinates of the vector using an *index*.\n",
    "We start the index at 0.\n",
    "\n",
    "$\\vec{v}[0] = x_0$  \n",
    "$\\vec{v}[1] = y_0$  "
   ]
  },
  {
   "cell_type": "markdown",
   "id": "67e56eaf",
   "metadata": {},
   "source": [
    "<a id=\"multi-variate-functions\"></a>\n",
    "## Multi-variate functions \n",
    "\n",
    "A function equation may relate more than one independent variable with one dependent variable.\n",
    "This is an equation in more than one independent variable.\n",
    "\n",
    "$z = f(x, y)$ \n",
    "\n",
    "This is the value for a given $x = x_0$ and $y = y_0$.\n",
    "\n",
    "$z_0 = f(x_0, y_0)$\n",
    "\n",
    "<img src=\"Basic-math-function-non-lin-3-d.jpg\" width=\"400\" height=\"360\"/>\n",
    "\n",
    "The point $f(x_0, y_0)$ has three coordinates, $(x_0, y_0, z_0)$.\n",
    "This is the vector $\\vec{v}$ for that point.\n",
    "\n",
    "$\\vec{v} = [ x_0, y_0, z_0 ]$\n",
    "\n",
    "<img src=\"Basic-math-function-non-lin-3-d-vector.jpg\" width=\"400\" height=\"360\"/>\n",
    "\n",
    "In general, we can represent the vector this way.\n",
    "\n",
    "$\\vec{v} = [ a_0, a_1, a_2 ]$\n",
    "\n",
    "where we can access the vector coordinates in like this.\n",
    "\n",
    "$\\vec{v}[0] = a_0$  \n",
    "$\\vec{v}[1] = a_1$  \n",
    "$\\vec{v}[2] = a_2$  \n",
    "\n",
    "or more generally\n",
    "\n",
    "$\\vec{v}[i] = a_i$  \n"
   ]
  },
  {
   "cell_type": "markdown",
   "id": "a983f0b6",
   "metadata": {},
   "source": [
    "<a id=\"mapping\"></a>\n",
    "## Mapping\n",
    "A *mapping* assigns an object in one set to another object in the same or a different set. \n",
    "The objects in each set can be of any type.\n",
    "It is a way to associate an object in a way other than indexing, as in [vectors](#vector).\n",
    "\n",
    "<img src=\"Basic-math-mapping.jpg\" width=\"400\" height=\"400\"></a>"
   ]
  }
 ],
 "metadata": {
  "kernelspec": {
   "display_name": "Kotlin",
   "language": "kotlin",
   "name": "kotlin"
  },
  "language_info": {
   "codemirror_mode": "text/x-kotlin",
   "file_extension": ".kt",
   "mimetype": "text/x-kotlin",
   "name": "kotlin",
   "nbconvert_exporter": "",
   "pygments_lexer": "kotlin",
   "version": "1.8.20"
  }
 },
 "nbformat": 4,
 "nbformat_minor": 5
}
