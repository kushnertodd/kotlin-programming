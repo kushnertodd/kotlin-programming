{
 "cells": [
  {
   "cell_type": "markdown",
   "id": "05f27996",
   "metadata": {},
   "source": [
    "# Statistics\n",
    "Statistics describes properties of sample value groups.\n",
    "Which [statistics](https://eng.libretexts.org/Bookshelves/Industrial_and_Systems_Engineering/Chemical_Process_Dynamics_and_Controls_(Woolf)/13%3A_Statistics_and_Probability_Background/13.01%3A_Basic_statistics-_mean_median_average_standard_deviation_z-scores_and_p-value#:~:text=The%20mean%2C%20median%20and%20mode,actual%20data%20and%20the%20mean.) can be computed on a data set can be based on the [four levels of data measurement](../mathematical-basics/Data.ipynb#levels-of-data).\n",
    "\n",
    "Level|Description |Statistics|Examples\n",
    ":- |:-|:-|:-\n",
    "Nominal |Values are classified into labels or categories|Mode, histograms |Colors, countries, blood type\n",
    "Ordinal |Values rank higher or lower than others |Median, quartiles  |Income range (low, medium high), grades, skill level\n",
    "Interval |Values have measures of difference between them, no 0 on scale|Mean, standard deviation |Temperature, time\n",
    "Ratio |Values have proportions of each other, scale begins at 0|Correlation, regression |Weight, length, duration\n"
   ]
  }
 ],
 "metadata": {
  "kernelspec": {
   "display_name": "Kotlin",
   "language": "kotlin",
   "name": "kotlin"
  },
  "language_info": {
   "codemirror_mode": "text/x-kotlin",
   "file_extension": ".kt",
   "mimetype": "text/x-kotlin",
   "name": "kotlin",
   "nbconvert_exporter": "",
   "pygments_lexer": "kotlin",
   "version": "1.8.20"
  }
 },
 "nbformat": 4,
 "nbformat_minor": 5
}
