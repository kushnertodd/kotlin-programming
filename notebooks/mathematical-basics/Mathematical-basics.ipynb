{
 "cells": [
  {
   "cell_type": "markdown",
   "id": "e5c6f2fd",
   "metadata": {},
   "source": [
    "# Mathematical basics"
   ]
  },
  {
   "cell_type": "markdown",
   "id": "006f61e4",
   "metadata": {},
   "source": [
    "You must understand various mathematical concepts to program.\n",
    "These include:\n",
    "\n",
    "|Concept |Description |\n",
    "|:- |:- |\n",
    "|[Arithmetic](#arithmetic) |Basic operations and properties of numbers |\n",
    "|[Algebra](#algebra) |Solves problems using mathematical expressions |\n",
    "|[Geometry](#geometry) |Describes shapes such as points, lines, and angles, and measures such as length, area, and volume |\n",
    "|[Trigonometry](#trigonometry) |Relations of angles, shapes, and lengths |\n",
    "|[Counting](#counting) |Selecting sequences from groups of numbers as [Combinations and Permutions](https://www.wikiwand.com/en/Combinations_and_permutations), and computing Probabilities for selected sequences occurring |\n",
    "|[Statistics](#statistics) |Describes properties of sample value groups |\n",
    "|[Data collections](#collections) |Groups of values |\n",
    "|[Functions](#functions) |Associates output values with input expressions |\n",
    "\n",
    "\n"
   ]
  },
  {
   "cell_type": "markdown",
   "id": "08070374",
   "metadata": {},
   "source": [
    "<a id=\"arithmetic\"></a>\n",
    "## Arithmetic\n",
    "[Arithmetic](./Arithmetic.ipynb) includes basic operations and properties of numbers.\n"
   ]
  },
  {
   "cell_type": "markdown",
   "id": "757a25dc",
   "metadata": {},
   "source": [
    "<a id=\"algebra\"></a>\n",
    "## Algebra\n",
    "[Algebra](https://www.wikiwand.com/en/Algebra) solves problems using mathematical expressions.\n",
    "|Topic |Description |\n",
    "|:-|:-|\n",
    "|Variables |Symbols for unknown number values |\n",
    "|[Expressions](https://www.wikiwand.com/en/Algebraic_expression) |Variables and values combined with arithmetic operations |\n",
    "|[Equations](https://www.wikiwand.com/en/Equation) |Relations between mathematical expressions |\n",
    "|[Coordinate systems](https://www.wikiwand.com/en/Coordinate_system)|Number Lines, Cartesian and Polar coordinates, Graphing, Functions |\n"
   ]
  },
  {
   "cell_type": "markdown",
   "id": "095a659d",
   "metadata": {},
   "source": [
    "<a id=\"geometry\"></a>\n",
    "## Geometry\n",
    "[Geometry](https://www.wikiwand.com/en/Geometry) describes shapes such as points, lines, and angles, and measures such as length, area, and volume.   "
   ]
  },
  {
   "cell_type": "markdown",
   "id": "364a934b",
   "metadata": {},
   "source": [
    "<a id=\"trigonometry\"></a>\n",
    "## Trigonometry\n",
    "[Trigonometry](https://www.wikiwand.com/en/Trigonometry) involves relations of angles, shapes, and lengths.\n"
   ]
  },
  {
   "cell_type": "markdown",
   "id": "985cf4f3",
   "metadata": {},
   "source": [
    "<a id=\"counting\"></a>\n",
    "## Counting\n",
    "Counting includes selecting sequences from groups of numbers as [Combinations and Permutions](https://www.wikiwand.com/en/Combinations_and_permutations), and computing Probabilities for selected sequences occurring. "
   ]
  },
  {
   "cell_type": "markdown",
   "id": "8b1812e8",
   "metadata": {},
   "source": [
    "<a id=\"statistics\"></a>\n",
    "## Statistics\n",
    "[Statistics](https://www.wikiwand.com/en/Statistics) describes properties of sample value groups.\n",
    "|Topic |Examples |\n",
    "|:-|:-|\n",
    "|Descriptions of groups |Mean, median, mode, max, min |\n",
    "|Group variability |Ranges, quartiles, variance |\n",
    "|Visualizing group properties |Histograms, Plotting |"
   ]
  },
  {
   "cell_type": "markdown",
   "id": "7a356ad1",
   "metadata": {},
   "source": [
    "<a id=\"collections\"></a>\n",
    "## Data collections\n",
    "|Topic |Description |\n",
    "|:-|:-|\n",
    "|Lists |Ordered groups of elements |\n",
    "|Arrays |Sequences of elements having fixed positions |\n",
    "|Sets |Groups of unique elements, including subsets and Venn diagrams |\n",
    "|Maps |Describes the associations of values and other elements |"
   ]
  },
  {
   "cell_type": "markdown",
   "id": "94c9de5f",
   "metadata": {},
   "source": [
    "<a id=\"functions\"></a>\n",
    "## Functions\n",
    "[Functions](https://www.wikiwand.com/en/Function_(mathematics)) associate output values with input expressions."
   ]
  },
  {
   "cell_type": "code",
   "execution_count": null,
   "id": "e8f0b0f4",
   "metadata": {},
   "outputs": [],
   "source": []
  }
 ],
 "metadata": {
  "kernelspec": {
   "display_name": "Kotlin",
   "language": "kotlin",
   "name": "kotlin"
  },
  "language_info": {
   "codemirror_mode": "text/x-kotlin",
   "file_extension": ".kt",
   "mimetype": "text/x-kotlin",
   "name": "kotlin",
   "nbconvert_exporter": "",
   "pygments_lexer": "kotlin",
   "version": "1.8.20"
  }
 },
 "nbformat": 4,
 "nbformat_minor": 5
}
