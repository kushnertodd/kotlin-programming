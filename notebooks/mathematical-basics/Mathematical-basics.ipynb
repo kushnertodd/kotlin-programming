{
 "cells": [
  {
   "cell_type": "markdown",
   "id": "e5c6f2fd",
   "metadata": {},
   "source": [
    "# Mathematical basics"
   ]
  },
  {
   "cell_type": "markdown",
   "id": "006f61e4",
   "metadata": {},
   "source": [
    "You must understand various mathematical concepts to program.\n",
    "These sections include some programming specific information you may not have seen,\n",
    "you might take a look even if you are familiar with them.\n",
    "These include:\n",
    "\n",
    "Concept |Description |\n",
    ":- |:- |\n",
    "[Arithmetic](./Arithmetic.ipynb) |Basic operations and properties of numbers |\n",
    "[Algebra](./Algebra.ipynb) |Solves problems using mathematical expressions |\n",
    "[Functions](./Functions.ipynb) |Associates output values with input expressions |\n",
    "[Number Systems](./Number-systems.ipynb)|Representing numbers as numerals |\n",
    "[Geometry](./Geometry.ipynb) |Describes shapes such as points, lines, and angles, and measures such as length, area, and volume \n",
    "[Trigonometry](./Trigonometry.ipynb) |Relations of angles, shapes, and lengths |\n",
    "[Counting](./Counting.ipynb) |Selecting sequences from groups of numbers as combinations and permutations, and computing probabilities that selected sequences occur |\n",
    "[Data](./Data.ipynb)|Nature of data and its uses\n",
    "[Statistics](./Statistics.ipynb) |Describes properties of sample value groups |\n",
    "\n"
   ]
  },
  {
   "cell_type": "code",
   "execution_count": null,
   "id": "44282d6a",
   "metadata": {},
   "outputs": [],
   "source": []
  }
 ],
 "metadata": {
  "kernelspec": {
   "display_name": "Kotlin",
   "language": "kotlin",
   "name": "kotlin"
  },
  "language_info": {
   "codemirror_mode": "text/x-kotlin",
   "file_extension": ".kt",
   "mimetype": "text/x-kotlin",
   "name": "kotlin",
   "nbconvert_exporter": "",
   "pygments_lexer": "kotlin",
   "version": "1.8.20"
  }
 },
 "nbformat": 4,
 "nbformat_minor": 5
}
