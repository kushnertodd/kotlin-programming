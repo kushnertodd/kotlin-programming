{
 "cells": [
  {
   "cell_type": "markdown",
   "id": "05f27996",
   "metadata": {},
   "source": [
    "# Statistics\n",
    "Statistics describes properties of sample value groups.\n",
    "|Topic |Examples |\n",
    "|:-|:-|\n",
    "|Descriptions of groups |Mean, median, mode, max, min |\n",
    "|Group variability |Ranges, quartiles, variance |\n",
    "|Visualizing group properties |Histograms, Plotting |"
   ]
  }
 ],
 "metadata": {
  "kernelspec": {
   "display_name": "Kotlin",
   "language": "kotlin",
   "name": "kotlin"
  },
  "language_info": {
   "codemirror_mode": "text/x-kotlin",
   "file_extension": ".kt",
   "mimetype": "text/x-kotlin",
   "name": "kotlin",
   "nbconvert_exporter": "",
   "pygments_lexer": "kotlin",
   "version": "1.8.20"
  }
 },
 "nbformat": 4,
 "nbformat_minor": 5
}
