{
 "cells": [
  {
   "cell_type": "markdown",
   "id": "05f27996",
   "metadata": {},
   "source": [
    "# Statistics\n",
    "Statistics describes properties of sample value groups.\n",
    "|Topic |Examples |\n",
    "|:-|:-|\n",
    "|Descriptions of groups |Mean, median, mode, max, min |\n",
    "|Group variability |Ranges, quartiles, standard deviation |\n",
    "|Visualizing group properties |Histograms, Plotting |\n",
    "\n",
    "## Levels of Data\n",
    "Data values have four levels of measurement.\n",
    "\n",
    "- Qualitative or discrete values\n",
    "  - Nominal\n",
    "  - Ordinal\n",
    "- Quantitative or continuous values\n",
    "  - Interval\n",
    "  - Ratio\n",
    "  \n",
    "\n",
    "\n",
    "Level|Description |Statistics|Examples\n",
    ":- |:-|:-|:-\n",
    "Nominal |Values are classified into labels or categories|Mode, histograms |Colors, countries, blood type\n",
    "Ordinal |Values rank higher or lower than others |Median, quartiles  |Income range (low, medium high), grades, skill level\n",
    "Interval |Values have measures of difference between them, no 0 on scale|Mean, standard deviation |Temperature, time\n",
    "Ratio |Values have proportions of each other, scale begins at 0|Correlation, regression |Weight, length, duration\n"
   ]
  },
  {
   "cell_type": "code",
   "execution_count": null,
   "id": "a606d534",
   "metadata": {},
   "outputs": [],
   "source": [
    "\n",
    " open class NoAdd(val value: Int) {\n",
    "    final operator fun plus(increment: Int): NoAdd {\n",
    "        return NoAdd(value + increment)\n",
    "    }\n",
    "}\n",
    "\n",
    "\n",
    "class NominalNoAdd(var ivalue: Int) : NoAdd(ivalue) {\n",
    "        override operator fun plus(increment: Int): NoAdd {\n",
    "        return NoAdd(value + increment)\n",
    "    }\n",
    "}"
   ]
  }
 ],
 "metadata": {
  "kernelspec": {
   "display_name": "Kotlin",
   "language": "kotlin",
   "name": "kotlin"
  },
  "language_info": {
   "codemirror_mode": "text/x-kotlin",
   "file_extension": ".kt",
   "mimetype": "text/x-kotlin",
   "name": "kotlin",
   "nbconvert_exporter": "",
   "pygments_lexer": "kotlin",
   "version": "1.8.20"
  }
 },
 "nbformat": 4,
 "nbformat_minor": 5
}
