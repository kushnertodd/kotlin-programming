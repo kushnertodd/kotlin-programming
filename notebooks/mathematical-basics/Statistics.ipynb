{
 "cells": [
  {
   "cell_type": "markdown",
   "id": "05f27996",
   "metadata": {},
   "source": [
    "# Statistics\n",
    "Statistics describes properties of sample value groups.\n",
    "|Topic |Examples |\n",
    "|:-|:-|\n",
    "|Descriptions of groups |Mean, median, mode, max, min |\n",
    "|Group variability |Ranges, quartiles, standard deviation |\n",
    "|Visualizing group properties |Histograms, Plotting |\n",
    "\n",
    "## Statistics Levels of Data\n",
    "\n",
    "These are statistics that can be computed for the [four levels of data measurement](../mathematical-basics/Data.ipynb#levels-of-data).\n",
    "\n",
    "\n",
    "Level|Description |Statistics|Examples\n",
    ":- |:-|:-|:-\n",
    "Nominal |Values are classified into labels or categories|Mode, histograms |Colors, countries, blood type\n",
    "Ordinal |Values rank higher or lower than others |Median, quartiles  |Income range (low, medium high), grades, skill level\n",
    "Interval |Values have measures of difference between them, no 0 on scale|Mean, standard deviation |Temperature, time\n",
    "Ratio |Values have proportions of each other, scale begins at 0|Correlation, regression |Weight, length, duration\n"
   ]
  },
  {
   "cell_type": "code",
   "execution_count": null,
   "id": "37abfc62",
   "metadata": {},
   "outputs": [],
   "source": []
  }
 ],
 "metadata": {
  "kernelspec": {
   "display_name": "Kotlin",
   "language": "kotlin",
   "name": "kotlin"
  },
  "language_info": {
   "codemirror_mode": "text/x-kotlin",
   "file_extension": ".kt",
   "mimetype": "text/x-kotlin",
   "name": "kotlin",
   "nbconvert_exporter": "",
   "pygments_lexer": "kotlin",
   "version": "1.8.20"
  }
 },
 "nbformat": 4,
 "nbformat_minor": 5
}
