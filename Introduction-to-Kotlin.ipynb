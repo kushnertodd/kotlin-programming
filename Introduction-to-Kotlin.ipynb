{
 "cells": [
  {
   "cell_type": "markdown",
   "id": "040b9046",
   "metadata": {},
   "source": [
    "# Kotlin Programming\n",
    "This is an introduction to *Kotlin* programming.\n",
    "Kotlin is an open-source programming language based on Java, created by [JetBrains](https://www.jetbrains.com) in 2010 with the first release in 2016.\n",
    "It was created to simplify Java programs while taking about 40% less code.\n",
    "Google has made Kotlin is the standard language for Android development.\n",
    "In 2024, there are an estimated 26 million programmers worldwide, with 6 million Android programmers and 1 million using Kotlin.\n",
    "\n",
    "This introduction is designed for someone without any Java background,\n",
    "or even much background in programming altogether.\n",
    "As such, it provides much of the mathematical background required for programming.\n",
    "The course uses [*Jupyter*](https://jupyter.org), which is an interactive environment that intermixes documentation with the ability to run program code, which allows learning how the language works while practicing programming at the same time.\n",
    "\n",
    "These are the topics of the course\n",
    "\n",
    "[Mathematical basics](notebooks/mathematical-basics/mathematical-basics.ipynb)  \n",
    "[Using Jupyter](notebooks/jupyter/Jupyter.ipynb)   \n",
    "__[Using Jupyter](notebooks/jupyter/Jupyter.ipynb)__   \n",
    "[Variables](notebooks/variables/variables.ipynb)  \n",
    "[Functions](notebooks/functions/functions.ipynb)  \n",
    "[Logic and control](notebooks/logic-and-control/logic-and-control.ipynb)  \n",
    "[Data types](notebooks/data/data-types.ipynb)  \n",
    "[Lambdas](notebooks/functions/lambdas.ipynb)  \n",
    "[Regular expressions](notebooks/regular-expressions/regular-expressions.ipynb)  \n",
    "[Program organization](notebooks/program-organization/program-organization.ipynb)  \n",
    "<!--  \n",
    "[Data input and output](notebooks/input-output/input-output.ipynb)  \n",
    "-->"
   ]
  }
 ],
 "metadata": {
  "kernelspec": {
   "display_name": "Python 3 (ipykernel)",
   "language": "python",
   "name": "python3"
  },
  "language_info": {
   "codemirror_mode": {
    "name": "ipython",
    "version": 3
   },
   "file_extension": ".py",
   "mimetype": "text/x-python",
   "name": "python",
   "nbconvert_exporter": "python",
   "pygments_lexer": "ipython3",
   "version": "3.11.5"
  }
 },
 "nbformat": 4,
 "nbformat_minor": 5
}
